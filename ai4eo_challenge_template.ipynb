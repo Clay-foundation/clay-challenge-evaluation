{
 "cells": [
  {
   "cell_type": "markdown",
   "id": "75ac6ced-006a-49d9-95d6-46ac16001ef8",
   "metadata": {},
   "source": [
    "#### Clay Embedding Generator"
   ]
  },
  {
   "cell_type": "code",
   "execution_count": 1,
   "id": "7f89f38f-641f-419c-bc9d-38ece0f01dd4",
   "metadata": {},
   "outputs": [
    {
     "name": "stderr",
     "output_type": "stream",
     "text": [
      "/opt/conda/envs/claymodel-latest-v2/lib/python3.11/site-packages/tqdm/auto.py:21: TqdmWarning: IProgress not found. Please update jupyter and ipywidgets. See https://ipywidgets.readthedocs.io/en/stable/user_install.html\n",
      "  from .autonotebook import tqdm as notebook_tqdm\n",
      "/opt/conda/envs/claymodel-latest-v2/lib/python3.11/site-packages/transformers/utils/generic.py:441: UserWarning: torch.utils._pytree._register_pytree_node is deprecated. Please use torch.utils._pytree.register_pytree_node instead.\n",
      "  _torch_pytree._register_pytree_node(\n"
     ]
    }
   ],
   "source": [
    "# functions to generate embedding for participant convenience\n",
    "import pystac_client\n",
    "import stackstac\n",
    "import torch\n",
    "import yaml\n",
    "import math\n",
    "import rasterio\n",
    "import warnings\n",
    "import os\n",
    "import joblib\n",
    "\n",
    "import pandas as pd\n",
    "import geopandas as gpd\n",
    "import numpy as np\n",
    "\n",
    "from shapely.geometry import Point, box\n",
    "from torchvision import transforms as v2\n",
    "from box import Box\n",
    "from rasterio.enums import Resampling\n",
    "from tqdm import tqdm\n",
    "\n",
    "from src.model import ClayMAEModule\n",
    "\n",
    "warnings.filterwarnings(\"ignore\")\n",
    "\n",
    "STAC_API = \"https://earth-search.aws.element84.com/v1\"\n",
    "\n",
    "# Load the model and metadata\n",
    "device = torch.device(\"cuda\" if torch.cuda.is_available() else \"cpu\")\n",
    "ckpt = \"https://clay-model-ckpt.s3.amazonaws.com/v0.5.7/mae_v0.5.7_epoch-13_val-loss-0.3098.ckpt\"\n",
    "torch.set_default_device(device)\n",
    "\n",
    "torch.cuda.empty_cache()  # Clear GPU cache\n",
    "\n",
    "model = ClayMAEModule.load_from_checkpoint(\n",
    "    ckpt, metadata_path=\"configs/metadata.yaml\", shuffle=False, mask_ratio=0\n",
    ")\n",
    "model.eval()\n",
    "model = model.to(device)\n",
    "\n",
    "metadata = Box(yaml.safe_load(open(\"configs/metadata.yaml\")))\n",
    "\n",
    "# Function to normalize timestamp\n",
    "def normalize_timestamp(date):\n",
    "    week = date.isocalendar().week * 2 * np.pi / 52\n",
    "    hour = date.hour * 2 * np.pi / 24\n",
    "    return (math.sin(week), math.cos(week)), (math.sin(hour), math.cos(hour))\n",
    "\n",
    "# Function to normalize lat/lon\n",
    "def normalize_latlon(lat, lon):\n",
    "    lat = lat * np.pi / 180\n",
    "    lon = lon * np.pi / 180\n",
    "    return (math.sin(lat), math.cos(lat)), (math.sin(lon), math.cos(lon))\n",
    "\n",
    "def to_device(data, device):\n",
    "    if isinstance(data, torch.Tensor):\n",
    "        return data.to(device)\n",
    "    elif isinstance(data, dict):\n",
    "        return {k: to_device(v, device) for k, v in data.items()}\n",
    "    elif isinstance(data, list):\n",
    "        return [to_device(v, device) for v in data]\n",
    "    return data\n",
    "\n",
    "def process_point(lon, lat, model, metadata, start_date, end_date, COLLECTION, device):\n",
    "    if COLLECTION == \"landsat-c2-l2\":\n",
    "        os.environ['AWS_REQUEST_PAYER'] = 'requester'\n",
    "    model.to(device)  # Ensure the model is on the correct device\n",
    "    catalog = pystac_client.Client.open(STAC_API)\n",
    "    search = catalog.search(\n",
    "        collections=[COLLECTION],\n",
    "        datetime=f\"{start_date}/{end_date}\",\n",
    "        bbox=(lon - 1e-5, lat - 1e-5, lon + 1e-5, lat + 1e-5),\n",
    "        max_items=10,\n",
    "        query={\"eo:cloud_cover\": {\"lt\": 80}},\n",
    "    )\n",
    "\n",
    "    all_items = search.get_all_items()\n",
    "    items = list(all_items)\n",
    "    if not items:\n",
    "        return None\n",
    "    \n",
    "    items = sorted(items, key=lambda x: x.properties.get('eo:cloud_cover', float('inf')))\n",
    "    lowest_cloud_item = items[0]\n",
    "\n",
    "    epsg = lowest_cloud_item.properties[\"proj:epsg\"]\n",
    "\n",
    "    poidf = gpd.GeoDataFrame(\n",
    "        pd.DataFrame(),\n",
    "        crs=\"EPSG:4326\",\n",
    "        geometry=[Point(lon, lat)],\n",
    "    ).to_crs(epsg)\n",
    "\n",
    "    coords = poidf.iloc[0].geometry.coords[0]\n",
    "\n",
    "    size = 256\n",
    "    gsd = 10 if COLLECTION == \"sentinel-2-l2a\" else 30\n",
    "    bounds = (\n",
    "        coords[0] - (size * gsd) // 2,\n",
    "        coords[1] - (size * gsd) // 2,\n",
    "        coords[0] + (size * gsd) // 2,\n",
    "        coords[1] + (size * gsd) // 2,\n",
    "    )\n",
    "\n",
    "    stack = stackstac.stack(\n",
    "        lowest_cloud_item,\n",
    "        bounds=bounds,\n",
    "        snap_bounds=False,\n",
    "        epsg=epsg,\n",
    "        resolution=gsd,\n",
    "        dtype=\"float32\",\n",
    "        rescale=False,\n",
    "        fill_value=0,\n",
    "        assets=[\"blue\", \"green\", \"red\", \"nir\"],\n",
    "        resampling=Resampling.nearest,\n",
    "    )\n",
    "\n",
    "    stack = stack.compute()\n",
    "\n",
    "    items = []\n",
    "    dates = []\n",
    "    for item in all_items:\n",
    "        if item.datetime.date() not in dates:\n",
    "            items.append(item)\n",
    "            dates.append(item.datetime.date())\n",
    "\n",
    "    platform = \"sentinel-2-l2a\" if COLLECTION == \"sentinel-2-l2a\" else \"landsat-c2l1\"\n",
    "    mean = []\n",
    "    std = []\n",
    "    waves = []\n",
    "    for band in stack.band:\n",
    "        mean.append(metadata[platform].bands.mean[str(band.values)])\n",
    "        std.append(metadata[platform].bands.std[str(band.values)])\n",
    "        waves.append(metadata[platform].bands.wavelength[str(band.values)])\n",
    "\n",
    "    transform = v2.Compose([v2.Normalize(mean=mean, std=std)])\n",
    "\n",
    "    datetimes = stack.time.values.astype(\"datetime64[s]\").tolist()\n",
    "    times = [normalize_timestamp(dat) for dat in datetimes]\n",
    "    week_norm = [dat[0] for dat in times]\n",
    "    hour_norm = [dat[1] for dat in times]\n",
    "\n",
    "    latlons = [normalize_latlon(lat, lon)] * len(times)\n",
    "    lat_norm = [dat[0] for dat in latlons]\n",
    "    lon_norm = [dat[1] for dat in latlons]\n",
    "\n",
    "    pixels = torch.from_numpy(stack.data.astype(np.float32)).to(device)\n",
    "    pixels = transform(pixels)\n",
    "\n",
    "    batch_size = 16\n",
    "    num_batches = math.ceil(len(stack) / batch_size)\n",
    "    \n",
    "    embeddings_list = []\n",
    "    for i in range(num_batches):\n",
    "        start_idx = i * batch_size\n",
    "        end_idx = min((i + 1) * batch_size, len(stack))\n",
    "        \n",
    "        batch_pixels = pixels[start_idx:end_idx].to(device)\n",
    "        batch_time = torch.tensor(np.hstack((week_norm, hour_norm))[start_idx:end_idx], dtype=torch.float32).to(device)\n",
    "        batch_latlon = torch.tensor(np.hstack((lat_norm, lon_norm))[start_idx:end_idx], dtype=torch.float32).to(device)\n",
    "        \n",
    "        batch_datacube = {\n",
    "            \"platform\": platform,\n",
    "            \"time\": batch_time,\n",
    "            \"latlon\": batch_latlon,\n",
    "            \"pixels\": batch_pixels,\n",
    "            \"gsd\": torch.tensor(stack.gsd.values).to(device),\n",
    "            \"waves\": torch.tensor(waves).to(device),\n",
    "        }\n",
    "\n",
    "        batch_datacube = to_device(batch_datacube, device)\n",
    "\n",
    "        try:\n",
    "            model = model.to(device)\n",
    "\n",
    "            with torch.no_grad():\n",
    "                unmsk_patch, _, _, _ = model.model.encoder(batch_datacube)\n",
    "            batch_embeddings = unmsk_patch[:, 0, :].cpu().numpy()\n",
    "            embeddings_list.append(batch_embeddings)\n",
    "        except RuntimeError as e:\n",
    "            if \"out of memory\" in str(e):\n",
    "                print(f\"GPU OOM for point ({lon}, {lat}), batch {i+1}/{num_batches}. Trying CPU...\")\n",
    "                device = torch.device(\"cpu\")\n",
    "                batch_datacube = to_device(batch_datacube, device)\n",
    "                model = model.to(device)\n",
    "                with torch.no_grad():\n",
    "                    unmsk_patch, _, _, _ = model.model.encoder(batch_datacube)\n",
    "                batch_embeddings = unmsk_patch[:, 0, :].numpy()\n",
    "                embeddings_list.append(batch_embeddings)\n",
    "            else:\n",
    "                raise e\n",
    "\n",
    "    embeddings = np.concatenate(embeddings_list, axis=0)\n",
    "    return embeddings\n",
    "\n",
    "def create_embeddings(start_date, end_date, grid, COLLECTION, start_date2=None, end_date2=None):\n",
    "    torch.cuda.empty_cache()  # Clear GPU cache\n",
    "    \n",
    "    # Assuming grid is a GeoDataFrame with the points, get a list of points in EPSG:4326\n",
    "    points = grid.to_crs(\"EPSG:4326\").geometry.apply(lambda x: (x.x, x.y)).tolist()\n",
    "\n",
    "    # Store results in a list\n",
    "    results = []\n",
    "\n",
    "    # Iterate through the points and process each one\n",
    "    for i, point in enumerate(tqdm(points)):\n",
    "        lon, lat = point\n",
    "        embeddings = process_point(lon, lat, model, metadata, start_date, end_date, COLLECTION, device=\"cuda\")\n",
    "        \n",
    "        # Initialize embeddings_new as None\n",
    "        embeddings_new = None\n",
    "        if start_date2 is not None and end_date2 is not None:\n",
    "            embeddings_new = process_point(lon, lat, model, metadata, start_date2, end_date2, COLLECTION, device=\"cuda\")\n",
    "        \n",
    "        if embeddings is not None:\n",
    "            if embeddings_new is not None:\n",
    "                results.append((lon, lat, embeddings, embeddings_new))\n",
    "            else:\n",
    "                results.append((lon, lat, embeddings))\n",
    "\n",
    "    # Define the columns based on whether embeddings_new is used\n",
    "    columns = [\"lon\", \"lat\", \"embeddings\"]\n",
    "    if start_date2 is not None and end_date2 is not None:\n",
    "        columns.append(\"embeddings_new\")\n",
    "\n",
    "    # Create a DataFrame from the results\n",
    "    df = pd.DataFrame(results, columns=columns)\n",
    "\n",
    "    # Convert to a GeoDataFrame\n",
    "    gdf_results = gpd.GeoDataFrame(df, geometry=gpd.points_from_xy(df.lon, df.lat))\n",
    "\n",
    "    return gdf_results\n"
   ]
  },
  {
   "cell_type": "markdown",
   "id": "8cd106ff-00c3-41cd-832c-f30c4734bbfb",
   "metadata": {},
   "source": [
    "#### Utility Functions"
   ]
  },
  {
   "cell_type": "code",
   "execution_count": 2,
   "id": "62771797-ccdc-4a07-8bce-894aceb802a6",
   "metadata": {},
   "outputs": [
    {
     "name": "stderr",
     "output_type": "stream",
     "text": [
      "2024-08-18 18:55:46.107620: E external/local_xla/xla/stream_executor/cuda/cuda_fft.cc:485] Unable to register cuFFT factory: Attempting to register factory for plugin cuFFT when one has already been registered\n",
      "2024-08-18 18:55:46.122478: E external/local_xla/xla/stream_executor/cuda/cuda_dnn.cc:8454] Unable to register cuDNN factory: Attempting to register factory for plugin cuDNN when one has already been registered\n",
      "2024-08-18 18:55:46.126839: E external/local_xla/xla/stream_executor/cuda/cuda_blas.cc:1452] Unable to register cuBLAS factory: Attempting to register factory for plugin cuBLAS when one has already been registered\n",
      "2024-08-18 18:55:46.137342: I tensorflow/core/platform/cpu_feature_guard.cc:210] This TensorFlow binary is optimized to use available CPU instructions in performance-critical operations.\n",
      "To enable the following instructions: AVX2 FMA, in other operations, rebuild TensorFlow with the appropriate compiler flags.\n",
      "2024-08-18 18:55:46.932913: W tensorflow/compiler/tf2tensorrt/utils/py_utils.cc:38] TF-TRT Warning: Could not find TensorRT\n",
      "WARNING: All log messages before absl::InitializeLog() is called are written to STDERR\n",
      "I0000 00:00:1724007347.654806   16518 cuda_executor.cc:1015] successful NUMA node read from SysFS had negative value (-1), but there must be at least one NUMA node, so returning NUMA node zero. See more at https://github.com/torvalds/linux/blob/v6.0/Documentation/ABI/testing/sysfs-bus-pci#L344-L355\n",
      "I0000 00:00:1724007347.657607   16518 cuda_executor.cc:1015] successful NUMA node read from SysFS had negative value (-1), but there must be at least one NUMA node, so returning NUMA node zero. See more at https://github.com/torvalds/linux/blob/v6.0/Documentation/ABI/testing/sysfs-bus-pci#L344-L355\n",
      "I0000 00:00:1724007347.659063   16518 cuda_executor.cc:1015] successful NUMA node read from SysFS had negative value (-1), but there must be at least one NUMA node, so returning NUMA node zero. See more at https://github.com/torvalds/linux/blob/v6.0/Documentation/ABI/testing/sysfs-bus-pci#L344-L355\n"
     ]
    }
   ],
   "source": [
    "import numpy as np\n",
    "import tensorflow as tf\n",
    "from sklearn.metrics import mean_squared_error, f1_score, accuracy_score\n",
    "from keras.models import Sequential\n",
    "from keras.layers import Dense, Dropout, Input\n",
    "from keras.optimizers import Adam\n",
    "import pyproj\n",
    "\n",
    "# Detect if GPU is available\n",
    "device = '/GPU:0' if tf.config.list_physical_devices('GPU') else '/CPU:0'\n",
    "\n",
    "class NeuralNetworkModel:\n",
    "    def __init__(self, model_type, input_shape, layers, dropout_rate, learning_rate, num_classes=None, device='/cpu:0'):\n",
    "        self.model_type = model_type\n",
    "        self.input_shape = input_shape\n",
    "        self.layers = layers\n",
    "        self.dropout_rate = dropout_rate\n",
    "        self.learning_rate = learning_rate\n",
    "        self.num_classes = num_classes\n",
    "        self.device = device\n",
    "        self.model = self.build_model()\n",
    "\n",
    "    def build_model(self):\n",
    "        model = Sequential()\n",
    "        model.add(Input(shape=(self.input_shape,)))\n",
    "        for layer_size in self.layers:\n",
    "            model.add(Dense(layer_size, activation='relu'))\n",
    "            model.add(Dropout(self.dropout_rate))\n",
    "\n",
    "        if self.model_type == 'regression':\n",
    "            model.add(Dense(1, activation='linear'))\n",
    "        elif self.model_type == 'multi_regression':\n",
    "            model.add(Dense(2, activation='linear'))\n",
    "        elif self.model_type == 'binary_classifier':\n",
    "            model.add(Dense(1, activation='sigmoid'))\n",
    "        elif self.model_type == 'multi_classifier':\n",
    "            model.add(Dense(self.num_classes, activation='softmax'))\n",
    "        \n",
    "        return model\n",
    "\n",
    "    def compile_model(self):\n",
    "        optimizer = Adam(learning_rate=self.learning_rate)\n",
    "        if self.model_type == 'regression':\n",
    "            self.model.compile(optimizer=optimizer, loss='mean_squared_error', metrics=['mae'])\n",
    "        elif self.model_type == 'binary_classifier':\n",
    "            self.model.compile(optimizer=optimizer, loss='binary_crossentropy', metrics=['accuracy'])\n",
    "        elif self.model_type == 'multi_classifier':\n",
    "            self.model.compile(optimizer=optimizer, loss='categorical_crossentropy', metrics=['accuracy'])\n",
    "\n",
    "    def train_model(self, X_train, y_train, epochs=20, batch_size=32, validation_split=0.2):\n",
    "        with tf.device(self.device):\n",
    "            history = self.model.fit(X_train, y_train, epochs=epochs, batch_size=batch_size, validation_split=validation_split)\n",
    "        return history\n",
    "\n",
    "    def evaluate_model(self, X_test, y_test):\n",
    "        with tf.device(self.device):\n",
    "            results = self.model.evaluate(X_test, y_test)\n",
    "        return results\n",
    "\n",
    "    def predict(self, X_test):\n",
    "        with tf.device(self.device):\n",
    "            predictions = self.model.predict(X_test)\n",
    "        \n",
    "        if self.model_type == 'binary_classifier':\n",
    "            return (predictions > 0.5).astype(int).flatten()\n",
    "        elif self.model_type == 'multi_classifier':\n",
    "            return np.argmax(predictions, axis=1)\n",
    "        return predictions\n",
    "\n",
    "    def calculate_metrics(self, y_test, predictions):\n",
    "        if self.model_type == 'regression':\n",
    "            return np.sqrt(mean_squared_error(y_test, predictions, multioutput='raw_values'))\n",
    "        elif self.model_type == 'binary_classifier':\n",
    "            return accuracy_score(y_test, predictions)\n",
    "        elif self.model_type == 'multi_classifier':\n",
    "            return f1_score(np.argmax(y_test, axis=1), predictions, average='weighted')\n",
    "    \n",
    "    def save_model(self, filename):\n",
    "        self.model.save(filename)\n",
    "\n",
    "    @classmethod\n",
    "    def load_model(cls, filename, model_type, input_shape, num_classes=None, device='/cpu:0'):\n",
    "        loaded_model = tf.keras.models.load_model(filename)\n",
    "        nn = cls(model_type, input_shape, [], 0, 0, num_classes, device)  # Dummy values for layers, dropout_rate, and learning_rate\n",
    "        nn.model = loaded_model\n",
    "        return nn\n",
    "\n",
    "def get_utm_zone(longitude):\n",
    "    return int((longitude + 180) / 6) + 1\n",
    "\n",
    "def gdf_preprocess(filepath, COLLECTION):\n",
    "    embedding_width = 2560 if COLLECTION == \"sentinel-2-l2a\" else 7680\n",
    "    gdf = gpd.read_file(filepath)\n",
    "\n",
    "    # Get the bounds of the geometry\n",
    "    minx, miny, maxx, maxy = gdf.geometry.bounds.iloc[0]\n",
    "\n",
    "    # Calculate UTM zone\n",
    "    utm_zone = get_utm_zone(minx)\n",
    "\n",
    "    # Get the corresponding EPSG code for the UTM zone using pyproj\n",
    "    utm_crs = pyproj.CRS(f\"+proj=utm +zone={utm_zone} +datum=WGS84\")\n",
    "    epsg_code = utm_crs.to_epsg()\n",
    "\n",
    "    # Reproject the GeoDataFrame to the chosen EPSG code\n",
    "    gdf = gdf.to_crs(epsg=epsg_code)\n",
    "\n",
    "    # Create a grid of points embedding_width meters apart\n",
    "    x = np.arange(gdf.total_bounds[0], gdf.total_bounds[2], embedding_width)\n",
    "    y = np.arange(gdf.total_bounds[1], gdf.total_bounds[3], embedding_width)\n",
    "    xx, yy = np.meshgrid(x, y)\n",
    "    points = np.vstack([xx.ravel(), yy.ravel()]).T\n",
    "\n",
    "    # Create GeoDataFrame from points\n",
    "    grid = gpd.GeoDataFrame(geometry=gpd.points_from_xy(points[:, 0], points[:, 1], crs=gdf.crs))\n",
    "    \n",
    "    # Calculate bounding boxes around each point\n",
    "    grid['bounding_box'] = grid.geometry.apply(lambda point: box(\n",
    "        point.x - embedding_width / 2,\n",
    "        point.y - embedding_width / 2,\n",
    "        point.x + embedding_width / 2,\n",
    "        point.y + embedding_width / 2\n",
    "    ))\n",
    "\n",
    "    return grid\n",
    "\n",
    "def final_grid(filepath, gsd, gdf_data):\n",
    "    gdf = gpd.read_file(filepath)\n",
    "\n",
    "    # Get the bounds of the geometry\n",
    "    minx, miny, maxx, maxy = gdf.geometry.bounds.iloc[0]\n",
    "\n",
    "    # Calculate UTM zone\n",
    "    utm_zone = get_utm_zone(minx)\n",
    "\n",
    "    # Get the corresponding EPSG code for the UTM zone using pyproj\n",
    "    utm_crs = pyproj.CRS(f\"+proj=utm +zone={utm_zone} +datum=WGS84\")\n",
    "    epsg_code = utm_crs.to_epsg()\n",
    "\n",
    "    # Reproject the GeoDataFrame to the chosen EPSG code\n",
    "    gdf = gdf.to_crs(epsg=epsg_code)\n",
    "\n",
    "    # Create a grid of points 5120m apart\n",
    "    x = np.arange(gdf.total_bounds[0], gdf.total_bounds[2], gsd)\n",
    "    y = np.arange(gdf.total_bounds[1], gdf.total_bounds[3], gsd)\n",
    "    xx, yy = np.meshgrid(x, y)\n",
    "    points = np.vstack([xx.ravel(), yy.ravel()]).T\n",
    "\n",
    "    grid = gpd.GeoDataFrame(geometry=gpd.points_from_xy(points[:, 0], points[:, 1], crs=gdf.crs))\n",
    "\n",
    "    # Ensure both GeoDataFrames have the same CRS\n",
    "    grid = grid.to_crs(4326)\n",
    "    gdf_data = gdf_data.to_crs(4326)\n",
    "\n",
    "    # Perform a spatial join to assign 'pred' values from gdf to gdf_final based on geometry intersection\n",
    "    gdf_final = gpd.sjoin(\n",
    "        grid, \n",
    "        gdf_data[['geometry'] + gdf_data.filter(like='pred').columns.tolist()], \n",
    "        how='left', \n",
    "        op='intersects'\n",
    "    )\n",
    "\n",
    "    # Drop the columns that were added during the join and rename the 'pred' column if necessary\n",
    "    gdf_final = gdf_final.drop(columns=['index_right'])\n",
    "\n",
    "    return(gdf_final)\n",
    "\n",
    "def NN_preds(task_id, model_type, gdf):\n",
    "    # Download model (as pickle file or similar)\n",
    "    loaded_nn = NeuralNetworkModel.load_model(f'models/task_{task_id}_model.h5', model_type=model_type, input_shape=768, num_classes=11, device=device)\n",
    "\n",
    "    # perform inference\n",
    "    new_data = np.squeeze(gdf['embeddings'].tolist())\n",
    "    new_data = pd.DataFrame(new_data)  # Ensure the new data is in DataFrame format\n",
    "\n",
    "    # Standardize the new data using the saved scaler\n",
    "    if os.path.exists(f'models/{task_id}_scaler.joblib'):\n",
    "        scaler = joblib.load(f'models/{task_id}_scaler.joblib')\n",
    "        new_data = scaler.transform(new_data)\n",
    "\n",
    "    # Make predictions\n",
    "    new_predictions = loaded_nn.predict(new_data)\n",
    "\n",
    "    # Load the label encoder\n",
    "    if os.path.exists(f'models/{task_id}_label_encoder.joblib'):\n",
    "        label_encoder = joblib.load(f'models/{task_id}_label_encoder.joblib')\n",
    "        gdf['pred'] = label_encoder.inverse_transform(new_predictions)\n",
    "    else:\n",
    "        if model_type == 'multi_regression':\n",
    "            gdf[['pred_maize','pred_wheat']] = new_predictions\n",
    "        else:\n",
    "            gdf['pred'] = new_predictions\n",
    "    return(gdf)"
   ]
  },
  {
   "cell_type": "markdown",
   "id": "7ed2a332-4d55-484b-8a3d-e9abdde2c77d",
   "metadata": {},
   "source": [
    "#### Imports"
   ]
  },
  {
   "cell_type": "code",
   "execution_count": 3,
   "id": "a57d3910-ffdc-4620-bc27-e76fb2878c3b",
   "metadata": {},
   "outputs": [],
   "source": [
    "import pandas as pd\n",
    "import geopandas as gpd\n",
    "import os"
   ]
  },
  {
   "cell_type": "markdown",
   "id": "18ebb80f-fc81-48dc-ab2e-b6775a2b621f",
   "metadata": {},
   "source": [
    "#### Submission "
   ]
  },
  {
   "cell_type": "code",
   "execution_count": 4,
   "id": "6bad12e6-e879-47a4-974a-1e1db39624ab",
   "metadata": {},
   "outputs": [],
   "source": [
    "submission = {}\n",
    "\n",
    "# Participant data to fill\n",
    "submission['eligibility'] = 2"
   ]
  },
  {
   "cell_type": "markdown",
   "id": "1a253cb4-c74f-4fa2-98e1-9e1028c6631a",
   "metadata": {},
   "source": [
    "#### Task: 1 Submission"
   ]
  },
  {
   "cell_type": "code",
   "execution_count": 5,
   "id": "35a60644-ecd4-47f9-8fdc-2bb13abc16ea",
   "metadata": {},
   "outputs": [
    {
     "name": "stderr",
     "output_type": "stream",
     "text": [
      "100%|██████████| 336/336 [04:33<00:00,  1.23it/s]\n",
      "I0000 00:00:1724007621.627897   16518 cuda_executor.cc:1015] successful NUMA node read from SysFS had negative value (-1), but there must be at least one NUMA node, so returning NUMA node zero. See more at https://github.com/torvalds/linux/blob/v6.0/Documentation/ABI/testing/sysfs-bus-pci#L344-L355\n",
      "I0000 00:00:1724007621.629836   16518 cuda_executor.cc:1015] successful NUMA node read from SysFS had negative value (-1), but there must be at least one NUMA node, so returning NUMA node zero. See more at https://github.com/torvalds/linux/blob/v6.0/Documentation/ABI/testing/sysfs-bus-pci#L344-L355\n",
      "I0000 00:00:1724007621.631278   16518 cuda_executor.cc:1015] successful NUMA node read from SysFS had negative value (-1), but there must be at least one NUMA node, so returning NUMA node zero. See more at https://github.com/torvalds/linux/blob/v6.0/Documentation/ABI/testing/sysfs-bus-pci#L344-L355\n",
      "I0000 00:00:1724007621.632682   16518 cuda_executor.cc:1015] successful NUMA node read from SysFS had negative value (-1), but there must be at least one NUMA node, so returning NUMA node zero. See more at https://github.com/torvalds/linux/blob/v6.0/Documentation/ABI/testing/sysfs-bus-pci#L344-L355\n",
      "I0000 00:00:1724007621.634108   16518 cuda_executor.cc:1015] successful NUMA node read from SysFS had negative value (-1), but there must be at least one NUMA node, so returning NUMA node zero. See more at https://github.com/torvalds/linux/blob/v6.0/Documentation/ABI/testing/sysfs-bus-pci#L344-L355\n",
      "I0000 00:00:1724007621.635477   16518 cuda_executor.cc:1015] successful NUMA node read from SysFS had negative value (-1), but there must be at least one NUMA node, so returning NUMA node zero. See more at https://github.com/torvalds/linux/blob/v6.0/Documentation/ABI/testing/sysfs-bus-pci#L344-L355\n",
      "2024-08-18 19:00:21.636881: I tensorflow/core/common_runtime/gpu/gpu_device.cc:2021] Created device /job:localhost/replica:0/task:0/device:GPU:0 with 19659 MB memory:  -> device: 0, name: NVIDIA A10G, pci bus id: 0000:00:1e.0, compute capability: 8.6\n",
      "WARNING:absl:Compiled the loaded model, but the compiled metrics have yet to be built. `model.compile_metrics` will be empty until you train or evaluate the model.\n",
      "WARNING: All log messages before absl::InitializeLog() is called are written to STDERR\n",
      "I0000 00:00:1724007622.016770   16761 service.cc:146] XLA service 0x7f8a38003f00 initialized for platform CUDA (this does not guarantee that XLA will be used). Devices:\n",
      "I0000 00:00:1724007622.016827   16761 service.cc:154]   StreamExecutor device (0): NVIDIA A10G, Compute Capability 8.6\n",
      "2024-08-18 19:00:22.021677: I tensorflow/compiler/mlir/tensorflow/utils/dump_mlir_util.cc:268] disabling MLIR crash reproducer, set env var `MLIR_CRASH_REPRODUCER_DIRECTORY` to enable.\n",
      "2024-08-18 19:00:22.037847: I external/local_xla/xla/stream_executor/cuda/cuda_dnn.cc:531] Loaded cuDNN version 8905\n",
      "2024-08-18 19:00:23.087321: I external/local_xla/xla/stream_executor/cuda/cuda_asm_compiler.cc:393] ptxas warning : Registers are spilled to local memory in function 'gemm_fusion_dot_23', 4 bytes spill stores, 4 bytes spill loads\n",
      "\n",
      "2024-08-18 19:00:23.550571: I external/local_xla/xla/stream_executor/cuda/cuda_asm_compiler.cc:393] ptxas warning : Registers are spilled to local memory in function 'gemm_fusion_dot_16', 4 bytes spill stores, 4 bytes spill loads\n",
      "\n"
     ]
    },
    {
     "name": "stdout",
     "output_type": "stream",
     "text": [
      "\u001b[1m 1/11\u001b[0m \u001b[32m━\u001b[0m\u001b[37m━━━━━━━━━━━━━━━━━━━\u001b[0m \u001b[1m28s\u001b[0m 3s/step"
     ]
    },
    {
     "name": "stderr",
     "output_type": "stream",
     "text": [
      "I0000 00:00:1724007624.752530   16761 device_compiler.h:188] Compiled cluster using XLA!  This line is logged at most once for the lifetime of the process.\n"
     ]
    },
    {
     "name": "stdout",
     "output_type": "stream",
     "text": [
      "\u001b[1m11/11\u001b[0m \u001b[32m━━━━━━━━━━━━━━━━━━━━\u001b[0m\u001b[37m\u001b[0m \u001b[1m4s\u001b[0m 113ms/step\n"
     ]
    }
   ],
   "source": [
    "COLLECTION=\"sentinel-2-l2a\"\n",
    "\n",
    "# Load the GeoJSON file\n",
    "geojson_path = 'test_data/challenge_1_bb.geojson'\n",
    "grid = gdf_preprocess(geojson_path, COLLECTION)\n",
    "\n",
    "# Create embeddings over the defined grid\n",
    "gdf = create_embeddings(start_date=\"2022-01-01\", end_date=\"2022-12-31\", grid=grid, COLLECTION=COLLECTION)\n",
    "\n",
    "# Download model (as pickle file or similar)\n",
    "gdf = NN_preds(task_id=1, model_type=\"multi_classifier\", gdf=gdf)\n",
    "gdf['geometry'] = grid['bounding_box']\n",
    "\n",
    "# # assert format / shape, SAVE AS CSV\n",
    "gdf_final = final_grid(geojson_path, gsd=10, gdf_data=gdf)\n",
    "\n",
    "gdf_final.to_csv(\"task_1.csv\")\n",
    "\n",
    "# # # calculate score\n",
    "# task_1_score = 0\n",
    "# submission['task_1_score'] = task_1_score"
   ]
  },
  {
   "cell_type": "markdown",
   "id": "7bd56b64-e07a-45e1-a566-903f5b472187",
   "metadata": {},
   "source": [
    "#### Task: 2 Submission"
   ]
  },
  {
   "cell_type": "code",
   "execution_count": 6,
   "id": "2d365a2e-4e3f-4ceb-a19a-6e54d515802e",
   "metadata": {},
   "outputs": [],
   "source": [
    "# ditto\n",
    "task_2_score = 0\n",
    "submission['task_2_score'] = task_2_score"
   ]
  },
  {
   "cell_type": "markdown",
   "id": "2fc4122e-96e1-447a-9013-eea0778ece68",
   "metadata": {},
   "source": [
    "#### Task: 3 Submission"
   ]
  },
  {
   "cell_type": "code",
   "execution_count": 7,
   "id": "fbabd846-90f4-4af6-8a8d-77bd8b60b9ad",
   "metadata": {},
   "outputs": [
    {
     "name": "stderr",
     "output_type": "stream",
     "text": [
      "  0%|          | 0/336 [00:00<?, ?it/s]"
     ]
    },
    {
     "name": "stderr",
     "output_type": "stream",
     "text": [
      "100%|██████████| 336/336 [04:48<00:00,  1.17it/s]\n",
      "WARNING:absl:Compiled the loaded model, but the compiled metrics have yet to be built. `model.compile_metrics` will be empty until you train or evaluate the model.\n"
     ]
    },
    {
     "name": "stdout",
     "output_type": "stream",
     "text": [
      "\u001b[1m 1/11\u001b[0m \u001b[32m━\u001b[0m\u001b[37m━━━━━━━━━━━━━━━━━━━\u001b[0m \u001b[1m9s\u001b[0m 985ms/step"
     ]
    },
    {
     "name": "stderr",
     "output_type": "stream",
     "text": [
      "2024-08-18 19:10:02.192399: I external/local_xla/xla/stream_executor/cuda/cuda_asm_compiler.cc:393] ptxas warning : Registers are spilled to local memory in function 'gemm_fusion_dot_16', 4 bytes spill stores, 4 bytes spill loads\n",
      "\n"
     ]
    },
    {
     "name": "stdout",
     "output_type": "stream",
     "text": [
      "\u001b[1m11/11\u001b[0m \u001b[32m━━━━━━━━━━━━━━━━━━━━\u001b[0m\u001b[37m\u001b[0m \u001b[1m2s\u001b[0m 116ms/step\n"
     ]
    }
   ],
   "source": [
    "COLLECTION=\"sentinel-2-l2a\"\n",
    "\n",
    "# Load the GeoJSON file\n",
    "geojson_path = 'test_data/challenge_3_bb.geojson'\n",
    "grid = gdf_preprocess(geojson_path, COLLECTION=COLLECTION)\n",
    "\n",
    "# Create embeddings over the defined grid\n",
    "gdf = create_embeddings(start_date=\"2022-01-01\", end_date=\"2022-12-31\", grid=grid, COLLECTION=COLLECTION)\n",
    "\n",
    "# Download model (as pickle file or similar)\n",
    "gdf = NN_preds(task_id=3, model_type=\"regression\", gdf=gdf)\n",
    "gdf['geometry'] = grid['bounding_box']\n",
    "\n",
    "# # assert format / shape, SAVE AS CSV\n",
    "gdf_final = final_grid(geojson_path, gsd=10, gdf_data=gdf)\n",
    "\n",
    "gdf_final.to_csv(\"task_3.csv\")\n",
    "\n",
    "# task_3_score = 0\n",
    "# submission['task_3_score'] = task_3_score"
   ]
  },
  {
   "cell_type": "markdown",
   "id": "606c6b00-8730-4645-b9a3-27e62d9caeab",
   "metadata": {},
   "source": [
    "#### Task: 4 Submission"
   ]
  },
  {
   "cell_type": "code",
   "execution_count": 8,
   "id": "4b1ca520-dcc2-4a10-84a7-f6408d568ecf",
   "metadata": {},
   "outputs": [
    {
     "name": "stderr",
     "output_type": "stream",
     "text": [
      "  0%|          | 0/30 [00:00<?, ?it/s]"
     ]
    },
    {
     "name": "stderr",
     "output_type": "stream",
     "text": [
      "100%|██████████| 30/30 [00:28<00:00,  1.06it/s]\n",
      "WARNING:absl:Compiled the loaded model, but the compiled metrics have yet to be built. `model.compile_metrics` will be empty until you train or evaluate the model.\n"
     ]
    },
    {
     "name": "stdout",
     "output_type": "stream",
     "text": [
      "\u001b[1m1/1\u001b[0m \u001b[32m━━━━━━━━━━━━━━━━━━━━\u001b[0m\u001b[37m\u001b[0m \u001b[1m2s\u001b[0m 2s/step\n"
     ]
    }
   ],
   "source": [
    "COLLECTION=\"landsat-c2-l2\"\n",
    "\n",
    "# Load the GeoJSON file\n",
    "geojson_path = 'test_data/challenge_4_bb.geojson'\n",
    "grid = gdf_preprocess(geojson_path, COLLECTION=COLLECTION)\n",
    "\n",
    "# Create embeddings over the defined grid\n",
    "gdf = create_embeddings(start_date=\"2013-01-01\", end_date=\"2013-12-31\", grid=grid, COLLECTION=COLLECTION)\n",
    "\n",
    "# Download model (as pickle file or similar) #FIX FOR TWO OUTPUTS\n",
    "gdf = NN_preds(task_id=4, model_type=\"multi_regression\", gdf=gdf)\n",
    "gdf['geometry'] = grid['bounding_box']\n",
    "\n",
    "# # assert format / shape, SAVE AS CSV\n",
    "gdf_final = final_grid(geojson_path, gsd=10, gdf_data=gdf)\n",
    "\n",
    "gdf_final.to_csv(\"task_4.csv\")\n",
    "\n",
    "# task_4_score = 0\n",
    "# submission['task_4_score'] = task_4_score"
   ]
  },
  {
   "cell_type": "markdown",
   "id": "b36a66e6-9896-4384-9703-ca124562c04a",
   "metadata": {},
   "source": [
    "#### Task: 5 Submission"
   ]
  },
  {
   "cell_type": "code",
   "execution_count": 9,
   "id": "3aa800c4-5ef4-4a53-8557-63ce7b156b69",
   "metadata": {},
   "outputs": [
    {
     "name": "stderr",
     "output_type": "stream",
     "text": [
      "  0%|          | 0/399 [00:00<?, ?it/s]"
     ]
    },
    {
     "name": "stderr",
     "output_type": "stream",
     "text": [
      "100%|██████████| 399/399 [11:55<00:00,  1.79s/it]\n",
      "WARNING:absl:Compiled the loaded model, but the compiled metrics have yet to be built. `model.compile_metrics` will be empty until you train or evaluate the model.\n"
     ]
    },
    {
     "name": "stdout",
     "output_type": "stream",
     "text": [
      "\u001b[1m13/13\u001b[0m \u001b[32m━━━━━━━━━━━━━━━━━━━━\u001b[0m\u001b[37m\u001b[0m \u001b[1m3s\u001b[0m 107ms/step\n"
     ]
    }
   ],
   "source": [
    "COLLECTION=\"sentinel-2-l2a\"\n",
    "\n",
    "# Load the GeoJSON file\n",
    "geojson_path = 'test_data/challenge_5_bb.geojson'\n",
    "grid = gdf_preprocess(geojson_path, COLLECTION=COLLECTION)\n",
    "\n",
    "# Create embeddings over the defined grid\n",
    "gdf = create_embeddings(start_date=\"2018-08-01\", end_date=\"2018-09-30\", start_date2=\"2019-08-01\", end_date2=\"2019-09-30\", grid=grid, COLLECTION=COLLECTION) \n",
    "gdf['embeddings_delta'] = gdf['embeddings_new'] - gdf['embeddings']\n",
    "\n",
    "# Download model (as pickle file or similar)\n",
    "gdf = NN_preds(task_id=5, model_type=\"binary_classifier\", gdf=gdf)\n",
    "gdf['geometry'] = grid['bounding_box']\n",
    "\n",
    "# # assert format / shape, SAVE AS CSV\n",
    "gdf_final = final_grid(geojson_path, gsd=10, gdf_data=gdf)\n",
    "\n",
    "gdf_final.to_csv(\"task_5.csv\")\n",
    "\n",
    "# task_5_score = 0\n",
    "# submission['task_5_score'] = task_5_score"
   ]
  },
  {
   "cell_type": "markdown",
   "id": "a0fe75df-c323-4a60-aca4-e0f6e6c9d1d1",
   "metadata": {},
   "source": [
    "#### Task: 6 Submission"
   ]
  },
  {
   "cell_type": "code",
   "execution_count": 11,
   "id": "410fe96e-0d89-455d-a6bf-123ac9f665b7",
   "metadata": {},
   "outputs": [
    {
     "name": "stderr",
     "output_type": "stream",
     "text": [
      "  0%|          | 0/378 [00:00<?, ?it/s]"
     ]
    },
    {
     "name": "stderr",
     "output_type": "stream",
     "text": [
      "100%|██████████| 378/378 [12:23<00:00,  1.97s/it]\n",
      "WARNING:absl:Compiled the loaded model, but the compiled metrics have yet to be built. `model.compile_metrics` will be empty until you train or evaluate the model.\n"
     ]
    },
    {
     "name": "stdout",
     "output_type": "stream",
     "text": [
      "\u001b[1m12/12\u001b[0m \u001b[32m━━━━━━━━━━━━━━━━━━━━\u001b[0m\u001b[37m\u001b[0m \u001b[1m2s\u001b[0m 97ms/step\n"
     ]
    }
   ],
   "source": [
    "COLLECTION=\"sentinel-2-l2a\"\n",
    "\n",
    "# Load the GeoJSON file\n",
    "geojson_path = 'test_data/challenge_6_bb.geojson'\n",
    "grid = gdf_preprocess(geojson_path, COLLECTION=COLLECTION)\n",
    "\n",
    "# Create embeddings over the defined grid\n",
    "gdf = create_embeddings(start_date=\"2019-01-01\", end_date=\"2019-12-31\", start_date2=\"2020-01-01\", end_date2=\"2020-12-31\", grid=grid, COLLECTION=COLLECTION) \n",
    "gdf['embeddings_delta'] = gdf['embeddings_new'] - gdf['embeddings']\n",
    "\n",
    "# Download model (as pickle file or similar)\n",
    "gdf = NN_preds(task_id=6, model_type=\"regression\", gdf=gdf)\n",
    "gdf['geometry'] = grid['bounding_box']\n",
    "\n",
    "# # assert format / shape, SAVE AS CSV\n",
    "gdf_final = final_grid(geojson_path, gsd=10, gdf_data=gdf)\n",
    "\n",
    "gdf_final.to_csv(\"task_6.csv\")\n",
    "\n",
    "# task_6_score = 0\n",
    "# submission['task_6_score'] = task_6_score"
   ]
  },
  {
   "cell_type": "markdown",
   "id": "798b56fa-244f-4d9a-88f8-744acd7e9751",
   "metadata": {},
   "source": [
    "#### Task: 7 Submission"
   ]
  },
  {
   "cell_type": "code",
   "execution_count": null,
   "id": "131b87d9-f1ac-4f6b-b379-d83697a24025",
   "metadata": {},
   "outputs": [],
   "source": [
    "# ditto\n",
    "task_7_score = 0\n",
    "submission['task_7_score'] = task_7_score"
   ]
  },
  {
   "cell_type": "markdown",
   "id": "8c759b81-a85d-446f-8a30-96c40a8e44fe",
   "metadata": {},
   "source": [
    "#### Output submissions"
   ]
  },
  {
   "cell_type": "code",
   "execution_count": 5,
   "id": "a20a4e0e-eb99-4b81-a3d9-3ffdbe02110a",
   "metadata": {},
   "outputs": [],
   "source": [
    "pd.DataFrame([submission]).to_csv('output.csv', index=False)"
   ]
  }
 ],
 "metadata": {
  "kernelspec": {
   "display_name": "Python 3 (ipykernel)",
   "language": "python",
   "name": "python3"
  },
  "language_info": {
   "codemirror_mode": {
    "name": "ipython",
    "version": 3
   },
   "file_extension": ".py",
   "mimetype": "text/x-python",
   "name": "python",
   "nbconvert_exporter": "python",
   "pygments_lexer": "ipython3",
   "version": "3.11.9"
  }
 },
 "nbformat": 4,
 "nbformat_minor": 5
}
