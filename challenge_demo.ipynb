{
 "cells": [
  {
   "cell_type": "markdown",
   "metadata": {},
   "source": [
    "## Task 1: landcover classification"
   ]
  },
  {
   "cell_type": "markdown",
   "metadata": {},
   "source": [
    "### Retrieve S2 embeddings from an S3 bucket over California"
   ]
  },
  {
   "cell_type": "code",
   "execution_count": 1,
   "metadata": {},
   "outputs": [
    {
     "name": "stdout",
     "output_type": "stream",
     "text": [
      "Model already exists\n"
     ]
    }
   ],
   "source": [
    "import geopandas as gpd\n",
    "import s3fs\n",
    "import pandas as pd\n",
    "import os\n",
    "\n",
    "from tqdm import tqdm\n",
    "\n",
    "\n",
    "file_path = 'models/land_cover_model.h5'\n",
    "\n",
    "if os.path.exists(file_path):\n",
    "    print(\"Model already exists\")\n",
    "else:\n",
    "    # S3 bucket and prefix\n",
    "    s3_bucket = 'clay-worker-bucket-dev-small-tasks'\n",
    "    s3_prefix = '_data/gpq/87/'#51/' #2022 S2 Cali embeddings\n",
    "\n",
    "    # Initialize s3fs filesystem\n",
    "    fs = s3fs.S3FileSystem()\n",
    "\n",
    "    # List all the GeoParquet files in the specified S3 directory\n",
    "    geo_parquet_files = fs.glob(f's3://{s3_bucket}/{s3_prefix}*.gpq')\n",
    "\n",
    "    # List to store GeoDataFrames\n",
    "    gdfs = []\n",
    "\n",
    "    # Load each GeoParquet file into a GeoDataFrame and append to the list\n",
    "    for file in tqdm(geo_parquet_files):\n",
    "        gdf = gpd.read_parquet(\"s3://\"+file, storage_options={\"anon\": False, \"client_kwargs\": {\"region_name\": \"us-west-2\"}})\n",
    "        gdfs.append(gdf)\n",
    "\n",
    "    # Concatenate all GeoDataFrames into a single GeoDataFrame\n",
    "    combined_gdf = gpd.GeoDataFrame(pd.concat(gdfs, ignore_index=True))\n",
    "\n",
    "    # Display the concatenated GeoDataFrame\n",
    "    combined_gdf\n"
   ]
  },
  {
   "cell_type": "markdown",
   "metadata": {},
   "source": [
    "### Join most common land use value that corresponds to each chip"
   ]
  },
  {
   "cell_type": "code",
   "execution_count": 2,
   "metadata": {},
   "outputs": [
    {
     "name": "stdout",
     "output_type": "stream",
     "text": [
      "Model already exists\n"
     ]
    }
   ],
   "source": [
    "import ee\n",
    "\n",
    "from tqdm import tqdm\n",
    "from concurrent.futures import ThreadPoolExecutor, as_completed\n",
    "\n",
    "if os.path.exists(file_path):\n",
    "    print(\"Model already exists\")\n",
    "else:\n",
    "    # Initialize Earth Engine\n",
    "    ee.Initialize()\n",
    "\n",
    "    # Load the ESRI Global LULC dataset\n",
    "    lulc = ee.ImageCollection(\"projects/sat-io/open-datasets/landcover/ESRI_Global-LULC_10m_TS\").mosaic()\n",
    "\n",
    "    def get_most_common_lulc(geometry):\n",
    "        # Convert the GeoPandas geometry to an Earth Engine geometry\n",
    "        ee_geometry = ee.Geometry.Rectangle(geometry.bounds)\n",
    "        \n",
    "        # Get the LULC values within the bounding box\n",
    "        lulc_values = lulc.reduceRegion(\n",
    "            reducer=ee.Reducer.frequencyHistogram(),\n",
    "            geometry=ee_geometry,\n",
    "            scale=10,\n",
    "            maxPixels=1e9\n",
    "        ).get('b1')\n",
    "        \n",
    "        # Find the most common LULC value\n",
    "        lulc_dict = ee.Dictionary(lulc_values)\n",
    "        most_common = lulc_dict.keys().sort(lulc_dict.values()).get(-1)\n",
    "        \n",
    "        # Return the result\n",
    "        return int(most_common.getInfo())\n",
    "\n",
    "    def process_geometries(combined_gdf):\n",
    "        # Get the total number of rows in the GeoDataFrame\n",
    "        total_rows = len(combined_gdf)\n",
    "\n",
    "        # Determine the number of threads to use\n",
    "        max_threads = 10  # Adjust this based on your system and Earth Engine quota\n",
    "        num_threads = min(total_rows, max_threads)\n",
    "\n",
    "        results = []\n",
    "\n",
    "        with ThreadPoolExecutor(max_workers=num_threads) as executor:\n",
    "            # Submit all tasks\n",
    "            future_to_index = {executor.submit(get_most_common_lulc, row.geometry): index \n",
    "                            for index, row in combined_gdf.iterrows()}\n",
    "            \n",
    "            # Process as they complete with a progress bar\n",
    "            with tqdm(total=total_rows, desc=\"Processing bounding boxes\") as pbar:\n",
    "                for future in as_completed(future_to_index):\n",
    "                    index = future_to_index[future]\n",
    "                    try:\n",
    "                        result = future.result()\n",
    "                    except Exception as exc:\n",
    "                        print(f'Generated an exception: {exc}')\n",
    "                        result = None\n",
    "                    results.append((index, result))\n",
    "                    pbar.update(1)\n",
    "\n",
    "        # Sort results by index and extract only the values\n",
    "        sorted_results = [r[1] for r in sorted(results, key=lambda x: x[0])]\n",
    "        \n",
    "        return sorted_results\n",
    "\n",
    "    if __name__ == '__main__':\n",
    "        # Process the geometries\n",
    "        results = process_geometries(combined_gdf)\n",
    "\n",
    "        # Add the results as a new column to the GeoDataFrame\n",
    "        combined_gdf['most_common_lulc'] = results\n",
    "\n",
    "        # Save as GeoJSON\n",
    "        combined_gdf[['geometry', 'most_common_lulc']].to_file(\"test_lulc.geojson\", driver=\"GeoJSON\")"
   ]
  },
  {
   "cell_type": "markdown",
   "metadata": {},
   "source": [
    "### Tune hyperparameters for land use classifier using Optuna"
   ]
  },
  {
   "cell_type": "code",
   "execution_count": 3,
   "metadata": {},
   "outputs": [
    {
     "name": "stderr",
     "output_type": "stream",
     "text": [
      "/opt/conda/envs/claymodel-latest-v2/lib/python3.11/site-packages/tqdm/auto.py:21: TqdmWarning: IProgress not found. Please update jupyter and ipywidgets. See https://ipywidgets.readthedocs.io/en/stable/user_install.html\n",
      "  from .autonotebook import tqdm as notebook_tqdm\n",
      "2024-07-27 23:24:04.899295: E external/local_xla/xla/stream_executor/cuda/cuda_fft.cc:485] Unable to register cuFFT factory: Attempting to register factory for plugin cuFFT when one has already been registered\n",
      "2024-07-27 23:24:04.917480: E external/local_xla/xla/stream_executor/cuda/cuda_dnn.cc:8454] Unable to register cuDNN factory: Attempting to register factory for plugin cuDNN when one has already been registered\n",
      "2024-07-27 23:24:04.923098: E external/local_xla/xla/stream_executor/cuda/cuda_blas.cc:1452] Unable to register cuBLAS factory: Attempting to register factory for plugin cuBLAS when one has already been registered\n",
      "2024-07-27 23:24:04.935962: I tensorflow/core/platform/cpu_feature_guard.cc:210] This TensorFlow binary is optimized to use available CPU instructions in performance-critical operations.\n",
      "To enable the following instructions: AVX2 FMA, in other operations, rebuild TensorFlow with the appropriate compiler flags.\n",
      "2024-07-27 23:24:05.670892: W tensorflow/compiler/tf2tensorrt/utils/py_utils.cc:38] TF-TRT Warning: Could not find TensorRT\n"
     ]
    },
    {
     "name": "stdout",
     "output_type": "stream",
     "text": [
      "Model already exists\n"
     ]
    }
   ],
   "source": [
    "import pandas as pd\n",
    "import numpy as np\n",
    "import optuna\n",
    "import tensorflow as tf\n",
    "import joblib\n",
    "\n",
    "from sklearn.model_selection import train_test_split\n",
    "from sklearn.preprocessing import StandardScaler, LabelEncoder\n",
    "from sklearn.metrics import f1_score\n",
    "from keras.models import Sequential\n",
    "from keras.layers import Dense, Dropout, Input\n",
    "from keras.optimizers import Adam\n",
    "from keras.utils import to_categorical\n",
    "\n",
    "class NeuralNetwork:\n",
    "    def __init__(self, input_shape, layers, dropout_rate, learning_rate, num_classes, device):\n",
    "        self.input_shape = input_shape\n",
    "        self.layers = layers\n",
    "        self.dropout_rate = dropout_rate\n",
    "        self.learning_rate = learning_rate\n",
    "        self.num_classes = num_classes\n",
    "        self.device = device\n",
    "        self.model = self.build_model()\n",
    "\n",
    "    def build_model(self):\n",
    "        model = Sequential()\n",
    "        model.add(Input(shape=(self.input_shape,)))\n",
    "        for layer_size in self.layers:\n",
    "            model.add(Dense(layer_size, activation='relu'))\n",
    "            model.add(Dropout(self.dropout_rate))\n",
    "        model.add(Dense(self.num_classes, activation='softmax'))\n",
    "        return model\n",
    "\n",
    "    def compile_model(self):\n",
    "        optimizer = Adam(learning_rate=self.learning_rate)\n",
    "        self.model.compile(optimizer=optimizer, loss='categorical_crossentropy', metrics=['accuracy'])\n",
    "\n",
    "    def train_model(self, X_train, y_train, epochs=20, batch_size=32, validation_split=0.2):\n",
    "        with tf.device(self.device):\n",
    "            history = self.model.fit(X_train, y_train, epochs=epochs, batch_size=batch_size, validation_split=validation_split)\n",
    "        return history\n",
    "\n",
    "    def evaluate_model(self, X_test, y_test):\n",
    "        with tf.device(self.device):\n",
    "            loss, accuracy = self.model.evaluate(X_test, y_test)\n",
    "        return loss, accuracy\n",
    "\n",
    "    def predict(self, X_test):\n",
    "        with tf.device(self.device):\n",
    "            predictions = self.model.predict(X_test)\n",
    "        return np.argmax(predictions, axis=1)\n",
    "\n",
    "    def calculate_f1(self, y_test, predictions):\n",
    "        return f1_score(np.argmax(y_test, axis=1), predictions, average='weighted')\n",
    "    \n",
    "    def save_model(self, filename):\n",
    "        self.model.save(filename)\n",
    "\n",
    "    @classmethod\n",
    "    def load_model(cls, filename, input_shape, num_classes, device):\n",
    "        loaded_model = tf.keras.models.load_model(filename)\n",
    "        nn = cls(input_shape, [], 0, 0, num_classes, device)  # Dummy values for layers, dropout_rate, and learning_rate\n",
    "        nn.model = loaded_model\n",
    "        return nn\n",
    "\n",
    "\n",
    "def objective(trial):\n",
    "    layers = []\n",
    "    for i in range(trial.suggest_int('n_layers', 1, 3)):\n",
    "        layers.append(trial.suggest_int(f'n_units_l{i}', 64, 512))\n",
    "    \n",
    "    dropout_rate = trial.suggest_float('dropout_rate', 0.2, 0.5)\n",
    "    learning_rate = trial.suggest_float('learning_rate', 1e-5, 1e-2)\n",
    "    \n",
    "    nn = NeuralNetwork(input_shape=X_train.shape[1], device=device, layers=layers, dropout_rate=dropout_rate, learning_rate=learning_rate, num_classes=num_classes)\n",
    "    nn.compile_model()\n",
    "    \n",
    "    nn.train_model(X_train, y_train, epochs=20, batch_size=32, validation_split=0.2)\n",
    "    \n",
    "    predictions = nn.predict(X_test)\n",
    "    f1 = nn.calculate_f1(y_test, predictions)\n",
    "    \n",
    "    return f1\n",
    "\n",
    "if os.path.exists(file_path):\n",
    "    print(\"Model already exists\")\n",
    "else:\n",
    "    # Assuming combined_gdf is already loaded\n",
    "    X = combined_gdf['embeddings'].tolist()\n",
    "    X = pd.DataFrame(X)\n",
    "    y = combined_gdf['most_common_lulc']\n",
    "\n",
    "    # Encode the target variable\n",
    "    label_encoder = LabelEncoder()\n",
    "    y_encoded = label_encoder.fit_transform(y)\n",
    "    num_classes = len(label_encoder.classes_)\n",
    "\n",
    "    # Convert to one-hot encoding\n",
    "    y_onehot = to_categorical(y_encoded)\n",
    "\n",
    "    # Split data into training and testing sets\n",
    "    X_train, X_test, y_train, y_test = train_test_split(X, y_onehot, test_size=0.2, random_state=42)\n",
    "\n",
    "    # Scale the features\n",
    "    scaler = StandardScaler()\n",
    "    X_train = scaler.fit_transform(X_train)\n",
    "    X_test = scaler.transform(X_test)\n",
    "\n",
    "    device = '/GPU:0' if tf.config.list_physical_devices('GPU') else '/CPU:0'\n",
    "\n",
    "    # Optimize the hyperparameters\n",
    "    study = optuna.create_study(direction='maximize')\n",
    "    study.optimize(objective, n_trials=20)\n",
    "\n",
    "    # Print the best hyperparameters\n",
    "    print(study.best_params)\n",
    "\n",
    "    # Example usage with the best hyperparameters\n",
    "    best_params = study.best_params\n",
    "    layers = [best_params[f'n_units_l{i}'] for i in range(best_params['n_layers'])]\n",
    "    dropout_rate = best_params['dropout_rate']\n",
    "    learning_rate = best_params['learning_rate']\n",
    "\n",
    "    nn = NeuralNetwork(input_shape=X_train.shape[1], device=device, layers=layers, dropout_rate=dropout_rate, learning_rate=learning_rate, num_classes=num_classes)\n",
    "    nn.compile_model()\n",
    "    history = nn.train_model(X_train, y_train, epochs=20, batch_size=32, validation_split=0.2)\n",
    "    loss, accuracy = nn.evaluate_model(X_test, y_test)\n",
    "    print(f'Test Accuracy: {accuracy:.4f}')\n",
    "    predictions = nn.predict(X_test)\n",
    "    f1 = nn.calculate_f1(y_test, predictions)\n",
    "    print(f'Test F1 Score: {f1:.4f}')\n",
    "\n",
    "    # Save the model\n",
    "    nn.save_model('models/land_cover_model.h5')\n",
    "\n",
    "    # Save scaler and label_encoder\n",
    "    joblib.dump(scaler, 'models/scaler.joblib')\n",
    "    joblib.dump(label_encoder, 'models/label_encoder.joblib')\n",
    "\n",
    "    # If you want to get the actual class labels\n",
    "    predicted_classes = label_encoder.inverse_transform(predictions)"
   ]
  },
  {
   "cell_type": "markdown",
   "metadata": {},
   "source": [
    "### Predict on test set"
   ]
  },
  {
   "cell_type": "markdown",
   "metadata": {},
   "source": [
    "#### Load in test set geojson and turn into grid of points"
   ]
  },
  {
   "cell_type": "code",
   "execution_count": 4,
   "metadata": {},
   "outputs": [
    {
     "data": {
      "text/html": [
       "<div>\n",
       "<style scoped>\n",
       "    .dataframe tbody tr th:only-of-type {\n",
       "        vertical-align: middle;\n",
       "    }\n",
       "\n",
       "    .dataframe tbody tr th {\n",
       "        vertical-align: top;\n",
       "    }\n",
       "\n",
       "    .dataframe thead th {\n",
       "        text-align: right;\n",
       "    }\n",
       "</style>\n",
       "<table border=\"1\" class=\"dataframe\">\n",
       "  <thead>\n",
       "    <tr style=\"text-align: right;\">\n",
       "      <th></th>\n",
       "      <th>geometry</th>\n",
       "    </tr>\n",
       "  </thead>\n",
       "  <tbody>\n",
       "    <tr>\n",
       "      <th>0</th>\n",
       "      <td>POLYGON ((-106.08092 35.78627, -106.08092 35.4...</td>\n",
       "    </tr>\n",
       "  </tbody>\n",
       "</table>\n",
       "</div>"
      ],
      "text/plain": [
       "                                            geometry\n",
       "0  POLYGON ((-106.08092 35.78627, -106.08092 35.4..."
      ]
     },
     "execution_count": 4,
     "metadata": {},
     "output_type": "execute_result"
    }
   ],
   "source": [
    "import geopandas as gpd\n",
    "\n",
    "year = 2022\n",
    "\n",
    "# Load the GeoJSON file\n",
    "geojson_path = 'test_data/challenge_1_bb.geojson'\n",
    "gdf = gpd.read_file(geojson_path)\n",
    "gdf"
   ]
  },
  {
   "cell_type": "code",
   "execution_count": 5,
   "metadata": {},
   "outputs": [
    {
     "data": {
      "text/html": [
       "<div>\n",
       "<style scoped>\n",
       "    .dataframe tbody tr th:only-of-type {\n",
       "        vertical-align: middle;\n",
       "    }\n",
       "\n",
       "    .dataframe tbody tr th {\n",
       "        vertical-align: top;\n",
       "    }\n",
       "\n",
       "    .dataframe thead th {\n",
       "        text-align: right;\n",
       "    }\n",
       "</style>\n",
       "<table border=\"1\" class=\"dataframe\">\n",
       "  <thead>\n",
       "    <tr style=\"text-align: right;\">\n",
       "      <th></th>\n",
       "      <th>geometry</th>\n",
       "    </tr>\n",
       "  </thead>\n",
       "  <tbody>\n",
       "    <tr>\n",
       "      <th>0</th>\n",
       "      <td>POLYGON ((402315.263 3960781.699, 401878.759 3...</td>\n",
       "    </tr>\n",
       "  </tbody>\n",
       "</table>\n",
       "</div>"
      ],
      "text/plain": [
       "                                            geometry\n",
       "0  POLYGON ((402315.263 3960781.699, 401878.759 3..."
      ]
     },
     "execution_count": 5,
     "metadata": {},
     "output_type": "execute_result"
    }
   ],
   "source": [
    "import pyproj\n",
    "\n",
    "def get_utm_zone(longitude):\n",
    "    return int((longitude + 180) / 6) + 1\n",
    "\n",
    "# Get the bounds of the geometry\n",
    "minx, miny, maxx, maxy = gdf.geometry.bounds.iloc[0]\n",
    "\n",
    "# Calculate UTM zone\n",
    "utm_zone = get_utm_zone(minx)\n",
    "\n",
    "# Check for a suitable projection using pyproj\n",
    "proj = pyproj.Proj(proj='utm', zone=utm_zone, ellps='WGS84')\n",
    "\n",
    "# Get the corresponding EPSG code for the UTM zone using pyproj\n",
    "utm_crs = pyproj.CRS(f\"+proj=utm +zone={utm_zone} +datum=WGS84\")\n",
    "epsg_code = utm_crs.to_epsg()\n",
    "\n",
    "# Reproject the GeoDataFrame to the chosen EPSG code\n",
    "gdf = gdf.to_crs(epsg=epsg_code)\n",
    "gdf"
   ]
  },
  {
   "cell_type": "code",
   "execution_count": 6,
   "metadata": {},
   "outputs": [
    {
     "data": {
      "text/html": [
       "<div>\n",
       "<style scoped>\n",
       "    .dataframe tbody tr th:only-of-type {\n",
       "        vertical-align: middle;\n",
       "    }\n",
       "\n",
       "    .dataframe tbody tr th {\n",
       "        vertical-align: top;\n",
       "    }\n",
       "\n",
       "    .dataframe thead th {\n",
       "        text-align: right;\n",
       "    }\n",
       "</style>\n",
       "<table border=\"1\" class=\"dataframe\">\n",
       "  <thead>\n",
       "    <tr style=\"text-align: right;\">\n",
       "      <th></th>\n",
       "      <th>geometry</th>\n",
       "    </tr>\n",
       "  </thead>\n",
       "  <tbody>\n",
       "    <tr>\n",
       "      <th>0</th>\n",
       "      <td>POINT (401878.759 3920624.607)</td>\n",
       "    </tr>\n",
       "    <tr>\n",
       "      <th>1</th>\n",
       "      <td>POINT (404438.759 3920624.607)</td>\n",
       "    </tr>\n",
       "    <tr>\n",
       "      <th>2</th>\n",
       "      <td>POINT (406998.759 3920624.607)</td>\n",
       "    </tr>\n",
       "    <tr>\n",
       "      <th>3</th>\n",
       "      <td>POINT (409558.759 3920624.607)</td>\n",
       "    </tr>\n",
       "    <tr>\n",
       "      <th>4</th>\n",
       "      <td>POINT (412118.759 3920624.607)</td>\n",
       "    </tr>\n",
       "    <tr>\n",
       "      <th>...</th>\n",
       "      <td>...</td>\n",
       "    </tr>\n",
       "    <tr>\n",
       "      <th>331</th>\n",
       "      <td>POINT (442838.759 3959024.607)</td>\n",
       "    </tr>\n",
       "    <tr>\n",
       "      <th>332</th>\n",
       "      <td>POINT (445398.759 3959024.607)</td>\n",
       "    </tr>\n",
       "    <tr>\n",
       "      <th>333</th>\n",
       "      <td>POINT (447958.759 3959024.607)</td>\n",
       "    </tr>\n",
       "    <tr>\n",
       "      <th>334</th>\n",
       "      <td>POINT (450518.759 3959024.607)</td>\n",
       "    </tr>\n",
       "    <tr>\n",
       "      <th>335</th>\n",
       "      <td>POINT (453078.759 3959024.607)</td>\n",
       "    </tr>\n",
       "  </tbody>\n",
       "</table>\n",
       "<p>336 rows × 1 columns</p>\n",
       "</div>"
      ],
      "text/plain": [
       "                           geometry\n",
       "0    POINT (401878.759 3920624.607)\n",
       "1    POINT (404438.759 3920624.607)\n",
       "2    POINT (406998.759 3920624.607)\n",
       "3    POINT (409558.759 3920624.607)\n",
       "4    POINT (412118.759 3920624.607)\n",
       "..                              ...\n",
       "331  POINT (442838.759 3959024.607)\n",
       "332  POINT (445398.759 3959024.607)\n",
       "333  POINT (447958.759 3959024.607)\n",
       "334  POINT (450518.759 3959024.607)\n",
       "335  POINT (453078.759 3959024.607)\n",
       "\n",
       "[336 rows x 1 columns]"
      ]
     },
     "execution_count": 6,
     "metadata": {},
     "output_type": "execute_result"
    }
   ],
   "source": [
    "import numpy as np\n",
    "\n",
    "# Create a grid of points 5120m apart\n",
    "x = np.arange(gdf.total_bounds[0], gdf.total_bounds[2], 2560)\n",
    "y = np.arange(gdf.total_bounds[1], gdf.total_bounds[3], 2560)\n",
    "xx, yy = np.meshgrid(x, y)\n",
    "points = np.vstack([xx.ravel(), yy.ravel()]).T\n",
    "\n",
    "grid = gpd.GeoDataFrame(geometry=gpd.points_from_xy(points[:, 0], points[:, 1], crs=gdf.crs))\n",
    "grid"
   ]
  },
  {
   "cell_type": "markdown",
   "metadata": {},
   "source": [
    "#### Download S2 data for the grid defined above"
   ]
  },
  {
   "cell_type": "code",
   "execution_count": 7,
   "metadata": {},
   "outputs": [],
   "source": [
    "import stackstac\n",
    "import rasterio\n",
    "import pystac_client\n",
    "import rioxarray\n",
    "\n",
    "from shapely.geometry import Point\n",
    "\n",
    "def download_stack_images(start_date, end_date, grid, output_directory):\n",
    "    os.makedirs(output_directory, exist_ok=True)\n",
    "    \n",
    "    # Band groups updated with new bands\n",
    "    BAND_GROUPS = {\n",
    "        \"rgb\": [\"red\", \"green\", \"blue\"],\n",
    "        \"rededge\": [\"rededge1\", \"rededge2\", \"rededge3\", \"nir08\"],\n",
    "        \"nir\": [\"nir\"],\n",
    "        \"swir\": [\"swir16\", \"swir22\"],\n",
    "        \"sar\": [\"vv\", \"vh\"],\n",
    "    }\n",
    "\n",
    "    # STAC API and Collection details\n",
    "    STAC_API = \"https://earth-search.aws.element84.com/v1\"\n",
    "    COLLECTION = \"sentinel-2-l2a\"\n",
    "\n",
    "    # Initialize STAC client\n",
    "    catalog = pystac_client.Client.open(STAC_API)\n",
    "\n",
    "    # Points of Interest as a list of tuples (longitude, latitude)\n",
    "    points = grid.to_crs(\"EPSG:4326\").geometry.apply(lambda x: (x.x, x.y)).tolist()\n",
    "\n",
    "    # Iterate over each point of interest\n",
    "    cnt = 0\n",
    "    indices_for_join = []\n",
    "    for lon, lat in tqdm(points):\n",
    "        bbox = [lon - 1e-5, lat - 1e-5, lon + 1e-5, lat + 1e-5]\n",
    "\n",
    "        # Search for items with low cloud cover, without sorting by cloud cover\n",
    "        search = catalog.search(\n",
    "            collections=[COLLECTION],\n",
    "            datetime=f\"{start_date}/{end_date}\",\n",
    "            bbox=bbox,\n",
    "            max_items=10,\n",
    "            query={\"eo:cloud_cover\": {\"lt\": 20}}  # Assuming 'eo:cloud_cover' is valid for filtering\n",
    "        )\n",
    "\n",
    "        items = list(search.get_items())\n",
    "        if not items:\n",
    "            print(\"No items found with low cloud cover.\")\n",
    "            continue\n",
    "\n",
    "        # Optionally, sort items manually by cloud cover if it's available in the properties\n",
    "        items = sorted(items, key=lambda x: x.properties.get('eo:cloud_cover', float('inf')))\n",
    "\n",
    "        # Select the item with the lowest cloud cover\n",
    "        lowest_cloud_item = items[0]\n",
    "\n",
    "        # Convert point into the image projection of the selected item\n",
    "        epsg = lowest_cloud_item.properties[\"proj:epsg\"]\n",
    "        point_gdf = gpd.GeoDataFrame(\n",
    "            [{'geometry': Point(lon, lat)}], \n",
    "            crs='EPSG:4326'\n",
    "        ).to_crs(epsg=epsg)\n",
    "        coords = list(point_gdf.iloc[0].geometry.coords)[0]\n",
    "\n",
    "        bounds = (\n",
    "            coords[0] - 1120, coords[1] - 1120,\n",
    "            coords[0] + 1120, coords[1] + 1120,\n",
    "        )\n",
    "\n",
    "        # Process and visualize the selected image\n",
    "        stack = stackstac.stack(\n",
    "            [lowest_cloud_item],\n",
    "            bounds=bounds,\n",
    "            snap_bounds=False,\n",
    "            epsg=epsg,\n",
    "            resolution=10,\n",
    "            dtype=\"float32\",\n",
    "            rescale=False,\n",
    "            fill_value=np.nan,\n",
    "            assets=BAND_GROUPS[\"rgb\"] + BAND_GROUPS[\"nir\"],  # TODO: Add more/all of the Sentinel 2 bands to see if embeddings improve\n",
    "        ).compute()\n",
    "\n",
    "        # Assuming 'stack' is your xarray DataArray loaded with stackstac\n",
    "        stack = stack.rio.write_crs(\"EPSG:4326\")  # You can change to your specific EPSG code\n",
    "\n",
    "        mgrs = str(stack.coords[\"grid:code\"].values).split(\"-\")[1]\n",
    "        date = str(stack.time.values)[2:11]\n",
    "\n",
    "        output_path = os.path.join(output_directory, f\"stack_{lon}_{lat}_{cnt}.tif\")\n",
    "        indices_for_join.append(cnt)\n",
    "\n",
    "        if 'time' in stack.dims:\n",
    "            stack = stack.isel(time=0)\n",
    "\n",
    "        # Write the stack to a TIFF file\n",
    "        with rasterio.open(\n",
    "                output_path, 'w',\n",
    "                driver='GTiff',\n",
    "                height=stack.shape[1],\n",
    "                width=stack.shape[2],\n",
    "                count=len(stack.band),  # Number of bands\n",
    "                dtype=str(stack.dtype),\n",
    "                crs=epsg, # TODO: Confirm this\n",
    "                transform=stack.rio.transform()\n",
    "            ) as tif:\n",
    "            for i, band in enumerate(stack.band, start=1):\n",
    "                tif.write(stack.sel(band=band).values, i)\n",
    "\n",
    "        # Reopen the file to add metadata\n",
    "        with rasterio.open(output_path, \"r+\") as rst:\n",
    "            rst.update_tags(date=date)\n",
    "\n",
    "        cnt += 1\n",
    "\n",
    "    grid[\"join_index\"] = indices_for_join"
   ]
  },
  {
   "cell_type": "code",
   "execution_count": 8,
   "metadata": {},
   "outputs": [
    {
     "name": "stderr",
     "output_type": "stream",
     "text": [
      "  0%|          | 0/336 [00:00<?, ?it/s]/opt/conda/envs/claymodel-latest-v2/lib/python3.11/site-packages/pystac_client/item_search.py:836: FutureWarning: get_items() is deprecated, use items() instead\n",
      "  warnings.warn(\n",
      "/opt/conda/envs/claymodel-latest-v2/lib/python3.11/site-packages/stackstac/prepare.py:408: UserWarning: The argument 'infer_datetime_format' is deprecated and will be removed in a future version. A strict version of it is now the default, see https://pandas.pydata.org/pdeps/0004-consistent-to-datetime-parsing.html. You can safely remove this argument.\n",
      "  times = pd.to_datetime(\n",
      "  0%|          | 1/336 [00:01<09:54,  1.77s/it]/opt/conda/envs/claymodel-latest-v2/lib/python3.11/site-packages/pystac_client/item_search.py:836: FutureWarning: get_items() is deprecated, use items() instead\n",
      "  warnings.warn(\n",
      "/opt/conda/envs/claymodel-latest-v2/lib/python3.11/site-packages/stackstac/prepare.py:408: UserWarning: The argument 'infer_datetime_format' is deprecated and will be removed in a future version. A strict version of it is now the default, see https://pandas.pydata.org/pdeps/0004-consistent-to-datetime-parsing.html. You can safely remove this argument.\n",
      "  times = pd.to_datetime(\n",
      "  1%|          | 2/336 [00:02<05:49,  1.05s/it]/opt/conda/envs/claymodel-latest-v2/lib/python3.11/site-packages/pystac_client/item_search.py:836: FutureWarning: get_items() is deprecated, use items() instead\n",
      "  warnings.warn(\n",
      "/opt/conda/envs/claymodel-latest-v2/lib/python3.11/site-packages/stackstac/prepare.py:408: UserWarning: The argument 'infer_datetime_format' is deprecated and will be removed in a future version. A strict version of it is now the default, see https://pandas.pydata.org/pdeps/0004-consistent-to-datetime-parsing.html. You can safely remove this argument.\n",
      "  times = pd.to_datetime(\n",
      "  1%|          | 3/336 [00:02<04:33,  1.22it/s]/opt/conda/envs/claymodel-latest-v2/lib/python3.11/site-packages/pystac_client/item_search.py:836: FutureWarning: get_items() is deprecated, use items() instead\n",
      "  warnings.warn(\n",
      "/opt/conda/envs/claymodel-latest-v2/lib/python3.11/site-packages/stackstac/prepare.py:408: UserWarning: The argument 'infer_datetime_format' is deprecated and will be removed in a future version. A strict version of it is now the default, see https://pandas.pydata.org/pdeps/0004-consistent-to-datetime-parsing.html. You can safely remove this argument.\n",
      "  times = pd.to_datetime(\n",
      "  1%|          | 4/336 [00:03<04:26,  1.25it/s]/opt/conda/envs/claymodel-latest-v2/lib/python3.11/site-packages/pystac_client/item_search.py:836: FutureWarning: get_items() is deprecated, use items() instead\n",
      "  warnings.warn(\n",
      "/opt/conda/envs/claymodel-latest-v2/lib/python3.11/site-packages/stackstac/prepare.py:408: UserWarning: The argument 'infer_datetime_format' is deprecated and will be removed in a future version. A strict version of it is now the default, see https://pandas.pydata.org/pdeps/0004-consistent-to-datetime-parsing.html. You can safely remove this argument.\n",
      "  times = pd.to_datetime(\n",
      "  1%|▏         | 5/336 [00:04<03:54,  1.41it/s]/opt/conda/envs/claymodel-latest-v2/lib/python3.11/site-packages/pystac_client/item_search.py:836: FutureWarning: get_items() is deprecated, use items() instead\n",
      "  warnings.warn(\n",
      "/opt/conda/envs/claymodel-latest-v2/lib/python3.11/site-packages/stackstac/prepare.py:408: UserWarning: The argument 'infer_datetime_format' is deprecated and will be removed in a future version. A strict version of it is now the default, see https://pandas.pydata.org/pdeps/0004-consistent-to-datetime-parsing.html. You can safely remove this argument.\n",
      "  times = pd.to_datetime(\n",
      "  2%|▏         | 6/336 [00:04<03:39,  1.50it/s]/opt/conda/envs/claymodel-latest-v2/lib/python3.11/site-packages/pystac_client/item_search.py:836: FutureWarning: get_items() is deprecated, use items() instead\n",
      "  warnings.warn(\n",
      "/opt/conda/envs/claymodel-latest-v2/lib/python3.11/site-packages/stackstac/prepare.py:408: UserWarning: The argument 'infer_datetime_format' is deprecated and will be removed in a future version. A strict version of it is now the default, see https://pandas.pydata.org/pdeps/0004-consistent-to-datetime-parsing.html. You can safely remove this argument.\n",
      "  times = pd.to_datetime(\n",
      "  2%|▏         | 7/336 [00:05<03:31,  1.56it/s]/opt/conda/envs/claymodel-latest-v2/lib/python3.11/site-packages/pystac_client/item_search.py:836: FutureWarning: get_items() is deprecated, use items() instead\n",
      "  warnings.warn(\n",
      "/opt/conda/envs/claymodel-latest-v2/lib/python3.11/site-packages/stackstac/prepare.py:408: UserWarning: The argument 'infer_datetime_format' is deprecated and will be removed in a future version. A strict version of it is now the default, see https://pandas.pydata.org/pdeps/0004-consistent-to-datetime-parsing.html. You can safely remove this argument.\n",
      "  times = pd.to_datetime(\n",
      "  2%|▏         | 8/336 [00:06<03:32,  1.54it/s]/opt/conda/envs/claymodel-latest-v2/lib/python3.11/site-packages/pystac_client/item_search.py:836: FutureWarning: get_items() is deprecated, use items() instead\n",
      "  warnings.warn(\n",
      "/opt/conda/envs/claymodel-latest-v2/lib/python3.11/site-packages/stackstac/prepare.py:408: UserWarning: The argument 'infer_datetime_format' is deprecated and will be removed in a future version. A strict version of it is now the default, see https://pandas.pydata.org/pdeps/0004-consistent-to-datetime-parsing.html. You can safely remove this argument.\n",
      "  times = pd.to_datetime(\n",
      "  3%|▎         | 9/336 [00:06<03:26,  1.58it/s]/opt/conda/envs/claymodel-latest-v2/lib/python3.11/site-packages/pystac_client/item_search.py:836: FutureWarning: get_items() is deprecated, use items() instead\n",
      "  warnings.warn(\n",
      "/opt/conda/envs/claymodel-latest-v2/lib/python3.11/site-packages/stackstac/prepare.py:408: UserWarning: The argument 'infer_datetime_format' is deprecated and will be removed in a future version. A strict version of it is now the default, see https://pandas.pydata.org/pdeps/0004-consistent-to-datetime-parsing.html. You can safely remove this argument.\n",
      "  times = pd.to_datetime(\n",
      "  3%|▎         | 10/336 [00:07<03:26,  1.58it/s]/opt/conda/envs/claymodel-latest-v2/lib/python3.11/site-packages/pystac_client/item_search.py:836: FutureWarning: get_items() is deprecated, use items() instead\n",
      "  warnings.warn(\n",
      "/opt/conda/envs/claymodel-latest-v2/lib/python3.11/site-packages/stackstac/prepare.py:408: UserWarning: The argument 'infer_datetime_format' is deprecated and will be removed in a future version. A strict version of it is now the default, see https://pandas.pydata.org/pdeps/0004-consistent-to-datetime-parsing.html. You can safely remove this argument.\n",
      "  times = pd.to_datetime(\n",
      "  3%|▎         | 11/336 [00:07<03:25,  1.58it/s]/opt/conda/envs/claymodel-latest-v2/lib/python3.11/site-packages/pystac_client/item_search.py:836: FutureWarning: get_items() is deprecated, use items() instead\n",
      "  warnings.warn(\n",
      "/opt/conda/envs/claymodel-latest-v2/lib/python3.11/site-packages/stackstac/prepare.py:408: UserWarning: The argument 'infer_datetime_format' is deprecated and will be removed in a future version. A strict version of it is now the default, see https://pandas.pydata.org/pdeps/0004-consistent-to-datetime-parsing.html. You can safely remove this argument.\n",
      "  times = pd.to_datetime(\n",
      "  4%|▎         | 12/336 [00:09<04:32,  1.19it/s]/opt/conda/envs/claymodel-latest-v2/lib/python3.11/site-packages/pystac_client/item_search.py:836: FutureWarning: get_items() is deprecated, use items() instead\n",
      "  warnings.warn(\n",
      "/opt/conda/envs/claymodel-latest-v2/lib/python3.11/site-packages/stackstac/prepare.py:408: UserWarning: The argument 'infer_datetime_format' is deprecated and will be removed in a future version. A strict version of it is now the default, see https://pandas.pydata.org/pdeps/0004-consistent-to-datetime-parsing.html. You can safely remove this argument.\n",
      "  times = pd.to_datetime(\n",
      "  4%|▍         | 13/336 [00:09<04:11,  1.28it/s]/opt/conda/envs/claymodel-latest-v2/lib/python3.11/site-packages/pystac_client/item_search.py:836: FutureWarning: get_items() is deprecated, use items() instead\n",
      "  warnings.warn(\n",
      "/opt/conda/envs/claymodel-latest-v2/lib/python3.11/site-packages/stackstac/prepare.py:408: UserWarning: The argument 'infer_datetime_format' is deprecated and will be removed in a future version. A strict version of it is now the default, see https://pandas.pydata.org/pdeps/0004-consistent-to-datetime-parsing.html. You can safely remove this argument.\n",
      "  times = pd.to_datetime(\n",
      "  4%|▍         | 14/336 [00:10<03:18,  1.62it/s]/opt/conda/envs/claymodel-latest-v2/lib/python3.11/site-packages/pystac_client/item_search.py:836: FutureWarning: get_items() is deprecated, use items() instead\n",
      "  warnings.warn(\n",
      "/opt/conda/envs/claymodel-latest-v2/lib/python3.11/site-packages/stackstac/prepare.py:408: UserWarning: The argument 'infer_datetime_format' is deprecated and will be removed in a future version. A strict version of it is now the default, see https://pandas.pydata.org/pdeps/0004-consistent-to-datetime-parsing.html. You can safely remove this argument.\n",
      "  times = pd.to_datetime(\n",
      "  4%|▍         | 15/336 [00:10<03:18,  1.61it/s]/opt/conda/envs/claymodel-latest-v2/lib/python3.11/site-packages/pystac_client/item_search.py:836: FutureWarning: get_items() is deprecated, use items() instead\n",
      "  warnings.warn(\n",
      "/opt/conda/envs/claymodel-latest-v2/lib/python3.11/site-packages/stackstac/prepare.py:408: UserWarning: The argument 'infer_datetime_format' is deprecated and will be removed in a future version. A strict version of it is now the default, see https://pandas.pydata.org/pdeps/0004-consistent-to-datetime-parsing.html. You can safely remove this argument.\n",
      "  times = pd.to_datetime(\n",
      "  5%|▍         | 16/336 [00:11<03:35,  1.48it/s]/opt/conda/envs/claymodel-latest-v2/lib/python3.11/site-packages/pystac_client/item_search.py:836: FutureWarning: get_items() is deprecated, use items() instead\n",
      "  warnings.warn(\n",
      "/opt/conda/envs/claymodel-latest-v2/lib/python3.11/site-packages/stackstac/prepare.py:408: UserWarning: The argument 'infer_datetime_format' is deprecated and will be removed in a future version. A strict version of it is now the default, see https://pandas.pydata.org/pdeps/0004-consistent-to-datetime-parsing.html. You can safely remove this argument.\n",
      "  times = pd.to_datetime(\n",
      "  5%|▌         | 17/336 [00:12<03:32,  1.50it/s]/opt/conda/envs/claymodel-latest-v2/lib/python3.11/site-packages/pystac_client/item_search.py:836: FutureWarning: get_items() is deprecated, use items() instead\n",
      "  warnings.warn(\n",
      "/opt/conda/envs/claymodel-latest-v2/lib/python3.11/site-packages/stackstac/prepare.py:408: UserWarning: The argument 'infer_datetime_format' is deprecated and will be removed in a future version. A strict version of it is now the default, see https://pandas.pydata.org/pdeps/0004-consistent-to-datetime-parsing.html. You can safely remove this argument.\n",
      "  times = pd.to_datetime(\n",
      "  5%|▌         | 18/336 [00:12<03:30,  1.51it/s]/opt/conda/envs/claymodel-latest-v2/lib/python3.11/site-packages/pystac_client/item_search.py:836: FutureWarning: get_items() is deprecated, use items() instead\n",
      "  warnings.warn(\n",
      "/opt/conda/envs/claymodel-latest-v2/lib/python3.11/site-packages/stackstac/prepare.py:408: UserWarning: The argument 'infer_datetime_format' is deprecated and will be removed in a future version. A strict version of it is now the default, see https://pandas.pydata.org/pdeps/0004-consistent-to-datetime-parsing.html. You can safely remove this argument.\n",
      "  times = pd.to_datetime(\n",
      "  6%|▌         | 19/336 [00:13<02:46,  1.91it/s]/opt/conda/envs/claymodel-latest-v2/lib/python3.11/site-packages/pystac_client/item_search.py:836: FutureWarning: get_items() is deprecated, use items() instead\n",
      "  warnings.warn(\n",
      "/opt/conda/envs/claymodel-latest-v2/lib/python3.11/site-packages/stackstac/prepare.py:408: UserWarning: The argument 'infer_datetime_format' is deprecated and will be removed in a future version. A strict version of it is now the default, see https://pandas.pydata.org/pdeps/0004-consistent-to-datetime-parsing.html. You can safely remove this argument.\n",
      "  times = pd.to_datetime(\n",
      "  6%|▌         | 20/336 [00:13<02:24,  2.18it/s]/opt/conda/envs/claymodel-latest-v2/lib/python3.11/site-packages/pystac_client/item_search.py:836: FutureWarning: get_items() is deprecated, use items() instead\n",
      "  warnings.warn(\n",
      "/opt/conda/envs/claymodel-latest-v2/lib/python3.11/site-packages/stackstac/prepare.py:408: UserWarning: The argument 'infer_datetime_format' is deprecated and will be removed in a future version. A strict version of it is now the default, see https://pandas.pydata.org/pdeps/0004-consistent-to-datetime-parsing.html. You can safely remove this argument.\n",
      "  times = pd.to_datetime(\n",
      "  6%|▋         | 21/336 [00:13<02:14,  2.33it/s]/opt/conda/envs/claymodel-latest-v2/lib/python3.11/site-packages/pystac_client/item_search.py:836: FutureWarning: get_items() is deprecated, use items() instead\n",
      "  warnings.warn(\n",
      "/opt/conda/envs/claymodel-latest-v2/lib/python3.11/site-packages/stackstac/prepare.py:408: UserWarning: The argument 'infer_datetime_format' is deprecated and will be removed in a future version. A strict version of it is now the default, see https://pandas.pydata.org/pdeps/0004-consistent-to-datetime-parsing.html. You can safely remove this argument.\n",
      "  times = pd.to_datetime(\n",
      "  7%|▋         | 22/336 [00:14<02:14,  2.33it/s]/opt/conda/envs/claymodel-latest-v2/lib/python3.11/site-packages/pystac_client/item_search.py:836: FutureWarning: get_items() is deprecated, use items() instead\n",
      "  warnings.warn(\n",
      "/opt/conda/envs/claymodel-latest-v2/lib/python3.11/site-packages/stackstac/prepare.py:408: UserWarning: The argument 'infer_datetime_format' is deprecated and will be removed in a future version. A strict version of it is now the default, see https://pandas.pydata.org/pdeps/0004-consistent-to-datetime-parsing.html. You can safely remove this argument.\n",
      "  times = pd.to_datetime(\n",
      "  7%|▋         | 23/336 [00:14<02:27,  2.12it/s]/opt/conda/envs/claymodel-latest-v2/lib/python3.11/site-packages/pystac_client/item_search.py:836: FutureWarning: get_items() is deprecated, use items() instead\n",
      "  warnings.warn(\n",
      "/opt/conda/envs/claymodel-latest-v2/lib/python3.11/site-packages/stackstac/prepare.py:408: UserWarning: The argument 'infer_datetime_format' is deprecated and will be removed in a future version. A strict version of it is now the default, see https://pandas.pydata.org/pdeps/0004-consistent-to-datetime-parsing.html. You can safely remove this argument.\n",
      "  times = pd.to_datetime(\n",
      "  7%|▋         | 24/336 [00:14<02:00,  2.59it/s]/opt/conda/envs/claymodel-latest-v2/lib/python3.11/site-packages/pystac_client/item_search.py:836: FutureWarning: get_items() is deprecated, use items() instead\n",
      "  warnings.warn(\n",
      "/opt/conda/envs/claymodel-latest-v2/lib/python3.11/site-packages/stackstac/prepare.py:408: UserWarning: The argument 'infer_datetime_format' is deprecated and will be removed in a future version. A strict version of it is now the default, see https://pandas.pydata.org/pdeps/0004-consistent-to-datetime-parsing.html. You can safely remove this argument.\n",
      "  times = pd.to_datetime(\n",
      "  7%|▋         | 25/336 [00:15<01:52,  2.78it/s]/opt/conda/envs/claymodel-latest-v2/lib/python3.11/site-packages/pystac_client/item_search.py:836: FutureWarning: get_items() is deprecated, use items() instead\n",
      "  warnings.warn(\n",
      "/opt/conda/envs/claymodel-latest-v2/lib/python3.11/site-packages/stackstac/prepare.py:408: UserWarning: The argument 'infer_datetime_format' is deprecated and will be removed in a future version. A strict version of it is now the default, see https://pandas.pydata.org/pdeps/0004-consistent-to-datetime-parsing.html. You can safely remove this argument.\n",
      "  times = pd.to_datetime(\n",
      "  8%|▊         | 26/336 [00:15<01:35,  3.24it/s]/opt/conda/envs/claymodel-latest-v2/lib/python3.11/site-packages/pystac_client/item_search.py:836: FutureWarning: get_items() is deprecated, use items() instead\n",
      "  warnings.warn(\n",
      "/opt/conda/envs/claymodel-latest-v2/lib/python3.11/site-packages/stackstac/prepare.py:408: UserWarning: The argument 'infer_datetime_format' is deprecated and will be removed in a future version. A strict version of it is now the default, see https://pandas.pydata.org/pdeps/0004-consistent-to-datetime-parsing.html. You can safely remove this argument.\n",
      "  times = pd.to_datetime(\n",
      "  8%|▊         | 27/336 [00:15<01:24,  3.67it/s]/opt/conda/envs/claymodel-latest-v2/lib/python3.11/site-packages/pystac_client/item_search.py:836: FutureWarning: get_items() is deprecated, use items() instead\n",
      "  warnings.warn(\n",
      "/opt/conda/envs/claymodel-latest-v2/lib/python3.11/site-packages/stackstac/prepare.py:408: UserWarning: The argument 'infer_datetime_format' is deprecated and will be removed in a future version. A strict version of it is now the default, see https://pandas.pydata.org/pdeps/0004-consistent-to-datetime-parsing.html. You can safely remove this argument.\n",
      "  times = pd.to_datetime(\n",
      "  8%|▊         | 28/336 [00:16<01:49,  2.82it/s]/opt/conda/envs/claymodel-latest-v2/lib/python3.11/site-packages/pystac_client/item_search.py:836: FutureWarning: get_items() is deprecated, use items() instead\n",
      "  warnings.warn(\n",
      "/opt/conda/envs/claymodel-latest-v2/lib/python3.11/site-packages/stackstac/prepare.py:408: UserWarning: The argument 'infer_datetime_format' is deprecated and will be removed in a future version. A strict version of it is now the default, see https://pandas.pydata.org/pdeps/0004-consistent-to-datetime-parsing.html. You can safely remove this argument.\n",
      "  times = pd.to_datetime(\n",
      "  9%|▊         | 29/336 [00:16<01:43,  2.98it/s]/opt/conda/envs/claymodel-latest-v2/lib/python3.11/site-packages/pystac_client/item_search.py:836: FutureWarning: get_items() is deprecated, use items() instead\n",
      "  warnings.warn(\n",
      "/opt/conda/envs/claymodel-latest-v2/lib/python3.11/site-packages/stackstac/prepare.py:408: UserWarning: The argument 'infer_datetime_format' is deprecated and will be removed in a future version. A strict version of it is now the default, see https://pandas.pydata.org/pdeps/0004-consistent-to-datetime-parsing.html. You can safely remove this argument.\n",
      "  times = pd.to_datetime(\n",
      "  9%|▉         | 30/336 [00:16<02:03,  2.47it/s]/opt/conda/envs/claymodel-latest-v2/lib/python3.11/site-packages/pystac_client/item_search.py:836: FutureWarning: get_items() is deprecated, use items() instead\n",
      "  warnings.warn(\n",
      "/opt/conda/envs/claymodel-latest-v2/lib/python3.11/site-packages/stackstac/prepare.py:408: UserWarning: The argument 'infer_datetime_format' is deprecated and will be removed in a future version. A strict version of it is now the default, see https://pandas.pydata.org/pdeps/0004-consistent-to-datetime-parsing.html. You can safely remove this argument.\n",
      "  times = pd.to_datetime(\n",
      "  9%|▉         | 31/336 [00:17<02:24,  2.11it/s]/opt/conda/envs/claymodel-latest-v2/lib/python3.11/site-packages/pystac_client/item_search.py:836: FutureWarning: get_items() is deprecated, use items() instead\n",
      "  warnings.warn(\n",
      "/opt/conda/envs/claymodel-latest-v2/lib/python3.11/site-packages/stackstac/prepare.py:408: UserWarning: The argument 'infer_datetime_format' is deprecated and will be removed in a future version. A strict version of it is now the default, see https://pandas.pydata.org/pdeps/0004-consistent-to-datetime-parsing.html. You can safely remove this argument.\n",
      "  times = pd.to_datetime(\n",
      " 10%|▉         | 32/336 [00:18<02:33,  1.98it/s]/opt/conda/envs/claymodel-latest-v2/lib/python3.11/site-packages/pystac_client/item_search.py:836: FutureWarning: get_items() is deprecated, use items() instead\n",
      "  warnings.warn(\n",
      "/opt/conda/envs/claymodel-latest-v2/lib/python3.11/site-packages/stackstac/prepare.py:408: UserWarning: The argument 'infer_datetime_format' is deprecated and will be removed in a future version. A strict version of it is now the default, see https://pandas.pydata.org/pdeps/0004-consistent-to-datetime-parsing.html. You can safely remove this argument.\n",
      "  times = pd.to_datetime(\n",
      " 10%|▉         | 33/336 [00:19<03:04,  1.64it/s]/opt/conda/envs/claymodel-latest-v2/lib/python3.11/site-packages/pystac_client/item_search.py:836: FutureWarning: get_items() is deprecated, use items() instead\n",
      "  warnings.warn(\n",
      "/opt/conda/envs/claymodel-latest-v2/lib/python3.11/site-packages/stackstac/prepare.py:408: UserWarning: The argument 'infer_datetime_format' is deprecated and will be removed in a future version. A strict version of it is now the default, see https://pandas.pydata.org/pdeps/0004-consistent-to-datetime-parsing.html. You can safely remove this argument.\n",
      "  times = pd.to_datetime(\n",
      " 10%|█         | 34/336 [00:19<03:17,  1.53it/s]/opt/conda/envs/claymodel-latest-v2/lib/python3.11/site-packages/pystac_client/item_search.py:836: FutureWarning: get_items() is deprecated, use items() instead\n",
      "  warnings.warn(\n",
      "/opt/conda/envs/claymodel-latest-v2/lib/python3.11/site-packages/stackstac/prepare.py:408: UserWarning: The argument 'infer_datetime_format' is deprecated and will be removed in a future version. A strict version of it is now the default, see https://pandas.pydata.org/pdeps/0004-consistent-to-datetime-parsing.html. You can safely remove this argument.\n",
      "  times = pd.to_datetime(\n",
      " 10%|█         | 35/336 [00:20<02:41,  1.87it/s]/opt/conda/envs/claymodel-latest-v2/lib/python3.11/site-packages/pystac_client/item_search.py:836: FutureWarning: get_items() is deprecated, use items() instead\n",
      "  warnings.warn(\n",
      "/opt/conda/envs/claymodel-latest-v2/lib/python3.11/site-packages/stackstac/prepare.py:408: UserWarning: The argument 'infer_datetime_format' is deprecated and will be removed in a future version. A strict version of it is now the default, see https://pandas.pydata.org/pdeps/0004-consistent-to-datetime-parsing.html. You can safely remove this argument.\n",
      "  times = pd.to_datetime(\n",
      " 11%|█         | 36/336 [00:20<02:09,  2.32it/s]/opt/conda/envs/claymodel-latest-v2/lib/python3.11/site-packages/pystac_client/item_search.py:836: FutureWarning: get_items() is deprecated, use items() instead\n",
      "  warnings.warn(\n",
      "/opt/conda/envs/claymodel-latest-v2/lib/python3.11/site-packages/stackstac/prepare.py:408: UserWarning: The argument 'infer_datetime_format' is deprecated and will be removed in a future version. A strict version of it is now the default, see https://pandas.pydata.org/pdeps/0004-consistent-to-datetime-parsing.html. You can safely remove this argument.\n",
      "  times = pd.to_datetime(\n",
      " 11%|█         | 37/336 [00:20<01:57,  2.53it/s]/opt/conda/envs/claymodel-latest-v2/lib/python3.11/site-packages/pystac_client/item_search.py:836: FutureWarning: get_items() is deprecated, use items() instead\n",
      "  warnings.warn(\n",
      "/opt/conda/envs/claymodel-latest-v2/lib/python3.11/site-packages/stackstac/prepare.py:408: UserWarning: The argument 'infer_datetime_format' is deprecated and will be removed in a future version. A strict version of it is now the default, see https://pandas.pydata.org/pdeps/0004-consistent-to-datetime-parsing.html. You can safely remove this argument.\n",
      "  times = pd.to_datetime(\n",
      " 11%|█▏        | 38/336 [00:20<01:39,  3.01it/s]/opt/conda/envs/claymodel-latest-v2/lib/python3.11/site-packages/pystac_client/item_search.py:836: FutureWarning: get_items() is deprecated, use items() instead\n",
      "  warnings.warn(\n",
      "/opt/conda/envs/claymodel-latest-v2/lib/python3.11/site-packages/stackstac/prepare.py:408: UserWarning: The argument 'infer_datetime_format' is deprecated and will be removed in a future version. A strict version of it is now the default, see https://pandas.pydata.org/pdeps/0004-consistent-to-datetime-parsing.html. You can safely remove this argument.\n",
      "  times = pd.to_datetime(\n",
      " 12%|█▏        | 39/336 [00:21<02:08,  2.31it/s]/opt/conda/envs/claymodel-latest-v2/lib/python3.11/site-packages/pystac_client/item_search.py:836: FutureWarning: get_items() is deprecated, use items() instead\n",
      "  warnings.warn(\n",
      "/opt/conda/envs/claymodel-latest-v2/lib/python3.11/site-packages/stackstac/prepare.py:408: UserWarning: The argument 'infer_datetime_format' is deprecated and will be removed in a future version. A strict version of it is now the default, see https://pandas.pydata.org/pdeps/0004-consistent-to-datetime-parsing.html. You can safely remove this argument.\n",
      "  times = pd.to_datetime(\n",
      " 12%|█▏        | 40/336 [00:21<01:50,  2.67it/s]/opt/conda/envs/claymodel-latest-v2/lib/python3.11/site-packages/pystac_client/item_search.py:836: FutureWarning: get_items() is deprecated, use items() instead\n",
      "  warnings.warn(\n",
      "/opt/conda/envs/claymodel-latest-v2/lib/python3.11/site-packages/stackstac/prepare.py:408: UserWarning: The argument 'infer_datetime_format' is deprecated and will be removed in a future version. A strict version of it is now the default, see https://pandas.pydata.org/pdeps/0004-consistent-to-datetime-parsing.html. You can safely remove this argument.\n",
      "  times = pd.to_datetime(\n",
      " 12%|█▏        | 41/336 [00:21<01:43,  2.84it/s]/opt/conda/envs/claymodel-latest-v2/lib/python3.11/site-packages/pystac_client/item_search.py:836: FutureWarning: get_items() is deprecated, use items() instead\n",
      "  warnings.warn(\n",
      "/opt/conda/envs/claymodel-latest-v2/lib/python3.11/site-packages/stackstac/prepare.py:408: UserWarning: The argument 'infer_datetime_format' is deprecated and will be removed in a future version. A strict version of it is now the default, see https://pandas.pydata.org/pdeps/0004-consistent-to-datetime-parsing.html. You can safely remove this argument.\n",
      "  times = pd.to_datetime(\n",
      " 12%|█▎        | 42/336 [00:22<01:28,  3.32it/s]/opt/conda/envs/claymodel-latest-v2/lib/python3.11/site-packages/pystac_client/item_search.py:836: FutureWarning: get_items() is deprecated, use items() instead\n",
      "  warnings.warn(\n",
      "/opt/conda/envs/claymodel-latest-v2/lib/python3.11/site-packages/stackstac/prepare.py:408: UserWarning: The argument 'infer_datetime_format' is deprecated and will be removed in a future version. A strict version of it is now the default, see https://pandas.pydata.org/pdeps/0004-consistent-to-datetime-parsing.html. You can safely remove this argument.\n",
      "  times = pd.to_datetime(\n",
      " 13%|█▎        | 43/336 [00:22<01:34,  3.11it/s]/opt/conda/envs/claymodel-latest-v2/lib/python3.11/site-packages/pystac_client/item_search.py:836: FutureWarning: get_items() is deprecated, use items() instead\n",
      "  warnings.warn(\n",
      "/opt/conda/envs/claymodel-latest-v2/lib/python3.11/site-packages/stackstac/prepare.py:408: UserWarning: The argument 'infer_datetime_format' is deprecated and will be removed in a future version. A strict version of it is now the default, see https://pandas.pydata.org/pdeps/0004-consistent-to-datetime-parsing.html. You can safely remove this argument.\n",
      "  times = pd.to_datetime(\n",
      " 13%|█▎        | 44/336 [00:22<01:21,  3.57it/s]/opt/conda/envs/claymodel-latest-v2/lib/python3.11/site-packages/pystac_client/item_search.py:836: FutureWarning: get_items() is deprecated, use items() instead\n",
      "  warnings.warn(\n",
      "/opt/conda/envs/claymodel-latest-v2/lib/python3.11/site-packages/stackstac/prepare.py:408: UserWarning: The argument 'infer_datetime_format' is deprecated and will be removed in a future version. A strict version of it is now the default, see https://pandas.pydata.org/pdeps/0004-consistent-to-datetime-parsing.html. You can safely remove this argument.\n",
      "  times = pd.to_datetime(\n",
      " 13%|█▎        | 45/336 [00:22<01:13,  3.93it/s]/opt/conda/envs/claymodel-latest-v2/lib/python3.11/site-packages/pystac_client/item_search.py:836: FutureWarning: get_items() is deprecated, use items() instead\n",
      "  warnings.warn(\n",
      "/opt/conda/envs/claymodel-latest-v2/lib/python3.11/site-packages/stackstac/prepare.py:408: UserWarning: The argument 'infer_datetime_format' is deprecated and will be removed in a future version. A strict version of it is now the default, see https://pandas.pydata.org/pdeps/0004-consistent-to-datetime-parsing.html. You can safely remove this argument.\n",
      "  times = pd.to_datetime(\n",
      " 14%|█▎        | 46/336 [00:23<01:17,  3.75it/s]/opt/conda/envs/claymodel-latest-v2/lib/python3.11/site-packages/pystac_client/item_search.py:836: FutureWarning: get_items() is deprecated, use items() instead\n",
      "  warnings.warn(\n",
      "/opt/conda/envs/claymodel-latest-v2/lib/python3.11/site-packages/stackstac/prepare.py:408: UserWarning: The argument 'infer_datetime_format' is deprecated and will be removed in a future version. A strict version of it is now the default, see https://pandas.pydata.org/pdeps/0004-consistent-to-datetime-parsing.html. You can safely remove this argument.\n",
      "  times = pd.to_datetime(\n",
      " 14%|█▍        | 47/336 [00:23<01:10,  4.12it/s]/opt/conda/envs/claymodel-latest-v2/lib/python3.11/site-packages/pystac_client/item_search.py:836: FutureWarning: get_items() is deprecated, use items() instead\n",
      "  warnings.warn(\n",
      "/opt/conda/envs/claymodel-latest-v2/lib/python3.11/site-packages/stackstac/prepare.py:408: UserWarning: The argument 'infer_datetime_format' is deprecated and will be removed in a future version. A strict version of it is now the default, see https://pandas.pydata.org/pdeps/0004-consistent-to-datetime-parsing.html. You can safely remove this argument.\n",
      "  times = pd.to_datetime(\n",
      " 14%|█▍        | 48/336 [00:23<01:05,  4.37it/s]/opt/conda/envs/claymodel-latest-v2/lib/python3.11/site-packages/pystac_client/item_search.py:836: FutureWarning: get_items() is deprecated, use items() instead\n",
      "  warnings.warn(\n",
      "/opt/conda/envs/claymodel-latest-v2/lib/python3.11/site-packages/stackstac/prepare.py:408: UserWarning: The argument 'infer_datetime_format' is deprecated and will be removed in a future version. A strict version of it is now the default, see https://pandas.pydata.org/pdeps/0004-consistent-to-datetime-parsing.html. You can safely remove this argument.\n",
      "  times = pd.to_datetime(\n",
      " 15%|█▍        | 49/336 [00:23<01:07,  4.22it/s]/opt/conda/envs/claymodel-latest-v2/lib/python3.11/site-packages/pystac_client/item_search.py:836: FutureWarning: get_items() is deprecated, use items() instead\n",
      "  warnings.warn(\n",
      "/opt/conda/envs/claymodel-latest-v2/lib/python3.11/site-packages/stackstac/prepare.py:408: UserWarning: The argument 'infer_datetime_format' is deprecated and will be removed in a future version. A strict version of it is now the default, see https://pandas.pydata.org/pdeps/0004-consistent-to-datetime-parsing.html. You can safely remove this argument.\n",
      "  times = pd.to_datetime(\n",
      " 15%|█▍        | 50/336 [00:24<01:12,  3.96it/s]/opt/conda/envs/claymodel-latest-v2/lib/python3.11/site-packages/pystac_client/item_search.py:836: FutureWarning: get_items() is deprecated, use items() instead\n",
      "  warnings.warn(\n",
      "/opt/conda/envs/claymodel-latest-v2/lib/python3.11/site-packages/stackstac/prepare.py:408: UserWarning: The argument 'infer_datetime_format' is deprecated and will be removed in a future version. A strict version of it is now the default, see https://pandas.pydata.org/pdeps/0004-consistent-to-datetime-parsing.html. You can safely remove this argument.\n",
      "  times = pd.to_datetime(\n",
      " 15%|█▌        | 51/336 [00:24<01:06,  4.28it/s]/opt/conda/envs/claymodel-latest-v2/lib/python3.11/site-packages/pystac_client/item_search.py:836: FutureWarning: get_items() is deprecated, use items() instead\n",
      "  warnings.warn(\n",
      "/opt/conda/envs/claymodel-latest-v2/lib/python3.11/site-packages/stackstac/prepare.py:408: UserWarning: The argument 'infer_datetime_format' is deprecated and will be removed in a future version. A strict version of it is now the default, see https://pandas.pydata.org/pdeps/0004-consistent-to-datetime-parsing.html. You can safely remove this argument.\n",
      "  times = pd.to_datetime(\n",
      " 15%|█▌        | 52/336 [00:24<01:05,  4.33it/s]/opt/conda/envs/claymodel-latest-v2/lib/python3.11/site-packages/pystac_client/item_search.py:836: FutureWarning: get_items() is deprecated, use items() instead\n",
      "  warnings.warn(\n",
      "/opt/conda/envs/claymodel-latest-v2/lib/python3.11/site-packages/stackstac/prepare.py:408: UserWarning: The argument 'infer_datetime_format' is deprecated and will be removed in a future version. A strict version of it is now the default, see https://pandas.pydata.org/pdeps/0004-consistent-to-datetime-parsing.html. You can safely remove this argument.\n",
      "  times = pd.to_datetime(\n",
      " 16%|█▌        | 53/336 [00:24<01:01,  4.58it/s]/opt/conda/envs/claymodel-latest-v2/lib/python3.11/site-packages/pystac_client/item_search.py:836: FutureWarning: get_items() is deprecated, use items() instead\n",
      "  warnings.warn(\n",
      "/opt/conda/envs/claymodel-latest-v2/lib/python3.11/site-packages/stackstac/prepare.py:408: UserWarning: The argument 'infer_datetime_format' is deprecated and will be removed in a future version. A strict version of it is now the default, see https://pandas.pydata.org/pdeps/0004-consistent-to-datetime-parsing.html. You can safely remove this argument.\n",
      "  times = pd.to_datetime(\n",
      " 16%|█▌        | 54/336 [00:25<01:10,  3.97it/s]/opt/conda/envs/claymodel-latest-v2/lib/python3.11/site-packages/pystac_client/item_search.py:836: FutureWarning: get_items() is deprecated, use items() instead\n",
      "  warnings.warn(\n",
      "/opt/conda/envs/claymodel-latest-v2/lib/python3.11/site-packages/stackstac/prepare.py:408: UserWarning: The argument 'infer_datetime_format' is deprecated and will be removed in a future version. A strict version of it is now the default, see https://pandas.pydata.org/pdeps/0004-consistent-to-datetime-parsing.html. You can safely remove this argument.\n",
      "  times = pd.to_datetime(\n",
      " 16%|█▋        | 55/336 [00:25<01:24,  3.33it/s]/opt/conda/envs/claymodel-latest-v2/lib/python3.11/site-packages/pystac_client/item_search.py:836: FutureWarning: get_items() is deprecated, use items() instead\n",
      "  warnings.warn(\n",
      "/opt/conda/envs/claymodel-latest-v2/lib/python3.11/site-packages/stackstac/prepare.py:408: UserWarning: The argument 'infer_datetime_format' is deprecated and will be removed in a future version. A strict version of it is now the default, see https://pandas.pydata.org/pdeps/0004-consistent-to-datetime-parsing.html. You can safely remove this argument.\n",
      "  times = pd.to_datetime(\n",
      " 17%|█▋        | 56/336 [00:25<01:14,  3.73it/s]/opt/conda/envs/claymodel-latest-v2/lib/python3.11/site-packages/pystac_client/item_search.py:836: FutureWarning: get_items() is deprecated, use items() instead\n",
      "  warnings.warn(\n",
      "/opt/conda/envs/claymodel-latest-v2/lib/python3.11/site-packages/stackstac/prepare.py:408: UserWarning: The argument 'infer_datetime_format' is deprecated and will be removed in a future version. A strict version of it is now the default, see https://pandas.pydata.org/pdeps/0004-consistent-to-datetime-parsing.html. You can safely remove this argument.\n",
      "  times = pd.to_datetime(\n",
      " 17%|█▋        | 57/336 [00:25<01:07,  4.11it/s]/opt/conda/envs/claymodel-latest-v2/lib/python3.11/site-packages/pystac_client/item_search.py:836: FutureWarning: get_items() is deprecated, use items() instead\n",
      "  warnings.warn(\n",
      "/opt/conda/envs/claymodel-latest-v2/lib/python3.11/site-packages/stackstac/prepare.py:408: UserWarning: The argument 'infer_datetime_format' is deprecated and will be removed in a future version. A strict version of it is now the default, see https://pandas.pydata.org/pdeps/0004-consistent-to-datetime-parsing.html. You can safely remove this argument.\n",
      "  times = pd.to_datetime(\n",
      " 17%|█▋        | 58/336 [00:26<01:11,  3.90it/s]/opt/conda/envs/claymodel-latest-v2/lib/python3.11/site-packages/pystac_client/item_search.py:836: FutureWarning: get_items() is deprecated, use items() instead\n",
      "  warnings.warn(\n",
      "/opt/conda/envs/claymodel-latest-v2/lib/python3.11/site-packages/stackstac/prepare.py:408: UserWarning: The argument 'infer_datetime_format' is deprecated and will be removed in a future version. A strict version of it is now the default, see https://pandas.pydata.org/pdeps/0004-consistent-to-datetime-parsing.html. You can safely remove this argument.\n",
      "  times = pd.to_datetime(\n",
      " 18%|█▊        | 59/336 [00:26<01:06,  4.17it/s]/opt/conda/envs/claymodel-latest-v2/lib/python3.11/site-packages/pystac_client/item_search.py:836: FutureWarning: get_items() is deprecated, use items() instead\n",
      "  warnings.warn(\n",
      "/opt/conda/envs/claymodel-latest-v2/lib/python3.11/site-packages/stackstac/prepare.py:408: UserWarning: The argument 'infer_datetime_format' is deprecated and will be removed in a future version. A strict version of it is now the default, see https://pandas.pydata.org/pdeps/0004-consistent-to-datetime-parsing.html. You can safely remove this argument.\n",
      "  times = pd.to_datetime(\n",
      " 18%|█▊        | 60/336 [00:26<01:34,  2.91it/s]/opt/conda/envs/claymodel-latest-v2/lib/python3.11/site-packages/pystac_client/item_search.py:836: FutureWarning: get_items() is deprecated, use items() instead\n",
      "  warnings.warn(\n",
      "/opt/conda/envs/claymodel-latest-v2/lib/python3.11/site-packages/stackstac/prepare.py:408: UserWarning: The argument 'infer_datetime_format' is deprecated and will be removed in a future version. A strict version of it is now the default, see https://pandas.pydata.org/pdeps/0004-consistent-to-datetime-parsing.html. You can safely remove this argument.\n",
      "  times = pd.to_datetime(\n",
      " 18%|█▊        | 61/336 [00:27<01:21,  3.37it/s]/opt/conda/envs/claymodel-latest-v2/lib/python3.11/site-packages/pystac_client/item_search.py:836: FutureWarning: get_items() is deprecated, use items() instead\n",
      "  warnings.warn(\n",
      "/opt/conda/envs/claymodel-latest-v2/lib/python3.11/site-packages/stackstac/prepare.py:408: UserWarning: The argument 'infer_datetime_format' is deprecated and will be removed in a future version. A strict version of it is now the default, see https://pandas.pydata.org/pdeps/0004-consistent-to-datetime-parsing.html. You can safely remove this argument.\n",
      "  times = pd.to_datetime(\n",
      " 18%|█▊        | 62/336 [00:27<01:31,  3.00it/s]/opt/conda/envs/claymodel-latest-v2/lib/python3.11/site-packages/pystac_client/item_search.py:836: FutureWarning: get_items() is deprecated, use items() instead\n",
      "  warnings.warn(\n",
      "/opt/conda/envs/claymodel-latest-v2/lib/python3.11/site-packages/stackstac/prepare.py:408: UserWarning: The argument 'infer_datetime_format' is deprecated and will be removed in a future version. A strict version of it is now the default, see https://pandas.pydata.org/pdeps/0004-consistent-to-datetime-parsing.html. You can safely remove this argument.\n",
      "  times = pd.to_datetime(\n",
      " 19%|█▉        | 63/336 [00:27<01:23,  3.25it/s]/opt/conda/envs/claymodel-latest-v2/lib/python3.11/site-packages/pystac_client/item_search.py:836: FutureWarning: get_items() is deprecated, use items() instead\n",
      "  warnings.warn(\n",
      "/opt/conda/envs/claymodel-latest-v2/lib/python3.11/site-packages/stackstac/prepare.py:408: UserWarning: The argument 'infer_datetime_format' is deprecated and will be removed in a future version. A strict version of it is now the default, see https://pandas.pydata.org/pdeps/0004-consistent-to-datetime-parsing.html. You can safely remove this argument.\n",
      "  times = pd.to_datetime(\n",
      " 19%|█▉        | 64/336 [00:28<02:12,  2.06it/s]/opt/conda/envs/claymodel-latest-v2/lib/python3.11/site-packages/pystac_client/item_search.py:836: FutureWarning: get_items() is deprecated, use items() instead\n",
      "  warnings.warn(\n",
      "/opt/conda/envs/claymodel-latest-v2/lib/python3.11/site-packages/stackstac/prepare.py:408: UserWarning: The argument 'infer_datetime_format' is deprecated and will be removed in a future version. A strict version of it is now the default, see https://pandas.pydata.org/pdeps/0004-consistent-to-datetime-parsing.html. You can safely remove this argument.\n",
      "  times = pd.to_datetime(\n",
      " 19%|█▉        | 65/336 [00:29<02:04,  2.18it/s]/opt/conda/envs/claymodel-latest-v2/lib/python3.11/site-packages/pystac_client/item_search.py:836: FutureWarning: get_items() is deprecated, use items() instead\n",
      "  warnings.warn(\n",
      "/opt/conda/envs/claymodel-latest-v2/lib/python3.11/site-packages/stackstac/prepare.py:408: UserWarning: The argument 'infer_datetime_format' is deprecated and will be removed in a future version. A strict version of it is now the default, see https://pandas.pydata.org/pdeps/0004-consistent-to-datetime-parsing.html. You can safely remove this argument.\n",
      "  times = pd.to_datetime(\n",
      " 20%|█▉        | 66/336 [00:29<01:51,  2.42it/s]/opt/conda/envs/claymodel-latest-v2/lib/python3.11/site-packages/pystac_client/item_search.py:836: FutureWarning: get_items() is deprecated, use items() instead\n",
      "  warnings.warn(\n",
      "/opt/conda/envs/claymodel-latest-v2/lib/python3.11/site-packages/stackstac/prepare.py:408: UserWarning: The argument 'infer_datetime_format' is deprecated and will be removed in a future version. A strict version of it is now the default, see https://pandas.pydata.org/pdeps/0004-consistent-to-datetime-parsing.html. You can safely remove this argument.\n",
      "  times = pd.to_datetime(\n",
      " 20%|█▉        | 67/336 [00:29<01:48,  2.47it/s]/opt/conda/envs/claymodel-latest-v2/lib/python3.11/site-packages/pystac_client/item_search.py:836: FutureWarning: get_items() is deprecated, use items() instead\n",
      "  warnings.warn(\n",
      "/opt/conda/envs/claymodel-latest-v2/lib/python3.11/site-packages/stackstac/prepare.py:408: UserWarning: The argument 'infer_datetime_format' is deprecated and will be removed in a future version. A strict version of it is now the default, see https://pandas.pydata.org/pdeps/0004-consistent-to-datetime-parsing.html. You can safely remove this argument.\n",
      "  times = pd.to_datetime(\n",
      " 20%|██        | 68/336 [00:30<01:45,  2.55it/s]/opt/conda/envs/claymodel-latest-v2/lib/python3.11/site-packages/pystac_client/item_search.py:836: FutureWarning: get_items() is deprecated, use items() instead\n",
      "  warnings.warn(\n",
      "/opt/conda/envs/claymodel-latest-v2/lib/python3.11/site-packages/stackstac/prepare.py:408: UserWarning: The argument 'infer_datetime_format' is deprecated and will be removed in a future version. A strict version of it is now the default, see https://pandas.pydata.org/pdeps/0004-consistent-to-datetime-parsing.html. You can safely remove this argument.\n",
      "  times = pd.to_datetime(\n",
      " 21%|██        | 69/336 [00:30<01:38,  2.72it/s]/opt/conda/envs/claymodel-latest-v2/lib/python3.11/site-packages/pystac_client/item_search.py:836: FutureWarning: get_items() is deprecated, use items() instead\n",
      "  warnings.warn(\n",
      "/opt/conda/envs/claymodel-latest-v2/lib/python3.11/site-packages/stackstac/prepare.py:408: UserWarning: The argument 'infer_datetime_format' is deprecated and will be removed in a future version. A strict version of it is now the default, see https://pandas.pydata.org/pdeps/0004-consistent-to-datetime-parsing.html. You can safely remove this argument.\n",
      "  times = pd.to_datetime(\n",
      " 21%|██        | 70/336 [00:30<01:33,  2.86it/s]/opt/conda/envs/claymodel-latest-v2/lib/python3.11/site-packages/pystac_client/item_search.py:836: FutureWarning: get_items() is deprecated, use items() instead\n",
      "  warnings.warn(\n",
      "/opt/conda/envs/claymodel-latest-v2/lib/python3.11/site-packages/stackstac/prepare.py:408: UserWarning: The argument 'infer_datetime_format' is deprecated and will be removed in a future version. A strict version of it is now the default, see https://pandas.pydata.org/pdeps/0004-consistent-to-datetime-parsing.html. You can safely remove this argument.\n",
      "  times = pd.to_datetime(\n",
      " 21%|██        | 71/336 [00:31<01:38,  2.70it/s]/opt/conda/envs/claymodel-latest-v2/lib/python3.11/site-packages/pystac_client/item_search.py:836: FutureWarning: get_items() is deprecated, use items() instead\n",
      "  warnings.warn(\n",
      "/opt/conda/envs/claymodel-latest-v2/lib/python3.11/site-packages/stackstac/prepare.py:408: UserWarning: The argument 'infer_datetime_format' is deprecated and will be removed in a future version. A strict version of it is now the default, see https://pandas.pydata.org/pdeps/0004-consistent-to-datetime-parsing.html. You can safely remove this argument.\n",
      "  times = pd.to_datetime(\n",
      " 21%|██▏       | 72/336 [00:31<01:34,  2.81it/s]/opt/conda/envs/claymodel-latest-v2/lib/python3.11/site-packages/pystac_client/item_search.py:836: FutureWarning: get_items() is deprecated, use items() instead\n",
      "  warnings.warn(\n",
      "/opt/conda/envs/claymodel-latest-v2/lib/python3.11/site-packages/stackstac/prepare.py:408: UserWarning: The argument 'infer_datetime_format' is deprecated and will be removed in a future version. A strict version of it is now the default, see https://pandas.pydata.org/pdeps/0004-consistent-to-datetime-parsing.html. You can safely remove this argument.\n",
      "  times = pd.to_datetime(\n",
      " 22%|██▏       | 73/336 [00:31<01:30,  2.91it/s]/opt/conda/envs/claymodel-latest-v2/lib/python3.11/site-packages/pystac_client/item_search.py:836: FutureWarning: get_items() is deprecated, use items() instead\n",
      "  warnings.warn(\n",
      "/opt/conda/envs/claymodel-latest-v2/lib/python3.11/site-packages/stackstac/prepare.py:408: UserWarning: The argument 'infer_datetime_format' is deprecated and will be removed in a future version. A strict version of it is now the default, see https://pandas.pydata.org/pdeps/0004-consistent-to-datetime-parsing.html. You can safely remove this argument.\n",
      "  times = pd.to_datetime(\n",
      " 22%|██▏       | 74/336 [00:32<01:27,  2.98it/s]/opt/conda/envs/claymodel-latest-v2/lib/python3.11/site-packages/pystac_client/item_search.py:836: FutureWarning: get_items() is deprecated, use items() instead\n",
      "  warnings.warn(\n",
      "/opt/conda/envs/claymodel-latest-v2/lib/python3.11/site-packages/stackstac/prepare.py:408: UserWarning: The argument 'infer_datetime_format' is deprecated and will be removed in a future version. A strict version of it is now the default, see https://pandas.pydata.org/pdeps/0004-consistent-to-datetime-parsing.html. You can safely remove this argument.\n",
      "  times = pd.to_datetime(\n",
      " 22%|██▏       | 75/336 [00:32<01:33,  2.80it/s]/opt/conda/envs/claymodel-latest-v2/lib/python3.11/site-packages/pystac_client/item_search.py:836: FutureWarning: get_items() is deprecated, use items() instead\n",
      "  warnings.warn(\n",
      "/opt/conda/envs/claymodel-latest-v2/lib/python3.11/site-packages/stackstac/prepare.py:408: UserWarning: The argument 'infer_datetime_format' is deprecated and will be removed in a future version. A strict version of it is now the default, see https://pandas.pydata.org/pdeps/0004-consistent-to-datetime-parsing.html. You can safely remove this argument.\n",
      "  times = pd.to_datetime(\n",
      " 23%|██▎       | 76/336 [00:32<01:44,  2.48it/s]/opt/conda/envs/claymodel-latest-v2/lib/python3.11/site-packages/pystac_client/item_search.py:836: FutureWarning: get_items() is deprecated, use items() instead\n",
      "  warnings.warn(\n",
      "/opt/conda/envs/claymodel-latest-v2/lib/python3.11/site-packages/stackstac/prepare.py:408: UserWarning: The argument 'infer_datetime_format' is deprecated and will be removed in a future version. A strict version of it is now the default, see https://pandas.pydata.org/pdeps/0004-consistent-to-datetime-parsing.html. You can safely remove this argument.\n",
      "  times = pd.to_datetime(\n",
      " 23%|██▎       | 77/336 [00:33<02:09,  2.01it/s]/opt/conda/envs/claymodel-latest-v2/lib/python3.11/site-packages/pystac_client/item_search.py:836: FutureWarning: get_items() is deprecated, use items() instead\n",
      "  warnings.warn(\n",
      "/opt/conda/envs/claymodel-latest-v2/lib/python3.11/site-packages/stackstac/prepare.py:408: UserWarning: The argument 'infer_datetime_format' is deprecated and will be removed in a future version. A strict version of it is now the default, see https://pandas.pydata.org/pdeps/0004-consistent-to-datetime-parsing.html. You can safely remove this argument.\n",
      "  times = pd.to_datetime(\n",
      " 23%|██▎       | 78/336 [00:34<02:22,  1.81it/s]/opt/conda/envs/claymodel-latest-v2/lib/python3.11/site-packages/pystac_client/item_search.py:836: FutureWarning: get_items() is deprecated, use items() instead\n",
      "  warnings.warn(\n",
      "/opt/conda/envs/claymodel-latest-v2/lib/python3.11/site-packages/stackstac/prepare.py:408: UserWarning: The argument 'infer_datetime_format' is deprecated and will be removed in a future version. A strict version of it is now the default, see https://pandas.pydata.org/pdeps/0004-consistent-to-datetime-parsing.html. You can safely remove this argument.\n",
      "  times = pd.to_datetime(\n",
      " 24%|██▎       | 79/336 [00:34<02:11,  1.96it/s]/opt/conda/envs/claymodel-latest-v2/lib/python3.11/site-packages/pystac_client/item_search.py:836: FutureWarning: get_items() is deprecated, use items() instead\n",
      "  warnings.warn(\n",
      "/opt/conda/envs/claymodel-latest-v2/lib/python3.11/site-packages/stackstac/prepare.py:408: UserWarning: The argument 'infer_datetime_format' is deprecated and will be removed in a future version. A strict version of it is now the default, see https://pandas.pydata.org/pdeps/0004-consistent-to-datetime-parsing.html. You can safely remove this argument.\n",
      "  times = pd.to_datetime(\n",
      " 24%|██▍       | 80/336 [00:35<01:54,  2.23it/s]/opt/conda/envs/claymodel-latest-v2/lib/python3.11/site-packages/pystac_client/item_search.py:836: FutureWarning: get_items() is deprecated, use items() instead\n",
      "  warnings.warn(\n",
      "/opt/conda/envs/claymodel-latest-v2/lib/python3.11/site-packages/stackstac/prepare.py:408: UserWarning: The argument 'infer_datetime_format' is deprecated and will be removed in a future version. A strict version of it is now the default, see https://pandas.pydata.org/pdeps/0004-consistent-to-datetime-parsing.html. You can safely remove this argument.\n",
      "  times = pd.to_datetime(\n",
      " 24%|██▍       | 81/336 [00:35<01:42,  2.48it/s]/opt/conda/envs/claymodel-latest-v2/lib/python3.11/site-packages/pystac_client/item_search.py:836: FutureWarning: get_items() is deprecated, use items() instead\n",
      "  warnings.warn(\n",
      "/opt/conda/envs/claymodel-latest-v2/lib/python3.11/site-packages/stackstac/prepare.py:408: UserWarning: The argument 'infer_datetime_format' is deprecated and will be removed in a future version. A strict version of it is now the default, see https://pandas.pydata.org/pdeps/0004-consistent-to-datetime-parsing.html. You can safely remove this argument.\n",
      "  times = pd.to_datetime(\n",
      " 24%|██▍       | 82/336 [00:35<01:48,  2.35it/s]/opt/conda/envs/claymodel-latest-v2/lib/python3.11/site-packages/pystac_client/item_search.py:836: FutureWarning: get_items() is deprecated, use items() instead\n",
      "  warnings.warn(\n",
      "/opt/conda/envs/claymodel-latest-v2/lib/python3.11/site-packages/stackstac/prepare.py:408: UserWarning: The argument 'infer_datetime_format' is deprecated and will be removed in a future version. A strict version of it is now the default, see https://pandas.pydata.org/pdeps/0004-consistent-to-datetime-parsing.html. You can safely remove this argument.\n",
      "  times = pd.to_datetime(\n",
      " 25%|██▍       | 83/336 [00:36<01:44,  2.41it/s]/opt/conda/envs/claymodel-latest-v2/lib/python3.11/site-packages/pystac_client/item_search.py:836: FutureWarning: get_items() is deprecated, use items() instead\n",
      "  warnings.warn(\n",
      "/opt/conda/envs/claymodel-latest-v2/lib/python3.11/site-packages/stackstac/prepare.py:408: UserWarning: The argument 'infer_datetime_format' is deprecated and will be removed in a future version. A strict version of it is now the default, see https://pandas.pydata.org/pdeps/0004-consistent-to-datetime-parsing.html. You can safely remove this argument.\n",
      "  times = pd.to_datetime(\n",
      " 25%|██▌       | 84/336 [00:36<01:35,  2.64it/s]/opt/conda/envs/claymodel-latest-v2/lib/python3.11/site-packages/pystac_client/item_search.py:836: FutureWarning: get_items() is deprecated, use items() instead\n",
      "  warnings.warn(\n",
      "/opt/conda/envs/claymodel-latest-v2/lib/python3.11/site-packages/stackstac/prepare.py:408: UserWarning: The argument 'infer_datetime_format' is deprecated and will be removed in a future version. A strict version of it is now the default, see https://pandas.pydata.org/pdeps/0004-consistent-to-datetime-parsing.html. You can safely remove this argument.\n",
      "  times = pd.to_datetime(\n",
      " 25%|██▌       | 85/336 [00:36<01:27,  2.86it/s]/opt/conda/envs/claymodel-latest-v2/lib/python3.11/site-packages/pystac_client/item_search.py:836: FutureWarning: get_items() is deprecated, use items() instead\n",
      "  warnings.warn(\n",
      "/opt/conda/envs/claymodel-latest-v2/lib/python3.11/site-packages/stackstac/prepare.py:408: UserWarning: The argument 'infer_datetime_format' is deprecated and will be removed in a future version. A strict version of it is now the default, see https://pandas.pydata.org/pdeps/0004-consistent-to-datetime-parsing.html. You can safely remove this argument.\n",
      "  times = pd.to_datetime(\n",
      " 26%|██▌       | 86/336 [00:37<01:14,  3.35it/s]/opt/conda/envs/claymodel-latest-v2/lib/python3.11/site-packages/pystac_client/item_search.py:836: FutureWarning: get_items() is deprecated, use items() instead\n",
      "  warnings.warn(\n",
      "/opt/conda/envs/claymodel-latest-v2/lib/python3.11/site-packages/stackstac/prepare.py:408: UserWarning: The argument 'infer_datetime_format' is deprecated and will be removed in a future version. A strict version of it is now the default, see https://pandas.pydata.org/pdeps/0004-consistent-to-datetime-parsing.html. You can safely remove this argument.\n",
      "  times = pd.to_datetime(\n",
      " 26%|██▌       | 87/336 [00:37<01:05,  3.80it/s]/opt/conda/envs/claymodel-latest-v2/lib/python3.11/site-packages/pystac_client/item_search.py:836: FutureWarning: get_items() is deprecated, use items() instead\n",
      "  warnings.warn(\n",
      "/opt/conda/envs/claymodel-latest-v2/lib/python3.11/site-packages/stackstac/prepare.py:408: UserWarning: The argument 'infer_datetime_format' is deprecated and will be removed in a future version. A strict version of it is now the default, see https://pandas.pydata.org/pdeps/0004-consistent-to-datetime-parsing.html. You can safely remove this argument.\n",
      "  times = pd.to_datetime(\n",
      " 26%|██▌       | 88/336 [00:37<01:12,  3.40it/s]/opt/conda/envs/claymodel-latest-v2/lib/python3.11/site-packages/pystac_client/item_search.py:836: FutureWarning: get_items() is deprecated, use items() instead\n",
      "  warnings.warn(\n",
      "/opt/conda/envs/claymodel-latest-v2/lib/python3.11/site-packages/stackstac/prepare.py:408: UserWarning: The argument 'infer_datetime_format' is deprecated and will be removed in a future version. A strict version of it is now the default, see https://pandas.pydata.org/pdeps/0004-consistent-to-datetime-parsing.html. You can safely remove this argument.\n",
      "  times = pd.to_datetime(\n",
      " 26%|██▋       | 89/336 [00:37<01:04,  3.81it/s]/opt/conda/envs/claymodel-latest-v2/lib/python3.11/site-packages/pystac_client/item_search.py:836: FutureWarning: get_items() is deprecated, use items() instead\n",
      "  warnings.warn(\n",
      "/opt/conda/envs/claymodel-latest-v2/lib/python3.11/site-packages/stackstac/prepare.py:408: UserWarning: The argument 'infer_datetime_format' is deprecated and will be removed in a future version. A strict version of it is now the default, see https://pandas.pydata.org/pdeps/0004-consistent-to-datetime-parsing.html. You can safely remove this argument.\n",
      "  times = pd.to_datetime(\n",
      " 27%|██▋       | 90/336 [00:38<01:12,  3.38it/s]/opt/conda/envs/claymodel-latest-v2/lib/python3.11/site-packages/pystac_client/item_search.py:836: FutureWarning: get_items() is deprecated, use items() instead\n",
      "  warnings.warn(\n",
      "/opt/conda/envs/claymodel-latest-v2/lib/python3.11/site-packages/stackstac/prepare.py:408: UserWarning: The argument 'infer_datetime_format' is deprecated and will be removed in a future version. A strict version of it is now the default, see https://pandas.pydata.org/pdeps/0004-consistent-to-datetime-parsing.html. You can safely remove this argument.\n",
      "  times = pd.to_datetime(\n",
      " 27%|██▋       | 91/336 [00:38<01:04,  3.79it/s]/opt/conda/envs/claymodel-latest-v2/lib/python3.11/site-packages/pystac_client/item_search.py:836: FutureWarning: get_items() is deprecated, use items() instead\n",
      "  warnings.warn(\n",
      "/opt/conda/envs/claymodel-latest-v2/lib/python3.11/site-packages/stackstac/prepare.py:408: UserWarning: The argument 'infer_datetime_format' is deprecated and will be removed in a future version. A strict version of it is now the default, see https://pandas.pydata.org/pdeps/0004-consistent-to-datetime-parsing.html. You can safely remove this argument.\n",
      "  times = pd.to_datetime(\n",
      " 27%|██▋       | 92/336 [00:38<01:07,  3.61it/s]/opt/conda/envs/claymodel-latest-v2/lib/python3.11/site-packages/pystac_client/item_search.py:836: FutureWarning: get_items() is deprecated, use items() instead\n",
      "  warnings.warn(\n",
      "/opt/conda/envs/claymodel-latest-v2/lib/python3.11/site-packages/stackstac/prepare.py:408: UserWarning: The argument 'infer_datetime_format' is deprecated and will be removed in a future version. A strict version of it is now the default, see https://pandas.pydata.org/pdeps/0004-consistent-to-datetime-parsing.html. You can safely remove this argument.\n",
      "  times = pd.to_datetime(\n",
      " 28%|██▊       | 93/336 [00:38<01:00,  4.00it/s]/opt/conda/envs/claymodel-latest-v2/lib/python3.11/site-packages/pystac_client/item_search.py:836: FutureWarning: get_items() is deprecated, use items() instead\n",
      "  warnings.warn(\n",
      "/opt/conda/envs/claymodel-latest-v2/lib/python3.11/site-packages/stackstac/prepare.py:408: UserWarning: The argument 'infer_datetime_format' is deprecated and will be removed in a future version. A strict version of it is now the default, see https://pandas.pydata.org/pdeps/0004-consistent-to-datetime-parsing.html. You can safely remove this argument.\n",
      "  times = pd.to_datetime(\n",
      " 28%|██▊       | 94/336 [00:38<00:55,  4.32it/s]/opt/conda/envs/claymodel-latest-v2/lib/python3.11/site-packages/pystac_client/item_search.py:836: FutureWarning: get_items() is deprecated, use items() instead\n",
      "  warnings.warn(\n",
      "/opt/conda/envs/claymodel-latest-v2/lib/python3.11/site-packages/stackstac/prepare.py:408: UserWarning: The argument 'infer_datetime_format' is deprecated and will be removed in a future version. A strict version of it is now the default, see https://pandas.pydata.org/pdeps/0004-consistent-to-datetime-parsing.html. You can safely remove this argument.\n",
      "  times = pd.to_datetime(\n",
      " 28%|██▊       | 95/336 [00:39<00:52,  4.60it/s]/opt/conda/envs/claymodel-latest-v2/lib/python3.11/site-packages/pystac_client/item_search.py:836: FutureWarning: get_items() is deprecated, use items() instead\n",
      "  warnings.warn(\n",
      "/opt/conda/envs/claymodel-latest-v2/lib/python3.11/site-packages/stackstac/prepare.py:408: UserWarning: The argument 'infer_datetime_format' is deprecated and will be removed in a future version. A strict version of it is now the default, see https://pandas.pydata.org/pdeps/0004-consistent-to-datetime-parsing.html. You can safely remove this argument.\n",
      "  times = pd.to_datetime(\n",
      " 29%|██▊       | 96/336 [00:39<00:57,  4.15it/s]/opt/conda/envs/claymodel-latest-v2/lib/python3.11/site-packages/pystac_client/item_search.py:836: FutureWarning: get_items() is deprecated, use items() instead\n",
      "  warnings.warn(\n",
      "/opt/conda/envs/claymodel-latest-v2/lib/python3.11/site-packages/stackstac/prepare.py:408: UserWarning: The argument 'infer_datetime_format' is deprecated and will be removed in a future version. A strict version of it is now the default, see https://pandas.pydata.org/pdeps/0004-consistent-to-datetime-parsing.html. You can safely remove this argument.\n",
      "  times = pd.to_datetime(\n",
      " 29%|██▉       | 97/336 [00:39<01:11,  3.37it/s]/opt/conda/envs/claymodel-latest-v2/lib/python3.11/site-packages/pystac_client/item_search.py:836: FutureWarning: get_items() is deprecated, use items() instead\n",
      "  warnings.warn(\n",
      "/opt/conda/envs/claymodel-latest-v2/lib/python3.11/site-packages/stackstac/prepare.py:408: UserWarning: The argument 'infer_datetime_format' is deprecated and will be removed in a future version. A strict version of it is now the default, see https://pandas.pydata.org/pdeps/0004-consistent-to-datetime-parsing.html. You can safely remove this argument.\n",
      "  times = pd.to_datetime(\n",
      " 29%|██▉       | 98/336 [00:40<01:02,  3.81it/s]/opt/conda/envs/claymodel-latest-v2/lib/python3.11/site-packages/pystac_client/item_search.py:836: FutureWarning: get_items() is deprecated, use items() instead\n",
      "  warnings.warn(\n",
      "/opt/conda/envs/claymodel-latest-v2/lib/python3.11/site-packages/stackstac/prepare.py:408: UserWarning: The argument 'infer_datetime_format' is deprecated and will be removed in a future version. A strict version of it is now the default, see https://pandas.pydata.org/pdeps/0004-consistent-to-datetime-parsing.html. You can safely remove this argument.\n",
      "  times = pd.to_datetime(\n",
      " 29%|██▉       | 99/336 [00:40<01:25,  2.79it/s]/opt/conda/envs/claymodel-latest-v2/lib/python3.11/site-packages/pystac_client/item_search.py:836: FutureWarning: get_items() is deprecated, use items() instead\n",
      "  warnings.warn(\n",
      "/opt/conda/envs/claymodel-latest-v2/lib/python3.11/site-packages/stackstac/prepare.py:408: UserWarning: The argument 'infer_datetime_format' is deprecated and will be removed in a future version. A strict version of it is now the default, see https://pandas.pydata.org/pdeps/0004-consistent-to-datetime-parsing.html. You can safely remove this argument.\n",
      "  times = pd.to_datetime(\n",
      " 30%|██▉       | 100/336 [00:40<01:20,  2.95it/s]/opt/conda/envs/claymodel-latest-v2/lib/python3.11/site-packages/pystac_client/item_search.py:836: FutureWarning: get_items() is deprecated, use items() instead\n",
      "  warnings.warn(\n",
      "/opt/conda/envs/claymodel-latest-v2/lib/python3.11/site-packages/stackstac/prepare.py:408: UserWarning: The argument 'infer_datetime_format' is deprecated and will be removed in a future version. A strict version of it is now the default, see https://pandas.pydata.org/pdeps/0004-consistent-to-datetime-parsing.html. You can safely remove this argument.\n",
      "  times = pd.to_datetime(\n",
      " 30%|███       | 101/336 [00:41<01:09,  3.39it/s]/opt/conda/envs/claymodel-latest-v2/lib/python3.11/site-packages/pystac_client/item_search.py:836: FutureWarning: get_items() is deprecated, use items() instead\n",
      "  warnings.warn(\n",
      "/opt/conda/envs/claymodel-latest-v2/lib/python3.11/site-packages/stackstac/prepare.py:408: UserWarning: The argument 'infer_datetime_format' is deprecated and will be removed in a future version. A strict version of it is now the default, see https://pandas.pydata.org/pdeps/0004-consistent-to-datetime-parsing.html. You can safely remove this argument.\n",
      "  times = pd.to_datetime(\n",
      " 30%|███       | 102/336 [00:41<01:01,  3.82it/s]/opt/conda/envs/claymodel-latest-v2/lib/python3.11/site-packages/pystac_client/item_search.py:836: FutureWarning: get_items() is deprecated, use items() instead\n",
      "  warnings.warn(\n",
      "/opt/conda/envs/claymodel-latest-v2/lib/python3.11/site-packages/stackstac/prepare.py:408: UserWarning: The argument 'infer_datetime_format' is deprecated and will be removed in a future version. A strict version of it is now the default, see https://pandas.pydata.org/pdeps/0004-consistent-to-datetime-parsing.html. You can safely remove this argument.\n",
      "  times = pd.to_datetime(\n",
      " 31%|███       | 103/336 [00:41<00:55,  4.22it/s]/opt/conda/envs/claymodel-latest-v2/lib/python3.11/site-packages/pystac_client/item_search.py:836: FutureWarning: get_items() is deprecated, use items() instead\n",
      "  warnings.warn(\n",
      "/opt/conda/envs/claymodel-latest-v2/lib/python3.11/site-packages/stackstac/prepare.py:408: UserWarning: The argument 'infer_datetime_format' is deprecated and will be removed in a future version. A strict version of it is now the default, see https://pandas.pydata.org/pdeps/0004-consistent-to-datetime-parsing.html. You can safely remove this argument.\n",
      "  times = pd.to_datetime(\n",
      " 31%|███       | 104/336 [00:41<00:59,  3.93it/s]/opt/conda/envs/claymodel-latest-v2/lib/python3.11/site-packages/pystac_client/item_search.py:836: FutureWarning: get_items() is deprecated, use items() instead\n",
      "  warnings.warn(\n",
      "/opt/conda/envs/claymodel-latest-v2/lib/python3.11/site-packages/stackstac/prepare.py:408: UserWarning: The argument 'infer_datetime_format' is deprecated and will be removed in a future version. A strict version of it is now the default, see https://pandas.pydata.org/pdeps/0004-consistent-to-datetime-parsing.html. You can safely remove this argument.\n",
      "  times = pd.to_datetime(\n",
      " 31%|███▏      | 105/336 [00:41<00:53,  4.30it/s]/opt/conda/envs/claymodel-latest-v2/lib/python3.11/site-packages/pystac_client/item_search.py:836: FutureWarning: get_items() is deprecated, use items() instead\n",
      "  warnings.warn(\n",
      "/opt/conda/envs/claymodel-latest-v2/lib/python3.11/site-packages/stackstac/prepare.py:408: UserWarning: The argument 'infer_datetime_format' is deprecated and will be removed in a future version. A strict version of it is now the default, see https://pandas.pydata.org/pdeps/0004-consistent-to-datetime-parsing.html. You can safely remove this argument.\n",
      "  times = pd.to_datetime(\n",
      " 32%|███▏      | 106/336 [00:42<01:29,  2.58it/s]/opt/conda/envs/claymodel-latest-v2/lib/python3.11/site-packages/pystac_client/item_search.py:836: FutureWarning: get_items() is deprecated, use items() instead\n",
      "  warnings.warn(\n",
      "/opt/conda/envs/claymodel-latest-v2/lib/python3.11/site-packages/stackstac/prepare.py:408: UserWarning: The argument 'infer_datetime_format' is deprecated and will be removed in a future version. A strict version of it is now the default, see https://pandas.pydata.org/pdeps/0004-consistent-to-datetime-parsing.html. You can safely remove this argument.\n",
      "  times = pd.to_datetime(\n",
      " 32%|███▏      | 107/336 [00:43<01:19,  2.87it/s]/opt/conda/envs/claymodel-latest-v2/lib/python3.11/site-packages/pystac_client/item_search.py:836: FutureWarning: get_items() is deprecated, use items() instead\n",
      "  warnings.warn(\n",
      "/opt/conda/envs/claymodel-latest-v2/lib/python3.11/site-packages/stackstac/prepare.py:408: UserWarning: The argument 'infer_datetime_format' is deprecated and will be removed in a future version. A strict version of it is now the default, see https://pandas.pydata.org/pdeps/0004-consistent-to-datetime-parsing.html. You can safely remove this argument.\n",
      "  times = pd.to_datetime(\n",
      " 32%|███▏      | 108/336 [00:43<01:08,  3.32it/s]/opt/conda/envs/claymodel-latest-v2/lib/python3.11/site-packages/pystac_client/item_search.py:836: FutureWarning: get_items() is deprecated, use items() instead\n",
      "  warnings.warn(\n",
      "/opt/conda/envs/claymodel-latest-v2/lib/python3.11/site-packages/stackstac/prepare.py:408: UserWarning: The argument 'infer_datetime_format' is deprecated and will be removed in a future version. A strict version of it is now the default, see https://pandas.pydata.org/pdeps/0004-consistent-to-datetime-parsing.html. You can safely remove this argument.\n",
      "  times = pd.to_datetime(\n",
      " 32%|███▏      | 109/336 [00:43<01:07,  3.37it/s]/opt/conda/envs/claymodel-latest-v2/lib/python3.11/site-packages/pystac_client/item_search.py:836: FutureWarning: get_items() is deprecated, use items() instead\n",
      "  warnings.warn(\n",
      "/opt/conda/envs/claymodel-latest-v2/lib/python3.11/site-packages/stackstac/prepare.py:408: UserWarning: The argument 'infer_datetime_format' is deprecated and will be removed in a future version. A strict version of it is now the default, see https://pandas.pydata.org/pdeps/0004-consistent-to-datetime-parsing.html. You can safely remove this argument.\n",
      "  times = pd.to_datetime(\n",
      " 33%|███▎      | 110/336 [00:43<00:59,  3.81it/s]/opt/conda/envs/claymodel-latest-v2/lib/python3.11/site-packages/pystac_client/item_search.py:836: FutureWarning: get_items() is deprecated, use items() instead\n",
      "  warnings.warn(\n",
      "/opt/conda/envs/claymodel-latest-v2/lib/python3.11/site-packages/stackstac/prepare.py:408: UserWarning: The argument 'infer_datetime_format' is deprecated and will be removed in a future version. A strict version of it is now the default, see https://pandas.pydata.org/pdeps/0004-consistent-to-datetime-parsing.html. You can safely remove this argument.\n",
      "  times = pd.to_datetime(\n",
      " 33%|███▎      | 111/336 [00:43<00:54,  4.13it/s]/opt/conda/envs/claymodel-latest-v2/lib/python3.11/site-packages/pystac_client/item_search.py:836: FutureWarning: get_items() is deprecated, use items() instead\n",
      "  warnings.warn(\n",
      "/opt/conda/envs/claymodel-latest-v2/lib/python3.11/site-packages/stackstac/prepare.py:408: UserWarning: The argument 'infer_datetime_format' is deprecated and will be removed in a future version. A strict version of it is now the default, see https://pandas.pydata.org/pdeps/0004-consistent-to-datetime-parsing.html. You can safely remove this argument.\n",
      "  times = pd.to_datetime(\n",
      " 33%|███▎      | 112/336 [00:44<01:17,  2.88it/s]/opt/conda/envs/claymodel-latest-v2/lib/python3.11/site-packages/pystac_client/item_search.py:836: FutureWarning: get_items() is deprecated, use items() instead\n",
      "  warnings.warn(\n",
      "/opt/conda/envs/claymodel-latest-v2/lib/python3.11/site-packages/stackstac/prepare.py:408: UserWarning: The argument 'infer_datetime_format' is deprecated and will be removed in a future version. A strict version of it is now the default, see https://pandas.pydata.org/pdeps/0004-consistent-to-datetime-parsing.html. You can safely remove this argument.\n",
      "  times = pd.to_datetime(\n",
      " 34%|███▎      | 113/336 [00:45<01:41,  2.19it/s]/opt/conda/envs/claymodel-latest-v2/lib/python3.11/site-packages/pystac_client/item_search.py:836: FutureWarning: get_items() is deprecated, use items() instead\n",
      "  warnings.warn(\n",
      "/opt/conda/envs/claymodel-latest-v2/lib/python3.11/site-packages/stackstac/prepare.py:408: UserWarning: The argument 'infer_datetime_format' is deprecated and will be removed in a future version. A strict version of it is now the default, see https://pandas.pydata.org/pdeps/0004-consistent-to-datetime-parsing.html. You can safely remove this argument.\n",
      "  times = pd.to_datetime(\n",
      " 34%|███▍      | 114/336 [00:45<01:23,  2.65it/s]/opt/conda/envs/claymodel-latest-v2/lib/python3.11/site-packages/pystac_client/item_search.py:836: FutureWarning: get_items() is deprecated, use items() instead\n",
      "  warnings.warn(\n",
      "/opt/conda/envs/claymodel-latest-v2/lib/python3.11/site-packages/stackstac/prepare.py:408: UserWarning: The argument 'infer_datetime_format' is deprecated and will be removed in a future version. A strict version of it is now the default, see https://pandas.pydata.org/pdeps/0004-consistent-to-datetime-parsing.html. You can safely remove this argument.\n",
      "  times = pd.to_datetime(\n",
      " 34%|███▍      | 115/336 [00:45<01:12,  3.07it/s]/opt/conda/envs/claymodel-latest-v2/lib/python3.11/site-packages/pystac_client/item_search.py:836: FutureWarning: get_items() is deprecated, use items() instead\n",
      "  warnings.warn(\n",
      "/opt/conda/envs/claymodel-latest-v2/lib/python3.11/site-packages/stackstac/prepare.py:408: UserWarning: The argument 'infer_datetime_format' is deprecated and will be removed in a future version. A strict version of it is now the default, see https://pandas.pydata.org/pdeps/0004-consistent-to-datetime-parsing.html. You can safely remove this argument.\n",
      "  times = pd.to_datetime(\n",
      " 35%|███▍      | 116/336 [00:45<01:02,  3.51it/s]/opt/conda/envs/claymodel-latest-v2/lib/python3.11/site-packages/pystac_client/item_search.py:836: FutureWarning: get_items() is deprecated, use items() instead\n",
      "  warnings.warn(\n",
      "/opt/conda/envs/claymodel-latest-v2/lib/python3.11/site-packages/stackstac/prepare.py:408: UserWarning: The argument 'infer_datetime_format' is deprecated and will be removed in a future version. A strict version of it is now the default, see https://pandas.pydata.org/pdeps/0004-consistent-to-datetime-parsing.html. You can safely remove this argument.\n",
      "  times = pd.to_datetime(\n",
      " 35%|███▍      | 117/336 [00:46<01:28,  2.48it/s]/opt/conda/envs/claymodel-latest-v2/lib/python3.11/site-packages/pystac_client/item_search.py:836: FutureWarning: get_items() is deprecated, use items() instead\n",
      "  warnings.warn(\n",
      "/opt/conda/envs/claymodel-latest-v2/lib/python3.11/site-packages/stackstac/prepare.py:408: UserWarning: The argument 'infer_datetime_format' is deprecated and will be removed in a future version. A strict version of it is now the default, see https://pandas.pydata.org/pdeps/0004-consistent-to-datetime-parsing.html. You can safely remove this argument.\n",
      "  times = pd.to_datetime(\n",
      " 35%|███▌      | 118/336 [00:46<01:13,  2.97it/s]/opt/conda/envs/claymodel-latest-v2/lib/python3.11/site-packages/pystac_client/item_search.py:836: FutureWarning: get_items() is deprecated, use items() instead\n",
      "  warnings.warn(\n",
      "/opt/conda/envs/claymodel-latest-v2/lib/python3.11/site-packages/stackstac/prepare.py:408: UserWarning: The argument 'infer_datetime_format' is deprecated and will be removed in a future version. A strict version of it is now the default, see https://pandas.pydata.org/pdeps/0004-consistent-to-datetime-parsing.html. You can safely remove this argument.\n",
      "  times = pd.to_datetime(\n",
      " 35%|███▌      | 119/336 [00:47<01:39,  2.19it/s]/opt/conda/envs/claymodel-latest-v2/lib/python3.11/site-packages/pystac_client/item_search.py:836: FutureWarning: get_items() is deprecated, use items() instead\n",
      "  warnings.warn(\n",
      "/opt/conda/envs/claymodel-latest-v2/lib/python3.11/site-packages/stackstac/prepare.py:408: UserWarning: The argument 'infer_datetime_format' is deprecated and will be removed in a future version. A strict version of it is now the default, see https://pandas.pydata.org/pdeps/0004-consistent-to-datetime-parsing.html. You can safely remove this argument.\n",
      "  times = pd.to_datetime(\n",
      " 36%|███▌      | 120/336 [00:47<01:21,  2.65it/s]/opt/conda/envs/claymodel-latest-v2/lib/python3.11/site-packages/pystac_client/item_search.py:836: FutureWarning: get_items() is deprecated, use items() instead\n",
      "  warnings.warn(\n",
      "/opt/conda/envs/claymodel-latest-v2/lib/python3.11/site-packages/stackstac/prepare.py:408: UserWarning: The argument 'infer_datetime_format' is deprecated and will be removed in a future version. A strict version of it is now the default, see https://pandas.pydata.org/pdeps/0004-consistent-to-datetime-parsing.html. You can safely remove this argument.\n",
      "  times = pd.to_datetime(\n",
      " 36%|███▌      | 121/336 [00:47<01:16,  2.82it/s]/opt/conda/envs/claymodel-latest-v2/lib/python3.11/site-packages/pystac_client/item_search.py:836: FutureWarning: get_items() is deprecated, use items() instead\n",
      "  warnings.warn(\n",
      "/opt/conda/envs/claymodel-latest-v2/lib/python3.11/site-packages/stackstac/prepare.py:408: UserWarning: The argument 'infer_datetime_format' is deprecated and will be removed in a future version. A strict version of it is now the default, see https://pandas.pydata.org/pdeps/0004-consistent-to-datetime-parsing.html. You can safely remove this argument.\n",
      "  times = pd.to_datetime(\n",
      " 36%|███▋      | 122/336 [00:48<01:06,  3.21it/s]/opt/conda/envs/claymodel-latest-v2/lib/python3.11/site-packages/pystac_client/item_search.py:836: FutureWarning: get_items() is deprecated, use items() instead\n",
      "  warnings.warn(\n",
      "/opt/conda/envs/claymodel-latest-v2/lib/python3.11/site-packages/stackstac/prepare.py:408: UserWarning: The argument 'infer_datetime_format' is deprecated and will be removed in a future version. A strict version of it is now the default, see https://pandas.pydata.org/pdeps/0004-consistent-to-datetime-parsing.html. You can safely remove this argument.\n",
      "  times = pd.to_datetime(\n",
      " 37%|███▋      | 123/336 [00:48<00:57,  3.68it/s]/opt/conda/envs/claymodel-latest-v2/lib/python3.11/site-packages/pystac_client/item_search.py:836: FutureWarning: get_items() is deprecated, use items() instead\n",
      "  warnings.warn(\n",
      "/opt/conda/envs/claymodel-latest-v2/lib/python3.11/site-packages/stackstac/prepare.py:408: UserWarning: The argument 'infer_datetime_format' is deprecated and will be removed in a future version. A strict version of it is now the default, see https://pandas.pydata.org/pdeps/0004-consistent-to-datetime-parsing.html. You can safely remove this argument.\n",
      "  times = pd.to_datetime(\n",
      " 37%|███▋      | 124/336 [00:48<00:52,  4.07it/s]/opt/conda/envs/claymodel-latest-v2/lib/python3.11/site-packages/pystac_client/item_search.py:836: FutureWarning: get_items() is deprecated, use items() instead\n",
      "  warnings.warn(\n",
      "/opt/conda/envs/claymodel-latest-v2/lib/python3.11/site-packages/stackstac/prepare.py:408: UserWarning: The argument 'infer_datetime_format' is deprecated and will be removed in a future version. A strict version of it is now the default, see https://pandas.pydata.org/pdeps/0004-consistent-to-datetime-parsing.html. You can safely remove this argument.\n",
      "  times = pd.to_datetime(\n",
      " 37%|███▋      | 125/336 [00:48<00:55,  3.77it/s]/opt/conda/envs/claymodel-latest-v2/lib/python3.11/site-packages/pystac_client/item_search.py:836: FutureWarning: get_items() is deprecated, use items() instead\n",
      "  warnings.warn(\n",
      "/opt/conda/envs/claymodel-latest-v2/lib/python3.11/site-packages/stackstac/prepare.py:408: UserWarning: The argument 'infer_datetime_format' is deprecated and will be removed in a future version. A strict version of it is now the default, see https://pandas.pydata.org/pdeps/0004-consistent-to-datetime-parsing.html. You can safely remove this argument.\n",
      "  times = pd.to_datetime(\n",
      " 38%|███▊      | 126/336 [00:49<01:14,  2.81it/s]/opt/conda/envs/claymodel-latest-v2/lib/python3.11/site-packages/pystac_client/item_search.py:836: FutureWarning: get_items() is deprecated, use items() instead\n",
      "  warnings.warn(\n",
      "/opt/conda/envs/claymodel-latest-v2/lib/python3.11/site-packages/stackstac/prepare.py:408: UserWarning: The argument 'infer_datetime_format' is deprecated and will be removed in a future version. A strict version of it is now the default, see https://pandas.pydata.org/pdeps/0004-consistent-to-datetime-parsing.html. You can safely remove this argument.\n",
      "  times = pd.to_datetime(\n",
      " 38%|███▊      | 127/336 [00:49<01:15,  2.76it/s]/opt/conda/envs/claymodel-latest-v2/lib/python3.11/site-packages/pystac_client/item_search.py:836: FutureWarning: get_items() is deprecated, use items() instead\n",
      "  warnings.warn(\n",
      "/opt/conda/envs/claymodel-latest-v2/lib/python3.11/site-packages/stackstac/prepare.py:408: UserWarning: The argument 'infer_datetime_format' is deprecated and will be removed in a future version. A strict version of it is now the default, see https://pandas.pydata.org/pdeps/0004-consistent-to-datetime-parsing.html. You can safely remove this argument.\n",
      "  times = pd.to_datetime(\n",
      " 38%|███▊      | 128/336 [00:49<01:05,  3.18it/s]/opt/conda/envs/claymodel-latest-v2/lib/python3.11/site-packages/pystac_client/item_search.py:836: FutureWarning: get_items() is deprecated, use items() instead\n",
      "  warnings.warn(\n",
      "/opt/conda/envs/claymodel-latest-v2/lib/python3.11/site-packages/stackstac/prepare.py:408: UserWarning: The argument 'infer_datetime_format' is deprecated and will be removed in a future version. A strict version of it is now the default, see https://pandas.pydata.org/pdeps/0004-consistent-to-datetime-parsing.html. You can safely remove this argument.\n",
      "  times = pd.to_datetime(\n",
      " 38%|███▊      | 129/336 [00:50<01:21,  2.55it/s]/opt/conda/envs/claymodel-latest-v2/lib/python3.11/site-packages/pystac_client/item_search.py:836: FutureWarning: get_items() is deprecated, use items() instead\n",
      "  warnings.warn(\n",
      "/opt/conda/envs/claymodel-latest-v2/lib/python3.11/site-packages/stackstac/prepare.py:408: UserWarning: The argument 'infer_datetime_format' is deprecated and will be removed in a future version. A strict version of it is now the default, see https://pandas.pydata.org/pdeps/0004-consistent-to-datetime-parsing.html. You can safely remove this argument.\n",
      "  times = pd.to_datetime(\n",
      " 39%|███▊      | 130/336 [00:50<01:14,  2.76it/s]/opt/conda/envs/claymodel-latest-v2/lib/python3.11/site-packages/pystac_client/item_search.py:836: FutureWarning: get_items() is deprecated, use items() instead\n",
      "  warnings.warn(\n",
      "/opt/conda/envs/claymodel-latest-v2/lib/python3.11/site-packages/stackstac/prepare.py:408: UserWarning: The argument 'infer_datetime_format' is deprecated and will be removed in a future version. A strict version of it is now the default, see https://pandas.pydata.org/pdeps/0004-consistent-to-datetime-parsing.html. You can safely remove this argument.\n",
      "  times = pd.to_datetime(\n",
      " 39%|███▉      | 131/336 [00:50<01:03,  3.22it/s]/opt/conda/envs/claymodel-latest-v2/lib/python3.11/site-packages/pystac_client/item_search.py:836: FutureWarning: get_items() is deprecated, use items() instead\n",
      "  warnings.warn(\n",
      "/opt/conda/envs/claymodel-latest-v2/lib/python3.11/site-packages/stackstac/prepare.py:408: UserWarning: The argument 'infer_datetime_format' is deprecated and will be removed in a future version. A strict version of it is now the default, see https://pandas.pydata.org/pdeps/0004-consistent-to-datetime-parsing.html. You can safely remove this argument.\n",
      "  times = pd.to_datetime(\n",
      " 39%|███▉      | 132/336 [00:51<00:56,  3.59it/s]/opt/conda/envs/claymodel-latest-v2/lib/python3.11/site-packages/pystac_client/item_search.py:836: FutureWarning: get_items() is deprecated, use items() instead\n",
      "  warnings.warn(\n",
      "/opt/conda/envs/claymodel-latest-v2/lib/python3.11/site-packages/stackstac/prepare.py:408: UserWarning: The argument 'infer_datetime_format' is deprecated and will be removed in a future version. A strict version of it is now the default, see https://pandas.pydata.org/pdeps/0004-consistent-to-datetime-parsing.html. You can safely remove this argument.\n",
      "  times = pd.to_datetime(\n",
      " 40%|███▉      | 133/336 [00:51<00:50,  4.02it/s]/opt/conda/envs/claymodel-latest-v2/lib/python3.11/site-packages/pystac_client/item_search.py:836: FutureWarning: get_items() is deprecated, use items() instead\n",
      "  warnings.warn(\n",
      "/opt/conda/envs/claymodel-latest-v2/lib/python3.11/site-packages/stackstac/prepare.py:408: UserWarning: The argument 'infer_datetime_format' is deprecated and will be removed in a future version. A strict version of it is now the default, see https://pandas.pydata.org/pdeps/0004-consistent-to-datetime-parsing.html. You can safely remove this argument.\n",
      "  times = pd.to_datetime(\n",
      " 40%|███▉      | 134/336 [00:51<00:54,  3.71it/s]/opt/conda/envs/claymodel-latest-v2/lib/python3.11/site-packages/pystac_client/item_search.py:836: FutureWarning: get_items() is deprecated, use items() instead\n",
      "  warnings.warn(\n",
      "/opt/conda/envs/claymodel-latest-v2/lib/python3.11/site-packages/stackstac/prepare.py:408: UserWarning: The argument 'infer_datetime_format' is deprecated and will be removed in a future version. A strict version of it is now the default, see https://pandas.pydata.org/pdeps/0004-consistent-to-datetime-parsing.html. You can safely remove this argument.\n",
      "  times = pd.to_datetime(\n",
      " 40%|████      | 135/336 [00:51<00:49,  4.03it/s]/opt/conda/envs/claymodel-latest-v2/lib/python3.11/site-packages/pystac_client/item_search.py:836: FutureWarning: get_items() is deprecated, use items() instead\n",
      "  warnings.warn(\n",
      "/opt/conda/envs/claymodel-latest-v2/lib/python3.11/site-packages/stackstac/prepare.py:408: UserWarning: The argument 'infer_datetime_format' is deprecated and will be removed in a future version. A strict version of it is now the default, see https://pandas.pydata.org/pdeps/0004-consistent-to-datetime-parsing.html. You can safely remove this argument.\n",
      "  times = pd.to_datetime(\n",
      " 40%|████      | 136/336 [00:52<00:46,  4.26it/s]/opt/conda/envs/claymodel-latest-v2/lib/python3.11/site-packages/pystac_client/item_search.py:836: FutureWarning: get_items() is deprecated, use items() instead\n",
      "  warnings.warn(\n",
      "/opt/conda/envs/claymodel-latest-v2/lib/python3.11/site-packages/stackstac/prepare.py:408: UserWarning: The argument 'infer_datetime_format' is deprecated and will be removed in a future version. A strict version of it is now the default, see https://pandas.pydata.org/pdeps/0004-consistent-to-datetime-parsing.html. You can safely remove this argument.\n",
      "  times = pd.to_datetime(\n",
      " 41%|████      | 137/336 [00:52<00:43,  4.56it/s]/opt/conda/envs/claymodel-latest-v2/lib/python3.11/site-packages/pystac_client/item_search.py:836: FutureWarning: get_items() is deprecated, use items() instead\n",
      "  warnings.warn(\n",
      "/opt/conda/envs/claymodel-latest-v2/lib/python3.11/site-packages/stackstac/prepare.py:408: UserWarning: The argument 'infer_datetime_format' is deprecated and will be removed in a future version. A strict version of it is now the default, see https://pandas.pydata.org/pdeps/0004-consistent-to-datetime-parsing.html. You can safely remove this argument.\n",
      "  times = pd.to_datetime(\n",
      " 41%|████      | 138/336 [00:52<00:48,  4.12it/s]/opt/conda/envs/claymodel-latest-v2/lib/python3.11/site-packages/pystac_client/item_search.py:836: FutureWarning: get_items() is deprecated, use items() instead\n",
      "  warnings.warn(\n",
      "/opt/conda/envs/claymodel-latest-v2/lib/python3.11/site-packages/stackstac/prepare.py:408: UserWarning: The argument 'infer_datetime_format' is deprecated and will be removed in a future version. A strict version of it is now the default, see https://pandas.pydata.org/pdeps/0004-consistent-to-datetime-parsing.html. You can safely remove this argument.\n",
      "  times = pd.to_datetime(\n",
      " 41%|████▏     | 139/336 [00:52<00:44,  4.42it/s]/opt/conda/envs/claymodel-latest-v2/lib/python3.11/site-packages/pystac_client/item_search.py:836: FutureWarning: get_items() is deprecated, use items() instead\n",
      "  warnings.warn(\n",
      "/opt/conda/envs/claymodel-latest-v2/lib/python3.11/site-packages/stackstac/prepare.py:408: UserWarning: The argument 'infer_datetime_format' is deprecated and will be removed in a future version. A strict version of it is now the default, see https://pandas.pydata.org/pdeps/0004-consistent-to-datetime-parsing.html. You can safely remove this argument.\n",
      "  times = pd.to_datetime(\n",
      " 42%|████▏     | 140/336 [00:53<00:53,  3.66it/s]/opt/conda/envs/claymodel-latest-v2/lib/python3.11/site-packages/pystac_client/item_search.py:836: FutureWarning: get_items() is deprecated, use items() instead\n",
      "  warnings.warn(\n",
      "/opt/conda/envs/claymodel-latest-v2/lib/python3.11/site-packages/stackstac/prepare.py:408: UserWarning: The argument 'infer_datetime_format' is deprecated and will be removed in a future version. A strict version of it is now the default, see https://pandas.pydata.org/pdeps/0004-consistent-to-datetime-parsing.html. You can safely remove this argument.\n",
      "  times = pd.to_datetime(\n",
      " 42%|████▏     | 141/336 [00:53<00:48,  4.02it/s]/opt/conda/envs/claymodel-latest-v2/lib/python3.11/site-packages/pystac_client/item_search.py:836: FutureWarning: get_items() is deprecated, use items() instead\n",
      "  warnings.warn(\n",
      "/opt/conda/envs/claymodel-latest-v2/lib/python3.11/site-packages/stackstac/prepare.py:408: UserWarning: The argument 'infer_datetime_format' is deprecated and will be removed in a future version. A strict version of it is now the default, see https://pandas.pydata.org/pdeps/0004-consistent-to-datetime-parsing.html. You can safely remove this argument.\n",
      "  times = pd.to_datetime(\n",
      " 42%|████▏     | 142/336 [00:53<01:02,  3.13it/s]/opt/conda/envs/claymodel-latest-v2/lib/python3.11/site-packages/pystac_client/item_search.py:836: FutureWarning: get_items() is deprecated, use items() instead\n",
      "  warnings.warn(\n",
      "/opt/conda/envs/claymodel-latest-v2/lib/python3.11/site-packages/stackstac/prepare.py:408: UserWarning: The argument 'infer_datetime_format' is deprecated and will be removed in a future version. A strict version of it is now the default, see https://pandas.pydata.org/pdeps/0004-consistent-to-datetime-parsing.html. You can safely remove this argument.\n",
      "  times = pd.to_datetime(\n",
      " 43%|████▎     | 143/336 [00:54<01:15,  2.56it/s]/opt/conda/envs/claymodel-latest-v2/lib/python3.11/site-packages/pystac_client/item_search.py:836: FutureWarning: get_items() is deprecated, use items() instead\n",
      "  warnings.warn(\n",
      "/opt/conda/envs/claymodel-latest-v2/lib/python3.11/site-packages/stackstac/prepare.py:408: UserWarning: The argument 'infer_datetime_format' is deprecated and will be removed in a future version. A strict version of it is now the default, see https://pandas.pydata.org/pdeps/0004-consistent-to-datetime-parsing.html. You can safely remove this argument.\n",
      "  times = pd.to_datetime(\n",
      " 43%|████▎     | 144/336 [00:54<01:03,  3.01it/s]/opt/conda/envs/claymodel-latest-v2/lib/python3.11/site-packages/pystac_client/item_search.py:836: FutureWarning: get_items() is deprecated, use items() instead\n",
      "  warnings.warn(\n",
      "/opt/conda/envs/claymodel-latest-v2/lib/python3.11/site-packages/stackstac/prepare.py:408: UserWarning: The argument 'infer_datetime_format' is deprecated and will be removed in a future version. A strict version of it is now the default, see https://pandas.pydata.org/pdeps/0004-consistent-to-datetime-parsing.html. You can safely remove this argument.\n",
      "  times = pd.to_datetime(\n",
      " 43%|████▎     | 145/336 [00:54<00:55,  3.44it/s]/opt/conda/envs/claymodel-latest-v2/lib/python3.11/site-packages/pystac_client/item_search.py:836: FutureWarning: get_items() is deprecated, use items() instead\n",
      "  warnings.warn(\n",
      "/opt/conda/envs/claymodel-latest-v2/lib/python3.11/site-packages/stackstac/prepare.py:408: UserWarning: The argument 'infer_datetime_format' is deprecated and will be removed in a future version. A strict version of it is now the default, see https://pandas.pydata.org/pdeps/0004-consistent-to-datetime-parsing.html. You can safely remove this argument.\n",
      "  times = pd.to_datetime(\n",
      " 43%|████▎     | 146/336 [00:55<01:17,  2.45it/s]/opt/conda/envs/claymodel-latest-v2/lib/python3.11/site-packages/pystac_client/item_search.py:836: FutureWarning: get_items() is deprecated, use items() instead\n",
      "  warnings.warn(\n",
      "/opt/conda/envs/claymodel-latest-v2/lib/python3.11/site-packages/stackstac/prepare.py:408: UserWarning: The argument 'infer_datetime_format' is deprecated and will be removed in a future version. A strict version of it is now the default, see https://pandas.pydata.org/pdeps/0004-consistent-to-datetime-parsing.html. You can safely remove this argument.\n",
      "  times = pd.to_datetime(\n",
      " 44%|████▍     | 147/336 [00:55<01:05,  2.89it/s]/opt/conda/envs/claymodel-latest-v2/lib/python3.11/site-packages/pystac_client/item_search.py:836: FutureWarning: get_items() is deprecated, use items() instead\n",
      "  warnings.warn(\n",
      "/opt/conda/envs/claymodel-latest-v2/lib/python3.11/site-packages/stackstac/prepare.py:408: UserWarning: The argument 'infer_datetime_format' is deprecated and will be removed in a future version. A strict version of it is now the default, see https://pandas.pydata.org/pdeps/0004-consistent-to-datetime-parsing.html. You can safely remove this argument.\n",
      "  times = pd.to_datetime(\n",
      " 44%|████▍     | 148/336 [00:56<01:36,  1.94it/s]/opt/conda/envs/claymodel-latest-v2/lib/python3.11/site-packages/pystac_client/item_search.py:836: FutureWarning: get_items() is deprecated, use items() instead\n",
      "  warnings.warn(\n",
      "/opt/conda/envs/claymodel-latest-v2/lib/python3.11/site-packages/stackstac/prepare.py:408: UserWarning: The argument 'infer_datetime_format' is deprecated and will be removed in a future version. A strict version of it is now the default, see https://pandas.pydata.org/pdeps/0004-consistent-to-datetime-parsing.html. You can safely remove this argument.\n",
      "  times = pd.to_datetime(\n",
      " 44%|████▍     | 149/336 [00:56<01:28,  2.12it/s]/opt/conda/envs/claymodel-latest-v2/lib/python3.11/site-packages/pystac_client/item_search.py:836: FutureWarning: get_items() is deprecated, use items() instead\n",
      "  warnings.warn(\n",
      "/opt/conda/envs/claymodel-latest-v2/lib/python3.11/site-packages/stackstac/prepare.py:408: UserWarning: The argument 'infer_datetime_format' is deprecated and will be removed in a future version. A strict version of it is now the default, see https://pandas.pydata.org/pdeps/0004-consistent-to-datetime-parsing.html. You can safely remove this argument.\n",
      "  times = pd.to_datetime(\n",
      " 45%|████▍     | 150/336 [00:57<01:18,  2.37it/s]/opt/conda/envs/claymodel-latest-v2/lib/python3.11/site-packages/pystac_client/item_search.py:836: FutureWarning: get_items() is deprecated, use items() instead\n",
      "  warnings.warn(\n",
      "/opt/conda/envs/claymodel-latest-v2/lib/python3.11/site-packages/stackstac/prepare.py:408: UserWarning: The argument 'infer_datetime_format' is deprecated and will be removed in a future version. A strict version of it is now the default, see https://pandas.pydata.org/pdeps/0004-consistent-to-datetime-parsing.html. You can safely remove this argument.\n",
      "  times = pd.to_datetime(\n",
      " 45%|████▍     | 151/336 [00:57<01:20,  2.29it/s]/opt/conda/envs/claymodel-latest-v2/lib/python3.11/site-packages/pystac_client/item_search.py:836: FutureWarning: get_items() is deprecated, use items() instead\n",
      "  warnings.warn(\n",
      "/opt/conda/envs/claymodel-latest-v2/lib/python3.11/site-packages/stackstac/prepare.py:408: UserWarning: The argument 'infer_datetime_format' is deprecated and will be removed in a future version. A strict version of it is now the default, see https://pandas.pydata.org/pdeps/0004-consistent-to-datetime-parsing.html. You can safely remove this argument.\n",
      "  times = pd.to_datetime(\n",
      " 45%|████▌     | 152/336 [00:57<01:12,  2.53it/s]/opt/conda/envs/claymodel-latest-v2/lib/python3.11/site-packages/pystac_client/item_search.py:836: FutureWarning: get_items() is deprecated, use items() instead\n",
      "  warnings.warn(\n",
      "/opt/conda/envs/claymodel-latest-v2/lib/python3.11/site-packages/stackstac/prepare.py:408: UserWarning: The argument 'infer_datetime_format' is deprecated and will be removed in a future version. A strict version of it is now the default, see https://pandas.pydata.org/pdeps/0004-consistent-to-datetime-parsing.html. You can safely remove this argument.\n",
      "  times = pd.to_datetime(\n",
      " 46%|████▌     | 153/336 [00:58<01:07,  2.73it/s]/opt/conda/envs/claymodel-latest-v2/lib/python3.11/site-packages/pystac_client/item_search.py:836: FutureWarning: get_items() is deprecated, use items() instead\n",
      "  warnings.warn(\n",
      "/opt/conda/envs/claymodel-latest-v2/lib/python3.11/site-packages/stackstac/prepare.py:408: UserWarning: The argument 'infer_datetime_format' is deprecated and will be removed in a future version. A strict version of it is now the default, see https://pandas.pydata.org/pdeps/0004-consistent-to-datetime-parsing.html. You can safely remove this argument.\n",
      "  times = pd.to_datetime(\n",
      " 46%|████▌     | 154/336 [00:58<01:04,  2.83it/s]/opt/conda/envs/claymodel-latest-v2/lib/python3.11/site-packages/pystac_client/item_search.py:836: FutureWarning: get_items() is deprecated, use items() instead\n",
      "  warnings.warn(\n",
      "/opt/conda/envs/claymodel-latest-v2/lib/python3.11/site-packages/stackstac/prepare.py:408: UserWarning: The argument 'infer_datetime_format' is deprecated and will be removed in a future version. A strict version of it is now the default, see https://pandas.pydata.org/pdeps/0004-consistent-to-datetime-parsing.html. You can safely remove this argument.\n",
      "  times = pd.to_datetime(\n",
      " 46%|████▌     | 155/336 [00:58<01:04,  2.79it/s]/opt/conda/envs/claymodel-latest-v2/lib/python3.11/site-packages/pystac_client/item_search.py:836: FutureWarning: get_items() is deprecated, use items() instead\n",
      "  warnings.warn(\n",
      "/opt/conda/envs/claymodel-latest-v2/lib/python3.11/site-packages/stackstac/prepare.py:408: UserWarning: The argument 'infer_datetime_format' is deprecated and will be removed in a future version. A strict version of it is now the default, see https://pandas.pydata.org/pdeps/0004-consistent-to-datetime-parsing.html. You can safely remove this argument.\n",
      "  times = pd.to_datetime(\n",
      " 46%|████▋     | 156/336 [00:59<01:01,  2.92it/s]/opt/conda/envs/claymodel-latest-v2/lib/python3.11/site-packages/pystac_client/item_search.py:836: FutureWarning: get_items() is deprecated, use items() instead\n",
      "  warnings.warn(\n",
      "/opt/conda/envs/claymodel-latest-v2/lib/python3.11/site-packages/stackstac/prepare.py:408: UserWarning: The argument 'infer_datetime_format' is deprecated and will be removed in a future version. A strict version of it is now the default, see https://pandas.pydata.org/pdeps/0004-consistent-to-datetime-parsing.html. You can safely remove this argument.\n",
      "  times = pd.to_datetime(\n",
      " 47%|████▋     | 157/336 [00:59<01:21,  2.20it/s]/opt/conda/envs/claymodel-latest-v2/lib/python3.11/site-packages/pystac_client/item_search.py:836: FutureWarning: get_items() is deprecated, use items() instead\n",
      "  warnings.warn(\n",
      "/opt/conda/envs/claymodel-latest-v2/lib/python3.11/site-packages/stackstac/prepare.py:408: UserWarning: The argument 'infer_datetime_format' is deprecated and will be removed in a future version. A strict version of it is now the default, see https://pandas.pydata.org/pdeps/0004-consistent-to-datetime-parsing.html. You can safely remove this argument.\n",
      "  times = pd.to_datetime(\n",
      " 47%|████▋     | 158/336 [01:00<01:13,  2.44it/s]/opt/conda/envs/claymodel-latest-v2/lib/python3.11/site-packages/pystac_client/item_search.py:836: FutureWarning: get_items() is deprecated, use items() instead\n",
      "  warnings.warn(\n",
      "/opt/conda/envs/claymodel-latest-v2/lib/python3.11/site-packages/stackstac/prepare.py:408: UserWarning: The argument 'infer_datetime_format' is deprecated and will be removed in a future version. A strict version of it is now the default, see https://pandas.pydata.org/pdeps/0004-consistent-to-datetime-parsing.html. You can safely remove this argument.\n",
      "  times = pd.to_datetime(\n",
      " 47%|████▋     | 159/336 [01:01<01:35,  1.85it/s]/opt/conda/envs/claymodel-latest-v2/lib/python3.11/site-packages/pystac_client/item_search.py:836: FutureWarning: get_items() is deprecated, use items() instead\n",
      "  warnings.warn(\n",
      "/opt/conda/envs/claymodel-latest-v2/lib/python3.11/site-packages/stackstac/prepare.py:408: UserWarning: The argument 'infer_datetime_format' is deprecated and will be removed in a future version. A strict version of it is now the default, see https://pandas.pydata.org/pdeps/0004-consistent-to-datetime-parsing.html. You can safely remove this argument.\n",
      "  times = pd.to_datetime(\n",
      " 48%|████▊     | 160/336 [01:01<01:32,  1.90it/s]/opt/conda/envs/claymodel-latest-v2/lib/python3.11/site-packages/pystac_client/item_search.py:836: FutureWarning: get_items() is deprecated, use items() instead\n",
      "  warnings.warn(\n",
      "/opt/conda/envs/claymodel-latest-v2/lib/python3.11/site-packages/stackstac/prepare.py:408: UserWarning: The argument 'infer_datetime_format' is deprecated and will be removed in a future version. A strict version of it is now the default, see https://pandas.pydata.org/pdeps/0004-consistent-to-datetime-parsing.html. You can safely remove this argument.\n",
      "  times = pd.to_datetime(\n",
      " 48%|████▊     | 161/336 [01:02<01:31,  1.91it/s]/opt/conda/envs/claymodel-latest-v2/lib/python3.11/site-packages/pystac_client/item_search.py:836: FutureWarning: get_items() is deprecated, use items() instead\n",
      "  warnings.warn(\n",
      "/opt/conda/envs/claymodel-latest-v2/lib/python3.11/site-packages/stackstac/prepare.py:408: UserWarning: The argument 'infer_datetime_format' is deprecated and will be removed in a future version. A strict version of it is now the default, see https://pandas.pydata.org/pdeps/0004-consistent-to-datetime-parsing.html. You can safely remove this argument.\n",
      "  times = pd.to_datetime(\n",
      " 48%|████▊     | 162/336 [01:02<01:20,  2.16it/s]/opt/conda/envs/claymodel-latest-v2/lib/python3.11/site-packages/pystac_client/item_search.py:836: FutureWarning: get_items() is deprecated, use items() instead\n",
      "  warnings.warn(\n",
      "/opt/conda/envs/claymodel-latest-v2/lib/python3.11/site-packages/stackstac/prepare.py:408: UserWarning: The argument 'infer_datetime_format' is deprecated and will be removed in a future version. A strict version of it is now the default, see https://pandas.pydata.org/pdeps/0004-consistent-to-datetime-parsing.html. You can safely remove this argument.\n",
      "  times = pd.to_datetime(\n",
      " 49%|████▊     | 163/336 [01:02<01:19,  2.19it/s]/opt/conda/envs/claymodel-latest-v2/lib/python3.11/site-packages/pystac_client/item_search.py:836: FutureWarning: get_items() is deprecated, use items() instead\n",
      "  warnings.warn(\n",
      "/opt/conda/envs/claymodel-latest-v2/lib/python3.11/site-packages/stackstac/prepare.py:408: UserWarning: The argument 'infer_datetime_format' is deprecated and will be removed in a future version. A strict version of it is now the default, see https://pandas.pydata.org/pdeps/0004-consistent-to-datetime-parsing.html. You can safely remove this argument.\n",
      "  times = pd.to_datetime(\n",
      " 49%|████▉     | 164/336 [01:03<01:28,  1.95it/s]/opt/conda/envs/claymodel-latest-v2/lib/python3.11/site-packages/pystac_client/item_search.py:836: FutureWarning: get_items() is deprecated, use items() instead\n",
      "  warnings.warn(\n",
      "/opt/conda/envs/claymodel-latest-v2/lib/python3.11/site-packages/stackstac/prepare.py:408: UserWarning: The argument 'infer_datetime_format' is deprecated and will be removed in a future version. A strict version of it is now the default, see https://pandas.pydata.org/pdeps/0004-consistent-to-datetime-parsing.html. You can safely remove this argument.\n",
      "  times = pd.to_datetime(\n",
      " 49%|████▉     | 165/336 [01:03<01:16,  2.24it/s]/opt/conda/envs/claymodel-latest-v2/lib/python3.11/site-packages/pystac_client/item_search.py:836: FutureWarning: get_items() is deprecated, use items() instead\n",
      "  warnings.warn(\n",
      "/opt/conda/envs/claymodel-latest-v2/lib/python3.11/site-packages/stackstac/prepare.py:408: UserWarning: The argument 'infer_datetime_format' is deprecated and will be removed in a future version. A strict version of it is now the default, see https://pandas.pydata.org/pdeps/0004-consistent-to-datetime-parsing.html. You can safely remove this argument.\n",
      "  times = pd.to_datetime(\n",
      " 49%|████▉     | 166/336 [01:04<01:08,  2.49it/s]/opt/conda/envs/claymodel-latest-v2/lib/python3.11/site-packages/pystac_client/item_search.py:836: FutureWarning: get_items() is deprecated, use items() instead\n",
      "  warnings.warn(\n",
      "/opt/conda/envs/claymodel-latest-v2/lib/python3.11/site-packages/stackstac/prepare.py:408: UserWarning: The argument 'infer_datetime_format' is deprecated and will be removed in a future version. A strict version of it is now the default, see https://pandas.pydata.org/pdeps/0004-consistent-to-datetime-parsing.html. You can safely remove this argument.\n",
      "  times = pd.to_datetime(\n",
      " 50%|████▉     | 167/336 [01:04<01:09,  2.43it/s]/opt/conda/envs/claymodel-latest-v2/lib/python3.11/site-packages/pystac_client/item_search.py:836: FutureWarning: get_items() is deprecated, use items() instead\n",
      "  warnings.warn(\n",
      "/opt/conda/envs/claymodel-latest-v2/lib/python3.11/site-packages/stackstac/prepare.py:408: UserWarning: The argument 'infer_datetime_format' is deprecated and will be removed in a future version. A strict version of it is now the default, see https://pandas.pydata.org/pdeps/0004-consistent-to-datetime-parsing.html. You can safely remove this argument.\n",
      "  times = pd.to_datetime(\n",
      " 50%|█████     | 168/336 [01:04<01:04,  2.61it/s]/opt/conda/envs/claymodel-latest-v2/lib/python3.11/site-packages/pystac_client/item_search.py:836: FutureWarning: get_items() is deprecated, use items() instead\n",
      "  warnings.warn(\n",
      "/opt/conda/envs/claymodel-latest-v2/lib/python3.11/site-packages/stackstac/prepare.py:408: UserWarning: The argument 'infer_datetime_format' is deprecated and will be removed in a future version. A strict version of it is now the default, see https://pandas.pydata.org/pdeps/0004-consistent-to-datetime-parsing.html. You can safely remove this argument.\n",
      "  times = pd.to_datetime(\n",
      " 50%|█████     | 169/336 [01:05<00:58,  2.84it/s]/opt/conda/envs/claymodel-latest-v2/lib/python3.11/site-packages/pystac_client/item_search.py:836: FutureWarning: get_items() is deprecated, use items() instead\n",
      "  warnings.warn(\n",
      "/opt/conda/envs/claymodel-latest-v2/lib/python3.11/site-packages/stackstac/prepare.py:408: UserWarning: The argument 'infer_datetime_format' is deprecated and will be removed in a future version. A strict version of it is now the default, see https://pandas.pydata.org/pdeps/0004-consistent-to-datetime-parsing.html. You can safely remove this argument.\n",
      "  times = pd.to_datetime(\n",
      " 51%|█████     | 170/336 [01:05<01:08,  2.43it/s]/opt/conda/envs/claymodel-latest-v2/lib/python3.11/site-packages/pystac_client/item_search.py:836: FutureWarning: get_items() is deprecated, use items() instead\n",
      "  warnings.warn(\n",
      "/opt/conda/envs/claymodel-latest-v2/lib/python3.11/site-packages/stackstac/prepare.py:408: UserWarning: The argument 'infer_datetime_format' is deprecated and will be removed in a future version. A strict version of it is now the default, see https://pandas.pydata.org/pdeps/0004-consistent-to-datetime-parsing.html. You can safely remove this argument.\n",
      "  times = pd.to_datetime(\n",
      " 51%|█████     | 171/336 [01:05<00:56,  2.91it/s]/opt/conda/envs/claymodel-latest-v2/lib/python3.11/site-packages/pystac_client/item_search.py:836: FutureWarning: get_items() is deprecated, use items() instead\n",
      "  warnings.warn(\n",
      "/opt/conda/envs/claymodel-latest-v2/lib/python3.11/site-packages/stackstac/prepare.py:408: UserWarning: The argument 'infer_datetime_format' is deprecated and will be removed in a future version. A strict version of it is now the default, see https://pandas.pydata.org/pdeps/0004-consistent-to-datetime-parsing.html. You can safely remove this argument.\n",
      "  times = pd.to_datetime(\n",
      " 51%|█████     | 172/336 [01:06<01:12,  2.26it/s]/opt/conda/envs/claymodel-latest-v2/lib/python3.11/site-packages/pystac_client/item_search.py:836: FutureWarning: get_items() is deprecated, use items() instead\n",
      "  warnings.warn(\n",
      "/opt/conda/envs/claymodel-latest-v2/lib/python3.11/site-packages/stackstac/prepare.py:408: UserWarning: The argument 'infer_datetime_format' is deprecated and will be removed in a future version. A strict version of it is now the default, see https://pandas.pydata.org/pdeps/0004-consistent-to-datetime-parsing.html. You can safely remove this argument.\n",
      "  times = pd.to_datetime(\n",
      " 51%|█████▏    | 173/336 [01:06<00:59,  2.73it/s]/opt/conda/envs/claymodel-latest-v2/lib/python3.11/site-packages/pystac_client/item_search.py:836: FutureWarning: get_items() is deprecated, use items() instead\n",
      "  warnings.warn(\n",
      "/opt/conda/envs/claymodel-latest-v2/lib/python3.11/site-packages/stackstac/prepare.py:408: UserWarning: The argument 'infer_datetime_format' is deprecated and will be removed in a future version. A strict version of it is now the default, see https://pandas.pydata.org/pdeps/0004-consistent-to-datetime-parsing.html. You can safely remove this argument.\n",
      "  times = pd.to_datetime(\n",
      " 52%|█████▏    | 174/336 [01:06<00:50,  3.20it/s]/opt/conda/envs/claymodel-latest-v2/lib/python3.11/site-packages/pystac_client/item_search.py:836: FutureWarning: get_items() is deprecated, use items() instead\n",
      "  warnings.warn(\n",
      "/opt/conda/envs/claymodel-latest-v2/lib/python3.11/site-packages/stackstac/prepare.py:408: UserWarning: The argument 'infer_datetime_format' is deprecated and will be removed in a future version. A strict version of it is now the default, see https://pandas.pydata.org/pdeps/0004-consistent-to-datetime-parsing.html. You can safely remove this argument.\n",
      "  times = pd.to_datetime(\n",
      " 52%|█████▏    | 175/336 [01:07<01:03,  2.55it/s]/opt/conda/envs/claymodel-latest-v2/lib/python3.11/site-packages/pystac_client/item_search.py:836: FutureWarning: get_items() is deprecated, use items() instead\n",
      "  warnings.warn(\n",
      "/opt/conda/envs/claymodel-latest-v2/lib/python3.11/site-packages/stackstac/prepare.py:408: UserWarning: The argument 'infer_datetime_format' is deprecated and will be removed in a future version. A strict version of it is now the default, see https://pandas.pydata.org/pdeps/0004-consistent-to-datetime-parsing.html. You can safely remove this argument.\n",
      "  times = pd.to_datetime(\n",
      " 52%|█████▏    | 176/336 [01:07<00:57,  2.78it/s]/opt/conda/envs/claymodel-latest-v2/lib/python3.11/site-packages/pystac_client/item_search.py:836: FutureWarning: get_items() is deprecated, use items() instead\n",
      "  warnings.warn(\n",
      "/opt/conda/envs/claymodel-latest-v2/lib/python3.11/site-packages/stackstac/prepare.py:408: UserWarning: The argument 'infer_datetime_format' is deprecated and will be removed in a future version. A strict version of it is now the default, see https://pandas.pydata.org/pdeps/0004-consistent-to-datetime-parsing.html. You can safely remove this argument.\n",
      "  times = pd.to_datetime(\n",
      " 53%|█████▎    | 177/336 [01:07<00:49,  3.24it/s]/opt/conda/envs/claymodel-latest-v2/lib/python3.11/site-packages/pystac_client/item_search.py:836: FutureWarning: get_items() is deprecated, use items() instead\n",
      "  warnings.warn(\n",
      "/opt/conda/envs/claymodel-latest-v2/lib/python3.11/site-packages/stackstac/prepare.py:408: UserWarning: The argument 'infer_datetime_format' is deprecated and will be removed in a future version. A strict version of it is now the default, see https://pandas.pydata.org/pdeps/0004-consistent-to-datetime-parsing.html. You can safely remove this argument.\n",
      "  times = pd.to_datetime(\n",
      " 53%|█████▎    | 178/336 [01:08<00:42,  3.68it/s]/opt/conda/envs/claymodel-latest-v2/lib/python3.11/site-packages/pystac_client/item_search.py:836: FutureWarning: get_items() is deprecated, use items() instead\n",
      "  warnings.warn(\n",
      "/opt/conda/envs/claymodel-latest-v2/lib/python3.11/site-packages/stackstac/prepare.py:408: UserWarning: The argument 'infer_datetime_format' is deprecated and will be removed in a future version. A strict version of it is now the default, see https://pandas.pydata.org/pdeps/0004-consistent-to-datetime-parsing.html. You can safely remove this argument.\n",
      "  times = pd.to_datetime(\n",
      " 53%|█████▎    | 179/336 [01:08<00:38,  4.10it/s]/opt/conda/envs/claymodel-latest-v2/lib/python3.11/site-packages/pystac_client/item_search.py:836: FutureWarning: get_items() is deprecated, use items() instead\n",
      "  warnings.warn(\n",
      "/opt/conda/envs/claymodel-latest-v2/lib/python3.11/site-packages/stackstac/prepare.py:408: UserWarning: The argument 'infer_datetime_format' is deprecated and will be removed in a future version. A strict version of it is now the default, see https://pandas.pydata.org/pdeps/0004-consistent-to-datetime-parsing.html. You can safely remove this argument.\n",
      "  times = pd.to_datetime(\n",
      " 54%|█████▎    | 180/336 [01:08<00:40,  3.87it/s]/opt/conda/envs/claymodel-latest-v2/lib/python3.11/site-packages/pystac_client/item_search.py:836: FutureWarning: get_items() is deprecated, use items() instead\n",
      "  warnings.warn(\n",
      "/opt/conda/envs/claymodel-latest-v2/lib/python3.11/site-packages/stackstac/prepare.py:408: UserWarning: The argument 'infer_datetime_format' is deprecated and will be removed in a future version. A strict version of it is now the default, see https://pandas.pydata.org/pdeps/0004-consistent-to-datetime-parsing.html. You can safely remove this argument.\n",
      "  times = pd.to_datetime(\n",
      " 54%|█████▍    | 181/336 [01:08<00:37,  4.15it/s]/opt/conda/envs/claymodel-latest-v2/lib/python3.11/site-packages/pystac_client/item_search.py:836: FutureWarning: get_items() is deprecated, use items() instead\n",
      "  warnings.warn(\n",
      "/opt/conda/envs/claymodel-latest-v2/lib/python3.11/site-packages/stackstac/prepare.py:408: UserWarning: The argument 'infer_datetime_format' is deprecated and will be removed in a future version. A strict version of it is now the default, see https://pandas.pydata.org/pdeps/0004-consistent-to-datetime-parsing.html. You can safely remove this argument.\n",
      "  times = pd.to_datetime(\n",
      " 54%|█████▍    | 182/336 [01:09<00:35,  4.37it/s]/opt/conda/envs/claymodel-latest-v2/lib/python3.11/site-packages/pystac_client/item_search.py:836: FutureWarning: get_items() is deprecated, use items() instead\n",
      "  warnings.warn(\n",
      "/opt/conda/envs/claymodel-latest-v2/lib/python3.11/site-packages/stackstac/prepare.py:408: UserWarning: The argument 'infer_datetime_format' is deprecated and will be removed in a future version. A strict version of it is now the default, see https://pandas.pydata.org/pdeps/0004-consistent-to-datetime-parsing.html. You can safely remove this argument.\n",
      "  times = pd.to_datetime(\n",
      " 54%|█████▍    | 183/336 [01:09<00:41,  3.69it/s]/opt/conda/envs/claymodel-latest-v2/lib/python3.11/site-packages/pystac_client/item_search.py:836: FutureWarning: get_items() is deprecated, use items() instead\n",
      "  warnings.warn(\n",
      "/opt/conda/envs/claymodel-latest-v2/lib/python3.11/site-packages/stackstac/prepare.py:408: UserWarning: The argument 'infer_datetime_format' is deprecated and will be removed in a future version. A strict version of it is now the default, see https://pandas.pydata.org/pdeps/0004-consistent-to-datetime-parsing.html. You can safely remove this argument.\n",
      "  times = pd.to_datetime(\n",
      " 55%|█████▍    | 184/336 [01:09<00:42,  3.61it/s]/opt/conda/envs/claymodel-latest-v2/lib/python3.11/site-packages/pystac_client/item_search.py:836: FutureWarning: get_items() is deprecated, use items() instead\n",
      "  warnings.warn(\n",
      "/opt/conda/envs/claymodel-latest-v2/lib/python3.11/site-packages/stackstac/prepare.py:408: UserWarning: The argument 'infer_datetime_format' is deprecated and will be removed in a future version. A strict version of it is now the default, see https://pandas.pydata.org/pdeps/0004-consistent-to-datetime-parsing.html. You can safely remove this argument.\n",
      "  times = pd.to_datetime(\n",
      " 55%|█████▌    | 185/336 [01:09<00:37,  4.00it/s]/opt/conda/envs/claymodel-latest-v2/lib/python3.11/site-packages/pystac_client/item_search.py:836: FutureWarning: get_items() is deprecated, use items() instead\n",
      "  warnings.warn(\n",
      "/opt/conda/envs/claymodel-latest-v2/lib/python3.11/site-packages/stackstac/prepare.py:408: UserWarning: The argument 'infer_datetime_format' is deprecated and will be removed in a future version. A strict version of it is now the default, see https://pandas.pydata.org/pdeps/0004-consistent-to-datetime-parsing.html. You can safely remove this argument.\n",
      "  times = pd.to_datetime(\n",
      " 55%|█████▌    | 186/336 [01:10<00:44,  3.36it/s]/opt/conda/envs/claymodel-latest-v2/lib/python3.11/site-packages/pystac_client/item_search.py:836: FutureWarning: get_items() is deprecated, use items() instead\n",
      "  warnings.warn(\n",
      "/opt/conda/envs/claymodel-latest-v2/lib/python3.11/site-packages/stackstac/prepare.py:408: UserWarning: The argument 'infer_datetime_format' is deprecated and will be removed in a future version. A strict version of it is now the default, see https://pandas.pydata.org/pdeps/0004-consistent-to-datetime-parsing.html. You can safely remove this argument.\n",
      "  times = pd.to_datetime(\n",
      " 56%|█████▌    | 187/336 [01:10<00:39,  3.81it/s]/opt/conda/envs/claymodel-latest-v2/lib/python3.11/site-packages/pystac_client/item_search.py:836: FutureWarning: get_items() is deprecated, use items() instead\n",
      "  warnings.warn(\n",
      "/opt/conda/envs/claymodel-latest-v2/lib/python3.11/site-packages/stackstac/prepare.py:408: UserWarning: The argument 'infer_datetime_format' is deprecated and will be removed in a future version. A strict version of it is now the default, see https://pandas.pydata.org/pdeps/0004-consistent-to-datetime-parsing.html. You can safely remove this argument.\n",
      "  times = pd.to_datetime(\n",
      " 56%|█████▌    | 188/336 [01:11<00:57,  2.56it/s]/opt/conda/envs/claymodel-latest-v2/lib/python3.11/site-packages/pystac_client/item_search.py:836: FutureWarning: get_items() is deprecated, use items() instead\n",
      "  warnings.warn(\n",
      "/opt/conda/envs/claymodel-latest-v2/lib/python3.11/site-packages/stackstac/prepare.py:408: UserWarning: The argument 'infer_datetime_format' is deprecated and will be removed in a future version. A strict version of it is now the default, see https://pandas.pydata.org/pdeps/0004-consistent-to-datetime-parsing.html. You can safely remove this argument.\n",
      "  times = pd.to_datetime(\n",
      " 56%|█████▋    | 189/336 [01:11<00:48,  3.02it/s]/opt/conda/envs/claymodel-latest-v2/lib/python3.11/site-packages/pystac_client/item_search.py:836: FutureWarning: get_items() is deprecated, use items() instead\n",
      "  warnings.warn(\n",
      "/opt/conda/envs/claymodel-latest-v2/lib/python3.11/site-packages/stackstac/prepare.py:408: UserWarning: The argument 'infer_datetime_format' is deprecated and will be removed in a future version. A strict version of it is now the default, see https://pandas.pydata.org/pdeps/0004-consistent-to-datetime-parsing.html. You can safely remove this argument.\n",
      "  times = pd.to_datetime(\n",
      " 57%|█████▋    | 190/336 [01:12<01:10,  2.08it/s]/opt/conda/envs/claymodel-latest-v2/lib/python3.11/site-packages/pystac_client/item_search.py:836: FutureWarning: get_items() is deprecated, use items() instead\n",
      "  warnings.warn(\n",
      "/opt/conda/envs/claymodel-latest-v2/lib/python3.11/site-packages/stackstac/prepare.py:408: UserWarning: The argument 'infer_datetime_format' is deprecated and will be removed in a future version. A strict version of it is now the default, see https://pandas.pydata.org/pdeps/0004-consistent-to-datetime-parsing.html. You can safely remove this argument.\n",
      "  times = pd.to_datetime(\n",
      " 57%|█████▋    | 191/336 [01:12<01:13,  1.97it/s]/opt/conda/envs/claymodel-latest-v2/lib/python3.11/site-packages/pystac_client/item_search.py:836: FutureWarning: get_items() is deprecated, use items() instead\n",
      "  warnings.warn(\n",
      "/opt/conda/envs/claymodel-latest-v2/lib/python3.11/site-packages/stackstac/prepare.py:408: UserWarning: The argument 'infer_datetime_format' is deprecated and will be removed in a future version. A strict version of it is now the default, see https://pandas.pydata.org/pdeps/0004-consistent-to-datetime-parsing.html. You can safely remove this argument.\n",
      "  times = pd.to_datetime(\n",
      " 57%|█████▋    | 192/336 [01:13<01:18,  1.84it/s]/opt/conda/envs/claymodel-latest-v2/lib/python3.11/site-packages/pystac_client/item_search.py:836: FutureWarning: get_items() is deprecated, use items() instead\n",
      "  warnings.warn(\n",
      "/opt/conda/envs/claymodel-latest-v2/lib/python3.11/site-packages/stackstac/prepare.py:408: UserWarning: The argument 'infer_datetime_format' is deprecated and will be removed in a future version. A strict version of it is now the default, see https://pandas.pydata.org/pdeps/0004-consistent-to-datetime-parsing.html. You can safely remove this argument.\n",
      "  times = pd.to_datetime(\n",
      " 57%|█████▋    | 193/336 [01:13<01:07,  2.12it/s]/opt/conda/envs/claymodel-latest-v2/lib/python3.11/site-packages/pystac_client/item_search.py:836: FutureWarning: get_items() is deprecated, use items() instead\n",
      "  warnings.warn(\n",
      "/opt/conda/envs/claymodel-latest-v2/lib/python3.11/site-packages/stackstac/prepare.py:408: UserWarning: The argument 'infer_datetime_format' is deprecated and will be removed in a future version. A strict version of it is now the default, see https://pandas.pydata.org/pdeps/0004-consistent-to-datetime-parsing.html. You can safely remove this argument.\n",
      "  times = pd.to_datetime(\n",
      " 58%|█████▊    | 194/336 [01:14<01:12,  1.95it/s]/opt/conda/envs/claymodel-latest-v2/lib/python3.11/site-packages/pystac_client/item_search.py:836: FutureWarning: get_items() is deprecated, use items() instead\n",
      "  warnings.warn(\n",
      "/opt/conda/envs/claymodel-latest-v2/lib/python3.11/site-packages/stackstac/prepare.py:408: UserWarning: The argument 'infer_datetime_format' is deprecated and will be removed in a future version. A strict version of it is now the default, see https://pandas.pydata.org/pdeps/0004-consistent-to-datetime-parsing.html. You can safely remove this argument.\n",
      "  times = pd.to_datetime(\n",
      " 58%|█████▊    | 195/336 [01:14<00:58,  2.42it/s]/opt/conda/envs/claymodel-latest-v2/lib/python3.11/site-packages/pystac_client/item_search.py:836: FutureWarning: get_items() is deprecated, use items() instead\n",
      "  warnings.warn(\n",
      "/opt/conda/envs/claymodel-latest-v2/lib/python3.11/site-packages/stackstac/prepare.py:408: UserWarning: The argument 'infer_datetime_format' is deprecated and will be removed in a future version. A strict version of it is now the default, see https://pandas.pydata.org/pdeps/0004-consistent-to-datetime-parsing.html. You can safely remove this argument.\n",
      "  times = pd.to_datetime(\n",
      " 58%|█████▊    | 196/336 [01:14<00:48,  2.90it/s]/opt/conda/envs/claymodel-latest-v2/lib/python3.11/site-packages/pystac_client/item_search.py:836: FutureWarning: get_items() is deprecated, use items() instead\n",
      "  warnings.warn(\n",
      "/opt/conda/envs/claymodel-latest-v2/lib/python3.11/site-packages/stackstac/prepare.py:408: UserWarning: The argument 'infer_datetime_format' is deprecated and will be removed in a future version. A strict version of it is now the default, see https://pandas.pydata.org/pdeps/0004-consistent-to-datetime-parsing.html. You can safely remove this argument.\n",
      "  times = pd.to_datetime(\n",
      " 59%|█████▊    | 197/336 [01:15<01:02,  2.23it/s]/opt/conda/envs/claymodel-latest-v2/lib/python3.11/site-packages/pystac_client/item_search.py:836: FutureWarning: get_items() is deprecated, use items() instead\n",
      "  warnings.warn(\n",
      "/opt/conda/envs/claymodel-latest-v2/lib/python3.11/site-packages/stackstac/prepare.py:408: UserWarning: The argument 'infer_datetime_format' is deprecated and will be removed in a future version. A strict version of it is now the default, see https://pandas.pydata.org/pdeps/0004-consistent-to-datetime-parsing.html. You can safely remove this argument.\n",
      "  times = pd.to_datetime(\n",
      " 59%|█████▉    | 198/336 [01:15<01:08,  2.01it/s]/opt/conda/envs/claymodel-latest-v2/lib/python3.11/site-packages/pystac_client/item_search.py:836: FutureWarning: get_items() is deprecated, use items() instead\n",
      "  warnings.warn(\n",
      "/opt/conda/envs/claymodel-latest-v2/lib/python3.11/site-packages/stackstac/prepare.py:408: UserWarning: The argument 'infer_datetime_format' is deprecated and will be removed in a future version. A strict version of it is now the default, see https://pandas.pydata.org/pdeps/0004-consistent-to-datetime-parsing.html. You can safely remove this argument.\n",
      "  times = pd.to_datetime(\n",
      " 59%|█████▉    | 199/336 [01:16<00:55,  2.48it/s]/opt/conda/envs/claymodel-latest-v2/lib/python3.11/site-packages/pystac_client/item_search.py:836: FutureWarning: get_items() is deprecated, use items() instead\n",
      "  warnings.warn(\n",
      "/opt/conda/envs/claymodel-latest-v2/lib/python3.11/site-packages/stackstac/prepare.py:408: UserWarning: The argument 'infer_datetime_format' is deprecated and will be removed in a future version. A strict version of it is now the default, see https://pandas.pydata.org/pdeps/0004-consistent-to-datetime-parsing.html. You can safely remove this argument.\n",
      "  times = pd.to_datetime(\n",
      " 60%|█████▉    | 200/336 [01:16<00:45,  2.96it/s]/opt/conda/envs/claymodel-latest-v2/lib/python3.11/site-packages/pystac_client/item_search.py:836: FutureWarning: get_items() is deprecated, use items() instead\n",
      "  warnings.warn(\n",
      "/opt/conda/envs/claymodel-latest-v2/lib/python3.11/site-packages/stackstac/prepare.py:408: UserWarning: The argument 'infer_datetime_format' is deprecated and will be removed in a future version. A strict version of it is now the default, see https://pandas.pydata.org/pdeps/0004-consistent-to-datetime-parsing.html. You can safely remove this argument.\n",
      "  times = pd.to_datetime(\n",
      " 60%|█████▉    | 201/336 [01:16<00:43,  3.08it/s]/opt/conda/envs/claymodel-latest-v2/lib/python3.11/site-packages/pystac_client/item_search.py:836: FutureWarning: get_items() is deprecated, use items() instead\n",
      "  warnings.warn(\n",
      "/opt/conda/envs/claymodel-latest-v2/lib/python3.11/site-packages/stackstac/prepare.py:408: UserWarning: The argument 'infer_datetime_format' is deprecated and will be removed in a future version. A strict version of it is now the default, see https://pandas.pydata.org/pdeps/0004-consistent-to-datetime-parsing.html. You can safely remove this argument.\n",
      "  times = pd.to_datetime(\n",
      " 60%|██████    | 202/336 [01:16<00:38,  3.52it/s]/opt/conda/envs/claymodel-latest-v2/lib/python3.11/site-packages/pystac_client/item_search.py:836: FutureWarning: get_items() is deprecated, use items() instead\n",
      "  warnings.warn(\n",
      "/opt/conda/envs/claymodel-latest-v2/lib/python3.11/site-packages/stackstac/prepare.py:408: UserWarning: The argument 'infer_datetime_format' is deprecated and will be removed in a future version. A strict version of it is now the default, see https://pandas.pydata.org/pdeps/0004-consistent-to-datetime-parsing.html. You can safely remove this argument.\n",
      "  times = pd.to_datetime(\n",
      " 60%|██████    | 203/336 [01:17<00:34,  3.87it/s]/opt/conda/envs/claymodel-latest-v2/lib/python3.11/site-packages/pystac_client/item_search.py:836: FutureWarning: get_items() is deprecated, use items() instead\n",
      "  warnings.warn(\n",
      "/opt/conda/envs/claymodel-latest-v2/lib/python3.11/site-packages/stackstac/prepare.py:408: UserWarning: The argument 'infer_datetime_format' is deprecated and will be removed in a future version. A strict version of it is now the default, see https://pandas.pydata.org/pdeps/0004-consistent-to-datetime-parsing.html. You can safely remove this argument.\n",
      "  times = pd.to_datetime(\n",
      " 61%|██████    | 204/336 [01:17<00:39,  3.38it/s]/opt/conda/envs/claymodel-latest-v2/lib/python3.11/site-packages/pystac_client/item_search.py:836: FutureWarning: get_items() is deprecated, use items() instead\n",
      "  warnings.warn(\n",
      "/opt/conda/envs/claymodel-latest-v2/lib/python3.11/site-packages/stackstac/prepare.py:408: UserWarning: The argument 'infer_datetime_format' is deprecated and will be removed in a future version. A strict version of it is now the default, see https://pandas.pydata.org/pdeps/0004-consistent-to-datetime-parsing.html. You can safely remove this argument.\n",
      "  times = pd.to_datetime(\n",
      " 61%|██████    | 205/336 [01:17<00:39,  3.35it/s]/opt/conda/envs/claymodel-latest-v2/lib/python3.11/site-packages/pystac_client/item_search.py:836: FutureWarning: get_items() is deprecated, use items() instead\n",
      "  warnings.warn(\n",
      "/opt/conda/envs/claymodel-latest-v2/lib/python3.11/site-packages/stackstac/prepare.py:408: UserWarning: The argument 'infer_datetime_format' is deprecated and will be removed in a future version. A strict version of it is now the default, see https://pandas.pydata.org/pdeps/0004-consistent-to-datetime-parsing.html. You can safely remove this argument.\n",
      "  times = pd.to_datetime(\n",
      " 61%|██████▏   | 206/336 [01:18<00:49,  2.65it/s]/opt/conda/envs/claymodel-latest-v2/lib/python3.11/site-packages/pystac_client/item_search.py:836: FutureWarning: get_items() is deprecated, use items() instead\n",
      "  warnings.warn(\n",
      "/opt/conda/envs/claymodel-latest-v2/lib/python3.11/site-packages/stackstac/prepare.py:408: UserWarning: The argument 'infer_datetime_format' is deprecated and will be removed in a future version. A strict version of it is now the default, see https://pandas.pydata.org/pdeps/0004-consistent-to-datetime-parsing.html. You can safely remove this argument.\n",
      "  times = pd.to_datetime(\n",
      " 62%|██████▏   | 207/336 [01:18<00:41,  3.13it/s]/opt/conda/envs/claymodel-latest-v2/lib/python3.11/site-packages/pystac_client/item_search.py:836: FutureWarning: get_items() is deprecated, use items() instead\n",
      "  warnings.warn(\n",
      "/opt/conda/envs/claymodel-latest-v2/lib/python3.11/site-packages/stackstac/prepare.py:408: UserWarning: The argument 'infer_datetime_format' is deprecated and will be removed in a future version. A strict version of it is now the default, see https://pandas.pydata.org/pdeps/0004-consistent-to-datetime-parsing.html. You can safely remove this argument.\n",
      "  times = pd.to_datetime(\n",
      " 62%|██████▏   | 208/336 [01:18<00:35,  3.58it/s]/opt/conda/envs/claymodel-latest-v2/lib/python3.11/site-packages/pystac_client/item_search.py:836: FutureWarning: get_items() is deprecated, use items() instead\n",
      "  warnings.warn(\n",
      "/opt/conda/envs/claymodel-latest-v2/lib/python3.11/site-packages/stackstac/prepare.py:408: UserWarning: The argument 'infer_datetime_format' is deprecated and will be removed in a future version. A strict version of it is now the default, see https://pandas.pydata.org/pdeps/0004-consistent-to-datetime-parsing.html. You can safely remove this argument.\n",
      "  times = pd.to_datetime(\n",
      " 62%|██████▏   | 209/336 [01:18<00:36,  3.52it/s]/opt/conda/envs/claymodel-latest-v2/lib/python3.11/site-packages/pystac_client/item_search.py:836: FutureWarning: get_items() is deprecated, use items() instead\n",
      "  warnings.warn(\n",
      "/opt/conda/envs/claymodel-latest-v2/lib/python3.11/site-packages/stackstac/prepare.py:408: UserWarning: The argument 'infer_datetime_format' is deprecated and will be removed in a future version. A strict version of it is now the default, see https://pandas.pydata.org/pdeps/0004-consistent-to-datetime-parsing.html. You can safely remove this argument.\n",
      "  times = pd.to_datetime(\n",
      " 62%|██████▎   | 210/336 [01:19<00:32,  3.91it/s]/opt/conda/envs/claymodel-latest-v2/lib/python3.11/site-packages/pystac_client/item_search.py:836: FutureWarning: get_items() is deprecated, use items() instead\n",
      "  warnings.warn(\n",
      "/opt/conda/envs/claymodel-latest-v2/lib/python3.11/site-packages/stackstac/prepare.py:408: UserWarning: The argument 'infer_datetime_format' is deprecated and will be removed in a future version. A strict version of it is now the default, see https://pandas.pydata.org/pdeps/0004-consistent-to-datetime-parsing.html. You can safely remove this argument.\n",
      "  times = pd.to_datetime(\n",
      " 63%|██████▎   | 211/336 [01:19<00:36,  3.44it/s]/opt/conda/envs/claymodel-latest-v2/lib/python3.11/site-packages/pystac_client/item_search.py:836: FutureWarning: get_items() is deprecated, use items() instead\n",
      "  warnings.warn(\n",
      "/opt/conda/envs/claymodel-latest-v2/lib/python3.11/site-packages/stackstac/prepare.py:408: UserWarning: The argument 'infer_datetime_format' is deprecated and will be removed in a future version. A strict version of it is now the default, see https://pandas.pydata.org/pdeps/0004-consistent-to-datetime-parsing.html. You can safely remove this argument.\n",
      "  times = pd.to_datetime(\n",
      " 63%|██████▎   | 212/336 [01:19<00:32,  3.84it/s]/opt/conda/envs/claymodel-latest-v2/lib/python3.11/site-packages/pystac_client/item_search.py:836: FutureWarning: get_items() is deprecated, use items() instead\n",
      "  warnings.warn(\n",
      "/opt/conda/envs/claymodel-latest-v2/lib/python3.11/site-packages/stackstac/prepare.py:408: UserWarning: The argument 'infer_datetime_format' is deprecated and will be removed in a future version. A strict version of it is now the default, see https://pandas.pydata.org/pdeps/0004-consistent-to-datetime-parsing.html. You can safely remove this argument.\n",
      "  times = pd.to_datetime(\n",
      " 63%|██████▎   | 213/336 [01:20<00:42,  2.90it/s]/opt/conda/envs/claymodel-latest-v2/lib/python3.11/site-packages/pystac_client/item_search.py:836: FutureWarning: get_items() is deprecated, use items() instead\n",
      "  warnings.warn(\n",
      "/opt/conda/envs/claymodel-latest-v2/lib/python3.11/site-packages/stackstac/prepare.py:408: UserWarning: The argument 'infer_datetime_format' is deprecated and will be removed in a future version. A strict version of it is now the default, see https://pandas.pydata.org/pdeps/0004-consistent-to-datetime-parsing.html. You can safely remove this argument.\n",
      "  times = pd.to_datetime(\n",
      " 64%|██████▎   | 214/336 [01:20<00:40,  3.03it/s]/opt/conda/envs/claymodel-latest-v2/lib/python3.11/site-packages/pystac_client/item_search.py:836: FutureWarning: get_items() is deprecated, use items() instead\n",
      "  warnings.warn(\n",
      "/opt/conda/envs/claymodel-latest-v2/lib/python3.11/site-packages/stackstac/prepare.py:408: UserWarning: The argument 'infer_datetime_format' is deprecated and will be removed in a future version. A strict version of it is now the default, see https://pandas.pydata.org/pdeps/0004-consistent-to-datetime-parsing.html. You can safely remove this argument.\n",
      "  times = pd.to_datetime(\n",
      " 64%|██████▍   | 215/336 [01:20<00:36,  3.32it/s]/opt/conda/envs/claymodel-latest-v2/lib/python3.11/site-packages/pystac_client/item_search.py:836: FutureWarning: get_items() is deprecated, use items() instead\n",
      "  warnings.warn(\n",
      "/opt/conda/envs/claymodel-latest-v2/lib/python3.11/site-packages/stackstac/prepare.py:408: UserWarning: The argument 'infer_datetime_format' is deprecated and will be removed in a future version. A strict version of it is now the default, see https://pandas.pydata.org/pdeps/0004-consistent-to-datetime-parsing.html. You can safely remove this argument.\n",
      "  times = pd.to_datetime(\n",
      " 64%|██████▍   | 216/336 [01:21<00:47,  2.54it/s]/opt/conda/envs/claymodel-latest-v2/lib/python3.11/site-packages/pystac_client/item_search.py:836: FutureWarning: get_items() is deprecated, use items() instead\n",
      "  warnings.warn(\n",
      "/opt/conda/envs/claymodel-latest-v2/lib/python3.11/site-packages/stackstac/prepare.py:408: UserWarning: The argument 'infer_datetime_format' is deprecated and will be removed in a future version. A strict version of it is now the default, see https://pandas.pydata.org/pdeps/0004-consistent-to-datetime-parsing.html. You can safely remove this argument.\n",
      "  times = pd.to_datetime(\n",
      " 65%|██████▍   | 217/336 [01:21<00:39,  2.98it/s]/opt/conda/envs/claymodel-latest-v2/lib/python3.11/site-packages/pystac_client/item_search.py:836: FutureWarning: get_items() is deprecated, use items() instead\n",
      "  warnings.warn(\n",
      "/opt/conda/envs/claymodel-latest-v2/lib/python3.11/site-packages/stackstac/prepare.py:408: UserWarning: The argument 'infer_datetime_format' is deprecated and will be removed in a future version. A strict version of it is now the default, see https://pandas.pydata.org/pdeps/0004-consistent-to-datetime-parsing.html. You can safely remove this argument.\n",
      "  times = pd.to_datetime(\n",
      " 65%|██████▍   | 218/336 [01:21<00:38,  3.10it/s]/opt/conda/envs/claymodel-latest-v2/lib/python3.11/site-packages/pystac_client/item_search.py:836: FutureWarning: get_items() is deprecated, use items() instead\n",
      "  warnings.warn(\n",
      "/opt/conda/envs/claymodel-latest-v2/lib/python3.11/site-packages/stackstac/prepare.py:408: UserWarning: The argument 'infer_datetime_format' is deprecated and will be removed in a future version. A strict version of it is now the default, see https://pandas.pydata.org/pdeps/0004-consistent-to-datetime-parsing.html. You can safely remove this argument.\n",
      "  times = pd.to_datetime(\n",
      " 65%|██████▌   | 219/336 [01:22<00:32,  3.57it/s]/opt/conda/envs/claymodel-latest-v2/lib/python3.11/site-packages/pystac_client/item_search.py:836: FutureWarning: get_items() is deprecated, use items() instead\n",
      "  warnings.warn(\n",
      "/opt/conda/envs/claymodel-latest-v2/lib/python3.11/site-packages/stackstac/prepare.py:408: UserWarning: The argument 'infer_datetime_format' is deprecated and will be removed in a future version. A strict version of it is now the default, see https://pandas.pydata.org/pdeps/0004-consistent-to-datetime-parsing.html. You can safely remove this argument.\n",
      "  times = pd.to_datetime(\n",
      " 65%|██████▌   | 220/336 [01:22<00:29,  4.00it/s]/opt/conda/envs/claymodel-latest-v2/lib/python3.11/site-packages/pystac_client/item_search.py:836: FutureWarning: get_items() is deprecated, use items() instead\n",
      "  warnings.warn(\n",
      "/opt/conda/envs/claymodel-latest-v2/lib/python3.11/site-packages/stackstac/prepare.py:408: UserWarning: The argument 'infer_datetime_format' is deprecated and will be removed in a future version. A strict version of it is now the default, see https://pandas.pydata.org/pdeps/0004-consistent-to-datetime-parsing.html. You can safely remove this argument.\n",
      "  times = pd.to_datetime(\n",
      " 66%|██████▌   | 221/336 [01:22<00:27,  4.14it/s]/opt/conda/envs/claymodel-latest-v2/lib/python3.11/site-packages/pystac_client/item_search.py:836: FutureWarning: get_items() is deprecated, use items() instead\n",
      "  warnings.warn(\n",
      "/opt/conda/envs/claymodel-latest-v2/lib/python3.11/site-packages/stackstac/prepare.py:408: UserWarning: The argument 'infer_datetime_format' is deprecated and will be removed in a future version. A strict version of it is now the default, see https://pandas.pydata.org/pdeps/0004-consistent-to-datetime-parsing.html. You can safely remove this argument.\n",
      "  times = pd.to_datetime(\n",
      " 66%|██████▌   | 222/336 [01:22<00:29,  3.84it/s]/opt/conda/envs/claymodel-latest-v2/lib/python3.11/site-packages/pystac_client/item_search.py:836: FutureWarning: get_items() is deprecated, use items() instead\n",
      "  warnings.warn(\n",
      "/opt/conda/envs/claymodel-latest-v2/lib/python3.11/site-packages/stackstac/prepare.py:408: UserWarning: The argument 'infer_datetime_format' is deprecated and will be removed in a future version. A strict version of it is now the default, see https://pandas.pydata.org/pdeps/0004-consistent-to-datetime-parsing.html. You can safely remove this argument.\n",
      "  times = pd.to_datetime(\n",
      " 66%|██████▋   | 223/336 [01:22<00:26,  4.24it/s]/opt/conda/envs/claymodel-latest-v2/lib/python3.11/site-packages/pystac_client/item_search.py:836: FutureWarning: get_items() is deprecated, use items() instead\n",
      "  warnings.warn(\n",
      "/opt/conda/envs/claymodel-latest-v2/lib/python3.11/site-packages/stackstac/prepare.py:408: UserWarning: The argument 'infer_datetime_format' is deprecated and will be removed in a future version. A strict version of it is now the default, see https://pandas.pydata.org/pdeps/0004-consistent-to-datetime-parsing.html. You can safely remove this argument.\n",
      "  times = pd.to_datetime(\n",
      " 67%|██████▋   | 224/336 [01:23<00:24,  4.53it/s]/opt/conda/envs/claymodel-latest-v2/lib/python3.11/site-packages/pystac_client/item_search.py:836: FutureWarning: get_items() is deprecated, use items() instead\n",
      "  warnings.warn(\n",
      "/opt/conda/envs/claymodel-latest-v2/lib/python3.11/site-packages/stackstac/prepare.py:408: UserWarning: The argument 'infer_datetime_format' is deprecated and will be removed in a future version. A strict version of it is now the default, see https://pandas.pydata.org/pdeps/0004-consistent-to-datetime-parsing.html. You can safely remove this argument.\n",
      "  times = pd.to_datetime(\n",
      " 67%|██████▋   | 225/336 [01:23<00:29,  3.73it/s]/opt/conda/envs/claymodel-latest-v2/lib/python3.11/site-packages/pystac_client/item_search.py:836: FutureWarning: get_items() is deprecated, use items() instead\n",
      "  warnings.warn(\n",
      "/opt/conda/envs/claymodel-latest-v2/lib/python3.11/site-packages/stackstac/prepare.py:408: UserWarning: The argument 'infer_datetime_format' is deprecated and will be removed in a future version. A strict version of it is now the default, see https://pandas.pydata.org/pdeps/0004-consistent-to-datetime-parsing.html. You can safely remove this argument.\n",
      "  times = pd.to_datetime(\n",
      " 67%|██████▋   | 226/336 [01:23<00:30,  3.66it/s]/opt/conda/envs/claymodel-latest-v2/lib/python3.11/site-packages/pystac_client/item_search.py:836: FutureWarning: get_items() is deprecated, use items() instead\n",
      "  warnings.warn(\n",
      "/opt/conda/envs/claymodel-latest-v2/lib/python3.11/site-packages/stackstac/prepare.py:408: UserWarning: The argument 'infer_datetime_format' is deprecated and will be removed in a future version. A strict version of it is now the default, see https://pandas.pydata.org/pdeps/0004-consistent-to-datetime-parsing.html. You can safely remove this argument.\n",
      "  times = pd.to_datetime(\n",
      " 68%|██████▊   | 227/336 [01:23<00:26,  4.07it/s]/opt/conda/envs/claymodel-latest-v2/lib/python3.11/site-packages/pystac_client/item_search.py:836: FutureWarning: get_items() is deprecated, use items() instead\n",
      "  warnings.warn(\n",
      "/opt/conda/envs/claymodel-latest-v2/lib/python3.11/site-packages/stackstac/prepare.py:408: UserWarning: The argument 'infer_datetime_format' is deprecated and will be removed in a future version. A strict version of it is now the default, see https://pandas.pydata.org/pdeps/0004-consistent-to-datetime-parsing.html. You can safely remove this argument.\n",
      "  times = pd.to_datetime(\n",
      " 68%|██████▊   | 228/336 [01:24<00:24,  4.39it/s]/opt/conda/envs/claymodel-latest-v2/lib/python3.11/site-packages/pystac_client/item_search.py:836: FutureWarning: get_items() is deprecated, use items() instead\n",
      "  warnings.warn(\n",
      "/opt/conda/envs/claymodel-latest-v2/lib/python3.11/site-packages/stackstac/prepare.py:408: UserWarning: The argument 'infer_datetime_format' is deprecated and will be removed in a future version. A strict version of it is now the default, see https://pandas.pydata.org/pdeps/0004-consistent-to-datetime-parsing.html. You can safely remove this argument.\n",
      "  times = pd.to_datetime(\n",
      " 68%|██████▊   | 229/336 [01:24<00:23,  4.63it/s]/opt/conda/envs/claymodel-latest-v2/lib/python3.11/site-packages/pystac_client/item_search.py:836: FutureWarning: get_items() is deprecated, use items() instead\n",
      "  warnings.warn(\n",
      "/opt/conda/envs/claymodel-latest-v2/lib/python3.11/site-packages/stackstac/prepare.py:408: UserWarning: The argument 'infer_datetime_format' is deprecated and will be removed in a future version. A strict version of it is now the default, see https://pandas.pydata.org/pdeps/0004-consistent-to-datetime-parsing.html. You can safely remove this argument.\n",
      "  times = pd.to_datetime(\n",
      " 68%|██████▊   | 230/336 [01:24<00:25,  4.18it/s]/opt/conda/envs/claymodel-latest-v2/lib/python3.11/site-packages/pystac_client/item_search.py:836: FutureWarning: get_items() is deprecated, use items() instead\n",
      "  warnings.warn(\n",
      "/opt/conda/envs/claymodel-latest-v2/lib/python3.11/site-packages/stackstac/prepare.py:408: UserWarning: The argument 'infer_datetime_format' is deprecated and will be removed in a future version. A strict version of it is now the default, see https://pandas.pydata.org/pdeps/0004-consistent-to-datetime-parsing.html. You can safely remove this argument.\n",
      "  times = pd.to_datetime(\n",
      " 69%|██████▉   | 231/336 [01:24<00:23,  4.50it/s]/opt/conda/envs/claymodel-latest-v2/lib/python3.11/site-packages/pystac_client/item_search.py:836: FutureWarning: get_items() is deprecated, use items() instead\n",
      "  warnings.warn(\n",
      "/opt/conda/envs/claymodel-latest-v2/lib/python3.11/site-packages/stackstac/prepare.py:408: UserWarning: The argument 'infer_datetime_format' is deprecated and will be removed in a future version. A strict version of it is now the default, see https://pandas.pydata.org/pdeps/0004-consistent-to-datetime-parsing.html. You can safely remove this argument.\n",
      "  times = pd.to_datetime(\n",
      " 69%|██████▉   | 232/336 [01:26<01:13,  1.41it/s]/opt/conda/envs/claymodel-latest-v2/lib/python3.11/site-packages/pystac_client/item_search.py:836: FutureWarning: get_items() is deprecated, use items() instead\n",
      "  warnings.warn(\n",
      "/opt/conda/envs/claymodel-latest-v2/lib/python3.11/site-packages/stackstac/prepare.py:408: UserWarning: The argument 'infer_datetime_format' is deprecated and will be removed in a future version. A strict version of it is now the default, see https://pandas.pydata.org/pdeps/0004-consistent-to-datetime-parsing.html. You can safely remove this argument.\n",
      "  times = pd.to_datetime(\n",
      " 69%|██████▉   | 233/336 [01:27<01:03,  1.61it/s]/opt/conda/envs/claymodel-latest-v2/lib/python3.11/site-packages/pystac_client/item_search.py:836: FutureWarning: get_items() is deprecated, use items() instead\n",
      "  warnings.warn(\n",
      "/opt/conda/envs/claymodel-latest-v2/lib/python3.11/site-packages/stackstac/prepare.py:408: UserWarning: The argument 'infer_datetime_format' is deprecated and will be removed in a future version. A strict version of it is now the default, see https://pandas.pydata.org/pdeps/0004-consistent-to-datetime-parsing.html. You can safely remove this argument.\n",
      "  times = pd.to_datetime(\n",
      " 70%|██████▉   | 234/336 [01:27<01:06,  1.54it/s]/opt/conda/envs/claymodel-latest-v2/lib/python3.11/site-packages/pystac_client/item_search.py:836: FutureWarning: get_items() is deprecated, use items() instead\n",
      "  warnings.warn(\n",
      "/opt/conda/envs/claymodel-latest-v2/lib/python3.11/site-packages/stackstac/prepare.py:408: UserWarning: The argument 'infer_datetime_format' is deprecated and will be removed in a future version. A strict version of it is now the default, see https://pandas.pydata.org/pdeps/0004-consistent-to-datetime-parsing.html. You can safely remove this argument.\n",
      "  times = pd.to_datetime(\n",
      " 70%|██████▉   | 235/336 [01:28<00:59,  1.69it/s]/opt/conda/envs/claymodel-latest-v2/lib/python3.11/site-packages/pystac_client/item_search.py:836: FutureWarning: get_items() is deprecated, use items() instead\n",
      "  warnings.warn(\n",
      "/opt/conda/envs/claymodel-latest-v2/lib/python3.11/site-packages/stackstac/prepare.py:408: UserWarning: The argument 'infer_datetime_format' is deprecated and will be removed in a future version. A strict version of it is now the default, see https://pandas.pydata.org/pdeps/0004-consistent-to-datetime-parsing.html. You can safely remove this argument.\n",
      "  times = pd.to_datetime(\n",
      " 70%|███████   | 236/336 [01:28<00:53,  1.88it/s]/opt/conda/envs/claymodel-latest-v2/lib/python3.11/site-packages/pystac_client/item_search.py:836: FutureWarning: get_items() is deprecated, use items() instead\n",
      "  warnings.warn(\n",
      "/opt/conda/envs/claymodel-latest-v2/lib/python3.11/site-packages/stackstac/prepare.py:408: UserWarning: The argument 'infer_datetime_format' is deprecated and will be removed in a future version. A strict version of it is now the default, see https://pandas.pydata.org/pdeps/0004-consistent-to-datetime-parsing.html. You can safely remove this argument.\n",
      "  times = pd.to_datetime(\n",
      " 71%|███████   | 237/336 [01:29<00:50,  1.97it/s]/opt/conda/envs/claymodel-latest-v2/lib/python3.11/site-packages/pystac_client/item_search.py:836: FutureWarning: get_items() is deprecated, use items() instead\n",
      "  warnings.warn(\n",
      "/opt/conda/envs/claymodel-latest-v2/lib/python3.11/site-packages/stackstac/prepare.py:408: UserWarning: The argument 'infer_datetime_format' is deprecated and will be removed in a future version. A strict version of it is now the default, see https://pandas.pydata.org/pdeps/0004-consistent-to-datetime-parsing.html. You can safely remove this argument.\n",
      "  times = pd.to_datetime(\n",
      " 71%|███████   | 238/336 [01:29<00:43,  2.23it/s]/opt/conda/envs/claymodel-latest-v2/lib/python3.11/site-packages/pystac_client/item_search.py:836: FutureWarning: get_items() is deprecated, use items() instead\n",
      "  warnings.warn(\n",
      "/opt/conda/envs/claymodel-latest-v2/lib/python3.11/site-packages/stackstac/prepare.py:408: UserWarning: The argument 'infer_datetime_format' is deprecated and will be removed in a future version. A strict version of it is now the default, see https://pandas.pydata.org/pdeps/0004-consistent-to-datetime-parsing.html. You can safely remove this argument.\n",
      "  times = pd.to_datetime(\n",
      " 71%|███████   | 239/336 [01:30<00:59,  1.64it/s]/opt/conda/envs/claymodel-latest-v2/lib/python3.11/site-packages/pystac_client/item_search.py:836: FutureWarning: get_items() is deprecated, use items() instead\n",
      "  warnings.warn(\n",
      "/opt/conda/envs/claymodel-latest-v2/lib/python3.11/site-packages/stackstac/prepare.py:408: UserWarning: The argument 'infer_datetime_format' is deprecated and will be removed in a future version. A strict version of it is now the default, see https://pandas.pydata.org/pdeps/0004-consistent-to-datetime-parsing.html. You can safely remove this argument.\n",
      "  times = pd.to_datetime(\n",
      " 71%|███████▏  | 240/336 [01:30<00:52,  1.85it/s]/opt/conda/envs/claymodel-latest-v2/lib/python3.11/site-packages/pystac_client/item_search.py:836: FutureWarning: get_items() is deprecated, use items() instead\n",
      "  warnings.warn(\n",
      "/opt/conda/envs/claymodel-latest-v2/lib/python3.11/site-packages/stackstac/prepare.py:408: UserWarning: The argument 'infer_datetime_format' is deprecated and will be removed in a future version. A strict version of it is now the default, see https://pandas.pydata.org/pdeps/0004-consistent-to-datetime-parsing.html. You can safely remove this argument.\n",
      "  times = pd.to_datetime(\n",
      " 72%|███████▏  | 241/336 [01:31<00:44,  2.14it/s]/opt/conda/envs/claymodel-latest-v2/lib/python3.11/site-packages/pystac_client/item_search.py:836: FutureWarning: get_items() is deprecated, use items() instead\n",
      "  warnings.warn(\n",
      "/opt/conda/envs/claymodel-latest-v2/lib/python3.11/site-packages/stackstac/prepare.py:408: UserWarning: The argument 'infer_datetime_format' is deprecated and will be removed in a future version. A strict version of it is now the default, see https://pandas.pydata.org/pdeps/0004-consistent-to-datetime-parsing.html. You can safely remove this argument.\n",
      "  times = pd.to_datetime(\n",
      " 72%|███████▏  | 242/336 [01:31<00:48,  1.93it/s]/opt/conda/envs/claymodel-latest-v2/lib/python3.11/site-packages/pystac_client/item_search.py:836: FutureWarning: get_items() is deprecated, use items() instead\n",
      "  warnings.warn(\n",
      "/opt/conda/envs/claymodel-latest-v2/lib/python3.11/site-packages/stackstac/prepare.py:408: UserWarning: The argument 'infer_datetime_format' is deprecated and will be removed in a future version. A strict version of it is now the default, see https://pandas.pydata.org/pdeps/0004-consistent-to-datetime-parsing.html. You can safely remove this argument.\n",
      "  times = pd.to_datetime(\n",
      " 72%|███████▏  | 243/336 [01:32<00:47,  1.94it/s]/opt/conda/envs/claymodel-latest-v2/lib/python3.11/site-packages/pystac_client/item_search.py:836: FutureWarning: get_items() is deprecated, use items() instead\n",
      "  warnings.warn(\n",
      "/opt/conda/envs/claymodel-latest-v2/lib/python3.11/site-packages/stackstac/prepare.py:408: UserWarning: The argument 'infer_datetime_format' is deprecated and will be removed in a future version. A strict version of it is now the default, see https://pandas.pydata.org/pdeps/0004-consistent-to-datetime-parsing.html. You can safely remove this argument.\n",
      "  times = pd.to_datetime(\n",
      " 73%|███████▎  | 244/336 [01:32<00:52,  1.75it/s]/opt/conda/envs/claymodel-latest-v2/lib/python3.11/site-packages/pystac_client/item_search.py:836: FutureWarning: get_items() is deprecated, use items() instead\n",
      "  warnings.warn(\n",
      "/opt/conda/envs/claymodel-latest-v2/lib/python3.11/site-packages/stackstac/prepare.py:408: UserWarning: The argument 'infer_datetime_format' is deprecated and will be removed in a future version. A strict version of it is now the default, see https://pandas.pydata.org/pdeps/0004-consistent-to-datetime-parsing.html. You can safely remove this argument.\n",
      "  times = pd.to_datetime(\n",
      " 73%|███████▎  | 245/336 [01:33<00:44,  2.06it/s]/opt/conda/envs/claymodel-latest-v2/lib/python3.11/site-packages/pystac_client/item_search.py:836: FutureWarning: get_items() is deprecated, use items() instead\n",
      "  warnings.warn(\n",
      "/opt/conda/envs/claymodel-latest-v2/lib/python3.11/site-packages/stackstac/prepare.py:408: UserWarning: The argument 'infer_datetime_format' is deprecated and will be removed in a future version. A strict version of it is now the default, see https://pandas.pydata.org/pdeps/0004-consistent-to-datetime-parsing.html. You can safely remove this argument.\n",
      "  times = pd.to_datetime(\n",
      " 73%|███████▎  | 246/336 [01:33<00:42,  2.14it/s]/opt/conda/envs/claymodel-latest-v2/lib/python3.11/site-packages/pystac_client/item_search.py:836: FutureWarning: get_items() is deprecated, use items() instead\n",
      "  warnings.warn(\n",
      "/opt/conda/envs/claymodel-latest-v2/lib/python3.11/site-packages/stackstac/prepare.py:408: UserWarning: The argument 'infer_datetime_format' is deprecated and will be removed in a future version. A strict version of it is now the default, see https://pandas.pydata.org/pdeps/0004-consistent-to-datetime-parsing.html. You can safely remove this argument.\n",
      "  times = pd.to_datetime(\n",
      " 74%|███████▎  | 247/336 [01:34<00:43,  2.04it/s]/opt/conda/envs/claymodel-latest-v2/lib/python3.11/site-packages/pystac_client/item_search.py:836: FutureWarning: get_items() is deprecated, use items() instead\n",
      "  warnings.warn(\n",
      "/opt/conda/envs/claymodel-latest-v2/lib/python3.11/site-packages/stackstac/prepare.py:408: UserWarning: The argument 'infer_datetime_format' is deprecated and will be removed in a future version. A strict version of it is now the default, see https://pandas.pydata.org/pdeps/0004-consistent-to-datetime-parsing.html. You can safely remove this argument.\n",
      "  times = pd.to_datetime(\n",
      " 74%|███████▍  | 248/336 [01:34<00:38,  2.28it/s]/opt/conda/envs/claymodel-latest-v2/lib/python3.11/site-packages/pystac_client/item_search.py:836: FutureWarning: get_items() is deprecated, use items() instead\n",
      "  warnings.warn(\n",
      "/opt/conda/envs/claymodel-latest-v2/lib/python3.11/site-packages/stackstac/prepare.py:408: UserWarning: The argument 'infer_datetime_format' is deprecated and will be removed in a future version. A strict version of it is now the default, see https://pandas.pydata.org/pdeps/0004-consistent-to-datetime-parsing.html. You can safely remove this argument.\n",
      "  times = pd.to_datetime(\n",
      " 74%|███████▍  | 249/336 [01:35<00:43,  2.00it/s]/opt/conda/envs/claymodel-latest-v2/lib/python3.11/site-packages/pystac_client/item_search.py:836: FutureWarning: get_items() is deprecated, use items() instead\n",
      "  warnings.warn(\n",
      "/opt/conda/envs/claymodel-latest-v2/lib/python3.11/site-packages/stackstac/prepare.py:408: UserWarning: The argument 'infer_datetime_format' is deprecated and will be removed in a future version. A strict version of it is now the default, see https://pandas.pydata.org/pdeps/0004-consistent-to-datetime-parsing.html. You can safely remove this argument.\n",
      "  times = pd.to_datetime(\n",
      " 74%|███████▍  | 250/336 [01:35<00:39,  2.20it/s]/opt/conda/envs/claymodel-latest-v2/lib/python3.11/site-packages/pystac_client/item_search.py:836: FutureWarning: get_items() is deprecated, use items() instead\n",
      "  warnings.warn(\n",
      "/opt/conda/envs/claymodel-latest-v2/lib/python3.11/site-packages/stackstac/prepare.py:408: UserWarning: The argument 'infer_datetime_format' is deprecated and will be removed in a future version. A strict version of it is now the default, see https://pandas.pydata.org/pdeps/0004-consistent-to-datetime-parsing.html. You can safely remove this argument.\n",
      "  times = pd.to_datetime(\n",
      " 75%|███████▍  | 251/336 [01:36<00:47,  1.80it/s]/opt/conda/envs/claymodel-latest-v2/lib/python3.11/site-packages/pystac_client/item_search.py:836: FutureWarning: get_items() is deprecated, use items() instead\n",
      "  warnings.warn(\n",
      "/opt/conda/envs/claymodel-latest-v2/lib/python3.11/site-packages/stackstac/prepare.py:408: UserWarning: The argument 'infer_datetime_format' is deprecated and will be removed in a future version. A strict version of it is now the default, see https://pandas.pydata.org/pdeps/0004-consistent-to-datetime-parsing.html. You can safely remove this argument.\n",
      "  times = pd.to_datetime(\n",
      " 75%|███████▌  | 252/336 [01:36<00:40,  2.10it/s]/opt/conda/envs/claymodel-latest-v2/lib/python3.11/site-packages/pystac_client/item_search.py:836: FutureWarning: get_items() is deprecated, use items() instead\n",
      "  warnings.warn(\n",
      "/opt/conda/envs/claymodel-latest-v2/lib/python3.11/site-packages/stackstac/prepare.py:408: UserWarning: The argument 'infer_datetime_format' is deprecated and will be removed in a future version. A strict version of it is now the default, see https://pandas.pydata.org/pdeps/0004-consistent-to-datetime-parsing.html. You can safely remove this argument.\n",
      "  times = pd.to_datetime(\n",
      " 75%|███████▌  | 253/336 [01:36<00:34,  2.39it/s]/opt/conda/envs/claymodel-latest-v2/lib/python3.11/site-packages/pystac_client/item_search.py:836: FutureWarning: get_items() is deprecated, use items() instead\n",
      "  warnings.warn(\n",
      "/opt/conda/envs/claymodel-latest-v2/lib/python3.11/site-packages/stackstac/prepare.py:408: UserWarning: The argument 'infer_datetime_format' is deprecated and will be removed in a future version. A strict version of it is now the default, see https://pandas.pydata.org/pdeps/0004-consistent-to-datetime-parsing.html. You can safely remove this argument.\n",
      "  times = pd.to_datetime(\n",
      " 76%|███████▌  | 254/336 [01:37<00:37,  2.18it/s]/opt/conda/envs/claymodel-latest-v2/lib/python3.11/site-packages/pystac_client/item_search.py:836: FutureWarning: get_items() is deprecated, use items() instead\n",
      "  warnings.warn(\n",
      "/opt/conda/envs/claymodel-latest-v2/lib/python3.11/site-packages/stackstac/prepare.py:408: UserWarning: The argument 'infer_datetime_format' is deprecated and will be removed in a future version. A strict version of it is now the default, see https://pandas.pydata.org/pdeps/0004-consistent-to-datetime-parsing.html. You can safely remove this argument.\n",
      "  times = pd.to_datetime(\n",
      " 76%|███████▌  | 255/336 [01:37<00:35,  2.30it/s]/opt/conda/envs/claymodel-latest-v2/lib/python3.11/site-packages/pystac_client/item_search.py:836: FutureWarning: get_items() is deprecated, use items() instead\n",
      "  warnings.warn(\n",
      "/opt/conda/envs/claymodel-latest-v2/lib/python3.11/site-packages/stackstac/prepare.py:408: UserWarning: The argument 'infer_datetime_format' is deprecated and will be removed in a future version. A strict version of it is now the default, see https://pandas.pydata.org/pdeps/0004-consistent-to-datetime-parsing.html. You can safely remove this argument.\n",
      "  times = pd.to_datetime(\n",
      " 76%|███████▌  | 256/336 [01:38<00:31,  2.55it/s]/opt/conda/envs/claymodel-latest-v2/lib/python3.11/site-packages/pystac_client/item_search.py:836: FutureWarning: get_items() is deprecated, use items() instead\n",
      "  warnings.warn(\n",
      "/opt/conda/envs/claymodel-latest-v2/lib/python3.11/site-packages/stackstac/prepare.py:408: UserWarning: The argument 'infer_datetime_format' is deprecated and will be removed in a future version. A strict version of it is now the default, see https://pandas.pydata.org/pdeps/0004-consistent-to-datetime-parsing.html. You can safely remove this argument.\n",
      "  times = pd.to_datetime(\n",
      " 76%|███████▋  | 257/336 [01:38<00:26,  3.03it/s]/opt/conda/envs/claymodel-latest-v2/lib/python3.11/site-packages/pystac_client/item_search.py:836: FutureWarning: get_items() is deprecated, use items() instead\n",
      "  warnings.warn(\n",
      "/opt/conda/envs/claymodel-latest-v2/lib/python3.11/site-packages/stackstac/prepare.py:408: UserWarning: The argument 'infer_datetime_format' is deprecated and will be removed in a future version. A strict version of it is now the default, see https://pandas.pydata.org/pdeps/0004-consistent-to-datetime-parsing.html. You can safely remove this argument.\n",
      "  times = pd.to_datetime(\n",
      " 77%|███████▋  | 258/336 [01:38<00:22,  3.48it/s]/opt/conda/envs/claymodel-latest-v2/lib/python3.11/site-packages/pystac_client/item_search.py:836: FutureWarning: get_items() is deprecated, use items() instead\n",
      "  warnings.warn(\n",
      "/opt/conda/envs/claymodel-latest-v2/lib/python3.11/site-packages/stackstac/prepare.py:408: UserWarning: The argument 'infer_datetime_format' is deprecated and will be removed in a future version. A strict version of it is now the default, see https://pandas.pydata.org/pdeps/0004-consistent-to-datetime-parsing.html. You can safely remove this argument.\n",
      "  times = pd.to_datetime(\n",
      " 77%|███████▋  | 259/336 [01:38<00:19,  3.89it/s]/opt/conda/envs/claymodel-latest-v2/lib/python3.11/site-packages/pystac_client/item_search.py:836: FutureWarning: get_items() is deprecated, use items() instead\n",
      "  warnings.warn(\n",
      "/opt/conda/envs/claymodel-latest-v2/lib/python3.11/site-packages/stackstac/prepare.py:408: UserWarning: The argument 'infer_datetime_format' is deprecated and will be removed in a future version. A strict version of it is now the default, see https://pandas.pydata.org/pdeps/0004-consistent-to-datetime-parsing.html. You can safely remove this argument.\n",
      "  times = pd.to_datetime(\n",
      " 77%|███████▋  | 260/336 [01:39<00:29,  2.62it/s]/opt/conda/envs/claymodel-latest-v2/lib/python3.11/site-packages/pystac_client/item_search.py:836: FutureWarning: get_items() is deprecated, use items() instead\n",
      "  warnings.warn(\n",
      "/opt/conda/envs/claymodel-latest-v2/lib/python3.11/site-packages/stackstac/prepare.py:408: UserWarning: The argument 'infer_datetime_format' is deprecated and will be removed in a future version. A strict version of it is now the default, see https://pandas.pydata.org/pdeps/0004-consistent-to-datetime-parsing.html. You can safely remove this argument.\n",
      "  times = pd.to_datetime(\n",
      " 78%|███████▊  | 261/336 [01:39<00:24,  3.11it/s]/opt/conda/envs/claymodel-latest-v2/lib/python3.11/site-packages/pystac_client/item_search.py:836: FutureWarning: get_items() is deprecated, use items() instead\n",
      "  warnings.warn(\n",
      "/opt/conda/envs/claymodel-latest-v2/lib/python3.11/site-packages/stackstac/prepare.py:408: UserWarning: The argument 'infer_datetime_format' is deprecated and will be removed in a future version. A strict version of it is now the default, see https://pandas.pydata.org/pdeps/0004-consistent-to-datetime-parsing.html. You can safely remove this argument.\n",
      "  times = pd.to_datetime(\n",
      " 78%|███████▊  | 262/336 [01:39<00:20,  3.57it/s]/opt/conda/envs/claymodel-latest-v2/lib/python3.11/site-packages/pystac_client/item_search.py:836: FutureWarning: get_items() is deprecated, use items() instead\n",
      "  warnings.warn(\n",
      "/opt/conda/envs/claymodel-latest-v2/lib/python3.11/site-packages/stackstac/prepare.py:408: UserWarning: The argument 'infer_datetime_format' is deprecated and will be removed in a future version. A strict version of it is now the default, see https://pandas.pydata.org/pdeps/0004-consistent-to-datetime-parsing.html. You can safely remove this argument.\n",
      "  times = pd.to_datetime(\n",
      " 78%|███████▊  | 263/336 [01:39<00:18,  3.98it/s]/opt/conda/envs/claymodel-latest-v2/lib/python3.11/site-packages/pystac_client/item_search.py:836: FutureWarning: get_items() is deprecated, use items() instead\n",
      "  warnings.warn(\n",
      "/opt/conda/envs/claymodel-latest-v2/lib/python3.11/site-packages/stackstac/prepare.py:408: UserWarning: The argument 'infer_datetime_format' is deprecated and will be removed in a future version. A strict version of it is now the default, see https://pandas.pydata.org/pdeps/0004-consistent-to-datetime-parsing.html. You can safely remove this argument.\n",
      "  times = pd.to_datetime(\n",
      " 79%|███████▊  | 264/336 [01:40<00:19,  3.79it/s]/opt/conda/envs/claymodel-latest-v2/lib/python3.11/site-packages/pystac_client/item_search.py:836: FutureWarning: get_items() is deprecated, use items() instead\n",
      "  warnings.warn(\n",
      "/opt/conda/envs/claymodel-latest-v2/lib/python3.11/site-packages/stackstac/prepare.py:408: UserWarning: The argument 'infer_datetime_format' is deprecated and will be removed in a future version. A strict version of it is now the default, see https://pandas.pydata.org/pdeps/0004-consistent-to-datetime-parsing.html. You can safely remove this argument.\n",
      "  times = pd.to_datetime(\n",
      " 79%|███████▉  | 265/336 [01:40<00:16,  4.19it/s]/opt/conda/envs/claymodel-latest-v2/lib/python3.11/site-packages/pystac_client/item_search.py:836: FutureWarning: get_items() is deprecated, use items() instead\n",
      "  warnings.warn(\n",
      "/opt/conda/envs/claymodel-latest-v2/lib/python3.11/site-packages/stackstac/prepare.py:408: UserWarning: The argument 'infer_datetime_format' is deprecated and will be removed in a future version. A strict version of it is now the default, see https://pandas.pydata.org/pdeps/0004-consistent-to-datetime-parsing.html. You can safely remove this argument.\n",
      "  times = pd.to_datetime(\n",
      " 79%|███████▉  | 266/336 [01:40<00:15,  4.46it/s]/opt/conda/envs/claymodel-latest-v2/lib/python3.11/site-packages/pystac_client/item_search.py:836: FutureWarning: get_items() is deprecated, use items() instead\n",
      "  warnings.warn(\n",
      "/opt/conda/envs/claymodel-latest-v2/lib/python3.11/site-packages/stackstac/prepare.py:408: UserWarning: The argument 'infer_datetime_format' is deprecated and will be removed in a future version. A strict version of it is now the default, see https://pandas.pydata.org/pdeps/0004-consistent-to-datetime-parsing.html. You can safely remove this argument.\n",
      "  times = pd.to_datetime(\n",
      " 79%|███████▉  | 267/336 [01:40<00:14,  4.74it/s]/opt/conda/envs/claymodel-latest-v2/lib/python3.11/site-packages/pystac_client/item_search.py:836: FutureWarning: get_items() is deprecated, use items() instead\n",
      "  warnings.warn(\n",
      "/opt/conda/envs/claymodel-latest-v2/lib/python3.11/site-packages/stackstac/prepare.py:408: UserWarning: The argument 'infer_datetime_format' is deprecated and will be removed in a future version. A strict version of it is now the default, see https://pandas.pydata.org/pdeps/0004-consistent-to-datetime-parsing.html. You can safely remove this argument.\n",
      "  times = pd.to_datetime(\n",
      " 80%|███████▉  | 268/336 [01:41<00:17,  3.83it/s]/opt/conda/envs/claymodel-latest-v2/lib/python3.11/site-packages/pystac_client/item_search.py:836: FutureWarning: get_items() is deprecated, use items() instead\n",
      "  warnings.warn(\n",
      "/opt/conda/envs/claymodel-latest-v2/lib/python3.11/site-packages/stackstac/prepare.py:408: UserWarning: The argument 'infer_datetime_format' is deprecated and will be removed in a future version. A strict version of it is now the default, see https://pandas.pydata.org/pdeps/0004-consistent-to-datetime-parsing.html. You can safely remove this argument.\n",
      "  times = pd.to_datetime(\n",
      " 80%|████████  | 269/336 [01:41<00:16,  4.18it/s]/opt/conda/envs/claymodel-latest-v2/lib/python3.11/site-packages/pystac_client/item_search.py:836: FutureWarning: get_items() is deprecated, use items() instead\n",
      "  warnings.warn(\n",
      "/opt/conda/envs/claymodel-latest-v2/lib/python3.11/site-packages/stackstac/prepare.py:408: UserWarning: The argument 'infer_datetime_format' is deprecated and will be removed in a future version. A strict version of it is now the default, see https://pandas.pydata.org/pdeps/0004-consistent-to-datetime-parsing.html. You can safely remove this argument.\n",
      "  times = pd.to_datetime(\n",
      " 80%|████████  | 270/336 [01:41<00:21,  3.02it/s]/opt/conda/envs/claymodel-latest-v2/lib/python3.11/site-packages/pystac_client/item_search.py:836: FutureWarning: get_items() is deprecated, use items() instead\n",
      "  warnings.warn(\n",
      "/opt/conda/envs/claymodel-latest-v2/lib/python3.11/site-packages/stackstac/prepare.py:408: UserWarning: The argument 'infer_datetime_format' is deprecated and will be removed in a future version. A strict version of it is now the default, see https://pandas.pydata.org/pdeps/0004-consistent-to-datetime-parsing.html. You can safely remove this argument.\n",
      "  times = pd.to_datetime(\n",
      " 81%|████████  | 271/336 [01:41<00:18,  3.47it/s]/opt/conda/envs/claymodel-latest-v2/lib/python3.11/site-packages/pystac_client/item_search.py:836: FutureWarning: get_items() is deprecated, use items() instead\n",
      "  warnings.warn(\n",
      "/opt/conda/envs/claymodel-latest-v2/lib/python3.11/site-packages/stackstac/prepare.py:408: UserWarning: The argument 'infer_datetime_format' is deprecated and will be removed in a future version. A strict version of it is now the default, see https://pandas.pydata.org/pdeps/0004-consistent-to-datetime-parsing.html. You can safely remove this argument.\n",
      "  times = pd.to_datetime(\n",
      " 81%|████████  | 272/336 [01:42<00:25,  2.50it/s]/opt/conda/envs/claymodel-latest-v2/lib/python3.11/site-packages/pystac_client/item_search.py:836: FutureWarning: get_items() is deprecated, use items() instead\n",
      "  warnings.warn(\n",
      "/opt/conda/envs/claymodel-latest-v2/lib/python3.11/site-packages/stackstac/prepare.py:408: UserWarning: The argument 'infer_datetime_format' is deprecated and will be removed in a future version. A strict version of it is now the default, see https://pandas.pydata.org/pdeps/0004-consistent-to-datetime-parsing.html. You can safely remove this argument.\n",
      "  times = pd.to_datetime(\n",
      " 81%|████████▏ | 273/336 [01:42<00:21,  2.97it/s]/opt/conda/envs/claymodel-latest-v2/lib/python3.11/site-packages/pystac_client/item_search.py:836: FutureWarning: get_items() is deprecated, use items() instead\n",
      "  warnings.warn(\n",
      "/opt/conda/envs/claymodel-latest-v2/lib/python3.11/site-packages/stackstac/prepare.py:408: UserWarning: The argument 'infer_datetime_format' is deprecated and will be removed in a future version. A strict version of it is now the default, see https://pandas.pydata.org/pdeps/0004-consistent-to-datetime-parsing.html. You can safely remove this argument.\n",
      "  times = pd.to_datetime(\n",
      " 82%|████████▏ | 274/336 [01:43<00:21,  2.91it/s]/opt/conda/envs/claymodel-latest-v2/lib/python3.11/site-packages/pystac_client/item_search.py:836: FutureWarning: get_items() is deprecated, use items() instead\n",
      "  warnings.warn(\n",
      "/opt/conda/envs/claymodel-latest-v2/lib/python3.11/site-packages/stackstac/prepare.py:408: UserWarning: The argument 'infer_datetime_format' is deprecated and will be removed in a future version. A strict version of it is now the default, see https://pandas.pydata.org/pdeps/0004-consistent-to-datetime-parsing.html. You can safely remove this argument.\n",
      "  times = pd.to_datetime(\n",
      " 82%|████████▏ | 275/336 [01:43<00:18,  3.36it/s]/opt/conda/envs/claymodel-latest-v2/lib/python3.11/site-packages/pystac_client/item_search.py:836: FutureWarning: get_items() is deprecated, use items() instead\n",
      "  warnings.warn(\n",
      "/opt/conda/envs/claymodel-latest-v2/lib/python3.11/site-packages/stackstac/prepare.py:408: UserWarning: The argument 'infer_datetime_format' is deprecated and will be removed in a future version. A strict version of it is now the default, see https://pandas.pydata.org/pdeps/0004-consistent-to-datetime-parsing.html. You can safely remove this argument.\n",
      "  times = pd.to_datetime(\n",
      " 82%|████████▏ | 276/336 [01:43<00:15,  3.80it/s]/opt/conda/envs/claymodel-latest-v2/lib/python3.11/site-packages/pystac_client/item_search.py:836: FutureWarning: get_items() is deprecated, use items() instead\n",
      "  warnings.warn(\n",
      "/opt/conda/envs/claymodel-latest-v2/lib/python3.11/site-packages/stackstac/prepare.py:408: UserWarning: The argument 'infer_datetime_format' is deprecated and will be removed in a future version. A strict version of it is now the default, see https://pandas.pydata.org/pdeps/0004-consistent-to-datetime-parsing.html. You can safely remove this argument.\n",
      "  times = pd.to_datetime(\n",
      " 82%|████████▏ | 277/336 [01:44<00:22,  2.58it/s]/opt/conda/envs/claymodel-latest-v2/lib/python3.11/site-packages/pystac_client/item_search.py:836: FutureWarning: get_items() is deprecated, use items() instead\n",
      "  warnings.warn(\n",
      "/opt/conda/envs/claymodel-latest-v2/lib/python3.11/site-packages/stackstac/prepare.py:408: UserWarning: The argument 'infer_datetime_format' is deprecated and will be removed in a future version. A strict version of it is now the default, see https://pandas.pydata.org/pdeps/0004-consistent-to-datetime-parsing.html. You can safely remove this argument.\n",
      "  times = pd.to_datetime(\n",
      " 83%|████████▎ | 278/336 [01:44<00:18,  3.07it/s]/opt/conda/envs/claymodel-latest-v2/lib/python3.11/site-packages/pystac_client/item_search.py:836: FutureWarning: get_items() is deprecated, use items() instead\n",
      "  warnings.warn(\n",
      "/opt/conda/envs/claymodel-latest-v2/lib/python3.11/site-packages/stackstac/prepare.py:408: UserWarning: The argument 'infer_datetime_format' is deprecated and will be removed in a future version. A strict version of it is now the default, see https://pandas.pydata.org/pdeps/0004-consistent-to-datetime-parsing.html. You can safely remove this argument.\n",
      "  times = pd.to_datetime(\n",
      " 83%|████████▎ | 279/336 [01:44<00:16,  3.50it/s]/opt/conda/envs/claymodel-latest-v2/lib/python3.11/site-packages/pystac_client/item_search.py:836: FutureWarning: get_items() is deprecated, use items() instead\n",
      "  warnings.warn(\n",
      "/opt/conda/envs/claymodel-latest-v2/lib/python3.11/site-packages/stackstac/prepare.py:408: UserWarning: The argument 'infer_datetime_format' is deprecated and will be removed in a future version. A strict version of it is now the default, see https://pandas.pydata.org/pdeps/0004-consistent-to-datetime-parsing.html. You can safely remove this argument.\n",
      "  times = pd.to_datetime(\n",
      " 83%|████████▎ | 280/336 [01:44<00:14,  3.93it/s]/opt/conda/envs/claymodel-latest-v2/lib/python3.11/site-packages/pystac_client/item_search.py:836: FutureWarning: get_items() is deprecated, use items() instead\n",
      "  warnings.warn(\n",
      "/opt/conda/envs/claymodel-latest-v2/lib/python3.11/site-packages/stackstac/prepare.py:408: UserWarning: The argument 'infer_datetime_format' is deprecated and will be removed in a future version. A strict version of it is now the default, see https://pandas.pydata.org/pdeps/0004-consistent-to-datetime-parsing.html. You can safely remove this argument.\n",
      "  times = pd.to_datetime(\n",
      " 84%|████████▎ | 281/336 [01:45<00:22,  2.45it/s]/opt/conda/envs/claymodel-latest-v2/lib/python3.11/site-packages/pystac_client/item_search.py:836: FutureWarning: get_items() is deprecated, use items() instead\n",
      "  warnings.warn(\n",
      "/opt/conda/envs/claymodel-latest-v2/lib/python3.11/site-packages/stackstac/prepare.py:408: UserWarning: The argument 'infer_datetime_format' is deprecated and will be removed in a future version. A strict version of it is now the default, see https://pandas.pydata.org/pdeps/0004-consistent-to-datetime-parsing.html. You can safely remove this argument.\n",
      "  times = pd.to_datetime(\n",
      " 84%|████████▍ | 282/336 [01:45<00:18,  2.94it/s]/opt/conda/envs/claymodel-latest-v2/lib/python3.11/site-packages/pystac_client/item_search.py:836: FutureWarning: get_items() is deprecated, use items() instead\n",
      "  warnings.warn(\n",
      "/opt/conda/envs/claymodel-latest-v2/lib/python3.11/site-packages/stackstac/prepare.py:408: UserWarning: The argument 'infer_datetime_format' is deprecated and will be removed in a future version. A strict version of it is now the default, see https://pandas.pydata.org/pdeps/0004-consistent-to-datetime-parsing.html. You can safely remove this argument.\n",
      "  times = pd.to_datetime(\n",
      " 84%|████████▍ | 283/336 [01:45<00:15,  3.40it/s]/opt/conda/envs/claymodel-latest-v2/lib/python3.11/site-packages/pystac_client/item_search.py:836: FutureWarning: get_items() is deprecated, use items() instead\n",
      "  warnings.warn(\n",
      "/opt/conda/envs/claymodel-latest-v2/lib/python3.11/site-packages/stackstac/prepare.py:408: UserWarning: The argument 'infer_datetime_format' is deprecated and will be removed in a future version. A strict version of it is now the default, see https://pandas.pydata.org/pdeps/0004-consistent-to-datetime-parsing.html. You can safely remove this argument.\n",
      "  times = pd.to_datetime(\n",
      " 85%|████████▍ | 284/336 [01:46<00:13,  3.85it/s]/opt/conda/envs/claymodel-latest-v2/lib/python3.11/site-packages/pystac_client/item_search.py:836: FutureWarning: get_items() is deprecated, use items() instead\n",
      "  warnings.warn(\n",
      "/opt/conda/envs/claymodel-latest-v2/lib/python3.11/site-packages/stackstac/prepare.py:408: UserWarning: The argument 'infer_datetime_format' is deprecated and will be removed in a future version. A strict version of it is now the default, see https://pandas.pydata.org/pdeps/0004-consistent-to-datetime-parsing.html. You can safely remove this argument.\n",
      "  times = pd.to_datetime(\n",
      " 85%|████████▍ | 285/336 [01:46<00:13,  3.72it/s]/opt/conda/envs/claymodel-latest-v2/lib/python3.11/site-packages/pystac_client/item_search.py:836: FutureWarning: get_items() is deprecated, use items() instead\n",
      "  warnings.warn(\n",
      "/opt/conda/envs/claymodel-latest-v2/lib/python3.11/site-packages/stackstac/prepare.py:408: UserWarning: The argument 'infer_datetime_format' is deprecated and will be removed in a future version. A strict version of it is now the default, see https://pandas.pydata.org/pdeps/0004-consistent-to-datetime-parsing.html. You can safely remove this argument.\n",
      "  times = pd.to_datetime(\n",
      " 85%|████████▌ | 286/336 [01:46<00:12,  4.09it/s]/opt/conda/envs/claymodel-latest-v2/lib/python3.11/site-packages/pystac_client/item_search.py:836: FutureWarning: get_items() is deprecated, use items() instead\n",
      "  warnings.warn(\n",
      "/opt/conda/envs/claymodel-latest-v2/lib/python3.11/site-packages/stackstac/prepare.py:408: UserWarning: The argument 'infer_datetime_format' is deprecated and will be removed in a future version. A strict version of it is now the default, see https://pandas.pydata.org/pdeps/0004-consistent-to-datetime-parsing.html. You can safely remove this argument.\n",
      "  times = pd.to_datetime(\n",
      " 85%|████████▌ | 287/336 [01:46<00:11,  4.44it/s]/opt/conda/envs/claymodel-latest-v2/lib/python3.11/site-packages/pystac_client/item_search.py:836: FutureWarning: get_items() is deprecated, use items() instead\n",
      "  warnings.warn(\n",
      "/opt/conda/envs/claymodel-latest-v2/lib/python3.11/site-packages/stackstac/prepare.py:408: UserWarning: The argument 'infer_datetime_format' is deprecated and will be removed in a future version. A strict version of it is now the default, see https://pandas.pydata.org/pdeps/0004-consistent-to-datetime-parsing.html. You can safely remove this argument.\n",
      "  times = pd.to_datetime(\n",
      " 86%|████████▌ | 288/336 [01:46<00:10,  4.72it/s]/opt/conda/envs/claymodel-latest-v2/lib/python3.11/site-packages/pystac_client/item_search.py:836: FutureWarning: get_items() is deprecated, use items() instead\n",
      "  warnings.warn(\n",
      "/opt/conda/envs/claymodel-latest-v2/lib/python3.11/site-packages/stackstac/prepare.py:408: UserWarning: The argument 'infer_datetime_format' is deprecated and will be removed in a future version. A strict version of it is now the default, see https://pandas.pydata.org/pdeps/0004-consistent-to-datetime-parsing.html. You can safely remove this argument.\n",
      "  times = pd.to_datetime(\n",
      " 86%|████████▌ | 289/336 [01:47<00:12,  3.80it/s]/opt/conda/envs/claymodel-latest-v2/lib/python3.11/site-packages/pystac_client/item_search.py:836: FutureWarning: get_items() is deprecated, use items() instead\n",
      "  warnings.warn(\n",
      "/opt/conda/envs/claymodel-latest-v2/lib/python3.11/site-packages/stackstac/prepare.py:408: UserWarning: The argument 'infer_datetime_format' is deprecated and will be removed in a future version. A strict version of it is now the default, see https://pandas.pydata.org/pdeps/0004-consistent-to-datetime-parsing.html. You can safely remove this argument.\n",
      "  times = pd.to_datetime(\n",
      " 86%|████████▋ | 290/336 [01:47<00:11,  4.17it/s]/opt/conda/envs/claymodel-latest-v2/lib/python3.11/site-packages/pystac_client/item_search.py:836: FutureWarning: get_items() is deprecated, use items() instead\n",
      "  warnings.warn(\n",
      "/opt/conda/envs/claymodel-latest-v2/lib/python3.11/site-packages/stackstac/prepare.py:408: UserWarning: The argument 'infer_datetime_format' is deprecated and will be removed in a future version. A strict version of it is now the default, see https://pandas.pydata.org/pdeps/0004-consistent-to-datetime-parsing.html. You can safely remove this argument.\n",
      "  times = pd.to_datetime(\n",
      " 87%|████████▋ | 291/336 [01:47<00:10,  4.49it/s]/opt/conda/envs/claymodel-latest-v2/lib/python3.11/site-packages/pystac_client/item_search.py:836: FutureWarning: get_items() is deprecated, use items() instead\n",
      "  warnings.warn(\n",
      "/opt/conda/envs/claymodel-latest-v2/lib/python3.11/site-packages/stackstac/prepare.py:408: UserWarning: The argument 'infer_datetime_format' is deprecated and will be removed in a future version. A strict version of it is now the default, see https://pandas.pydata.org/pdeps/0004-consistent-to-datetime-parsing.html. You can safely remove this argument.\n",
      "  times = pd.to_datetime(\n",
      " 87%|████████▋ | 292/336 [01:47<00:09,  4.75it/s]/opt/conda/envs/claymodel-latest-v2/lib/python3.11/site-packages/pystac_client/item_search.py:836: FutureWarning: get_items() is deprecated, use items() instead\n",
      "  warnings.warn(\n",
      "/opt/conda/envs/claymodel-latest-v2/lib/python3.11/site-packages/stackstac/prepare.py:408: UserWarning: The argument 'infer_datetime_format' is deprecated and will be removed in a future version. A strict version of it is now the default, see https://pandas.pydata.org/pdeps/0004-consistent-to-datetime-parsing.html. You can safely remove this argument.\n",
      "  times = pd.to_datetime(\n",
      " 87%|████████▋ | 293/336 [01:48<00:09,  4.30it/s]/opt/conda/envs/claymodel-latest-v2/lib/python3.11/site-packages/pystac_client/item_search.py:836: FutureWarning: get_items() is deprecated, use items() instead\n",
      "  warnings.warn(\n",
      "/opt/conda/envs/claymodel-latest-v2/lib/python3.11/site-packages/stackstac/prepare.py:408: UserWarning: The argument 'infer_datetime_format' is deprecated and will be removed in a future version. A strict version of it is now the default, see https://pandas.pydata.org/pdeps/0004-consistent-to-datetime-parsing.html. You can safely remove this argument.\n",
      "  times = pd.to_datetime(\n",
      " 88%|████████▊ | 294/336 [01:48<00:09,  4.63it/s]/opt/conda/envs/claymodel-latest-v2/lib/python3.11/site-packages/pystac_client/item_search.py:836: FutureWarning: get_items() is deprecated, use items() instead\n",
      "  warnings.warn(\n",
      "/opt/conda/envs/claymodel-latest-v2/lib/python3.11/site-packages/stackstac/prepare.py:408: UserWarning: The argument 'infer_datetime_format' is deprecated and will be removed in a future version. A strict version of it is now the default, see https://pandas.pydata.org/pdeps/0004-consistent-to-datetime-parsing.html. You can safely remove this argument.\n",
      "  times = pd.to_datetime(\n",
      " 88%|████████▊ | 295/336 [01:48<00:10,  3.85it/s]/opt/conda/envs/claymodel-latest-v2/lib/python3.11/site-packages/pystac_client/item_search.py:836: FutureWarning: get_items() is deprecated, use items() instead\n",
      "  warnings.warn(\n",
      "/opt/conda/envs/claymodel-latest-v2/lib/python3.11/site-packages/stackstac/prepare.py:408: UserWarning: The argument 'infer_datetime_format' is deprecated and will be removed in a future version. A strict version of it is now the default, see https://pandas.pydata.org/pdeps/0004-consistent-to-datetime-parsing.html. You can safely remove this argument.\n",
      "  times = pd.to_datetime(\n",
      " 88%|████████▊ | 296/336 [01:48<00:09,  4.20it/s]/opt/conda/envs/claymodel-latest-v2/lib/python3.11/site-packages/pystac_client/item_search.py:836: FutureWarning: get_items() is deprecated, use items() instead\n",
      "  warnings.warn(\n",
      "/opt/conda/envs/claymodel-latest-v2/lib/python3.11/site-packages/stackstac/prepare.py:408: UserWarning: The argument 'infer_datetime_format' is deprecated and will be removed in a future version. A strict version of it is now the default, see https://pandas.pydata.org/pdeps/0004-consistent-to-datetime-parsing.html. You can safely remove this argument.\n",
      "  times = pd.to_datetime(\n",
      " 88%|████████▊ | 297/336 [01:49<00:08,  4.51it/s]/opt/conda/envs/claymodel-latest-v2/lib/python3.11/site-packages/pystac_client/item_search.py:836: FutureWarning: get_items() is deprecated, use items() instead\n",
      "  warnings.warn(\n",
      "/opt/conda/envs/claymodel-latest-v2/lib/python3.11/site-packages/stackstac/prepare.py:408: UserWarning: The argument 'infer_datetime_format' is deprecated and will be removed in a future version. A strict version of it is now the default, see https://pandas.pydata.org/pdeps/0004-consistent-to-datetime-parsing.html. You can safely remove this argument.\n",
      "  times = pd.to_datetime(\n",
      " 89%|████████▊ | 298/336 [01:49<00:09,  4.10it/s]/opt/conda/envs/claymodel-latest-v2/lib/python3.11/site-packages/pystac_client/item_search.py:836: FutureWarning: get_items() is deprecated, use items() instead\n",
      "  warnings.warn(\n",
      "/opt/conda/envs/claymodel-latest-v2/lib/python3.11/site-packages/stackstac/prepare.py:408: UserWarning: The argument 'infer_datetime_format' is deprecated and will be removed in a future version. A strict version of it is now the default, see https://pandas.pydata.org/pdeps/0004-consistent-to-datetime-parsing.html. You can safely remove this argument.\n",
      "  times = pd.to_datetime(\n",
      " 89%|████████▉ | 299/336 [01:49<00:08,  4.43it/s]/opt/conda/envs/claymodel-latest-v2/lib/python3.11/site-packages/pystac_client/item_search.py:836: FutureWarning: get_items() is deprecated, use items() instead\n",
      "  warnings.warn(\n",
      "/opt/conda/envs/claymodel-latest-v2/lib/python3.11/site-packages/stackstac/prepare.py:408: UserWarning: The argument 'infer_datetime_format' is deprecated and will be removed in a future version. A strict version of it is now the default, see https://pandas.pydata.org/pdeps/0004-consistent-to-datetime-parsing.html. You can safely remove this argument.\n",
      "  times = pd.to_datetime(\n",
      " 89%|████████▉ | 300/336 [01:49<00:07,  4.72it/s]/opt/conda/envs/claymodel-latest-v2/lib/python3.11/site-packages/pystac_client/item_search.py:836: FutureWarning: get_items() is deprecated, use items() instead\n",
      "  warnings.warn(\n",
      "/opt/conda/envs/claymodel-latest-v2/lib/python3.11/site-packages/stackstac/prepare.py:408: UserWarning: The argument 'infer_datetime_format' is deprecated and will be removed in a future version. A strict version of it is now the default, see https://pandas.pydata.org/pdeps/0004-consistent-to-datetime-parsing.html. You can safely remove this argument.\n",
      "  times = pd.to_datetime(\n",
      " 90%|████████▉ | 301/336 [01:49<00:07,  4.90it/s]/opt/conda/envs/claymodel-latest-v2/lib/python3.11/site-packages/pystac_client/item_search.py:836: FutureWarning: get_items() is deprecated, use items() instead\n",
      "  warnings.warn(\n",
      "/opt/conda/envs/claymodel-latest-v2/lib/python3.11/site-packages/stackstac/prepare.py:408: UserWarning: The argument 'infer_datetime_format' is deprecated and will be removed in a future version. A strict version of it is now the default, see https://pandas.pydata.org/pdeps/0004-consistent-to-datetime-parsing.html. You can safely remove this argument.\n",
      "  times = pd.to_datetime(\n",
      " 90%|████████▉ | 302/336 [01:50<00:07,  4.34it/s]/opt/conda/envs/claymodel-latest-v2/lib/python3.11/site-packages/pystac_client/item_search.py:836: FutureWarning: get_items() is deprecated, use items() instead\n",
      "  warnings.warn(\n",
      "/opt/conda/envs/claymodel-latest-v2/lib/python3.11/site-packages/stackstac/prepare.py:408: UserWarning: The argument 'infer_datetime_format' is deprecated and will be removed in a future version. A strict version of it is now the default, see https://pandas.pydata.org/pdeps/0004-consistent-to-datetime-parsing.html. You can safely remove this argument.\n",
      "  times = pd.to_datetime(\n",
      " 90%|█████████ | 303/336 [01:50<00:07,  4.31it/s]/opt/conda/envs/claymodel-latest-v2/lib/python3.11/site-packages/pystac_client/item_search.py:836: FutureWarning: get_items() is deprecated, use items() instead\n",
      "  warnings.warn(\n",
      "/opt/conda/envs/claymodel-latest-v2/lib/python3.11/site-packages/stackstac/prepare.py:408: UserWarning: The argument 'infer_datetime_format' is deprecated and will be removed in a future version. A strict version of it is now the default, see https://pandas.pydata.org/pdeps/0004-consistent-to-datetime-parsing.html. You can safely remove this argument.\n",
      "  times = pd.to_datetime(\n",
      " 90%|█████████ | 304/336 [01:50<00:07,  4.57it/s]/opt/conda/envs/claymodel-latest-v2/lib/python3.11/site-packages/pystac_client/item_search.py:836: FutureWarning: get_items() is deprecated, use items() instead\n",
      "  warnings.warn(\n",
      "/opt/conda/envs/claymodel-latest-v2/lib/python3.11/site-packages/stackstac/prepare.py:408: UserWarning: The argument 'infer_datetime_format' is deprecated and will be removed in a future version. A strict version of it is now the default, see https://pandas.pydata.org/pdeps/0004-consistent-to-datetime-parsing.html. You can safely remove this argument.\n",
      "  times = pd.to_datetime(\n",
      " 91%|█████████ | 305/336 [01:50<00:06,  4.74it/s]/opt/conda/envs/claymodel-latest-v2/lib/python3.11/site-packages/pystac_client/item_search.py:836: FutureWarning: get_items() is deprecated, use items() instead\n",
      "  warnings.warn(\n",
      "/opt/conda/envs/claymodel-latest-v2/lib/python3.11/site-packages/stackstac/prepare.py:408: UserWarning: The argument 'infer_datetime_format' is deprecated and will be removed in a future version. A strict version of it is now the default, see https://pandas.pydata.org/pdeps/0004-consistent-to-datetime-parsing.html. You can safely remove this argument.\n",
      "  times = pd.to_datetime(\n",
      " 91%|█████████ | 306/336 [01:51<00:07,  4.03it/s]/opt/conda/envs/claymodel-latest-v2/lib/python3.11/site-packages/pystac_client/item_search.py:836: FutureWarning: get_items() is deprecated, use items() instead\n",
      "  warnings.warn(\n",
      "/opt/conda/envs/claymodel-latest-v2/lib/python3.11/site-packages/stackstac/prepare.py:408: UserWarning: The argument 'infer_datetime_format' is deprecated and will be removed in a future version. A strict version of it is now the default, see https://pandas.pydata.org/pdeps/0004-consistent-to-datetime-parsing.html. You can safely remove this argument.\n",
      "  times = pd.to_datetime(\n",
      " 91%|█████████▏| 307/336 [01:51<00:09,  2.98it/s]/opt/conda/envs/claymodel-latest-v2/lib/python3.11/site-packages/pystac_client/item_search.py:836: FutureWarning: get_items() is deprecated, use items() instead\n",
      "  warnings.warn(\n",
      "/opt/conda/envs/claymodel-latest-v2/lib/python3.11/site-packages/stackstac/prepare.py:408: UserWarning: The argument 'infer_datetime_format' is deprecated and will be removed in a future version. A strict version of it is now the default, see https://pandas.pydata.org/pdeps/0004-consistent-to-datetime-parsing.html. You can safely remove this argument.\n",
      "  times = pd.to_datetime(\n",
      " 92%|█████████▏| 308/336 [01:51<00:08,  3.44it/s]/opt/conda/envs/claymodel-latest-v2/lib/python3.11/site-packages/pystac_client/item_search.py:836: FutureWarning: get_items() is deprecated, use items() instead\n",
      "  warnings.warn(\n",
      "/opt/conda/envs/claymodel-latest-v2/lib/python3.11/site-packages/stackstac/prepare.py:408: UserWarning: The argument 'infer_datetime_format' is deprecated and will be removed in a future version. A strict version of it is now the default, see https://pandas.pydata.org/pdeps/0004-consistent-to-datetime-parsing.html. You can safely remove this argument.\n",
      "  times = pd.to_datetime(\n",
      " 92%|█████████▏| 309/336 [01:52<00:08,  3.18it/s]/opt/conda/envs/claymodel-latest-v2/lib/python3.11/site-packages/pystac_client/item_search.py:836: FutureWarning: get_items() is deprecated, use items() instead\n",
      "  warnings.warn(\n",
      "/opt/conda/envs/claymodel-latest-v2/lib/python3.11/site-packages/stackstac/prepare.py:408: UserWarning: The argument 'infer_datetime_format' is deprecated and will be removed in a future version. A strict version of it is now the default, see https://pandas.pydata.org/pdeps/0004-consistent-to-datetime-parsing.html. You can safely remove this argument.\n",
      "  times = pd.to_datetime(\n",
      " 92%|█████████▏| 310/336 [01:52<00:08,  2.94it/s]/opt/conda/envs/claymodel-latest-v2/lib/python3.11/site-packages/pystac_client/item_search.py:836: FutureWarning: get_items() is deprecated, use items() instead\n",
      "  warnings.warn(\n",
      "/opt/conda/envs/claymodel-latest-v2/lib/python3.11/site-packages/stackstac/prepare.py:408: UserWarning: The argument 'infer_datetime_format' is deprecated and will be removed in a future version. A strict version of it is now the default, see https://pandas.pydata.org/pdeps/0004-consistent-to-datetime-parsing.html. You can safely remove this argument.\n",
      "  times = pd.to_datetime(\n",
      " 93%|█████████▎| 311/336 [01:52<00:07,  3.41it/s]/opt/conda/envs/claymodel-latest-v2/lib/python3.11/site-packages/pystac_client/item_search.py:836: FutureWarning: get_items() is deprecated, use items() instead\n",
      "  warnings.warn(\n",
      "/opt/conda/envs/claymodel-latest-v2/lib/python3.11/site-packages/stackstac/prepare.py:408: UserWarning: The argument 'infer_datetime_format' is deprecated and will be removed in a future version. A strict version of it is now the default, see https://pandas.pydata.org/pdeps/0004-consistent-to-datetime-parsing.html. You can safely remove this argument.\n",
      "  times = pd.to_datetime(\n",
      " 93%|█████████▎| 312/336 [01:53<00:06,  3.87it/s]/opt/conda/envs/claymodel-latest-v2/lib/python3.11/site-packages/pystac_client/item_search.py:836: FutureWarning: get_items() is deprecated, use items() instead\n",
      "  warnings.warn(\n",
      "/opt/conda/envs/claymodel-latest-v2/lib/python3.11/site-packages/stackstac/prepare.py:408: UserWarning: The argument 'infer_datetime_format' is deprecated and will be removed in a future version. A strict version of it is now the default, see https://pandas.pydata.org/pdeps/0004-consistent-to-datetime-parsing.html. You can safely remove this argument.\n",
      "  times = pd.to_datetime(\n",
      " 93%|█████████▎| 313/336 [01:53<00:05,  4.23it/s]/opt/conda/envs/claymodel-latest-v2/lib/python3.11/site-packages/pystac_client/item_search.py:836: FutureWarning: get_items() is deprecated, use items() instead\n",
      "  warnings.warn(\n",
      "/opt/conda/envs/claymodel-latest-v2/lib/python3.11/site-packages/stackstac/prepare.py:408: UserWarning: The argument 'infer_datetime_format' is deprecated and will be removed in a future version. A strict version of it is now the default, see https://pandas.pydata.org/pdeps/0004-consistent-to-datetime-parsing.html. You can safely remove this argument.\n",
      "  times = pd.to_datetime(\n",
      " 93%|█████████▎| 314/336 [01:53<00:05,  3.71it/s]/opt/conda/envs/claymodel-latest-v2/lib/python3.11/site-packages/pystac_client/item_search.py:836: FutureWarning: get_items() is deprecated, use items() instead\n",
      "  warnings.warn(\n",
      "/opt/conda/envs/claymodel-latest-v2/lib/python3.11/site-packages/stackstac/prepare.py:408: UserWarning: The argument 'infer_datetime_format' is deprecated and will be removed in a future version. A strict version of it is now the default, see https://pandas.pydata.org/pdeps/0004-consistent-to-datetime-parsing.html. You can safely remove this argument.\n",
      "  times = pd.to_datetime(\n",
      " 94%|█████████▍| 315/336 [01:53<00:05,  4.11it/s]/opt/conda/envs/claymodel-latest-v2/lib/python3.11/site-packages/pystac_client/item_search.py:836: FutureWarning: get_items() is deprecated, use items() instead\n",
      "  warnings.warn(\n",
      "/opt/conda/envs/claymodel-latest-v2/lib/python3.11/site-packages/stackstac/prepare.py:408: UserWarning: The argument 'infer_datetime_format' is deprecated and will be removed in a future version. A strict version of it is now the default, see https://pandas.pydata.org/pdeps/0004-consistent-to-datetime-parsing.html. You can safely remove this argument.\n",
      "  times = pd.to_datetime(\n",
      " 94%|█████████▍| 316/336 [01:55<00:12,  1.64it/s]/opt/conda/envs/claymodel-latest-v2/lib/python3.11/site-packages/pystac_client/item_search.py:836: FutureWarning: get_items() is deprecated, use items() instead\n",
      "  warnings.warn(\n",
      "/opt/conda/envs/claymodel-latest-v2/lib/python3.11/site-packages/stackstac/prepare.py:408: UserWarning: The argument 'infer_datetime_format' is deprecated and will be removed in a future version. A strict version of it is now the default, see https://pandas.pydata.org/pdeps/0004-consistent-to-datetime-parsing.html. You can safely remove this argument.\n",
      "  times = pd.to_datetime(\n",
      " 94%|█████████▍| 317/336 [01:55<00:12,  1.55it/s]/opt/conda/envs/claymodel-latest-v2/lib/python3.11/site-packages/pystac_client/item_search.py:836: FutureWarning: get_items() is deprecated, use items() instead\n",
      "  warnings.warn(\n",
      "/opt/conda/envs/claymodel-latest-v2/lib/python3.11/site-packages/stackstac/prepare.py:408: UserWarning: The argument 'infer_datetime_format' is deprecated and will be removed in a future version. A strict version of it is now the default, see https://pandas.pydata.org/pdeps/0004-consistent-to-datetime-parsing.html. You can safely remove this argument.\n",
      "  times = pd.to_datetime(\n",
      " 95%|█████████▍| 318/336 [01:56<00:11,  1.59it/s]/opt/conda/envs/claymodel-latest-v2/lib/python3.11/site-packages/pystac_client/item_search.py:836: FutureWarning: get_items() is deprecated, use items() instead\n",
      "  warnings.warn(\n",
      "/opt/conda/envs/claymodel-latest-v2/lib/python3.11/site-packages/stackstac/prepare.py:408: UserWarning: The argument 'infer_datetime_format' is deprecated and will be removed in a future version. A strict version of it is now the default, see https://pandas.pydata.org/pdeps/0004-consistent-to-datetime-parsing.html. You can safely remove this argument.\n",
      "  times = pd.to_datetime(\n",
      " 95%|█████████▍| 319/336 [01:57<00:11,  1.50it/s]/opt/conda/envs/claymodel-latest-v2/lib/python3.11/site-packages/pystac_client/item_search.py:836: FutureWarning: get_items() is deprecated, use items() instead\n",
      "  warnings.warn(\n",
      "/opt/conda/envs/claymodel-latest-v2/lib/python3.11/site-packages/stackstac/prepare.py:408: UserWarning: The argument 'infer_datetime_format' is deprecated and will be removed in a future version. A strict version of it is now the default, see https://pandas.pydata.org/pdeps/0004-consistent-to-datetime-parsing.html. You can safely remove this argument.\n",
      "  times = pd.to_datetime(\n",
      " 95%|█████████▌| 320/336 [01:57<00:09,  1.65it/s]/opt/conda/envs/claymodel-latest-v2/lib/python3.11/site-packages/pystac_client/item_search.py:836: FutureWarning: get_items() is deprecated, use items() instead\n",
      "  warnings.warn(\n",
      "/opt/conda/envs/claymodel-latest-v2/lib/python3.11/site-packages/stackstac/prepare.py:408: UserWarning: The argument 'infer_datetime_format' is deprecated and will be removed in a future version. A strict version of it is now the default, see https://pandas.pydata.org/pdeps/0004-consistent-to-datetime-parsing.html. You can safely remove this argument.\n",
      "  times = pd.to_datetime(\n",
      " 96%|█████████▌| 321/336 [01:58<00:10,  1.50it/s]/opt/conda/envs/claymodel-latest-v2/lib/python3.11/site-packages/pystac_client/item_search.py:836: FutureWarning: get_items() is deprecated, use items() instead\n",
      "  warnings.warn(\n",
      "/opt/conda/envs/claymodel-latest-v2/lib/python3.11/site-packages/stackstac/prepare.py:408: UserWarning: The argument 'infer_datetime_format' is deprecated and will be removed in a future version. A strict version of it is now the default, see https://pandas.pydata.org/pdeps/0004-consistent-to-datetime-parsing.html. You can safely remove this argument.\n",
      "  times = pd.to_datetime(\n",
      " 96%|█████████▌| 322/336 [01:58<00:08,  1.70it/s]/opt/conda/envs/claymodel-latest-v2/lib/python3.11/site-packages/pystac_client/item_search.py:836: FutureWarning: get_items() is deprecated, use items() instead\n",
      "  warnings.warn(\n",
      "/opt/conda/envs/claymodel-latest-v2/lib/python3.11/site-packages/stackstac/prepare.py:408: UserWarning: The argument 'infer_datetime_format' is deprecated and will be removed in a future version. A strict version of it is now the default, see https://pandas.pydata.org/pdeps/0004-consistent-to-datetime-parsing.html. You can safely remove this argument.\n",
      "  times = pd.to_datetime(\n",
      " 96%|█████████▌| 323/336 [01:59<00:09,  1.40it/s]/opt/conda/envs/claymodel-latest-v2/lib/python3.11/site-packages/pystac_client/item_search.py:836: FutureWarning: get_items() is deprecated, use items() instead\n",
      "  warnings.warn(\n",
      "/opt/conda/envs/claymodel-latest-v2/lib/python3.11/site-packages/stackstac/prepare.py:408: UserWarning: The argument 'infer_datetime_format' is deprecated and will be removed in a future version. A strict version of it is now the default, see https://pandas.pydata.org/pdeps/0004-consistent-to-datetime-parsing.html. You can safely remove this argument.\n",
      "  times = pd.to_datetime(\n",
      " 96%|█████████▋| 324/336 [02:00<00:07,  1.64it/s]/opt/conda/envs/claymodel-latest-v2/lib/python3.11/site-packages/pystac_client/item_search.py:836: FutureWarning: get_items() is deprecated, use items() instead\n",
      "  warnings.warn(\n",
      "/opt/conda/envs/claymodel-latest-v2/lib/python3.11/site-packages/stackstac/prepare.py:408: UserWarning: The argument 'infer_datetime_format' is deprecated and will be removed in a future version. A strict version of it is now the default, see https://pandas.pydata.org/pdeps/0004-consistent-to-datetime-parsing.html. You can safely remove this argument.\n",
      "  times = pd.to_datetime(\n",
      " 97%|█████████▋| 325/336 [02:01<00:07,  1.47it/s]/opt/conda/envs/claymodel-latest-v2/lib/python3.11/site-packages/pystac_client/item_search.py:836: FutureWarning: get_items() is deprecated, use items() instead\n",
      "  warnings.warn(\n",
      "/opt/conda/envs/claymodel-latest-v2/lib/python3.11/site-packages/stackstac/prepare.py:408: UserWarning: The argument 'infer_datetime_format' is deprecated and will be removed in a future version. A strict version of it is now the default, see https://pandas.pydata.org/pdeps/0004-consistent-to-datetime-parsing.html. You can safely remove this argument.\n",
      "  times = pd.to_datetime(\n",
      " 97%|█████████▋| 326/336 [02:01<00:05,  1.72it/s]/opt/conda/envs/claymodel-latest-v2/lib/python3.11/site-packages/pystac_client/item_search.py:836: FutureWarning: get_items() is deprecated, use items() instead\n",
      "  warnings.warn(\n",
      "/opt/conda/envs/claymodel-latest-v2/lib/python3.11/site-packages/stackstac/prepare.py:408: UserWarning: The argument 'infer_datetime_format' is deprecated and will be removed in a future version. A strict version of it is now the default, see https://pandas.pydata.org/pdeps/0004-consistent-to-datetime-parsing.html. You can safely remove this argument.\n",
      "  times = pd.to_datetime(\n",
      " 97%|█████████▋| 327/336 [02:01<00:04,  1.87it/s]/opt/conda/envs/claymodel-latest-v2/lib/python3.11/site-packages/pystac_client/item_search.py:836: FutureWarning: get_items() is deprecated, use items() instead\n",
      "  warnings.warn(\n",
      "/opt/conda/envs/claymodel-latest-v2/lib/python3.11/site-packages/stackstac/prepare.py:408: UserWarning: The argument 'infer_datetime_format' is deprecated and will be removed in a future version. A strict version of it is now the default, see https://pandas.pydata.org/pdeps/0004-consistent-to-datetime-parsing.html. You can safely remove this argument.\n",
      "  times = pd.to_datetime(\n",
      " 98%|█████████▊| 328/336 [02:02<00:04,  1.69it/s]/opt/conda/envs/claymodel-latest-v2/lib/python3.11/site-packages/pystac_client/item_search.py:836: FutureWarning: get_items() is deprecated, use items() instead\n",
      "  warnings.warn(\n",
      "/opt/conda/envs/claymodel-latest-v2/lib/python3.11/site-packages/stackstac/prepare.py:408: UserWarning: The argument 'infer_datetime_format' is deprecated and will be removed in a future version. A strict version of it is now the default, see https://pandas.pydata.org/pdeps/0004-consistent-to-datetime-parsing.html. You can safely remove this argument.\n",
      "  times = pd.to_datetime(\n",
      " 98%|█████████▊| 329/336 [02:03<00:03,  1.93it/s]/opt/conda/envs/claymodel-latest-v2/lib/python3.11/site-packages/pystac_client/item_search.py:836: FutureWarning: get_items() is deprecated, use items() instead\n",
      "  warnings.warn(\n",
      "/opt/conda/envs/claymodel-latest-v2/lib/python3.11/site-packages/stackstac/prepare.py:408: UserWarning: The argument 'infer_datetime_format' is deprecated and will be removed in a future version. A strict version of it is now the default, see https://pandas.pydata.org/pdeps/0004-consistent-to-datetime-parsing.html. You can safely remove this argument.\n",
      "  times = pd.to_datetime(\n",
      " 98%|█████████▊| 330/336 [02:03<00:02,  2.16it/s]/opt/conda/envs/claymodel-latest-v2/lib/python3.11/site-packages/pystac_client/item_search.py:836: FutureWarning: get_items() is deprecated, use items() instead\n",
      "  warnings.warn(\n",
      "/opt/conda/envs/claymodel-latest-v2/lib/python3.11/site-packages/stackstac/prepare.py:408: UserWarning: The argument 'infer_datetime_format' is deprecated and will be removed in a future version. A strict version of it is now the default, see https://pandas.pydata.org/pdeps/0004-consistent-to-datetime-parsing.html. You can safely remove this argument.\n",
      "  times = pd.to_datetime(\n",
      " 99%|█████████▊| 331/336 [02:03<00:02,  2.10it/s]/opt/conda/envs/claymodel-latest-v2/lib/python3.11/site-packages/pystac_client/item_search.py:836: FutureWarning: get_items() is deprecated, use items() instead\n",
      "  warnings.warn(\n",
      "/opt/conda/envs/claymodel-latest-v2/lib/python3.11/site-packages/stackstac/prepare.py:408: UserWarning: The argument 'infer_datetime_format' is deprecated and will be removed in a future version. A strict version of it is now the default, see https://pandas.pydata.org/pdeps/0004-consistent-to-datetime-parsing.html. You can safely remove this argument.\n",
      "  times = pd.to_datetime(\n",
      " 99%|█████████▉| 332/336 [02:04<00:02,  1.86it/s]/opt/conda/envs/claymodel-latest-v2/lib/python3.11/site-packages/pystac_client/item_search.py:836: FutureWarning: get_items() is deprecated, use items() instead\n",
      "  warnings.warn(\n",
      "/opt/conda/envs/claymodel-latest-v2/lib/python3.11/site-packages/stackstac/prepare.py:408: UserWarning: The argument 'infer_datetime_format' is deprecated and will be removed in a future version. A strict version of it is now the default, see https://pandas.pydata.org/pdeps/0004-consistent-to-datetime-parsing.html. You can safely remove this argument.\n",
      "  times = pd.to_datetime(\n",
      " 99%|█████████▉| 333/336 [02:04<00:01,  2.09it/s]/opt/conda/envs/claymodel-latest-v2/lib/python3.11/site-packages/pystac_client/item_search.py:836: FutureWarning: get_items() is deprecated, use items() instead\n",
      "  warnings.warn(\n",
      "/opt/conda/envs/claymodel-latest-v2/lib/python3.11/site-packages/stackstac/prepare.py:408: UserWarning: The argument 'infer_datetime_format' is deprecated and will be removed in a future version. A strict version of it is now the default, see https://pandas.pydata.org/pdeps/0004-consistent-to-datetime-parsing.html. You can safely remove this argument.\n",
      "  times = pd.to_datetime(\n",
      " 99%|█████████▉| 334/336 [02:05<00:00,  2.36it/s]/opt/conda/envs/claymodel-latest-v2/lib/python3.11/site-packages/pystac_client/item_search.py:836: FutureWarning: get_items() is deprecated, use items() instead\n",
      "  warnings.warn(\n",
      "/opt/conda/envs/claymodel-latest-v2/lib/python3.11/site-packages/stackstac/prepare.py:408: UserWarning: The argument 'infer_datetime_format' is deprecated and will be removed in a future version. A strict version of it is now the default, see https://pandas.pydata.org/pdeps/0004-consistent-to-datetime-parsing.html. You can safely remove this argument.\n",
      "  times = pd.to_datetime(\n",
      "100%|█████████▉| 335/336 [02:05<00:00,  2.25it/s]/opt/conda/envs/claymodel-latest-v2/lib/python3.11/site-packages/pystac_client/item_search.py:836: FutureWarning: get_items() is deprecated, use items() instead\n",
      "  warnings.warn(\n",
      "/opt/conda/envs/claymodel-latest-v2/lib/python3.11/site-packages/stackstac/prepare.py:408: UserWarning: The argument 'infer_datetime_format' is deprecated and will be removed in a future version. A strict version of it is now the default, see https://pandas.pydata.org/pdeps/0004-consistent-to-datetime-parsing.html. You can safely remove this argument.\n",
      "  times = pd.to_datetime(\n",
      "100%|██████████| 336/336 [02:06<00:00,  2.66it/s]\n"
     ]
    }
   ],
   "source": [
    "download_stack_images(f\"{year}-01-01\", f\"{year}-12-31\", grid, \"test_data/embeddings/challenge_1\")"
   ]
  },
  {
   "cell_type": "markdown",
   "metadata": {},
   "source": [
    "#### Join LULC data on grid"
   ]
  },
  {
   "cell_type": "code",
   "execution_count": 9,
   "metadata": {},
   "outputs": [
    {
     "name": "stderr",
     "output_type": "stream",
     "text": [
      "Processing bounding boxes: 100%|██████████| 336/336 [00:06<00:00, 54.88it/s]\n"
     ]
    }
   ],
   "source": [
    "# Initialize Earth Engine\n",
    "ee.Initialize()\n",
    "\n",
    "# Load the ESRI Global LULC dataset\n",
    "lulc = ee.ImageCollection(\"projects/sat-io/open-datasets/landcover/ESRI_Global-LULC_10m_TS\").mosaic()\n",
    "\n",
    "def get_most_common_lulc(geometry):\n",
    "    # Convert the GeoPandas geometry to an Earth Engine geometry\n",
    "    ee_geometry = ee.Geometry.Rectangle(geometry.bounds)\n",
    "    \n",
    "    # Get the LULC values within the bounding box\n",
    "    lulc_values = lulc.reduceRegion(\n",
    "        reducer=ee.Reducer.frequencyHistogram(),\n",
    "        geometry=ee_geometry,\n",
    "        scale=10,\n",
    "        maxPixels=1e9\n",
    "    ).get('b1')\n",
    "    \n",
    "    # Find the most common LULC value\n",
    "    lulc_dict = ee.Dictionary(lulc_values)\n",
    "    most_common = lulc_dict.keys().sort(lulc_dict.values()).get(-1)\n",
    "    \n",
    "    # Return the result\n",
    "    return int(most_common.getInfo())\n",
    "\n",
    "def process_geometries(combined_gdf):\n",
    "    # Get the total number of rows in the GeoDataFrame\n",
    "    total_rows = len(combined_gdf)\n",
    "\n",
    "    # Determine the number of threads to use\n",
    "    max_threads = 10  # Adjust this based on your system and Earth Engine quota\n",
    "    num_threads = min(total_rows, max_threads)\n",
    "\n",
    "    results = []\n",
    "\n",
    "    with ThreadPoolExecutor(max_workers=num_threads) as executor:\n",
    "        # Submit all tasks\n",
    "        future_to_index = {executor.submit(get_most_common_lulc, row.geometry): index \n",
    "                        for index, row in combined_gdf.iterrows()}\n",
    "        \n",
    "        # Process as they complete with a progress bar\n",
    "        with tqdm(total=total_rows, desc=\"Processing bounding boxes\") as pbar:\n",
    "            for future in as_completed(future_to_index):\n",
    "                index = future_to_index[future]\n",
    "                try:\n",
    "                    result = future.result()\n",
    "                except Exception as exc:\n",
    "                    print(f'Generated an exception: {exc}')\n",
    "                    result = None\n",
    "                results.append((index, result))\n",
    "                pbar.update(1)\n",
    "\n",
    "    # Sort results by index and extract only the values\n",
    "    sorted_results = [r[1] for r in sorted(results, key=lambda x: x[0])]\n",
    "    \n",
    "    return sorted_results\n",
    "\n",
    "if __name__ == '__main__':\n",
    "    # Process the geometries\n",
    "    results = process_geometries(grid.to_crs(\"EPSG:4326\"))\n",
    "\n",
    "    # Add the results as a new column to the GeoDataFrame\n",
    "    grid['most_common_lulc'] = results\n",
    "\n",
    "    # Save as GeoJSON\n",
    "    grid[['geometry', 'most_common_lulc']].to_file(\"test_lulc_v2.geojson\", driver=\"GeoJSON\")"
   ]
  },
  {
   "cell_type": "markdown",
   "metadata": {},
   "source": [
    "#### Generate embeddings for the images"
   ]
  },
  {
   "cell_type": "code",
   "execution_count": 10,
   "metadata": {},
   "outputs": [
    {
     "name": "stderr",
     "output_type": "stream",
     "text": [
      "/opt/conda/envs/claymodel-latest-v2/lib/python3.11/site-packages/torch/export/_unlift.py:58: UserWarning: Attempted to insert a get_attr Node with no underlying reference in the owning GraphModule! Call GraphModule.add_submodule to add the necessary submodule, GraphModule.add_parameter to add the necessary Parameter, or nn.Module.register_buffer to add the necessary buffer\n",
      "  getattr_node = gm.graph.get_attr(lifted_node)\n",
      "/opt/conda/envs/claymodel-latest-v2/lib/python3.11/site-packages/torch/fx/graph.py:1460: UserWarning: Node _lifted_tensor_constant0_1 target _lifted_tensor_constant0 _lifted_tensor_constant0 of  does not reference an nn.Module, nn.Parameter, or buffer, which is what 'get_attr' Nodes typically target\n",
      "  warnings.warn(f'Node {node} target {node.target} {atom} of {seen_qualname} does '\n",
      "  0%|          | 0/336 [00:00<?, ?it/s]/opt/conda/envs/claymodel-latest-v2/lib/python3.11/site-packages/pystac_client/item_search.py:851: FutureWarning: get_all_items() is deprecated, use item_collection() instead.\n",
      "  warnings.warn(\n"
     ]
    },
    {
     "name": "stdout",
     "output_type": "stream",
     "text": [
      "Selected item S2A_13SDV_20221020_0_L2A for lat: 35.42421114494862, lon: -106.0808685760685\n",
      "Working on <Item id=S2A_13SDV_20221020_0_L2A>\n"
     ]
    },
    {
     "name": "stderr",
     "output_type": "stream",
     "text": [
      "  0%|          | 1/336 [00:10<58:15, 10.43s/it]"
     ]
    },
    {
     "name": "stdout",
     "output_type": "stream",
     "text": [
      "Selected item S2A_13SDV_20221020_0_L2A for lat: 35.42446024009015, lon: -106.05267283503353\n",
      "Working on <Item id=S2A_13SDV_20221020_0_L2A>\n"
     ]
    },
    {
     "name": "stderr",
     "output_type": "stream",
     "text": [
      "  1%|          | 2/336 [00:18<49:40,  8.92s/it]"
     ]
    },
    {
     "name": "stdout",
     "output_type": "stream",
     "text": [
      "Selected item S2A_13SDV_20221020_0_L2A for lat: 35.42470275355285, lon: -106.02447675262387\n",
      "Working on <Item id=S2A_13SDV_20221020_0_L2A>\n"
     ]
    },
    {
     "name": "stderr",
     "output_type": "stream",
     "text": [
      "  1%|          | 3/336 [00:26<46:34,  8.39s/it]"
     ]
    },
    {
     "name": "stdout",
     "output_type": "stream",
     "text": [
      "Selected item S2A_13SDV_20221020_0_L2A for lat: 35.424938685083205, lon: -105.99628033797637\n",
      "Working on <Item id=S2A_13SDV_20221020_0_L2A>\n"
     ]
    },
    {
     "name": "stderr",
     "output_type": "stream",
     "text": [
      "  1%|          | 4/336 [00:33<44:59,  8.13s/it]"
     ]
    },
    {
     "name": "stdout",
     "output_type": "stream",
     "text": [
      "Selected item S2A_13SDV_20221020_0_L2A for lat: 35.42516803443449, lon: -105.96808360022858\n",
      "Working on <Item id=S2A_13SDV_20221020_0_L2A>\n"
     ]
    },
    {
     "name": "stderr",
     "output_type": "stream",
     "text": [
      "  1%|▏         | 5/336 [00:40<42:43,  7.74s/it]"
     ]
    },
    {
     "name": "stdout",
     "output_type": "stream",
     "text": [
      "Selected item S2A_13SDV_20221020_0_L2A for lat: 35.42539080136691, lon: -105.9398865485187\n",
      "Working on <Item id=S2A_13SDV_20221020_0_L2A>\n"
     ]
    },
    {
     "name": "stderr",
     "output_type": "stream",
     "text": [
      "  2%|▏         | 6/336 [00:48<42:08,  7.66s/it]"
     ]
    },
    {
     "name": "stdout",
     "output_type": "stream",
     "text": [
      "Selected item S2A_13SDV_20221020_0_L2A for lat: 35.42560698564754, lon: -105.91168919198554\n",
      "Working on <Item id=S2A_13SDV_20221020_0_L2A>\n"
     ]
    },
    {
     "name": "stderr",
     "output_type": "stream",
     "text": [
      "  2%|▏         | 7/336 [00:55<40:48,  7.44s/it]"
     ]
    },
    {
     "name": "stdout",
     "output_type": "stream",
     "text": [
      "Selected item S2A_13SDV_20221020_0_L2A for lat: 35.425816587050306, lon: -105.88349153976858\n",
      "Working on <Item id=S2A_13SDV_20221020_0_L2A>\n"
     ]
    },
    {
     "name": "stderr",
     "output_type": "stream",
     "text": [
      "  2%|▏         | 8/336 [01:03<41:12,  7.54s/it]"
     ]
    },
    {
     "name": "stdout",
     "output_type": "stream",
     "text": [
      "Selected item S2A_13SDV_20221020_0_L2A for lat: 35.42601960535606, lon: -105.85529360100784\n",
      "Working on <Item id=S2A_13SDV_20221020_0_L2A>\n"
     ]
    },
    {
     "name": "stderr",
     "output_type": "stream",
     "text": [
      "  3%|▎         | 9/336 [01:10<40:47,  7.49s/it]"
     ]
    },
    {
     "name": "stdout",
     "output_type": "stream",
     "text": [
      "Selected item S2A_13SDV_20221020_0_L2A for lat: 35.42621604035248, lon: -105.82709538484399\n",
      "Working on <Item id=S2A_13SDV_20221020_0_L2A>\n"
     ]
    },
    {
     "name": "stderr",
     "output_type": "stream",
     "text": [
      "  3%|▎         | 10/336 [01:17<39:48,  7.33s/it]"
     ]
    },
    {
     "name": "stdout",
     "output_type": "stream",
     "text": [
      "Selected item S2A_13SDV_20221020_0_L2A for lat: 35.42640589183414, lon: -105.79889690041816\n",
      "Working on <Item id=S2A_13SDV_20221020_0_L2A>\n"
     ]
    },
    {
     "name": "stderr",
     "output_type": "stream",
     "text": [
      "  3%|▎         | 11/336 [01:25<41:16,  7.62s/it]"
     ]
    },
    {
     "name": "stdout",
     "output_type": "stream",
     "text": [
      "Selected item S2A_13SDV_20221020_0_L2A for lat: 35.42658915960255, lon: -105.7706981568721\n",
      "Working on <Item id=S2A_13SDV_20221020_0_L2A>\n"
     ]
    },
    {
     "name": "stderr",
     "output_type": "stream",
     "text": [
      "  4%|▎         | 12/336 [01:32<39:04,  7.24s/it]"
     ]
    },
    {
     "name": "stdout",
     "output_type": "stream",
     "text": [
      "Selected item S2A_13SDV_20221020_0_L2A for lat: 35.426765843466015, lon: -105.7424991633481\n",
      "Working on <Item id=S2A_13SDV_20221020_0_L2A>\n"
     ]
    },
    {
     "name": "stderr",
     "output_type": "stream",
     "text": [
      "  4%|▍         | 13/336 [01:38<37:01,  6.88s/it]"
     ]
    },
    {
     "name": "stdout",
     "output_type": "stream",
     "text": [
      "Selected item S2A_13SDV_20221020_0_L2A for lat: 35.42693594323978, lon: -105.71429992898885\n",
      "Working on <Item id=S2A_13SDV_20221020_0_L2A>\n"
     ]
    },
    {
     "name": "stderr",
     "output_type": "stream",
     "text": [
      "  4%|▍         | 14/336 [01:44<36:06,  6.73s/it]"
     ]
    },
    {
     "name": "stdout",
     "output_type": "stream",
     "text": [
      "Selected item S2A_13SDV_20221020_0_L2A for lat: 35.42709945874597, lon: -105.68610046293767\n",
      "Working on <Item id=S2A_13SDV_20221020_0_L2A>\n"
     ]
    },
    {
     "name": "stderr",
     "output_type": "stream",
     "text": [
      "  4%|▍         | 15/336 [01:51<35:50,  6.70s/it]"
     ]
    },
    {
     "name": "stdout",
     "output_type": "stream",
     "text": [
      "Selected item S2A_13SDV_20221020_0_L2A for lat: 35.42725638981356, lon: -105.65790077433822\n",
      "Working on <Item id=S2A_13SDV_20221020_0_L2A>\n"
     ]
    },
    {
     "name": "stderr",
     "output_type": "stream",
     "text": [
      "  5%|▍         | 16/336 [01:57<34:28,  6.46s/it]"
     ]
    },
    {
     "name": "stdout",
     "output_type": "stream",
     "text": [
      "Selected item S2A_13SDV_20221020_0_L2A for lat: 35.427406736278435, lon: -105.62970087233471\n",
      "Working on <Item id=S2A_13SDV_20221020_0_L2A>\n"
     ]
    },
    {
     "name": "stderr",
     "output_type": "stream",
     "text": [
      "  5%|▌         | 17/336 [02:03<33:46,  6.35s/it]"
     ]
    },
    {
     "name": "stdout",
     "output_type": "stream",
     "text": [
      "Selected item S2A_13SDV_20221020_0_L2A for lat: 35.42755049798335, lon: -105.6015007660717\n",
      "Working on <Item id=S2A_13SDV_20221020_0_L2A>\n"
     ]
    },
    {
     "name": "stderr",
     "output_type": "stream",
     "text": [
      "  5%|▌         | 18/336 [02:09<33:09,  6.25s/it]"
     ]
    },
    {
     "name": "stdout",
     "output_type": "stream",
     "text": [
      "Selected item S2A_13SDV_20221020_0_L2A for lat: 35.42768767477794, lon: -105.5733004646942\n",
      "Working on <Item id=S2A_13SDV_20221020_0_L2A>\n"
     ]
    },
    {
     "name": "stderr",
     "output_type": "stream",
     "text": [
      "  6%|▌         | 19/336 [02:15<32:55,  6.23s/it]"
     ]
    },
    {
     "name": "stdout",
     "output_type": "stream",
     "text": [
      "Selected item S2A_13SDV_20221020_0_L2A for lat: 35.42781826651878, lon: -105.54509997734763\n",
      "Working on <Item id=S2A_13SDV_20221020_0_L2A>\n"
     ]
    },
    {
     "name": "stderr",
     "output_type": "stream",
     "text": [
      "  6%|▌         | 20/336 [02:21<33:04,  6.28s/it]"
     ]
    },
    {
     "name": "stdout",
     "output_type": "stream",
     "text": [
      "Selected item S2A_13SDV_20221020_0_L2A for lat: 35.42794227306924, lon: -105.51689931317779\n",
      "Working on <Item id=S2A_13SDV_20221020_0_L2A>\n"
     ]
    },
    {
     "name": "stderr",
     "output_type": "stream",
     "text": [
      "  6%|▋         | 21/336 [02:27<31:49,  6.06s/it]"
     ]
    },
    {
     "name": "stdout",
     "output_type": "stream",
     "text": [
      "Selected item S2A_13SDV_20221020_0_L2A for lat: 35.447290010227164, lon: -106.08117709191784\n",
      "Working on <Item id=S2A_13SDV_20221020_0_L2A>\n"
     ]
    },
    {
     "name": "stderr",
     "output_type": "stream",
     "text": [
      "  7%|▋         | 22/336 [02:34<33:58,  6.49s/it]"
     ]
    },
    {
     "name": "stdout",
     "output_type": "stream",
     "text": [
      "Selected item S2A_13SDV_20221020_0_L2A for lat: 35.447539316586315, lon: -106.05297330655296\n",
      "Working on <Item id=S2A_13SDV_20221020_0_L2A>\n"
     ]
    },
    {
     "name": "stderr",
     "output_type": "stream",
     "text": [
      "  7%|▋         | 23/336 [02:41<34:21,  6.59s/it]"
     ]
    },
    {
     "name": "stdout",
     "output_type": "stream",
     "text": [
      "Selected item S2A_13SDV_20221020_0_L2A for lat: 35.44778203568704, lon: -106.02476917942478\n",
      "Working on <Item id=S2A_13SDV_20221020_0_L2A>\n"
     ]
    },
    {
     "name": "stderr",
     "output_type": "stream",
     "text": [
      "  7%|▋         | 24/336 [02:49<36:26,  7.01s/it]"
     ]
    },
    {
     "name": "stdout",
     "output_type": "stream",
     "text": [
      "Selected item S2A_13SDV_20221020_0_L2A for lat: 35.448018167275464, lon: -105.99656471968058\n",
      "Working on <Item id=S2A_13SDV_20221020_0_L2A>\n"
     ]
    },
    {
     "name": "stderr",
     "output_type": "stream",
     "text": [
      "  7%|▋         | 25/336 [02:57<37:16,  7.19s/it]"
     ]
    },
    {
     "name": "stdout",
     "output_type": "stream",
     "text": [
      "Selected item S2A_13SDV_20221020_0_L2A for lat: 35.44824771110457, lon: -105.96835993646829\n",
      "Working on <Item id=S2A_13SDV_20221020_0_L2A>\n"
     ]
    },
    {
     "name": "stderr",
     "output_type": "stream",
     "text": [
      "  8%|▊         | 26/336 [03:04<37:40,  7.29s/it]"
     ]
    },
    {
     "name": "stdout",
     "output_type": "stream",
     "text": [
      "Selected item S2A_13SDV_20221020_0_L2A for lat: 35.44847066693426, lon: -105.9401548389365\n",
      "Working on <Item id=S2A_13SDV_20221020_0_L2A>\n"
     ]
    },
    {
     "name": "stderr",
     "output_type": "stream",
     "text": [
      "  8%|▊         | 27/336 [03:12<38:20,  7.44s/it]"
     ]
    },
    {
     "name": "stdout",
     "output_type": "stream",
     "text": [
      "Selected item S2A_13SDV_20221020_0_L2A for lat: 35.448687034531325, lon: -105.91194943623445\n",
      "Working on <Item id=S2A_13SDV_20221020_0_L2A>\n"
     ]
    },
    {
     "name": "stderr",
     "output_type": "stream",
     "text": [
      "  8%|▊         | 28/336 [03:19<38:13,  7.45s/it]"
     ]
    },
    {
     "name": "stdout",
     "output_type": "stream",
     "text": [
      "Selected item S2A_13SDV_20221020_0_L2A for lat: 35.44889681366942, lon: -105.88374373751198\n",
      "Working on <Item id=S2A_13SDV_20221020_0_L2A>\n"
     ]
    },
    {
     "name": "stderr",
     "output_type": "stream",
     "text": [
      "  9%|▊         | 29/336 [03:26<36:04,  7.05s/it]"
     ]
    },
    {
     "name": "stdout",
     "output_type": "stream",
     "text": [
      "Selected item S2A_13SDV_20221020_0_L2A for lat: 35.44910000412911, lon: -105.85553775191953\n",
      "Working on <Item id=S2A_13SDV_20221020_0_L2A>\n"
     ]
    },
    {
     "name": "stderr",
     "output_type": "stream",
     "text": [
      "  9%|▉         | 30/336 [03:33<35:58,  7.05s/it]"
     ]
    },
    {
     "name": "stdout",
     "output_type": "stream",
     "text": [
      "Selected item S2A_13SDV_20221020_0_L2A for lat: 35.44929660569782, lon: -105.82733148860814\n",
      "Working on <Item id=S2A_13SDV_20221020_0_L2A>\n"
     ]
    },
    {
     "name": "stderr",
     "output_type": "stream",
     "text": [
      "  9%|▉         | 31/336 [03:41<37:23,  7.35s/it]"
     ]
    },
    {
     "name": "stdout",
     "output_type": "stream",
     "text": [
      "Selected item S2A_13SDV_20221020_0_L2A for lat: 35.44948661816988, lon: -105.79912495672939\n",
      "Working on <Item id=S2A_13SDV_20221020_0_L2A>\n"
     ]
    },
    {
     "name": "stderr",
     "output_type": "stream",
     "text": [
      " 10%|▉         | 32/336 [03:49<37:58,  7.49s/it]"
     ]
    },
    {
     "name": "stdout",
     "output_type": "stream",
     "text": [
      "Selected item S2A_13SDV_20221020_0_L2A for lat: 35.44967004134651, lon: -105.7709181654354\n",
      "Working on <Item id=S2A_13SDV_20221020_0_L2A>\n"
     ]
    },
    {
     "name": "stderr",
     "output_type": "stream",
     "text": [
      " 10%|▉         | 33/336 [03:56<37:48,  7.49s/it]"
     ]
    },
    {
     "name": "stdout",
     "output_type": "stream",
     "text": [
      "Selected item S2A_13SDV_20221020_0_L2A for lat: 35.44984687503582, lon: -105.74271112387888\n",
      "Working on <Item id=S2A_13SDV_20221020_0_L2A>\n"
     ]
    },
    {
     "name": "stderr",
     "output_type": "stream",
     "text": [
      " 10%|█         | 34/336 [04:02<35:23,  7.03s/it]"
     ]
    },
    {
     "name": "stdout",
     "output_type": "stream",
     "text": [
      "Selected item S2A_13SDV_20221020_0_L2A for lat: 35.45001711905281, lon: -105.71450384121292\n",
      "Working on <Item id=S2A_13SDV_20221020_0_L2A>\n"
     ]
    },
    {
     "name": "stderr",
     "output_type": "stream",
     "text": [
      " 10%|█         | 35/336 [04:08<34:08,  6.81s/it]"
     ]
    },
    {
     "name": "stdout",
     "output_type": "stream",
     "text": [
      "Selected item S2A_13SDV_20221020_0_L2A for lat: 35.45018077321938, lon: -105.68629632659122\n",
      "Working on <Item id=S2A_13SDV_20221020_0_L2A>\n"
     ]
    },
    {
     "name": "stderr",
     "output_type": "stream",
     "text": [
      " 11%|█         | 36/336 [04:14<32:31,  6.50s/it]"
     ]
    },
    {
     "name": "stdout",
     "output_type": "stream",
     "text": [
      "Selected item S2A_13SDV_20221020_0_L2A for lat: 35.4503378373643, lon: -105.65808858916792\n",
      "Working on <Item id=S2A_13SDV_20221020_0_L2A>\n"
     ]
    },
    {
     "name": "stderr",
     "output_type": "stream",
     "text": [
      " 11%|█         | 37/336 [04:19<30:40,  6.16s/it]"
     ]
    },
    {
     "name": "stdout",
     "output_type": "stream",
     "text": [
      "Selected item S2A_13SDV_20221020_0_L2A for lat: 35.45048831132325, lon: -105.62988063809753\n",
      "Working on <Item id=S2A_13SDV_20221020_0_L2A>\n"
     ]
    },
    {
     "name": "stderr",
     "output_type": "stream",
     "text": [
      " 11%|█▏        | 38/336 [04:25<28:59,  5.84s/it]"
     ]
    },
    {
     "name": "stdout",
     "output_type": "stream",
     "text": [
      "Selected item S2A_13SDV_20221020_0_L2A for lat: 35.4506321949388, lon: -105.6016724825351\n",
      "Working on <Item id=S2A_13SDV_20221020_0_L2A>\n"
     ]
    },
    {
     "name": "stderr",
     "output_type": "stream",
     "text": [
      " 12%|█▏        | 39/336 [04:30<28:45,  5.81s/it]"
     ]
    },
    {
     "name": "stdout",
     "output_type": "stream",
     "text": [
      "Selected item S2A_13SDV_20221020_0_L2A for lat: 35.4507694880604, lon: -105.57346413163604\n",
      "Working on <Item id=S2A_13SDV_20221020_0_L2A>\n"
     ]
    },
    {
     "name": "stderr",
     "output_type": "stream",
     "text": [
      " 12%|█▏        | 40/336 [04:36<29:14,  5.93s/it]"
     ]
    },
    {
     "name": "stdout",
     "output_type": "stream",
     "text": [
      "Selected item S2A_13SDV_20221020_0_L2A for lat: 35.45090019054442, lon: -105.54525559455615\n",
      "Working on <Item id=S2A_13SDV_20221020_0_L2A>\n"
     ]
    },
    {
     "name": "stderr",
     "output_type": "stream",
     "text": [
      " 12%|█▏        | 41/336 [04:42<29:09,  5.93s/it]"
     ]
    },
    {
     "name": "stdout",
     "output_type": "stream",
     "text": [
      "Selected item S2A_13SDV_20221020_0_L2A for lat: 35.451024302254076, lon: -105.51704688045166\n",
      "Working on <Item id=S2A_13SDV_20221020_0_L2A>\n"
     ]
    },
    {
     "name": "stderr",
     "output_type": "stream",
     "text": [
      " 12%|█▎        | 42/336 [04:48<29:14,  5.97s/it]"
     ]
    },
    {
     "name": "stdout",
     "output_type": "stream",
     "text": [
      "Selected item S2A_13SDV_20221020_0_L2A for lat: 35.47036878476062, lon: -106.08148595867718\n",
      "Working on <Item id=S2A_13SDV_20221020_0_L2A>\n"
     ]
    },
    {
     "name": "stderr",
     "output_type": "stream",
     "text": [
      " 13%|█▎        | 43/336 [04:56<31:09,  6.38s/it]"
     ]
    },
    {
     "name": "stdout",
     "output_type": "stream",
     "text": [
      "Selected item S2A_13SDV_20221020_0_L2A for lat: 35.47061830245597, lon: -106.05327411983579\n",
      "Working on <Item id=S2A_13SDV_20221020_0_L2A>\n"
     ]
    },
    {
     "name": "stderr",
     "output_type": "stream",
     "text": [
      " 13%|█▎        | 44/336 [05:03<32:53,  6.76s/it]"
     ]
    },
    {
     "name": "stdout",
     "output_type": "stream",
     "text": [
      "Selected item S2A_13SDV_20221020_0_L2A for lat: 35.47086122731013, lon: -106.02506193884184\n",
      "Working on <Item id=S2A_13SDV_20221020_0_L2A>\n"
     ]
    },
    {
     "name": "stderr",
     "output_type": "stream",
     "text": [
      " 13%|█▎        | 45/336 [05:11<34:11,  7.05s/it]"
     ]
    },
    {
     "name": "stdout",
     "output_type": "stream",
     "text": [
      "Selected item S2A_13SDV_20221020_0_L2A for lat: 35.47109755906891, lon: -105.996849424853\n",
      "Working on <Item id=S2A_13SDV_20221020_0_L2A>\n"
     ]
    },
    {
     "name": "stderr",
     "output_type": "stream",
     "text": [
      " 14%|█▎        | 46/336 [05:18<34:20,  7.10s/it]"
     ]
    },
    {
     "name": "stdout",
     "output_type": "stream",
     "text": [
      "Selected item S2A_13SDV_20221020_0_L2A for lat: 35.471327297485, lon: -105.9686365870276\n",
      "Working on <Item id=S2A_13SDV_20221020_0_L2A>\n"
     ]
    },
    {
     "name": "stderr",
     "output_type": "stream",
     "text": [
      " 14%|█▍        | 47/336 [05:25<32:53,  6.83s/it]"
     ]
    },
    {
     "name": "stdout",
     "output_type": "stream",
     "text": [
      "Selected item S2A_13SDV_20221020_0_L2A for lat: 35.471550442318, lon: -105.94042343452467\n",
      "Working on <Item id=S2A_13SDV_20221020_0_L2A>\n"
     ]
    },
    {
     "name": "stderr",
     "output_type": "stream",
     "text": [
      " 14%|█▍        | 48/336 [05:32<34:11,  7.12s/it]"
     ]
    },
    {
     "name": "stdout",
     "output_type": "stream",
     "text": [
      "Selected item S2A_13SDV_20221020_0_L2A for lat: 35.47176699333441, lon: -105.91220997650387\n",
      "Working on <Item id=S2A_13SDV_20221020_0_L2A>\n"
     ]
    },
    {
     "name": "stderr",
     "output_type": "stream",
     "text": [
      " 15%|█▍        | 49/336 [05:40<34:16,  7.16s/it]"
     ]
    },
    {
     "name": "stdout",
     "output_type": "stream",
     "text": [
      "Selected item S2A_13SDV_20221020_0_L2A for lat: 35.47197695030761, lon: -105.88399622212543\n",
      "Working on <Item id=S2A_13SDV_20221020_0_L2A>\n"
     ]
    },
    {
     "name": "stderr",
     "output_type": "stream",
     "text": [
      " 15%|█▍        | 50/336 [05:47<34:44,  7.29s/it]"
     ]
    },
    {
     "name": "stdout",
     "output_type": "stream",
     "text": [
      "Selected item S2A_13SDV_20221020_0_L2A for lat: 35.472180313017866, lon: -105.85578218055025\n",
      "Working on <Item id=S2A_13SDV_20221020_0_L2A>\n"
     ]
    },
    {
     "name": "stderr",
     "output_type": "stream",
     "text": [
      " 15%|█▌        | 51/336 [05:56<36:04,  7.60s/it]"
     ]
    },
    {
     "name": "stdout",
     "output_type": "stream",
     "text": [
      "Selected item S2A_13SDV_20221020_0_L2A for lat: 35.47237708125237, lon: -105.82756786093975\n",
      "Working on <Item id=S2A_13SDV_20221020_0_L2A>\n"
     ]
    },
    {
     "name": "stderr",
     "output_type": "stream",
     "text": [
      " 15%|█▌        | 52/336 [06:03<35:31,  7.50s/it]"
     ]
    },
    {
     "name": "stdout",
     "output_type": "stream",
     "text": [
      "Selected item S2A_13SDV_20221020_0_L2A for lat: 35.472567254805185, lon: -105.79935327245593\n",
      "Working on <Item id=S2A_13SDV_20221020_0_L2A>\n"
     ]
    },
    {
     "name": "stderr",
     "output_type": "stream",
     "text": [
      " 16%|█▌        | 53/336 [06:09<33:44,  7.15s/it]"
     ]
    },
    {
     "name": "stdout",
     "output_type": "stream",
     "text": [
      "Selected item S2A_13SDV_20221020_0_L2A for lat: 35.4727508334773, lon: -105.77113842426137\n",
      "Working on <Item id=S2A_13SDV_20221020_0_L2A>\n"
     ]
    },
    {
     "name": "stderr",
     "output_type": "stream",
     "text": [
      " 16%|█▌        | 54/336 [06:16<33:06,  7.04s/it]"
     ]
    },
    {
     "name": "stdout",
     "output_type": "stream",
     "text": [
      "Selected item S2A_13SDV_20221020_0_L2A for lat: 35.47292781707657, lon: -105.74292332551913\n",
      "Working on <Item id=S2A_13SDV_20221020_0_L2A>\n"
     ]
    },
    {
     "name": "stderr",
     "output_type": "stream",
     "text": [
      " 16%|█▋        | 55/336 [06:22<31:33,  6.74s/it]"
     ]
    },
    {
     "name": "stdout",
     "output_type": "stream",
     "text": [
      "Selected item S2A_13SDV_20221020_0_L2A for lat: 35.47309820541776, lon: -105.71470798539282\n",
      "Working on <Item id=S2A_13SDV_20221020_0_L2A>\n"
     ]
    },
    {
     "name": "stderr",
     "output_type": "stream",
     "text": [
      " 17%|█▋        | 56/336 [06:28<30:13,  6.48s/it]"
     ]
    },
    {
     "name": "stdout",
     "output_type": "stream",
     "text": [
      "Selected item S2A_13SDV_20221020_0_L2A for lat: 35.47326199832257, lon: -105.6864924130465\n",
      "Working on <Item id=S2A_13SDV_20221020_0_L2A>\n"
     ]
    },
    {
     "name": "stderr",
     "output_type": "stream",
     "text": [
      " 17%|█▋        | 57/336 [06:34<29:09,  6.27s/it]"
     ]
    },
    {
     "name": "stdout",
     "output_type": "stream",
     "text": [
      "Selected item S2A_13SDV_20221020_0_L2A for lat: 35.47341919561954, lon: -105.6582766176447\n",
      "Working on <Item id=S2A_13SDV_20221020_0_L2A>\n"
     ]
    },
    {
     "name": "stderr",
     "output_type": "stream",
     "text": [
      " 17%|█▋        | 58/336 [06:39<28:11,  6.08s/it]"
     ]
    },
    {
     "name": "stdout",
     "output_type": "stream",
     "text": [
      "Selected item S2A_13SDV_20221020_0_L2A for lat: 35.47356979714415, lon: -105.63006060835247\n",
      "Working on <Item id=S2A_13SDV_20221020_0_L2A>\n"
     ]
    },
    {
     "name": "stderr",
     "output_type": "stream",
     "text": [
      " 18%|█▊        | 59/336 [06:45<27:46,  6.02s/it]"
     ]
    },
    {
     "name": "stdout",
     "output_type": "stream",
     "text": [
      "Selected item S2A_13SDV_20221020_0_L2A for lat: 35.47371380273877, lon: -105.60184439433519\n",
      "Working on <Item id=S2A_13SDV_20221020_0_L2A>\n"
     ]
    },
    {
     "name": "stderr",
     "output_type": "stream",
     "text": [
      " 18%|█▊        | 60/336 [06:51<27:59,  6.09s/it]"
     ]
    },
    {
     "name": "stdout",
     "output_type": "stream",
     "text": [
      "Selected item S2A_13SDV_20221020_0_L2A for lat: 35.47385121225269, lon: -105.57362798475874\n",
      "Working on <Item id=S2A_13SDV_20221020_0_L2A>\n"
     ]
    },
    {
     "name": "stderr",
     "output_type": "stream",
     "text": [
      " 18%|█▊        | 61/336 [06:57<27:43,  6.05s/it]"
     ]
    },
    {
     "name": "stdout",
     "output_type": "stream",
     "text": [
      "Selected item S2A_13SDV_20221020_0_L2A for lat: 35.473982025542064, lon: -105.54541138878936\n",
      "Working on <Item id=S2A_13SDV_20221020_0_L2A>\n"
     ]
    },
    {
     "name": "stderr",
     "output_type": "stream",
     "text": [
      " 18%|█▊        | 62/336 [07:03<27:29,  6.02s/it]"
     ]
    },
    {
     "name": "stdout",
     "output_type": "stream",
     "text": [
      "Selected item S2A_13SDV_20221020_0_L2A for lat: 35.47410624246997, lon: -105.51719461559367\n",
      "Working on <Item id=S2A_13SDV_20221020_0_L2A>\n"
     ]
    },
    {
     "name": "stderr",
     "output_type": "stream",
     "text": [
      " 19%|█▉        | 63/336 [07:10<27:39,  6.08s/it]"
     ]
    },
    {
     "name": "stdout",
     "output_type": "stream",
     "text": [
      "Selected item S2A_13SDV_20221020_0_L2A for lat: 35.493447468521516, lon: -106.0817951767462\n",
      "Working on <Item id=S2A_13SDV_20221020_0_L2A>\n"
     ]
    },
    {
     "name": "stderr",
     "output_type": "stream",
     "text": [
      " 19%|█▉        | 64/336 [07:17<28:53,  6.37s/it]"
     ]
    },
    {
     "name": "stdout",
     "output_type": "stream",
     "text": [
      "Selected item S2A_13SDV_20221020_0_L2A for lat: 35.49369719767178, lon: -106.05357527527131\n",
      "Working on <Item id=S2A_13SDV_20221020_0_L2A>\n"
     ]
    },
    {
     "name": "stderr",
     "output_type": "stream",
     "text": [
      " 19%|█▉        | 65/336 [07:25<31:00,  6.87s/it]"
     ]
    },
    {
     "name": "stdout",
     "output_type": "stream",
     "text": [
      "Selected item S2A_13SDV_20221020_0_L2A for lat: 35.49394032839495, lon: -106.0253550312539\n",
      "Working on <Item id=S2A_13SDV_20221020_0_L2A>\n"
     ]
    },
    {
     "name": "stderr",
     "output_type": "stream",
     "text": [
      " 20%|█▉        | 66/336 [07:31<30:47,  6.84s/it]"
     ]
    },
    {
     "name": "stdout",
     "output_type": "stream",
     "text": [
      "Selected item S2A_13SDV_20221020_0_L2A for lat: 35.49417686043653, lon: -105.99713445386205\n",
      "Working on <Item id=S2A_13SDV_20221020_0_L2A>\n"
     ]
    },
    {
     "name": "stderr",
     "output_type": "stream",
     "text": [
      " 20%|█▉        | 67/336 [07:38<30:50,  6.88s/it]"
     ]
    },
    {
     "name": "stdout",
     "output_type": "stream",
     "text": [
      "Selected item S2A_13SDV_20221020_0_L2A for lat: 35.49440679354893, lon: -105.96891355226454\n",
      "Working on <Item id=S2A_13SDV_20221020_0_L2A>\n"
     ]
    },
    {
     "name": "stderr",
     "output_type": "stream",
     "text": [
      " 20%|██        | 68/336 [07:46<31:18,  7.01s/it]"
     ]
    },
    {
     "name": "stdout",
     "output_type": "stream",
     "text": [
      "Selected item S2A_13SDV_20221020_0_L2A for lat: 35.494630127491426, lon: -105.94069233563084\n",
      "Working on <Item id=S2A_13SDV_20221020_0_L2A>\n"
     ]
    },
    {
     "name": "stderr",
     "output_type": "stream",
     "text": [
      " 21%|██        | 69/336 [07:53<31:20,  7.04s/it]"
     ]
    },
    {
     "name": "stdout",
     "output_type": "stream",
     "text": [
      "Selected item S2A_13SDV_20221020_0_L2A for lat: 35.49484686203023, lon: -105.91247081313101\n",
      "Working on <Item id=S2A_13SDV_20221020_0_L2A>\n"
     ]
    },
    {
     "name": "stderr",
     "output_type": "stream",
     "text": [
      " 21%|██        | 70/336 [08:00<31:59,  7.22s/it]"
     ]
    },
    {
     "name": "stdout",
     "output_type": "stream",
     "text": [
      "Selected item S2A_13SDV_20221020_0_L2A for lat: 35.49505699693843, lon: -105.88424899393576\n",
      "Working on <Item id=S2A_13SDV_20221020_0_L2A>\n"
     ]
    },
    {
     "name": "stderr",
     "output_type": "stream",
     "text": [
      " 21%|██        | 71/336 [08:08<31:57,  7.24s/it]"
     ]
    },
    {
     "name": "stdout",
     "output_type": "stream",
     "text": [
      "Selected item S2A_13SDV_20221020_0_L2A for lat: 35.495260531996045, lon: -105.85602688721637\n",
      "Working on <Item id=S2A_13SDV_20221020_0_L2A>\n"
     ]
    },
    {
     "name": "stderr",
     "output_type": "stream",
     "text": [
      " 21%|██▏       | 72/336 [08:15<32:28,  7.38s/it]"
     ]
    },
    {
     "name": "stdout",
     "output_type": "stream",
     "text": [
      "Selected item S2A_13SDV_20221020_0_L2A for lat: 35.49545746698999, lon: -105.82780450214474\n",
      "Working on <Item id=S2A_13SDV_20221020_0_L2A>\n"
     ]
    },
    {
     "name": "stderr",
     "output_type": "stream",
     "text": [
      " 22%|██▏       | 73/336 [08:22<31:51,  7.27s/it]"
     ]
    },
    {
     "name": "stdout",
     "output_type": "stream",
     "text": [
      "Selected item S2A_13SDV_20221020_0_L2A for lat: 35.49564780171407, lon: -105.79958184789332\n",
      "Working on <Item id=S2A_13SDV_20221020_0_L2A>\n"
     ]
    },
    {
     "name": "stderr",
     "output_type": "stream",
     "text": [
      " 22%|██▏       | 74/336 [08:30<31:32,  7.22s/it]"
     ]
    },
    {
     "name": "stdout",
     "output_type": "stream",
     "text": [
      "Selected item S2A_13SDV_20221020_0_L2A for lat: 35.49583153596904, lon: -105.77135893363509\n",
      "Working on <Item id=S2A_13SDV_20221020_0_L2A>\n"
     ]
    },
    {
     "name": "stderr",
     "output_type": "stream",
     "text": [
      " 22%|██▏       | 75/336 [08:37<31:25,  7.22s/it]"
     ]
    },
    {
     "name": "stdout",
     "output_type": "stream",
     "text": [
      "Selected item S2A_13SDV_20221020_0_L2A for lat: 35.49600866956249, lon: -105.74313576854357\n",
      "Working on <Item id=S2A_13SDV_20221020_0_L2A>\n"
     ]
    },
    {
     "name": "stderr",
     "output_type": "stream",
     "text": [
      " 23%|██▎       | 76/336 [08:43<30:06,  6.95s/it]"
     ]
    },
    {
     "name": "stdout",
     "output_type": "stream",
     "text": [
      "Selected item S2A_13SDV_20221020_0_L2A for lat: 35.496179202308994, lon: -105.7149123617928\n",
      "Working on <Item id=S2A_13SDV_20221020_0_L2A>\n"
     ]
    },
    {
     "name": "stderr",
     "output_type": "stream",
     "text": [
      " 23%|██▎       | 77/336 [08:49<28:29,  6.60s/it]"
     ]
    },
    {
     "name": "stdout",
     "output_type": "stream",
     "text": [
      "Selected item S2A_13SDV_20221020_0_L2A for lat: 35.496343134030006, lon: -105.68668872255729\n",
      "Working on <Item id=S2A_13SDV_20221020_0_L2A>\n"
     ]
    },
    {
     "name": "stderr",
     "output_type": "stream",
     "text": [
      " 23%|██▎       | 78/336 [08:54<26:49,  6.24s/it]"
     ]
    },
    {
     "name": "stdout",
     "output_type": "stream",
     "text": [
      "Selected item S2A_13SDV_20221020_0_L2A for lat: 35.49650046455383, lon: -105.65846486001205\n",
      "Working on <Item id=S2A_13SDV_20221020_0_L2A>\n"
     ]
    },
    {
     "name": "stderr",
     "output_type": "stream",
     "text": [
      " 24%|██▎       | 79/336 [09:00<26:15,  6.13s/it]"
     ]
    },
    {
     "name": "stdout",
     "output_type": "stream",
     "text": [
      "Selected item S2A_13SDV_20221020_0_L2A for lat: 35.496651193715806, lon: -105.63024078333251\n",
      "Working on <Item id=S2A_13SDV_20221020_0_L2A>\n"
     ]
    },
    {
     "name": "stderr",
     "output_type": "stream",
     "text": [
      " 24%|██▍       | 80/336 [09:06<25:53,  6.07s/it]"
     ]
    },
    {
     "name": "stdout",
     "output_type": "stream",
     "text": [
      "Selected item S2A_13SDV_20221020_0_L2A for lat: 35.49679532135804, lon: -105.60201650169454\n",
      "Working on <Item id=S2A_13SDV_20221020_0_L2A>\n"
     ]
    },
    {
     "name": "stderr",
     "output_type": "stream",
     "text": [
      " 24%|██▍       | 81/336 [09:11<24:56,  5.87s/it]"
     ]
    },
    {
     "name": "stdout",
     "output_type": "stream",
     "text": [
      "Selected item S2A_13SDV_20221020_0_L2A for lat: 35.496932847329674, lon: -105.57379202427445\n",
      "Working on <Item id=S2A_13SDV_20221020_0_L2A>\n"
     ]
    },
    {
     "name": "stderr",
     "output_type": "stream",
     "text": [
      " 24%|██▍       | 82/336 [09:18<25:07,  5.94s/it]"
     ]
    },
    {
     "name": "stdout",
     "output_type": "stream",
     "text": [
      "Selected item S2A_13SDV_20221020_0_L2A for lat: 35.49706377148668, lon: -105.54556736024894\n",
      "Working on <Item id=S2A_13SDV_20221020_0_L2A>\n"
     ]
    },
    {
     "name": "stderr",
     "output_type": "stream",
     "text": [
      " 25%|██▍       | 83/336 [09:23<24:26,  5.80s/it]"
     ]
    },
    {
     "name": "stdout",
     "output_type": "stream",
     "text": [
      "Selected item S2A_13SDV_20221020_0_L2A for lat: 35.49718809369196, lon: -105.51734251879506\n",
      "Working on <Item id=S2A_13SDV_20221020_0_L2A>\n"
     ]
    },
    {
     "name": "stderr",
     "output_type": "stream",
     "text": [
      " 25%|██▌       | 84/336 [09:29<24:09,  5.75s/it]"
     ]
    },
    {
     "name": "stdout",
     "output_type": "stream",
     "text": [
      "Selected item S2A_13SDV_20221020_0_L2A for lat: 35.51652606148238, lon: -106.08210474652527\n",
      "Working on <Item id=S2A_13SDV_20221020_0_L2A>\n"
     ]
    },
    {
     "name": "stderr",
     "output_type": "stream",
     "text": [
      " 25%|██▌       | 85/336 [09:37<27:02,  6.47s/it]"
     ]
    },
    {
     "name": "stdout",
     "output_type": "stream",
     "text": [
      "Selected item S2A_13SDV_20221020_0_L2A for lat: 35.516776002206434, lon: -106.05387677324948\n",
      "Working on <Item id=S2A_13SDV_20221020_0_L2A>\n"
     ]
    },
    {
     "name": "stderr",
     "output_type": "stream",
     "text": [
      " 26%|██▌       | 86/336 [09:45<28:32,  6.85s/it]"
     ]
    },
    {
     "name": "stdout",
     "output_type": "stream",
     "text": [
      "Selected item S2A_13SDV_20221020_0_L2A for lat: 35.51701933891438, lon: -106.02564845704049\n",
      "Working on <Item id=S2A_13SDV_20221020_0_L2A>\n"
     ]
    },
    {
     "name": "stderr",
     "output_type": "stream",
     "text": [
      " 26%|██▌       | 87/336 [09:51<28:33,  6.88s/it]"
     ]
    },
    {
     "name": "stdout",
     "output_type": "stream",
     "text": [
      "Selected item S2A_13SDV_20221020_0_L2A for lat: 35.51725607135139, lon: -105.99741980707685\n",
      "Working on <Item id=S2A_13SDV_20221020_0_L2A>\n"
     ]
    },
    {
     "name": "stderr",
     "output_type": "stream",
     "text": [
      " 26%|██▌       | 88/336 [09:59<28:54,  6.99s/it]"
     ]
    },
    {
     "name": "stdout",
     "output_type": "stream",
     "text": [
      "Selected item S2A_13SDV_20221020_0_L2A for lat: 35.517486199269555, lon: -105.9691908325378\n",
      "Working on <Item id=S2A_13SDV_20221020_0_L2A>\n"
     ]
    },
    {
     "name": "stderr",
     "output_type": "stream",
     "text": [
      " 26%|██▋       | 89/336 [10:06<29:27,  7.16s/it]"
     ]
    },
    {
     "name": "stdout",
     "output_type": "stream",
     "text": [
      "Selected item S2A_13SDV_20221020_0_L2A for lat: 35.51770972242789, lon: -105.94096154260325\n",
      "Working on <Item id=S2A_13SDV_20221020_0_L2A>\n"
     ]
    },
    {
     "name": "stderr",
     "output_type": "stream",
     "text": [
      " 27%|██▋       | 90/336 [10:13<29:20,  7.16s/it]"
     ]
    },
    {
     "name": "stdout",
     "output_type": "stream",
     "text": [
      "Selected item S2A_13SDV_20221020_0_L2A for lat: 35.51792664059227, lon: -105.9127319464537\n",
      "Working on <Item id=S2A_13SDV_20221020_0_L2A>\n"
     ]
    },
    {
     "name": "stderr",
     "output_type": "stream",
     "text": [
      " 27%|██▋       | 91/336 [10:21<30:08,  7.38s/it]"
     ]
    },
    {
     "name": "stdout",
     "output_type": "stream",
     "text": [
      "Selected item S2A_13SDV_20221020_0_L2A for lat: 35.518136953535546, lon: -105.8845020532703\n",
      "Working on <Item id=S2A_13SDV_20221020_0_L2A>\n"
     ]
    },
    {
     "name": "stderr",
     "output_type": "stream",
     "text": [
      " 27%|██▋       | 92/336 [10:30<30:57,  7.61s/it]"
     ]
    },
    {
     "name": "stdout",
     "output_type": "stream",
     "text": [
      "Selected item S2A_13SDV_20221020_0_L2A for lat: 35.51834066103744, lon: -105.85627187223484\n",
      "Working on <Item id=S2A_13SDV_20221020_0_L2A>\n"
     ]
    },
    {
     "name": "stderr",
     "output_type": "stream",
     "text": [
      " 28%|██▊       | 93/336 [10:37<30:14,  7.47s/it]"
     ]
    },
    {
     "name": "stdout",
     "output_type": "stream",
     "text": [
      "Selected item S2A_13SDV_20221020_0_L2A for lat: 35.518537762884606, lon: -105.82804141252963\n",
      "Working on <Item id=S2A_13SDV_20221020_0_L2A>\n"
     ]
    },
    {
     "name": "stderr",
     "output_type": "stream",
     "text": [
      " 28%|██▊       | 94/336 [10:44<30:06,  7.46s/it]"
     ]
    },
    {
     "name": "stdout",
     "output_type": "stream",
     "text": [
      "Selected item S2A_13SDV_20221020_0_L2A for lat: 35.5187282588706, lon: -105.79981068333758\n",
      "Working on <Item id=S2A_13SDV_20221020_0_L2A>\n"
     ]
    },
    {
     "name": "stderr",
     "output_type": "stream",
     "text": [
      " 28%|██▊       | 95/336 [10:51<29:50,  7.43s/it]"
     ]
    },
    {
     "name": "stdout",
     "output_type": "stream",
     "text": [
      "Selected item S2A_13SDV_20221020_0_L2A for lat: 35.518912148795906, lon: -105.77157969384216\n",
      "Working on <Item id=S2A_13SDV_20221020_0_L2A>\n"
     ]
    },
    {
     "name": "stderr",
     "output_type": "stream",
     "text": [
      " 29%|██▊       | 96/336 [10:59<29:46,  7.44s/it]"
     ]
    },
    {
     "name": "stdout",
     "output_type": "stream",
     "text": [
      "Selected item S2A_13SDV_20221020_0_L2A for lat: 35.51908943246791, lon: -105.74334845322733\n",
      "Working on <Item id=S2A_13SDV_20221020_0_L2A>\n"
     ]
    },
    {
     "name": "stderr",
     "output_type": "stream",
     "text": [
      " 29%|██▉       | 97/336 [11:05<28:37,  7.19s/it]"
     ]
    },
    {
     "name": "stdout",
     "output_type": "stream",
     "text": [
      "Selected item S2A_13SDV_20221020_0_L2A for lat: 35.51926010970093, lon: -105.71511697067758\n",
      "Working on <Item id=S2A_13SDV_20221020_0_L2A>\n"
     ]
    },
    {
     "name": "stderr",
     "output_type": "stream",
     "text": [
      " 29%|██▉       | 98/336 [11:11<26:28,  6.68s/it]"
     ]
    },
    {
     "name": "stdout",
     "output_type": "stream",
     "text": [
      "Selected item S2A_13SDV_20221020_0_L2A for lat: 35.51942418031619, lon: -105.6868852553779\n",
      "Working on <Item id=S2A_13SDV_20221020_0_L2A>\n"
     ]
    },
    {
     "name": "stderr",
     "output_type": "stream",
     "text": [
      " 29%|██▉       | 99/336 [11:17<25:51,  6.55s/it]"
     ]
    },
    {
     "name": "stdout",
     "output_type": "stream",
     "text": [
      "Selected item S2A_13SDV_20221020_0_L2A for lat: 35.51958164414184, lon: -105.65865331651376\n",
      "Working on <Item id=S2A_13SDV_20221020_0_L2A>\n"
     ]
    },
    {
     "name": "stderr",
     "output_type": "stream",
     "text": [
      " 30%|██▉       | 100/336 [11:23<25:23,  6.46s/it]"
     ]
    },
    {
     "name": "stdout",
     "output_type": "stream",
     "text": [
      "Selected item S2A_13SDV_20221020_0_L2A for lat: 35.519732501012925, lon: -105.63042116327104\n",
      "Working on <Item id=S2A_13SDV_20221020_0_L2A>\n"
     ]
    },
    {
     "name": "stderr",
     "output_type": "stream",
     "text": [
      " 30%|███       | 101/336 [11:29<24:46,  6.33s/it]"
     ]
    },
    {
     "name": "stdout",
     "output_type": "stream",
     "text": [
      "Selected item S2A_13SDV_20221020_0_L2A for lat: 35.51987675077145, lon: -105.60218880483609\n",
      "Working on <Item id=S2A_13SDV_20221020_0_L2A>\n"
     ]
    },
    {
     "name": "stderr",
     "output_type": "stream",
     "text": [
      " 30%|███       | 102/336 [11:35<24:14,  6.22s/it]"
     ]
    },
    {
     "name": "stdout",
     "output_type": "stream",
     "text": [
      "Selected item S2A_13SDV_20221020_0_L2A for lat: 35.520014393266294, lon: -105.57395625039567\n",
      "Working on <Item id=S2A_13SDV_20221020_0_L2A>\n"
     ]
    },
    {
     "name": "stderr",
     "output_type": "stream",
     "text": [
      " 31%|███       | 103/336 [11:41<23:09,  5.96s/it]"
     ]
    },
    {
     "name": "stdout",
     "output_type": "stream",
     "text": [
      "Selected item S2A_13SDV_20221020_0_L2A for lat: 35.52014542835329, lon: -105.54572350913695\n",
      "Working on <Item id=S2A_13SDV_20221020_0_L2A>\n"
     ]
    },
    {
     "name": "stderr",
     "output_type": "stream",
     "text": [
      " 31%|███       | 104/336 [11:47<23:11,  6.00s/it]"
     ]
    },
    {
     "name": "stdout",
     "output_type": "stream",
     "text": [
      "Selected item S2A_13SDV_20221020_0_L2A for lat: 35.52026985589515, lon: -105.51749059024743\n",
      "Working on <Item id=S2A_13SDV_20221020_0_L2A>\n"
     ]
    },
    {
     "name": "stderr",
     "output_type": "stream",
     "text": [
      " 31%|███▏      | 105/336 [11:54<23:54,  6.21s/it]"
     ]
    },
    {
     "name": "stdout",
     "output_type": "stream",
     "text": [
      "Selected item S2A_13SDV_20221020_0_L2A for lat: 35.53960456361584, lon: -106.08241466841554\n",
      "Working on <Item id=S2A_13SDV_20221020_0_L2A>\n"
     ]
    },
    {
     "name": "stderr",
     "output_type": "stream",
     "text": [
      " 32%|███▏      | 106/336 [12:01<24:47,  6.47s/it]"
     ]
    },
    {
     "name": "stdout",
     "output_type": "stream",
     "text": [
      "Selected item S2A_13SDV_20221020_0_L2A for lat: 35.53985471603274, lon: -106.05417861416096\n",
      "Working on <Item id=S2A_13SDV_20221020_0_L2A>\n"
     ]
    },
    {
     "name": "stderr",
     "output_type": "stream",
     "text": [
      " 32%|███▏      | 107/336 [12:08<25:20,  6.64s/it]"
     ]
    },
    {
     "name": "stdout",
     "output_type": "stream",
     "text": [
      "Selected item S2A_13SDV_20221020_0_L2A for lat: 35.540098258841375, lon: -106.02594221658184\n",
      "Working on <Item id=S2A_13SDV_20221020_0_L2A>\n"
     ]
    },
    {
     "name": "stderr",
     "output_type": "stream",
     "text": [
      " 32%|███▏      | 108/336 [12:15<25:46,  6.78s/it]"
     ]
    },
    {
     "name": "stdout",
     "output_type": "stream",
     "text": [
      "Selected item S2A_13SDV_20221020_0_L2A for lat: 35.54033519178659, lon: -105.99770548486718\n",
      "Working on <Item id=S2A_13SDV_20221020_0_L2A>\n"
     ]
    },
    {
     "name": "stderr",
     "output_type": "stream",
     "text": [
      " 32%|███▏      | 109/336 [12:22<26:35,  7.03s/it]"
     ]
    },
    {
     "name": "stdout",
     "output_type": "stream",
     "text": [
      "Selected item S2A_13SDV_20221020_0_L2A for lat: 35.54056551462016, lon: -105.9694684282067\n",
      "Working on <Item id=S2A_13SDV_20221020_0_L2A>\n"
     ]
    },
    {
     "name": "stderr",
     "output_type": "stream",
     "text": [
      " 33%|███▎      | 110/336 [12:29<26:02,  6.91s/it]"
     ]
    },
    {
     "name": "stdout",
     "output_type": "stream",
     "text": [
      "Selected item S2A_13SDV_20221020_0_L2A for lat: 35.54078922710082, lon: -105.94123105579074\n",
      "Working on <Item id=S2A_13SDV_20221020_0_L2A>\n"
     ]
    },
    {
     "name": "stderr",
     "output_type": "stream",
     "text": [
      " 33%|███▎      | 111/336 [12:36<25:41,  6.85s/it]"
     ]
    },
    {
     "name": "stdout",
     "output_type": "stream",
     "text": [
      "Selected item S2A_13SDV_20221020_0_L2A for lat: 35.541006328994136, lon: -105.9129933768103\n",
      "Working on <Item id=S2A_13SDV_20221020_0_L2A>\n"
     ]
    },
    {
     "name": "stderr",
     "output_type": "stream",
     "text": [
      " 33%|███▎      | 112/336 [12:43<26:31,  7.10s/it]"
     ]
    },
    {
     "name": "stdout",
     "output_type": "stream",
     "text": [
      "Selected item S2A_13SDV_20221020_0_L2A for lat: 35.541216820072684, lon: -105.88475540045704\n",
      "Working on <Item id=S2A_13SDV_20221020_0_L2A>\n"
     ]
    },
    {
     "name": "stderr",
     "output_type": "stream",
     "text": [
      " 34%|███▎      | 113/336 [12:51<26:48,  7.21s/it]"
     ]
    },
    {
     "name": "stdout",
     "output_type": "stream",
     "text": [
      "Selected item S2A_13SDV_20221020_0_L2A for lat: 35.541420700115914, lon: -105.85651713592314\n",
      "Working on <Item id=S2A_13SDV_20221020_0_L2A>\n"
     ]
    },
    {
     "name": "stderr",
     "output_type": "stream",
     "text": [
      " 34%|███▍      | 114/336 [12:58<26:02,  7.04s/it]"
     ]
    },
    {
     "name": "stdout",
     "output_type": "stream",
     "text": [
      "Selected item S2A_13SDV_20221020_0_L2A for lat: 35.5416179689102, lon: -105.82827859240145\n",
      "Working on <Item id=S2A_13SDV_20221020_0_L2A>\n"
     ]
    },
    {
     "name": "stderr",
     "output_type": "stream",
     "text": [
      " 34%|███▍      | 115/336 [13:05<26:25,  7.18s/it]"
     ]
    },
    {
     "name": "stdout",
     "output_type": "stream",
     "text": [
      "Selected item S2A_13SDV_20221020_0_L2A for lat: 35.54180862624887, lon: -105.80003977908534\n",
      "Working on <Item id=S2A_13SDV_20221020_0_L2A>\n"
     ]
    },
    {
     "name": "stderr",
     "output_type": "stream",
     "text": [
      " 35%|███▍      | 116/336 [13:13<26:48,  7.31s/it]"
     ]
    },
    {
     "name": "stdout",
     "output_type": "stream",
     "text": [
      "Selected item S2A_13SDV_20221020_0_L2A for lat: 35.54199267193214, lon: -105.77180070516873\n",
      "Working on <Item id=S2A_13SDV_20221020_0_L2A>\n"
     ]
    },
    {
     "name": "stderr",
     "output_type": "stream",
     "text": [
      " 35%|███▍      | 117/336 [13:20<26:32,  7.27s/it]"
     ]
    },
    {
     "name": "stdout",
     "output_type": "stream",
     "text": [
      "Selected item S2A_13SDV_20221020_0_L2A for lat: 35.54217010576716, lon: -105.74356137984608\n",
      "Working on <Item id=S2A_13SDV_20221020_0_L2A>\n"
     ]
    },
    {
     "name": "stderr",
     "output_type": "stream",
     "text": [
      " 35%|███▌      | 118/336 [13:27<26:05,  7.18s/it]"
     ]
    },
    {
     "name": "stdout",
     "output_type": "stream",
     "text": [
      "Selected item S2A_13SDV_20221020_0_L2A for lat: 35.542340927568034, lon: -105.7153218123124\n",
      "Working on <Item id=S2A_13SDV_20221020_0_L2A>\n"
     ]
    },
    {
     "name": "stderr",
     "output_type": "stream",
     "text": [
      " 35%|███▌      | 119/336 [13:33<24:31,  6.78s/it]"
     ]
    },
    {
     "name": "stdout",
     "output_type": "stream",
     "text": [
      "Selected item S2A_13SDV_20221020_0_L2A for lat: 35.54250513715575, lon: -105.68708201176308\n",
      "Working on <Item id=S2A_13SDV_20221020_0_L2A>\n"
     ]
    },
    {
     "name": "stderr",
     "output_type": "stream",
     "text": [
      " 36%|███▌      | 120/336 [13:38<23:19,  6.48s/it]"
     ]
    },
    {
     "name": "stdout",
     "output_type": "stream",
     "text": [
      "Selected item S2A_13SDV_20221020_0_L2A for lat: 35.542662734358224, lon: -105.65884198739411\n",
      "Working on <Item id=S2A_13SDV_20221020_0_L2A>\n"
     ]
    },
    {
     "name": "stderr",
     "output_type": "stream",
     "text": [
      " 36%|███▌      | 121/336 [13:45<22:58,  6.41s/it]"
     ]
    },
    {
     "name": "stdout",
     "output_type": "stream",
     "text": [
      "Selected item S2A_13SDV_20221020_0_L2A for lat: 35.542813719010354, lon: -105.63060174840186\n",
      "Working on <Item id=S2A_13SDV_20221020_0_L2A>\n"
     ]
    },
    {
     "name": "stderr",
     "output_type": "stream",
     "text": [
      " 36%|███▋      | 122/336 [13:50<21:50,  6.13s/it]"
     ]
    },
    {
     "name": "stdout",
     "output_type": "stream",
     "text": [
      "Selected item S2A_13SDV_20221020_0_L2A for lat: 35.54295809095388, lon: -105.60236130398316\n",
      "Working on <Item id=S2A_13SDV_20221020_0_L2A>\n"
     ]
    },
    {
     "name": "stderr",
     "output_type": "stream",
     "text": [
      " 37%|███▋      | 123/336 [13:56<21:47,  6.14s/it]"
     ]
    },
    {
     "name": "stdout",
     "output_type": "stream",
     "text": [
      "Selected item S2A_13SDV_20221020_0_L2A for lat: 35.54309585003754, lon: -105.57412066333525\n",
      "Working on <Item id=S2A_13SDV_20221020_0_L2A>\n"
     ]
    },
    {
     "name": "stderr",
     "output_type": "stream",
     "text": [
      " 37%|███▋      | 124/336 [14:03<21:59,  6.23s/it]"
     ]
    },
    {
     "name": "stdout",
     "output_type": "stream",
     "text": [
      "Selected item S2A_13SDV_20221020_0_L2A for lat: 35.54322699611697, lon: -105.54587983565577\n",
      "Working on <Item id=S2A_13SDV_20221020_0_L2A>\n"
     ]
    },
    {
     "name": "stderr",
     "output_type": "stream",
     "text": [
      " 37%|███▋      | 125/336 [14:09<21:22,  6.08s/it]"
     ]
    },
    {
     "name": "stdout",
     "output_type": "stream",
     "text": [
      "Selected item S2A_13SDV_20221020_0_L2A for lat: 35.543351529054725, lon: -105.51763883014276\n",
      "Working on <Item id=S2A_13SDV_20221020_0_L2A>\n"
     ]
    },
    {
     "name": "stderr",
     "output_type": "stream",
     "text": [
      " 38%|███▊      | 126/336 [14:14<20:22,  5.82s/it]"
     ]
    },
    {
     "name": "stdout",
     "output_type": "stream",
     "text": [
      "Selected item S2A_13SDV_20221020_0_L2A for lat: 35.56268297489453, lon: -106.08272494281879\n",
      "Working on <Item id=S2A_13SDV_20221020_0_L2A>\n"
     ]
    },
    {
     "name": "stderr",
     "output_type": "stream",
     "text": [
      " 38%|███▊      | 127/336 [14:21<21:59,  6.31s/it]"
     ]
    },
    {
     "name": "stdout",
     "output_type": "stream",
     "text": [
      "Selected item S2A_13SDV_20221020_0_L2A for lat: 35.562933339123525, lon: -106.05448079839712\n",
      "Working on <Item id=S2A_13SDV_20221020_0_L2A>\n"
     ]
    },
    {
     "name": "stderr",
     "output_type": "stream",
     "text": [
      " 38%|███▊      | 128/336 [14:29<23:48,  6.87s/it]"
     ]
    },
    {
     "name": "stdout",
     "output_type": "stream",
     "text": [
      "Selected item S2A_13SDV_20221020_0_L2A for lat: 35.563177088148926, lon: -106.02623631025884\n",
      "Working on <Item id=S2A_13SDV_20221020_0_L2A>\n"
     ]
    },
    {
     "name": "stderr",
     "output_type": "stream",
     "text": [
      " 38%|███▊      | 129/336 [14:37<24:08,  7.00s/it]"
     ]
    },
    {
     "name": "stdout",
     "output_type": "stream",
     "text": [
      "Selected item S2A_13SDV_20221020_0_L2A for lat: 35.563414221715284, lon: -105.99799148760346\n",
      "Working on <Item id=S2A_13SDV_20221020_0_L2A>\n"
     ]
    },
    {
     "name": "stderr",
     "output_type": "stream",
     "text": [
      " 39%|███▊      | 130/336 [14:45<25:05,  7.31s/it]"
     ]
    },
    {
     "name": "stdout",
     "output_type": "stream",
     "text": [
      "Selected item S2A_13SDV_20221020_0_L2A for lat: 35.563644739574066, lon: -105.96974633963117\n",
      "Working on <Item id=S2A_13SDV_20221020_0_L2A>\n"
     ]
    },
    {
     "name": "stderr",
     "output_type": "stream",
     "text": [
      " 39%|███▉      | 131/336 [14:52<25:18,  7.41s/it]"
     ]
    },
    {
     "name": "stdout",
     "output_type": "stream",
     "text": [
      "Selected item S2A_13SDV_20221020_0_L2A for lat: 35.563868641483666, lon: -105.9415008755428\n",
      "Working on <Item id=S2A_13SDV_20221020_0_L2A>\n"
     ]
    },
    {
     "name": "stderr",
     "output_type": "stream",
     "text": [
      " 39%|███▉      | 132/336 [15:00<25:47,  7.58s/it]"
     ]
    },
    {
     "name": "stdout",
     "output_type": "stream",
     "text": [
      "Selected item S2A_13SDV_20221020_0_L2A for lat: 35.564085927209426, lon: -105.91325510453987\n",
      "Working on <Item id=S2A_13SDV_20221020_0_L2A>\n"
     ]
    },
    {
     "name": "stderr",
     "output_type": "stream",
     "text": [
      " 40%|███▉      | 133/336 [15:08<26:02,  7.70s/it]"
     ]
    },
    {
     "name": "stdout",
     "output_type": "stream",
     "text": [
      "Selected item S2A_13SDV_20221020_0_L2A for lat: 35.56429659652359, lon: -105.88500903582447\n",
      "Working on <Item id=S2A_13SDV_20221020_0_L2A>\n"
     ]
    },
    {
     "name": "stderr",
     "output_type": "stream",
     "text": [
      " 40%|███▉      | 134/336 [15:16<25:46,  7.66s/it]"
     ]
    },
    {
     "name": "stdout",
     "output_type": "stream",
     "text": [
      "Selected item S2A_13SDV_20221020_0_L2A for lat: 35.56450064920534, lon: -105.85676267859934\n",
      "Working on <Item id=S2A_13SDV_20221020_0_L2A>\n"
     ]
    },
    {
     "name": "stderr",
     "output_type": "stream",
     "text": [
      " 40%|████      | 135/336 [15:23<25:04,  7.48s/it]"
     ]
    },
    {
     "name": "stdout",
     "output_type": "stream",
     "text": [
      "Selected item S2A_13SDV_20221020_0_L2A for lat: 35.564698085040824, lon: -105.82851604206778\n",
      "Working on <Item id=S2A_13SDV_20221020_0_L2A>\n"
     ]
    },
    {
     "name": "stderr",
     "output_type": "stream",
     "text": [
      " 40%|████      | 136/336 [15:30<24:42,  7.41s/it]"
     ]
    },
    {
     "name": "stdout",
     "output_type": "stream",
     "text": [
      "Selected item S2A_13SDV_20221020_0_L2A for lat: 35.564888903823054, lon: -105.80026913543365\n",
      "Working on <Item id=S2A_13SDV_20221020_0_L2A>\n"
     ]
    },
    {
     "name": "stderr",
     "output_type": "stream",
     "text": [
      " 41%|████      | 137/336 [15:38<24:35,  7.42s/it]"
     ]
    },
    {
     "name": "stdout",
     "output_type": "stream",
     "text": [
      "Selected item S2A_13SDV_20221020_0_L2A for lat: 35.56507310535204, lon: -105.77202196790141\n",
      "Working on <Item id=S2A_13SDV_20221020_0_L2A>\n"
     ]
    },
    {
     "name": "stderr",
     "output_type": "stream",
     "text": [
      " 41%|████      | 138/336 [15:46<25:09,  7.63s/it]"
     ]
    },
    {
     "name": "stdout",
     "output_type": "stream",
     "text": [
      "Selected item S2A_13SDV_20221020_0_L2A for lat: 35.56525068943469, lon: -105.743774548676\n",
      "Working on <Item id=S2A_13SDV_20221020_0_L2A>\n"
     ]
    },
    {
     "name": "stderr",
     "output_type": "stream",
     "text": [
      " 41%|████▏     | 139/336 [15:53<24:59,  7.61s/it]"
     ]
    },
    {
     "name": "stdout",
     "output_type": "stream",
     "text": [
      "Selected item S2A_13SDV_20221020_0_L2A for lat: 35.565421655884855, lon: -105.71552688696286\n",
      "Working on <Item id=S2A_13SDV_20221020_0_L2A>\n"
     ]
    },
    {
     "name": "stderr",
     "output_type": "stream",
     "text": [
      " 42%|████▏     | 140/336 [15:59<23:07,  7.08s/it]"
     ]
    },
    {
     "name": "stdout",
     "output_type": "stream",
     "text": [
      "Selected item S2A_13SDV_20221020_0_L2A for lat: 35.56558600452332, lon: -105.687278991968\n",
      "Working on <Item id=S2A_13SDV_20221020_0_L2A>\n"
     ]
    },
    {
     "name": "stderr",
     "output_type": "stream",
     "text": [
      " 42%|████▏     | 141/336 [16:05<21:51,  6.73s/it]"
     ]
    },
    {
     "name": "stdout",
     "output_type": "stream",
     "text": [
      "Selected item S2A_13SDV_20221020_0_L2A for lat: 35.56574373517778, lon: -105.65903087289782\n",
      "Working on <Item id=S2A_13SDV_20221020_0_L2A>\n"
     ]
    },
    {
     "name": "stderr",
     "output_type": "stream",
     "text": [
      " 42%|████▏     | 142/336 [16:11<21:14,  6.57s/it]"
     ]
    },
    {
     "name": "stdout",
     "output_type": "stream",
     "text": [
      "Selected item S2A_13SDV_20221020_0_L2A for lat: 35.56589484768292, lon: -105.63078253895921\n",
      "Working on <Item id=S2A_13SDV_20221020_0_L2A>\n"
     ]
    },
    {
     "name": "stderr",
     "output_type": "stream",
     "text": [
      " 43%|████▎     | 143/336 [16:18<20:54,  6.50s/it]"
     ]
    },
    {
     "name": "stdout",
     "output_type": "stream",
     "text": [
      "Selected item S2A_13SDV_20221020_0_L2A for lat: 35.56603934188031, lon: -105.60253399935952\n",
      "Working on <Item id=S2A_13SDV_20221020_0_L2A>\n"
     ]
    },
    {
     "name": "stderr",
     "output_type": "stream",
     "text": [
      " 43%|████▎     | 144/336 [16:24<20:35,  6.43s/it]"
     ]
    },
    {
     "name": "stdout",
     "output_type": "stream",
     "text": [
      "Selected item S2A_13SDV_20221020_0_L2A for lat: 35.566177217618474, lon: -105.57428526330646\n",
      "Working on <Item id=S2A_13SDV_20221020_0_L2A>\n"
     ]
    },
    {
     "name": "stderr",
     "output_type": "stream",
     "text": [
      " 43%|████▎     | 145/336 [16:30<20:12,  6.35s/it]"
     ]
    },
    {
     "name": "stdout",
     "output_type": "stream",
     "text": [
      "Selected item S2A_13SDV_20221020_0_L2A for lat: 35.566308474752866, lon: -105.54603634000821\n",
      "Working on <Item id=S2A_13SDV_20221020_0_L2A>\n"
     ]
    },
    {
     "name": "stderr",
     "output_type": "stream",
     "text": [
      " 43%|████▎     | 146/336 [16:36<19:36,  6.19s/it]"
     ]
    },
    {
     "name": "stdout",
     "output_type": "stream",
     "text": [
      "Selected item S2A_13SDV_20221020_0_L2A for lat: 35.56643311314591, lon: -105.5177872386733\n",
      "Working on <Item id=S2A_13SDV_20221020_0_L2A>\n"
     ]
    },
    {
     "name": "stderr",
     "output_type": "stream",
     "text": [
      " 44%|████▍     | 147/336 [16:42<19:06,  6.07s/it]"
     ]
    },
    {
     "name": "stdout",
     "output_type": "stream",
     "text": [
      "Selected item S2A_13SDV_20221020_0_L2A for lat: 35.58576129529118, lon: -106.08303557013758\n",
      "Working on <Item id=S2A_13SDV_20221020_0_L2A>\n"
     ]
    },
    {
     "name": "stderr",
     "output_type": "stream",
     "text": [
      " 44%|████▍     | 148/336 [16:48<19:44,  6.30s/it]"
     ]
    },
    {
     "name": "stdout",
     "output_type": "stream",
     "text": [
      "Selected item S2A_13SDV_20221020_0_L2A for lat: 35.586011871451646, lon: -106.05478332635\n",
      "Working on <Item id=S2A_13SDV_20221020_0_L2A>\n"
     ]
    },
    {
     "name": "stderr",
     "output_type": "stream",
     "text": [
      " 44%|████▍     | 149/336 [16:55<20:00,  6.42s/it]"
     ]
    },
    {
     "name": "stdout",
     "output_type": "stream",
     "text": [
      "Selected item S2A_13SDV_20221020_0_L2A for lat: 35.58625582681008, lon: -106.02653073845306\n",
      "Working on <Item id=S2A_13SDV_20221020_0_L2A>\n"
     ]
    },
    {
     "name": "stderr",
     "output_type": "stream",
     "text": [
      " 45%|████▍     | 150/336 [17:02<20:41,  6.68s/it]"
     ]
    },
    {
     "name": "stdout",
     "output_type": "stream",
     "text": [
      "Selected item S2A_13SDV_20221020_0_L2A for lat: 35.58649316111068, lon: -105.99827781565676\n",
      "Working on <Item id=S2A_13SDV_20221020_0_L2A>\n"
     ]
    },
    {
     "name": "stderr",
     "output_type": "stream",
     "text": [
      " 45%|████▍     | 151/336 [17:10<21:10,  6.87s/it]"
     ]
    },
    {
     "name": "stdout",
     "output_type": "stream",
     "text": [
      "Selected item S2A_13SDV_20221020_0_L2A for lat: 35.586723874104614, lon: -105.9700245671718\n",
      "Working on <Item id=S2A_13SDV_20221020_0_L2A>\n"
     ]
    },
    {
     "name": "stderr",
     "output_type": "stream",
     "text": [
      " 45%|████▌     | 152/336 [17:18<22:29,  7.33s/it]"
     ]
    },
    {
     "name": "stdout",
     "output_type": "stream",
     "text": [
      "Selected item S2A_13SDV_20221020_0_L2A for lat: 35.586947965549975, lon: -105.94177100220955\n",
      "Working on <Item id=S2A_13SDV_20221020_0_L2A>\n"
     ]
    },
    {
     "name": "stderr",
     "output_type": "stream",
     "text": [
      " 46%|████▌     | 153/336 [17:26<22:37,  7.42s/it]"
     ]
    },
    {
     "name": "stdout",
     "output_type": "stream",
     "text": [
      "Selected item S2A_13SDV_20221020_0_L2A for lat: 35.5871654352118, lon: -105.91351712998198\n",
      "Working on <Item id=S2A_13SDV_20221020_0_L2A>\n"
     ]
    },
    {
     "name": "stderr",
     "output_type": "stream",
     "text": [
      " 46%|████▌     | 154/336 [17:34<22:55,  7.56s/it]"
     ]
    },
    {
     "name": "stdout",
     "output_type": "stream",
     "text": [
      "Selected item S2A_13SDV_20221020_0_L2A for lat: 35.58737628286207, lon: -105.88526295970175\n",
      "Working on <Item id=S2A_13SDV_20221020_0_L2A>\n"
     ]
    },
    {
     "name": "stderr",
     "output_type": "stream",
     "text": [
      " 46%|████▌     | 155/336 [17:41<22:17,  7.39s/it]"
     ]
    },
    {
     "name": "stdout",
     "output_type": "stream",
     "text": [
      "Selected item S2A_13SDV_20221020_0_L2A for lat: 35.5875805082797, lon: -105.85700850058207\n",
      "Working on <Item id=S2A_13SDV_20221020_0_L2A>\n"
     ]
    },
    {
     "name": "stderr",
     "output_type": "stream",
     "text": [
      " 46%|████▋     | 156/336 [17:48<22:04,  7.36s/it]"
     ]
    },
    {
     "name": "stdout",
     "output_type": "stream",
     "text": [
      "Selected item S2A_13SDV_20221020_0_L2A for lat: 35.587778111250536, lon: -105.82875376183675\n",
      "Working on <Item id=S2A_13SDV_20221020_0_L2A>\n"
     ]
    },
    {
     "name": "stderr",
     "output_type": "stream",
     "text": [
      " 47%|████▋     | 157/336 [17:56<22:19,  7.48s/it]"
     ]
    },
    {
     "name": "stdout",
     "output_type": "stream",
     "text": [
      "Selected item S2A_13SDV_20221020_0_L2A for lat: 35.58796909156738, lon: -105.80049875268021\n",
      "Working on <Item id=S2A_13SDV_20221020_0_L2A>\n"
     ]
    },
    {
     "name": "stderr",
     "output_type": "stream",
     "text": [
      " 47%|████▋     | 158/336 [18:03<22:15,  7.50s/it]"
     ]
    },
    {
     "name": "stdout",
     "output_type": "stream",
     "text": [
      "Selected item S2A_13SDV_20221020_0_L2A for lat: 35.58815344902995, lon: -105.77224348232737\n",
      "Working on <Item id=S2A_13SDV_20221020_0_L2A>\n"
     ]
    },
    {
     "name": "stderr",
     "output_type": "stream",
     "text": [
      " 47%|████▋     | 159/336 [18:11<22:30,  7.63s/it]"
     ]
    },
    {
     "name": "stdout",
     "output_type": "stream",
     "text": [
      "Selected item S2A_13SDV_20221020_0_L2A for lat: 35.58833118344495, lon: -105.74398795999369\n",
      "Working on <Item id=S2A_13SDV_20221020_0_L2A>\n"
     ]
    },
    {
     "name": "stderr",
     "output_type": "stream",
     "text": [
      " 48%|████▊     | 160/336 [18:18<22:02,  7.51s/it]"
     ]
    },
    {
     "name": "stdout",
     "output_type": "stream",
     "text": [
      "Selected item S2A_13SDV_20221020_0_L2A for lat: 35.58850229462597, lon: -105.71573219489518\n",
      "Working on <Item id=S2A_13SDV_20221020_0_L2A>\n"
     ]
    },
    {
     "name": "stderr",
     "output_type": "stream",
     "text": [
      " 48%|████▊     | 161/336 [18:25<21:28,  7.36s/it]"
     ]
    },
    {
     "name": "stdout",
     "output_type": "stream",
     "text": [
      "Selected item S2A_13SDV_20221020_0_L2A for lat: 35.588666782393574, lon: -105.6874761962483\n",
      "Working on <Item id=S2A_13SDV_20221020_0_L2A>\n"
     ]
    },
    {
     "name": "stderr",
     "output_type": "stream",
     "text": [
      " 48%|████▊     | 162/336 [18:32<20:19,  7.01s/it]"
     ]
    },
    {
     "name": "stdout",
     "output_type": "stream",
     "text": [
      "Selected item S2A_13SDV_20221020_0_L2A for lat: 35.58882464657529, lon: -105.65921997327001\n",
      "Working on <Item id=S2A_13SDV_20221020_0_L2A>\n"
     ]
    },
    {
     "name": "stderr",
     "output_type": "stream",
     "text": [
      " 49%|████▊     | 163/336 [18:37<19:13,  6.66s/it]"
     ]
    },
    {
     "name": "stdout",
     "output_type": "stream",
     "text": [
      "Selected item S2A_13SDV_20221020_0_L2A for lat: 35.58897588700554, lon: -105.63096353517773\n",
      "Working on <Item id=S2A_13SDV_20221020_0_L2A>\n"
     ]
    },
    {
     "name": "stderr",
     "output_type": "stream",
     "text": [
      " 49%|████▉     | 164/336 [18:43<18:06,  6.32s/it]"
     ]
    },
    {
     "name": "stdout",
     "output_type": "stream",
     "text": [
      "Selected item S2A_13SDV_20221020_0_L2A for lat: 35.58912050352573, lon: -105.60270689118927\n",
      "Working on <Item id=S2A_13SDV_20221020_0_L2A>\n"
     ]
    },
    {
     "name": "stderr",
     "output_type": "stream",
     "text": [
      " 49%|████▉     | 165/336 [18:49<18:04,  6.34s/it]"
     ]
    },
    {
     "name": "stdout",
     "output_type": "stream",
     "text": [
      "Selected item S2A_13SDV_20221020_0_L2A for lat: 35.58925849598419, lon: -105.57445005052294\n",
      "Working on <Item id=S2A_13SDV_20221020_0_L2A>\n"
     ]
    },
    {
     "name": "stderr",
     "output_type": "stream",
     "text": [
      " 49%|████▉     | 166/336 [18:56<17:56,  6.33s/it]"
     ]
    },
    {
     "name": "stdout",
     "output_type": "stream",
     "text": [
      "Selected item S2A_13SDV_20221020_0_L2A for lat: 35.58938986423619, lon: -105.5461930223974\n",
      "Working on <Item id=S2A_13SDV_20221020_0_L2A>\n"
     ]
    },
    {
     "name": "stderr",
     "output_type": "stream",
     "text": [
      " 50%|████▉     | 167/336 [19:01<17:11,  6.10s/it]"
     ]
    },
    {
     "name": "stdout",
     "output_type": "stream",
     "text": [
      "Selected item S2A_13SDV_20221020_0_L2A for lat: 35.58951460814397, lon: -105.51793581603168\n",
      "Working on <Item id=S2A_13SDV_20221020_0_L2A>\n"
     ]
    },
    {
     "name": "stderr",
     "output_type": "stream",
     "text": [
      " 50%|█████     | 168/336 [19:07<17:05,  6.10s/it]"
     ]
    },
    {
     "name": "stdout",
     "output_type": "stream",
     "text": [
      "Selected item S2A_13SDV_20221020_0_L2A for lat: 35.608839524778524, lon: -106.08334655077518\n",
      "Working on <Item id=S2A_13SDV_20221020_0_L2A>\n"
     ]
    },
    {
     "name": "stderr",
     "output_type": "stream",
     "text": [
      " 50%|█████     | 169/336 [19:15<18:01,  6.47s/it]"
     ]
    },
    {
     "name": "stdout",
     "output_type": "stream",
     "text": [
      "Selected item S2A_13SDV_20221020_0_L2A for lat: 35.60909031299007, lon: -106.05508619841235\n",
      "Working on <Item id=S2A_13SDV_20221020_0_L2A>\n"
     ]
    },
    {
     "name": "stderr",
     "output_type": "stream",
     "text": [
      " 51%|█████     | 170/336 [19:21<18:08,  6.56s/it]"
     ]
    },
    {
     "name": "stdout",
     "output_type": "stream",
     "text": [
      "Selected item S2A_13SDV_20221020_0_L2A for lat: 35.60933447479793, lon: -106.02682550154672\n",
      "Working on <Item id=S2A_13SDV_20221020_0_L2A>\n"
     ]
    },
    {
     "name": "stderr",
     "output_type": "stream",
     "text": [
      " 51%|█████     | 171/336 [19:29<19:03,  6.93s/it]"
     ]
    },
    {
     "name": "stdout",
     "output_type": "stream",
     "text": [
      "Selected item S2A_13SDV_20221020_0_L2A for lat: 35.609572009946035, lon: -105.99856446939883\n",
      "Working on <Item id=S2A_13SDV_20221020_0_L2A>\n"
     ]
    },
    {
     "name": "stderr",
     "output_type": "stream",
     "text": [
      " 51%|█████     | 172/336 [19:37<19:54,  7.29s/it]"
     ]
    },
    {
     "name": "stdout",
     "output_type": "stream",
     "text": [
      "Selected item S2A_13SDV_20221020_0_L2A for lat: 35.60980291818522, lon: -105.97030311118985\n",
      "Working on <Item id=S2A_13SDV_20221020_0_L2A>\n"
     ]
    },
    {
     "name": "stderr",
     "output_type": "stream",
     "text": [
      " 51%|█████▏    | 173/336 [19:45<19:51,  7.31s/it]"
     ]
    },
    {
     "name": "stdout",
     "output_type": "stream",
     "text": [
      "Selected item S2A_13SDV_20221020_0_L2A for lat: 35.61002719927329, lon: -105.9420414361417\n",
      "Working on <Item id=S2A_13SDV_20221020_0_L2A>\n"
     ]
    },
    {
     "name": "stderr",
     "output_type": "stream",
     "text": [
      " 52%|█████▏    | 174/336 [19:53<20:12,  7.49s/it]"
     ]
    },
    {
     "name": "stdout",
     "output_type": "stream",
     "text": [
      "Selected item S2A_13SDV_20221020_0_L2A for lat: 35.610244852974986, lon: -105.91377945347688\n",
      "Working on <Item id=S2A_13SDV_20221020_0_L2A>\n"
     ]
    },
    {
     "name": "stderr",
     "output_type": "stream",
     "text": [
      " 52%|█████▏    | 175/336 [20:00<20:12,  7.53s/it]"
     ]
    },
    {
     "name": "stdout",
     "output_type": "stream",
     "text": [
      "Selected item S2A_13SDV_20221020_0_L2A for lat: 35.610455879062, lon: -105.88551717241857\n",
      "Working on <Item id=S2A_13SDV_20221020_0_L2A>\n"
     ]
    },
    {
     "name": "stderr",
     "output_type": "stream",
     "text": [
      " 52%|█████▏    | 176/336 [20:08<19:51,  7.45s/it]"
     ]
    },
    {
     "name": "stdout",
     "output_type": "stream",
     "text": [
      "Selected item S2A_13SDV_20221020_0_L2A for lat: 35.610660277312974, lon: -105.8572546021905\n",
      "Working on <Item id=S2A_13SDV_20221020_0_L2A>\n"
     ]
    },
    {
     "name": "stderr",
     "output_type": "stream",
     "text": [
      " 53%|█████▎    | 177/336 [20:14<19:06,  7.21s/it]"
     ]
    },
    {
     "name": "stdout",
     "output_type": "stream",
     "text": [
      "Selected item S2A_13SDV_20221020_0_L2A for lat: 35.610858047513496, lon: -105.82899175201705\n",
      "Working on <Item id=S2A_13SDV_20221020_0_L2A>\n"
     ]
    },
    {
     "name": "stderr",
     "output_type": "stream",
     "text": [
      " 53%|█████▎    | 178/336 [20:21<18:50,  7.16s/it]"
     ]
    },
    {
     "name": "stdout",
     "output_type": "stream",
     "text": [
      "Selected item S2A_13SDV_20221020_0_L2A for lat: 35.6110491894561, lon: -105.80072863112314\n",
      "Working on <Item id=S2A_13SDV_20221020_0_L2A>\n"
     ]
    },
    {
     "name": "stderr",
     "output_type": "stream",
     "text": [
      " 53%|█████▎    | 179/336 [20:29<19:25,  7.42s/it]"
     ]
    },
    {
     "name": "stdout",
     "output_type": "stream",
     "text": [
      "Selected item S2A_13SDV_20221020_0_L2A for lat: 35.61123370294027, lon: -105.77246524873422\n",
      "Working on <Item id=S2A_13SDV_20221020_0_L2A>\n"
     ]
    },
    {
     "name": "stderr",
     "output_type": "stream",
     "text": [
      " 54%|█████▎    | 180/336 [20:37<19:09,  7.37s/it]"
     ]
    },
    {
     "name": "stdout",
     "output_type": "stream",
     "text": [
      "Selected item S2A_13SDV_20221020_0_L2A for lat: 35.61141158777244, lon: -105.74420161407632\n",
      "Working on <Item id=S2A_13SDV_20221020_0_L2A>\n"
     ]
    },
    {
     "name": "stderr",
     "output_type": "stream",
     "text": [
      " 54%|█████▍    | 181/336 [20:43<18:42,  7.24s/it]"
     ]
    },
    {
     "name": "stdout",
     "output_type": "stream",
     "text": [
      "Selected item S2A_13SDV_20221020_0_L2A for lat: 35.61158284376601, lon: -105.71593773637593\n",
      "Working on <Item id=S2A_13SDV_20221020_0_L2A>\n"
     ]
    },
    {
     "name": "stderr",
     "output_type": "stream",
     "text": [
      " 54%|█████▍    | 182/336 [20:51<19:11,  7.48s/it]"
     ]
    },
    {
     "name": "stdout",
     "output_type": "stream",
     "text": [
      "Selected item S2A_13SDV_20221020_0_L2A for lat: 35.6117474707413, lon: -105.6876736248601\n",
      "Working on <Item id=S2A_13SDV_20221020_0_L2A>\n"
     ]
    },
    {
     "name": "stderr",
     "output_type": "stream",
     "text": [
      " 54%|█████▍    | 183/336 [20:58<18:16,  7.17s/it]"
     ]
    },
    {
     "name": "stdout",
     "output_type": "stream",
     "text": [
      "Selected item S2A_13SDV_20221020_0_L2A for lat: 35.611905468525606, lon: -105.65940928875628\n",
      "Working on <Item id=S2A_13SDV_20221020_0_L2A>\n"
     ]
    },
    {
     "name": "stderr",
     "output_type": "stream",
     "text": [
      " 55%|█████▍    | 184/336 [21:04<17:09,  6.77s/it]"
     ]
    },
    {
     "name": "stdout",
     "output_type": "stream",
     "text": [
      "Selected item S2A_13SDV_20221020_0_L2A for lat: 35.61205683695318, lon: -105.63114473729244\n",
      "Working on <Item id=S2A_13SDV_20221020_0_L2A>\n"
     ]
    },
    {
     "name": "stderr",
     "output_type": "stream",
     "text": [
      " 55%|█████▌    | 185/336 [21:09<16:08,  6.41s/it]"
     ]
    },
    {
     "name": "stdout",
     "output_type": "stream",
     "text": [
      "Selected item S2A_13SDV_20221020_0_L2A for lat: 35.6122015758652, lon: -105.602879979697\n",
      "Working on <Item id=S2A_13SDV_20221020_0_L2A>\n"
     ]
    },
    {
     "name": "stderr",
     "output_type": "stream",
     "text": [
      " 55%|█████▌    | 186/336 [21:16<16:13,  6.49s/it]"
     ]
    },
    {
     "name": "stdout",
     "output_type": "stream",
     "text": [
      "Selected item S2A_13SDV_20221020_0_L2A for lat: 35.61233968510982, lon: -105.5746150251987\n",
      "Working on <Item id=S2A_13SDV_20221020_0_L2A>\n"
     ]
    },
    {
     "name": "stderr",
     "output_type": "stream",
     "text": [
      " 56%|█████▌    | 187/336 [21:22<15:59,  6.44s/it]"
     ]
    },
    {
     "name": "stdout",
     "output_type": "stream",
     "text": [
      "Selected item S2A_13SDV_20221020_0_L2A for lat: 35.61247116454214, lon: -105.5463498830268\n",
      "Working on <Item id=S2A_13SDV_20221020_0_L2A>\n"
     ]
    },
    {
     "name": "stderr",
     "output_type": "stream",
     "text": [
      " 56%|█████▌    | 188/336 [21:28<15:06,  6.13s/it]"
     ]
    },
    {
     "name": "stdout",
     "output_type": "stream",
     "text": [
      "Selected item S2A_13SDV_20221020_0_L2A for lat: 35.61259601402423, lon: -105.51808456241088\n",
      "Working on <Item id=S2A_13SDV_20221020_0_L2A>\n"
     ]
    },
    {
     "name": "stderr",
     "output_type": "stream",
     "text": [
      " 56%|█████▋    | 189/336 [21:33<14:32,  5.94s/it]"
     ]
    },
    {
     "name": "stdout",
     "output_type": "stream",
     "text": [
      "Selected item S2A_13SDV_20221020_0_L2A for lat: 35.631917663329396, lon: -106.08365788513552\n",
      "Working on <Item id=S2A_13SDV_20221020_0_L2A>\n"
     ]
    },
    {
     "name": "stderr",
     "output_type": "stream",
     "text": [
      " 57%|█████▋    | 190/336 [21:40<14:45,  6.06s/it]"
     ]
    },
    {
     "name": "stdout",
     "output_type": "stream",
     "text": [
      "Selected item S2A_13SDV_20221020_0_L2A for lat: 35.63216866371177, lon: -106.05538941497765\n",
      "Working on <Item id=S2A_13SDV_20221020_0_L2A>\n"
     ]
    },
    {
     "name": "stderr",
     "output_type": "stream",
     "text": [
      " 57%|█████▋    | 191/336 [21:48<16:07,  6.68s/it]"
     ]
    },
    {
     "name": "stdout",
     "output_type": "stream",
     "text": [
      "Selected item S2A_13SDV_20221020_0_L2A for lat: 35.632413032085665, lon: -106.02712059992281\n",
      "Working on <Item id=S2A_13SDV_20221020_0_L2A>\n"
     ]
    },
    {
     "name": "stderr",
     "output_type": "stream",
     "text": [
      " 57%|█████▋    | 192/336 [21:55<16:31,  6.89s/it]"
     ]
    },
    {
     "name": "stdout",
     "output_type": "stream",
     "text": [
      "Selected item S2A_13SDV_20221020_0_L2A for lat: 35.632650768194694, lon: -105.99885144920208\n",
      "Working on <Item id=S2A_13SDV_20221020_0_L2A>\n"
     ]
    },
    {
     "name": "stderr",
     "output_type": "stream",
     "text": [
      " 57%|█████▋    | 193/336 [22:02<16:41,  7.00s/it]"
     ]
    },
    {
     "name": "stdout",
     "output_type": "stream",
     "text": [
      "Selected item S2A_13SDV_20221020_0_L2A for lat: 35.6328818717894, lon: -105.9705819720472\n",
      "Working on <Item id=S2A_13SDV_20221020_0_L2A>\n"
     ]
    },
    {
     "name": "stderr",
     "output_type": "stream",
     "text": [
      " 58%|█████▊    | 194/336 [22:09<16:16,  6.88s/it]"
     ]
    },
    {
     "name": "stdout",
     "output_type": "stream",
     "text": [
      "Selected item S2A_13SDV_20221020_0_L2A for lat: 35.63310634262728, lon: -105.9423121776906\n",
      "Working on <Item id=S2A_13SDV_20221020_0_L2A>\n"
     ]
    },
    {
     "name": "stderr",
     "output_type": "stream",
     "text": [
      " 58%|█████▊    | 195/336 [22:17<16:51,  7.17s/it]"
     ]
    },
    {
     "name": "stdout",
     "output_type": "stream",
     "text": [
      "Selected item S2A_13SDV_20221020_0_L2A for lat: 35.63332418047278, lon: -105.91404207536539\n",
      "Working on <Item id=S2A_13SDV_20221020_0_L2A>\n"
     ]
    },
    {
     "name": "stderr",
     "output_type": "stream",
     "text": [
      " 58%|█████▊    | 196/336 [22:24<16:33,  7.10s/it]"
     ]
    },
    {
     "name": "stdout",
     "output_type": "stream",
     "text": [
      "Selected item S2A_13SDV_20221020_0_L2A for lat: 35.633535385097325, lon: -105.88577167430522\n",
      "Working on <Item id=S2A_13SDV_20221020_0_L2A>\n"
     ]
    },
    {
     "name": "stderr",
     "output_type": "stream",
     "text": [
      " 59%|█████▊    | 197/336 [22:31<16:39,  7.19s/it]"
     ]
    },
    {
     "name": "stdout",
     "output_type": "stream",
     "text": [
      "Selected item S2A_13SDV_20221020_0_L2A for lat: 35.63373995627926, lon: -105.85750098374443\n",
      "Working on <Item id=S2A_13SDV_20221020_0_L2A>\n"
     ]
    },
    {
     "name": "stderr",
     "output_type": "stream",
     "text": [
      " 59%|█████▉    | 198/336 [22:39<17:06,  7.44s/it]"
     ]
    },
    {
     "name": "stdout",
     "output_type": "stream",
     "text": [
      "Selected item S2A_13SDV_20221020_0_L2A for lat: 35.63393789380391, lon: -105.82923001291792\n",
      "Working on <Item id=S2A_13SDV_20221020_0_L2A>\n"
     ]
    },
    {
     "name": "stderr",
     "output_type": "stream",
     "text": [
      " 59%|█████▉    | 199/336 [22:46<16:35,  7.27s/it]"
     ]
    },
    {
     "name": "stdout",
     "output_type": "stream",
     "text": [
      "Selected item S2A_13SDV_20221020_0_L2A for lat: 35.634129197463565, lon: -105.80095877106115\n",
      "Working on <Item id=S2A_13SDV_20221020_0_L2A>\n"
     ]
    },
    {
     "name": "stderr",
     "output_type": "stream",
     "text": [
      " 60%|█████▉    | 200/336 [22:54<16:43,  7.38s/it]"
     ]
    },
    {
     "name": "stdout",
     "output_type": "stream",
     "text": [
      "Selected item S2A_13SDV_20221020_0_L2A for lat: 35.63431386705744, lon: -105.77268726741016\n",
      "Working on <Item id=S2A_13SDV_20221020_0_L2A>\n"
     ]
    },
    {
     "name": "stderr",
     "output_type": "stream",
     "text": [
      " 60%|█████▉    | 201/336 [23:00<15:55,  7.08s/it]"
     ]
    },
    {
     "name": "stdout",
     "output_type": "stream",
     "text": [
      "Selected item S2A_13SDV_20221020_0_L2A for lat: 35.63449190239178, lon: -105.74441551120148\n",
      "Working on <Item id=S2A_13SDV_20221020_0_L2A>\n"
     ]
    },
    {
     "name": "stderr",
     "output_type": "stream",
     "text": [
      " 60%|██████    | 202/336 [23:07<16:00,  7.17s/it]"
     ]
    },
    {
     "name": "stdout",
     "output_type": "stream",
     "text": [
      "Selected item S2A_13SDV_20221020_0_L2A for lat: 35.63466330327969, lon: -105.71614351167223\n",
      "Working on <Item id=S2A_13SDV_20221020_0_L2A>\n"
     ]
    },
    {
     "name": "stderr",
     "output_type": "stream",
     "text": [
      " 60%|██████    | 203/336 [23:14<15:47,  7.12s/it]"
     ]
    },
    {
     "name": "stdout",
     "output_type": "stream",
     "text": [
      "Selected item S2A_13SDV_20221020_0_L2A for lat: 35.634828069541285, lon: -105.68787127805993\n",
      "Working on <Item id=S2A_13SDV_20221020_0_L2A>\n"
     ]
    },
    {
     "name": "stderr",
     "output_type": "stream",
     "text": [
      " 61%|██████    | 204/336 [23:20<14:26,  6.56s/it]"
     ]
    },
    {
     "name": "stdout",
     "output_type": "stream",
     "text": [
      "Selected item S2A_13SDV_20221020_0_L2A for lat: 35.63498620100367, lon: -105.65959881960264\n",
      "Working on <Item id=S2A_13SDV_20221020_0_L2A>\n"
     ]
    },
    {
     "name": "stderr",
     "output_type": "stream",
     "text": [
      " 61%|██████    | 205/336 [23:26<13:57,  6.40s/it]"
     ]
    },
    {
     "name": "stdout",
     "output_type": "stream",
     "text": [
      "Selected item S2A_13SDV_20221020_0_L2A for lat: 35.63513769750086, lon: -105.63132614553888\n",
      "Working on <Item id=S2A_13SDV_20221020_0_L2A>\n"
     ]
    },
    {
     "name": "stderr",
     "output_type": "stream",
     "text": [
      " 61%|██████▏   | 206/336 [23:32<14:04,  6.49s/it]"
     ]
    },
    {
     "name": "stdout",
     "output_type": "stream",
     "text": [
      "Selected item S2A_13SDV_20221020_0_L2A for lat: 35.63528255887386, lon: -105.6030532651076\n",
      "Working on <Item id=S2A_13SDV_20221020_0_L2A>\n"
     ]
    },
    {
     "name": "stderr",
     "output_type": "stream",
     "text": [
      " 62%|██████▏   | 207/336 [23:39<13:48,  6.43s/it]"
     ]
    },
    {
     "name": "stdout",
     "output_type": "stream",
     "text": [
      "Selected item S2A_13SDV_20221020_0_L2A for lat: 35.63542078497063, lon: -105.57478018754814\n",
      "Working on <Item id=S2A_13SDV_20221020_0_L2A>\n"
     ]
    },
    {
     "name": "stderr",
     "output_type": "stream",
     "text": [
      " 62%|██████▏   | 208/336 [23:44<13:07,  6.15s/it]"
     ]
    },
    {
     "name": "stdout",
     "output_type": "stream",
     "text": [
      "Selected item S2A_13SDV_20221020_0_L2A for lat: 35.63555237564608, lon: -105.54650692210029\n",
      "Working on <Item id=S2A_13SDV_20221020_0_L2A>\n"
     ]
    },
    {
     "name": "stderr",
     "output_type": "stream",
     "text": [
      " 62%|██████▏   | 209/336 [23:50<12:53,  6.09s/it]"
     ]
    },
    {
     "name": "stdout",
     "output_type": "stream",
     "text": [
      "Selected item S2A_13SDV_20221020_0_L2A for lat: 35.635677330762114, lon: -105.5182334780042\n",
      "Working on <Item id=S2A_13SDV_20221020_0_L2A>\n"
     ]
    },
    {
     "name": "stderr",
     "output_type": "stream",
     "text": [
      " 62%|██████▎   | 210/336 [23:56<12:46,  6.08s/it]"
     ]
    },
    {
     "name": "stdout",
     "output_type": "stream",
     "text": [
      "Selected item S2A_13SDV_20221020_0_L2A for lat: 35.65499571091669, lon: -106.08396957362335\n",
      "Working on <Item id=S2A_13SDV_20221020_0_L2A>\n"
     ]
    },
    {
     "name": "stderr",
     "output_type": "stream",
     "text": [
      " 63%|██████▎   | 211/336 [24:04<13:58,  6.70s/it]"
     ]
    },
    {
     "name": "stdout",
     "output_type": "stream",
     "text": [
      "Selected item S2A_13SDV_20221020_0_L2A for lat: 35.65524692358977, lon: -106.05569297644004\n",
      "Working on <Item id=S2A_13SDV_20221020_0_L2A>\n"
     ]
    },
    {
     "name": "stderr",
     "output_type": "stream",
     "text": [
      " 63%|██████▎   | 212/336 [24:12<14:16,  6.90s/it]"
     ]
    },
    {
     "name": "stdout",
     "output_type": "stream",
     "text": [
      "Selected item S2A_13SDV_20221020_0_L2A for lat: 35.655491498646455, lon: -106.0274160339649\n",
      "Working on <Item id=S2A_13SDV_20221020_0_L2A>\n"
     ]
    },
    {
     "name": "stderr",
     "output_type": "stream",
     "text": [
      " 63%|██████▎   | 213/336 [24:19<14:31,  7.09s/it]"
     ]
    },
    {
     "name": "stdout",
     "output_type": "stream",
     "text": [
      "Selected item S2A_13SDV_20221020_0_L2A for lat: 35.655729435830004, lon: -105.99913875543956\n",
      "Working on <Item id=S2A_13SDV_20221020_0_L2A>\n"
     ]
    },
    {
     "name": "stderr",
     "output_type": "stream",
     "text": [
      " 64%|██████▎   | 214/336 [24:27<14:47,  7.28s/it]"
     ]
    },
    {
     "name": "stdout",
     "output_type": "stream",
     "text": [
      "Selected item S2A_13SDV_20221020_0_L2A for lat: 35.655960734890655, lon: -105.97086115010634\n",
      "Working on <Item id=S2A_13SDV_20221020_0_L2A>\n"
     ]
    },
    {
     "name": "stderr",
     "output_type": "stream",
     "text": [
      " 64%|██████▍   | 215/336 [24:35<14:56,  7.41s/it]"
     ]
    },
    {
     "name": "stdout",
     "output_type": "stream",
     "text": [
      "Selected item S2A_13SDV_20221020_0_L2A for lat: 35.656185395585595, lon: -105.94258322720825\n",
      "Working on <Item id=S2A_13SDV_20221020_0_L2A>\n"
     ]
    },
    {
     "name": "stderr",
     "output_type": "stream",
     "text": [
      " 64%|██████▍   | 216/336 [24:42<14:35,  7.30s/it]"
     ]
    },
    {
     "name": "stdout",
     "output_type": "stream",
     "text": [
      "Selected item S2A_13SDV_20221020_0_L2A for lat: 35.65640341767901, lon: -105.91430499598891\n",
      "Working on <Item id=S2A_13SDV_20221020_0_L2A>\n"
     ]
    },
    {
     "name": "stderr",
     "output_type": "stream",
     "text": [
      " 65%|██████▍   | 217/336 [24:49<14:44,  7.43s/it]"
     ]
    },
    {
     "name": "stdout",
     "output_type": "stream",
     "text": [
      "Selected item S2A_13SDV_20221020_0_L2A for lat: 35.65661480094199, lon: -105.88602646569261\n",
      "Working on <Item id=S2A_13SDV_20221020_0_L2A>\n"
     ]
    },
    {
     "name": "stderr",
     "output_type": "stream",
     "text": [
      " 65%|██████▍   | 218/336 [24:57<14:33,  7.40s/it]"
     ]
    },
    {
     "name": "stdout",
     "output_type": "stream",
     "text": [
      "Selected item S2A_13SDV_20221020_0_L2A for lat: 35.65681954515266, lon: -105.85774764556419\n",
      "Working on <Item id=S2A_13SDV_20221020_0_L2A>\n"
     ]
    },
    {
     "name": "stderr",
     "output_type": "stream",
     "text": [
      " 65%|██████▌   | 219/336 [25:03<13:58,  7.16s/it]"
     ]
    },
    {
     "name": "stdout",
     "output_type": "stream",
     "text": [
      "Selected item S2A_13SDV_20221020_0_L2A for lat: 35.65701765009603, lon: -105.82946854484914\n",
      "Working on <Item id=S2A_13SDV_20221020_0_L2A>\n"
     ]
    },
    {
     "name": "stderr",
     "output_type": "stream",
     "text": [
      " 65%|██████▌   | 220/336 [25:11<14:03,  7.27s/it]"
     ]
    },
    {
     "name": "stdout",
     "output_type": "stream",
     "text": [
      "Selected item S2A_13SDV_20221020_0_L2A for lat: 35.65720911556416, lon: -105.80118917279349\n",
      "Working on <Item id=S2A_13SDV_20221020_0_L2A>\n"
     ]
    },
    {
     "name": "stderr",
     "output_type": "stream",
     "text": [
      " 66%|██████▌   | 221/336 [25:19<14:27,  7.55s/it]"
     ]
    },
    {
     "name": "stdout",
     "output_type": "stream",
     "text": [
      "Selected item S2A_13SDV_20221020_0_L2A for lat: 35.65739394135602, lon: -105.77290953864384\n",
      "Working on <Item id=S2A_13SDV_20221020_0_L2A>\n"
     ]
    },
    {
     "name": "stderr",
     "output_type": "stream",
     "text": [
      " 66%|██████▌   | 222/336 [25:26<14:15,  7.50s/it]"
     ]
    },
    {
     "name": "stdout",
     "output_type": "stream",
     "text": [
      "Selected item S2A_13SDV_20221020_0_L2A for lat: 35.65757212727759, lon: -105.74462965164734\n",
      "Working on <Item id=S2A_13SDV_20221020_0_L2A>\n"
     ]
    },
    {
     "name": "stderr",
     "output_type": "stream",
     "text": [
      " 66%|██████▋   | 223/336 [25:33<13:50,  7.35s/it]"
     ]
    },
    {
     "name": "stdout",
     "output_type": "stream",
     "text": [
      "Selected item S2A_13SDV_20221020_0_L2A for lat: 35.65774367314175, lon: -105.71634952105161\n",
      "Working on <Item id=S2A_13SDV_20221020_0_L2A>\n"
     ]
    },
    {
     "name": "stderr",
     "output_type": "stream",
     "text": [
      " 67%|██████▋   | 224/336 [25:41<13:45,  7.37s/it]"
     ]
    },
    {
     "name": "stdout",
     "output_type": "stream",
     "text": [
      "Selected item S2A_13SDV_20221020_0_L2A for lat: 35.657908578768414, lon: -105.68806915610482\n",
      "Working on <Item id=S2A_13SDV_20221020_0_L2A>\n"
     ]
    },
    {
     "name": "stderr",
     "output_type": "stream",
     "text": [
      " 67%|██████▋   | 225/336 [25:47<13:05,  7.08s/it]"
     ]
    },
    {
     "name": "stdout",
     "output_type": "stream",
     "text": [
      "Selected item S2A_13SDV_20221020_0_L2A for lat: 35.65806684398445, lon: -105.65978856605555\n",
      "Working on <Item id=S2A_13SDV_20221020_0_L2A>\n"
     ]
    },
    {
     "name": "stderr",
     "output_type": "stream",
     "text": [
      " 67%|██████▋   | 226/336 [25:53<12:24,  6.77s/it]"
     ]
    },
    {
     "name": "stdout",
     "output_type": "stream",
     "text": [
      "Selected item S2A_13SDV_20221020_0_L2A for lat: 35.65821846862367, lon: -105.63150776015293\n",
      "Working on <Item id=S2A_13SDV_20221020_0_L2A>\n"
     ]
    },
    {
     "name": "stderr",
     "output_type": "stream",
     "text": [
      " 68%|██████▊   | 227/336 [25:59<11:55,  6.57s/it]"
     ]
    },
    {
     "name": "stdout",
     "output_type": "stream",
     "text": [
      "Selected item S2A_13SDV_20221020_0_L2A for lat: 35.658363452526885, lon: -105.60322674764645\n",
      "Working on <Item id=S2A_13SDV_20221020_0_L2A>\n"
     ]
    },
    {
     "name": "stderr",
     "output_type": "stream",
     "text": [
      " 68%|██████▊   | 228/336 [26:06<11:33,  6.42s/it]"
     ]
    },
    {
     "name": "stdout",
     "output_type": "stream",
     "text": [
      "Selected item S2A_13SDV_20221020_0_L2A for lat: 35.658501795541866, lon: -105.57494553778605\n",
      "Working on <Item id=S2A_13SDV_20221020_0_L2A>\n"
     ]
    },
    {
     "name": "stderr",
     "output_type": "stream",
     "text": [
      " 68%|██████▊   | 229/336 [26:12<11:21,  6.37s/it]"
     ]
    },
    {
     "name": "stdout",
     "output_type": "stream",
     "text": [
      "Selected item S2A_13SDV_20221020_0_L2A for lat: 35.65863349752335, lon: -105.5466641398221\n",
      "Working on <Item id=S2A_13SDV_20221020_0_L2A>\n"
     ]
    },
    {
     "name": "stderr",
     "output_type": "stream",
     "text": [
      " 68%|██████▊   | 230/336 [26:18<11:13,  6.36s/it]"
     ]
    },
    {
     "name": "stdout",
     "output_type": "stream",
     "text": [
      "Selected item S2A_13SDV_20221020_0_L2A for lat: 35.65875855833304, lon: -105.5183825630053\n",
      "Working on <Item id=S2A_13SDV_20221020_0_L2A>\n"
     ]
    },
    {
     "name": "stderr",
     "output_type": "stream",
     "text": [
      " 69%|██████▉   | 231/336 [26:24<10:56,  6.26s/it]"
     ]
    },
    {
     "name": "stdout",
     "output_type": "stream",
     "text": [
      "Selected item S2A_13SDV_20221020_0_L2A for lat: 35.67807366751328, lon: -106.08428161664406\n",
      "Working on <Item id=S2A_13SDV_20221020_0_L2A>\n"
     ]
    },
    {
     "name": "stderr",
     "output_type": "stream",
     "text": [
      " 69%|██████▉   | 232/336 [26:32<11:30,  6.63s/it]"
     ]
    },
    {
     "name": "stdout",
     "output_type": "stream",
     "text": [
      "Selected item S2A_13SDV_20221020_0_L2A for lat: 35.678325092597184, lon: -106.05599688319438\n",
      "Working on <Item id=S2A_13SDV_20221020_0_L2A>\n"
     ]
    },
    {
     "name": "stderr",
     "output_type": "stream",
     "text": [
      " 69%|██████▉   | 233/336 [26:39<11:49,  6.89s/it]"
     ]
    },
    {
     "name": "stdout",
     "output_type": "stream",
     "text": [
      "Selected item S2A_13SDV_20221020_0_L2A for lat: 35.67856987445358, lon: -106.02771180405729\n",
      "Working on <Item id=S2A_13SDV_20221020_0_L2A>\n"
     ]
    },
    {
     "name": "stderr",
     "output_type": "stream",
     "text": [
      " 70%|██████▉   | 234/336 [26:47<12:07,  7.13s/it]"
     ]
    },
    {
     "name": "stdout",
     "output_type": "stream",
     "text": [
      "Selected item S2A_13SDV_20221020_0_L2A for lat: 35.6788080128254, lon: -105.99942638848503\n",
      "Working on <Item id=S2A_13SDV_20221020_0_L2A>\n"
     ]
    },
    {
     "name": "stderr",
     "output_type": "stream",
     "text": [
      " 70%|██████▉   | 235/336 [26:54<12:13,  7.27s/it]"
     ]
    },
    {
     "name": "stdout",
     "output_type": "stream",
     "text": [
      "Selected item S2A_13SDV_20221020_0_L2A for lat: 35.679039507462576, lon: -105.9711406457305\n",
      "Working on <Item id=S2A_13SDV_20221020_0_L2A>\n"
     ]
    },
    {
     "name": "stderr",
     "output_type": "stream",
     "text": [
      " 70%|███████   | 236/336 [27:02<12:07,  7.28s/it]"
     ]
    },
    {
     "name": "stdout",
     "output_type": "stream",
     "text": [
      "Selected item S2A_13SDV_20221020_0_L2A for lat: 35.679264358122, lon: -105.94285458504726\n",
      "Working on <Item id=S2A_13SDV_20221020_0_L2A>\n"
     ]
    },
    {
     "name": "stderr",
     "output_type": "stream",
     "text": [
      " 71%|███████   | 237/336 [27:09<11:46,  7.14s/it]"
     ]
    },
    {
     "name": "stdout",
     "output_type": "stream",
     "text": [
      "Selected item S2A_13SDV_20221020_0_L2A for lat: 35.67948256456754, lon: -105.91456821568954\n",
      "Working on <Item id=S2A_13SDV_20221020_0_L2A>\n"
     ]
    },
    {
     "name": "stderr",
     "output_type": "stream",
     "text": [
      " 71%|███████   | 238/336 [27:16<11:36,  7.11s/it]"
     ]
    },
    {
     "name": "stdout",
     "output_type": "stream",
     "text": [
      "Selected item S2A_13SDV_20221020_0_L2A for lat: 35.679694126570055, lon: -105.88628154691219\n",
      "Working on <Item id=S2A_13SDV_20221020_0_L2A>\n"
     ]
    },
    {
     "name": "stderr",
     "output_type": "stream",
     "text": [
      " 71%|███████   | 239/336 [27:23<11:35,  7.17s/it]"
     ]
    },
    {
     "name": "stdout",
     "output_type": "stream",
     "text": [
      "Selected item S2A_13SDV_20221020_0_L2A for lat: 35.679899043907334, lon: -105.85799458797065\n",
      "Working on <Item id=S2A_13SDV_20221020_0_L2A>\n"
     ]
    },
    {
     "name": "stderr",
     "output_type": "stream",
     "text": [
      " 71%|███████▏  | 240/336 [27:30<11:36,  7.26s/it]"
     ]
    },
    {
     "name": "stdout",
     "output_type": "stream",
     "text": [
      "Selected item S2A_13SDV_20221020_0_L2A for lat: 35.68009731636417, lon: -105.82970734812103\n",
      "Working on <Item id=S2A_13SDV_20221020_0_L2A>\n"
     ]
    },
    {
     "name": "stderr",
     "output_type": "stream",
     "text": [
      " 72%|███████▏  | 241/336 [27:37<11:19,  7.15s/it]"
     ]
    },
    {
     "name": "stdout",
     "output_type": "stream",
     "text": [
      "Selected item S2A_13SDV_20221020_0_L2A for lat: 35.68028894373233, lon: -105.8014198366199\n",
      "Working on <Item id=S2A_13SDV_20221020_0_L2A>\n"
     ]
    },
    {
     "name": "stderr",
     "output_type": "stream",
     "text": [
      " 72%|███████▏  | 242/336 [27:43<10:44,  6.86s/it]"
     ]
    },
    {
     "name": "stdout",
     "output_type": "stream",
     "text": [
      "Selected item S2A_13SDV_20221020_0_L2A for lat: 35.68047392581056, lon: -105.7731320627245\n",
      "Working on <Item id=S2A_13SDV_20221020_0_L2A>\n"
     ]
    },
    {
     "name": "stderr",
     "output_type": "stream",
     "text": [
      " 72%|███████▏  | 243/336 [27:49<10:15,  6.62s/it]"
     ]
    },
    {
     "name": "stdout",
     "output_type": "stream",
     "text": [
      "Selected item S2A_13SDV_20221020_0_L2A for lat: 35.68065226240455, lon: -105.7448440356925\n",
      "Working on <Item id=S2A_13SDV_20221020_0_L2A>\n"
     ]
    },
    {
     "name": "stderr",
     "output_type": "stream",
     "text": [
      " 73%|███████▎  | 244/336 [27:57<10:21,  6.75s/it]"
     ]
    },
    {
     "name": "stdout",
     "output_type": "stream",
     "text": [
      "Selected item S2A_13SDV_20221020_0_L2A for lat: 35.68082395332701, lon: -105.71655576478216\n",
      "Working on <Item id=S2A_13SDV_20221020_0_L2A>\n"
     ]
    },
    {
     "name": "stderr",
     "output_type": "stream",
     "text": [
      " 73%|███████▎  | 245/336 [28:05<10:50,  7.15s/it]"
     ]
    },
    {
     "name": "stdout",
     "output_type": "stream",
     "text": [
      "Selected item S2A_13SDV_20221020_0_L2A for lat: 35.680988998397595, lon: -105.68826725925224\n",
      "Working on <Item id=S2A_13SDV_20221020_0_L2A>\n"
     ]
    },
    {
     "name": "stderr",
     "output_type": "stream",
     "text": [
      " 73%|███████▎  | 246/336 [28:11<10:33,  7.03s/it]"
     ]
    },
    {
     "name": "stdout",
     "output_type": "stream",
     "text": [
      "Selected item S2A_13SDV_20221020_0_L2A for lat: 35.681147397442956, lon: -105.65997852836192\n",
      "Working on <Item id=S2A_13SDV_20221020_0_L2A>\n"
     ]
    },
    {
     "name": "stderr",
     "output_type": "stream",
     "text": [
      " 74%|███████▎  | 247/336 [28:17<09:53,  6.67s/it]"
     ]
    },
    {
     "name": "stdout",
     "output_type": "stream",
     "text": [
      "Selected item S2A_13SDV_20221020_0_L2A for lat: 35.68129915029673, lon: -105.63168958137089\n",
      "Working on <Item id=S2A_13SDV_20221020_0_L2A>\n"
     ]
    },
    {
     "name": "stderr",
     "output_type": "stream",
     "text": [
      " 74%|███████▍  | 248/336 [28:22<09:07,  6.22s/it]"
     ]
    },
    {
     "name": "stdout",
     "output_type": "stream",
     "text": [
      "Selected item S2A_13SDV_20221020_0_L2A for lat: 35.68144425679951, lon: -105.60340042753924\n",
      "Working on <Item id=S2A_13SDV_20221020_0_L2A>\n"
     ]
    },
    {
     "name": "stderr",
     "output_type": "stream",
     "text": [
      " 74%|███████▍  | 249/336 [28:29<09:06,  6.29s/it]"
     ]
    },
    {
     "name": "stdout",
     "output_type": "stream",
     "text": [
      "Selected item S2A_13SDV_20221020_0_L2A for lat: 35.681582716798864, lon: -105.57511107612757\n",
      "Working on <Item id=S2A_13SDV_20221020_0_L2A>\n"
     ]
    },
    {
     "name": "stderr",
     "output_type": "stream",
     "text": [
      " 74%|███████▍  | 250/336 [28:35<08:46,  6.13s/it]"
     ]
    },
    {
     "name": "stdout",
     "output_type": "stream",
     "text": [
      "Selected item S2A_13SDV_20221020_0_L2A for lat: 35.681714530149364, lon: -105.54682153639678\n",
      "Working on <Item id=S2A_13SDV_20221020_0_L2A>\n"
     ]
    },
    {
     "name": "stderr",
     "output_type": "stream",
     "text": [
      " 75%|███████▍  | 251/336 [28:40<08:34,  6.05s/it]"
     ]
    },
    {
     "name": "stdout",
     "output_type": "stream",
     "text": [
      "Selected item S2A_13SDV_20221020_0_L2A for lat: 35.68183969671254, lon: -105.51853181760822\n",
      "Working on <Item id=S2A_13SDV_20221020_0_L2A>\n"
     ]
    },
    {
     "name": "stderr",
     "output_type": "stream",
     "text": [
      " 75%|███████▌  | 252/336 [28:46<08:16,  5.92s/it]"
     ]
    },
    {
     "name": "stdout",
     "output_type": "stream",
     "text": [
      "Selected item S2A_13SDV_20221020_0_L2A for lat: 35.70115153309215, lon: -106.0845940146038\n",
      "Working on <Item id=S2A_13SDV_20221020_0_L2A>\n"
     ]
    },
    {
     "name": "stderr",
     "output_type": "stream",
     "text": [
      " 75%|███████▌  | 253/336 [28:54<08:50,  6.39s/it]"
     ]
    },
    {
     "name": "stdout",
     "output_type": "stream",
     "text": [
      "Selected item S2A_13SDV_20221020_0_L2A for lat: 35.70140317070715, lon: -106.05630113563622\n",
      "Working on <Item id=S2A_13SDV_20221020_0_L2A>\n"
     ]
    },
    {
     "name": "stderr",
     "output_type": "stream",
     "text": [
      " 76%|███████▌  | 254/336 [29:01<09:13,  6.76s/it]"
     ]
    },
    {
     "name": "stdout",
     "output_type": "stream",
     "text": [
      "Selected item S2A_13SDV_20221020_0_L2A for lat: 35.701648159480335, lon: -106.02800791058499\n",
      "Working on <Item id=S2A_13SDV_20221020_0_L2A>\n"
     ]
    },
    {
     "name": "stderr",
     "output_type": "stream",
     "text": [
      " 76%|███████▌  | 255/336 [29:09<09:29,  7.03s/it]"
     ]
    },
    {
     "name": "stdout",
     "output_type": "stream",
     "text": [
      "Selected item S2A_13SDV_20221020_0_L2A for lat: 35.70188649915435, lon: -105.9997143487129\n",
      "Working on <Item id=S2A_13SDV_20221020_0_L2A>\n"
     ]
    },
    {
     "name": "stderr",
     "output_type": "stream",
     "text": [
      " 76%|███████▌  | 256/336 [29:16<09:36,  7.20s/it]"
     ]
    },
    {
     "name": "stdout",
     "output_type": "stream",
     "text": [
      "Selected item S2A_13SDV_20221020_0_L2A for lat: 35.70211818947878, lon: -105.97142045928346\n",
      "Working on <Item id=S2A_13SDV_20221020_0_L2A>\n"
     ]
    },
    {
     "name": "stderr",
     "output_type": "stream",
     "text": [
      " 76%|███████▋  | 257/336 [29:24<09:36,  7.29s/it]"
     ]
    },
    {
     "name": "stdout",
     "output_type": "stream",
     "text": [
      "Selected item S2A_13SDV_20221020_0_L2A for lat: 35.70234323021026, lon: -105.94312625156086\n",
      "Working on <Item id=S2A_13SDV_20221020_0_L2A>\n"
     ]
    },
    {
     "name": "stderr",
     "output_type": "stream",
     "text": [
      " 77%|███████▋  | 258/336 [29:31<09:24,  7.23s/it]"
     ]
    },
    {
     "name": "stdout",
     "output_type": "stream",
     "text": [
      "Selected item S2A_13SDV_20221020_0_L2A for lat: 35.70256162111235, lon: -105.9148317348099\n",
      "Working on <Item id=S2A_13SDV_20221020_0_L2A>\n"
     ]
    },
    {
     "name": "stderr",
     "output_type": "stream",
     "text": [
      " 77%|███████▋  | 259/336 [29:38<09:14,  7.19s/it]"
     ]
    },
    {
     "name": "stdout",
     "output_type": "stream",
     "text": [
      "Selected item S2A_13SDV_20221020_0_L2A for lat: 35.702773361955586, lon: -105.88653691829603\n",
      "Working on <Item id=S2A_13SDV_20221020_0_L2A>\n"
     ]
    },
    {
     "name": "stderr",
     "output_type": "stream",
     "text": [
      " 77%|███████▋  | 260/336 [29:45<08:53,  7.02s/it]"
     ]
    },
    {
     "name": "stdout",
     "output_type": "stream",
     "text": [
      "Selected item S2A_13SDV_20221020_0_L2A for lat: 35.70297845251753, lon: -105.85824181128535\n",
      "Working on <Item id=S2A_13SDV_20221020_0_L2A>\n"
     ]
    },
    {
     "name": "stderr",
     "output_type": "stream",
     "text": [
      " 78%|███████▊  | 261/336 [29:52<08:59,  7.20s/it]"
     ]
    },
    {
     "name": "stdout",
     "output_type": "stream",
     "text": [
      "Selected item S2A_13SDV_20221020_0_L2A for lat: 35.703176892582675, lon: -105.82994642304449\n",
      "Working on <Item id=S2A_13SDV_20221020_0_L2A>\n"
     ]
    },
    {
     "name": "stderr",
     "output_type": "stream",
     "text": [
      " 78%|███████▊  | 262/336 [30:00<09:01,  7.32s/it]"
     ]
    },
    {
     "name": "stdout",
     "output_type": "stream",
     "text": [
      "Selected item S2A_13SDV_20221020_0_L2A for lat: 35.70336868194256, lon: -105.80165076284072\n",
      "Working on <Item id=S2A_13SDV_20221020_0_L2A>\n"
     ]
    },
    {
     "name": "stderr",
     "output_type": "stream",
     "text": [
      " 78%|███████▊  | 263/336 [30:07<08:55,  7.33s/it]"
     ]
    },
    {
     "name": "stdout",
     "output_type": "stream",
     "text": [
      "Selected item S2A_13SDV_20221020_0_L2A for lat: 35.70355382039563, lon: -105.7733548399418\n",
      "Working on <Item id=S2A_13SDV_20221020_0_L2A>\n"
     ]
    },
    {
     "name": "stderr",
     "output_type": "stream",
     "text": [
      " 79%|███████▊  | 264/336 [30:15<09:01,  7.52s/it]"
     ]
    },
    {
     "name": "stdout",
     "output_type": "stream",
     "text": [
      "Selected item S2A_13SDV_20221020_0_L2A for lat: 35.7037323077474, lon: -105.74505866361608\n",
      "Working on <Item id=S2A_13SDV_20221020_0_L2A>\n"
     ]
    },
    {
     "name": "stderr",
     "output_type": "stream",
     "text": [
      " 79%|███████▉  | 265/336 [30:23<08:55,  7.54s/it]"
     ]
    },
    {
     "name": "stdout",
     "output_type": "stream",
     "text": [
      "Selected item S2A_13SDV_20221020_0_L2A for lat: 35.70390414381032, lon: -105.71676224313241\n",
      "Working on <Item id=S2A_13SDV_20221020_0_L2A>\n"
     ]
    },
    {
     "name": "stderr",
     "output_type": "stream",
     "text": [
      " 79%|███████▉  | 266/336 [30:30<08:42,  7.47s/it]"
     ]
    },
    {
     "name": "stdout",
     "output_type": "stream",
     "text": [
      "Selected item S2A_13SDV_20221020_0_L2A for lat: 35.704069328403804, lon: -105.68846558776012\n",
      "Working on <Item id=S2A_13SDV_20221020_0_L2A>\n"
     ]
    },
    {
     "name": "stderr",
     "output_type": "stream",
     "text": [
      " 79%|███████▉  | 267/336 [30:38<08:42,  7.57s/it]"
     ]
    },
    {
     "name": "stdout",
     "output_type": "stream",
     "text": [
      "Selected item S2A_13SDV_20221020_0_L2A for lat: 35.704227861354305, lon: -105.66016870676906\n",
      "Working on <Item id=S2A_13SDV_20221020_0_L2A>\n"
     ]
    },
    {
     "name": "stderr",
     "output_type": "stream",
     "text": [
      " 80%|███████▉  | 268/336 [30:44<08:06,  7.16s/it]"
     ]
    },
    {
     "name": "stdout",
     "output_type": "stream",
     "text": [
      "Selected item S2A_13SDV_20221020_0_L2A for lat: 35.70437974249524, lon: -105.63187160942951\n",
      "Working on <Item id=S2A_13SDV_20221020_0_L2A>\n"
     ]
    },
    {
     "name": "stderr",
     "output_type": "stream",
     "text": [
      " 80%|████████  | 269/336 [30:50<07:36,  6.81s/it]"
     ]
    },
    {
     "name": "stdout",
     "output_type": "stream",
     "text": [
      "Selected item S2A_13SDV_20221020_0_L2A for lat: 35.70452497166701, lon: -105.60357430501219\n",
      "Working on <Item id=S2A_13SDV_20221020_0_L2A>\n"
     ]
    },
    {
     "name": "stderr",
     "output_type": "stream",
     "text": [
      " 80%|████████  | 270/336 [30:56<07:17,  6.62s/it]"
     ]
    },
    {
     "name": "stdout",
     "output_type": "stream",
     "text": [
      "Selected item S2A_13SDV_20221020_0_L2A for lat: 35.70466354871701, lon: -105.57527680278828\n",
      "Working on <Item id=S2A_13SDV_20221020_0_L2A>\n"
     ]
    },
    {
     "name": "stderr",
     "output_type": "stream",
     "text": [
      " 81%|████████  | 271/336 [31:03<07:04,  6.53s/it]"
     ]
    },
    {
     "name": "stdout",
     "output_type": "stream",
     "text": [
      "Selected item S2A_13SDV_20221020_0_L2A for lat: 35.7047954734996, lon: -105.54697911202932\n",
      "Working on <Item id=S2A_13SDV_20221020_0_L2A>\n"
     ]
    },
    {
     "name": "stderr",
     "output_type": "stream",
     "text": [
      " 81%|████████  | 272/336 [31:09<06:50,  6.41s/it]"
     ]
    },
    {
     "name": "stdout",
     "output_type": "stream",
     "text": [
      "Selected item S2A_13SDV_20221020_0_L2A for lat: 35.704920745876166, lon: -105.51868124200726\n",
      "Working on <Item id=S2A_13SDV_20221020_0_L2A>\n"
     ]
    },
    {
     "name": "stderr",
     "output_type": "stream",
     "text": [
      " 81%|████████▏ | 273/336 [31:15<06:33,  6.25s/it]"
     ]
    },
    {
     "name": "stdout",
     "output_type": "stream",
     "text": [
      "Selected item S2A_13SDV_20221020_0_L2A for lat: 35.72422930762635, lon: -106.08490676790942\n",
      "Working on <Item id=S2A_13SDV_20221020_0_L2A>\n"
     ]
    },
    {
     "name": "stderr",
     "output_type": "stream",
     "text": [
      " 82%|████████▏ | 274/336 [31:22<06:49,  6.60s/it]"
     ]
    },
    {
     "name": "stdout",
     "output_type": "stream",
     "text": [
      "Selected item S2A_13SDV_20221020_0_L2A for lat: 35.724481157892875, lon: -106.05660573416185\n",
      "Working on <Item id=S2A_13SDV_20221020_0_L2A>\n"
     ]
    },
    {
     "name": "stderr",
     "output_type": "stream",
     "text": [
      " 82%|████████▏ | 275/336 [31:30<07:01,  6.91s/it]"
     ]
    },
    {
     "name": "stdout",
     "output_type": "stream",
     "text": [
      "Selected item S2A_13SDV_20221020_0_L2A for lat: 35.724726353700106, lon: -106.02830435393365\n",
      "Working on <Item id=S2A_13SDV_20221020_0_L2A>\n"
     ]
    },
    {
     "name": "stderr",
     "output_type": "stream",
     "text": [
      " 82%|████████▏ | 276/336 [31:37<07:06,  7.12s/it]"
     ]
    },
    {
     "name": "stdout",
     "output_type": "stream",
     "text": [
      "Selected item S2A_13SDV_20221020_0_L2A for lat: 35.72496489479039, lon: -106.00000263649822\n",
      "Working on <Item id=S2A_13SDV_20221020_0_L2A>\n"
     ]
    },
    {
     "name": "stderr",
     "output_type": "stream",
     "text": [
      " 82%|████████▏ | 277/336 [31:44<07:00,  7.12s/it]"
     ]
    },
    {
     "name": "stdout",
     "output_type": "stream",
     "text": [
      "Selected item S2A_13SDV_20221020_0_L2A for lat: 35.72519678091301, lon: -105.9717005911297\n",
      "Working on <Item id=S2A_13SDV_20221020_0_L2A>\n"
     ]
    },
    {
     "name": "stderr",
     "output_type": "stream",
     "text": [
      " 83%|████████▎ | 278/336 [31:52<07:05,  7.34s/it]"
     ]
    },
    {
     "name": "stdout",
     "output_type": "stream",
     "text": [
      "Selected item S2A_13SDV_20221020_0_L2A for lat: 35.72542201182424, lon: -105.9433982271029\n",
      "Working on <Item id=S2A_13SDV_20221020_0_L2A>\n"
     ]
    },
    {
     "name": "stderr",
     "output_type": "stream",
     "text": [
      " 83%|████████▎ | 279/336 [32:00<07:03,  7.43s/it]"
     ]
    },
    {
     "name": "stdout",
     "output_type": "stream",
     "text": [
      "Selected item S2A_13SDV_20221020_0_L2A for lat: 35.7256405872874, lon: -105.91509555369325\n",
      "Working on <Item id=S2A_13SDV_20221020_0_L2A>\n"
     ]
    },
    {
     "name": "stderr",
     "output_type": "stream",
     "text": [
      " 83%|████████▎ | 280/336 [32:09<07:15,  7.77s/it]"
     ]
    },
    {
     "name": "stdout",
     "output_type": "stream",
     "text": [
      "Selected item S2A_13SDV_20221020_0_L2A for lat: 35.725852507072744, lon: -105.88679258017682\n",
      "Working on <Item id=S2A_13SDV_20221020_0_L2A>\n"
     ]
    },
    {
     "name": "stderr",
     "output_type": "stream",
     "text": [
      " 84%|████████▎ | 281/336 [32:17<07:14,  7.90s/it]"
     ]
    },
    {
     "name": "stdout",
     "output_type": "stream",
     "text": [
      "Selected item S2A_13SDV_20221020_0_L2A for lat: 35.726057770957524, lon: -105.8584893158303\n",
      "Working on <Item id=S2A_13SDV_20221020_0_L2A>\n"
     ]
    },
    {
     "name": "stderr",
     "output_type": "stream",
     "text": [
      " 84%|████████▍ | 282/336 [32:24<06:53,  7.65s/it]"
     ]
    },
    {
     "name": "stdout",
     "output_type": "stream",
     "text": [
      "Selected item S2A_13SDV_20221020_0_L2A for lat: 35.72625637872599, lon: -105.83018576993099\n",
      "Working on <Item id=S2A_13SDV_20221020_0_L2A>\n"
     ]
    },
    {
     "name": "stderr",
     "output_type": "stream",
     "text": [
      " 84%|████████▍ | 283/336 [32:32<06:53,  7.81s/it]"
     ]
    },
    {
     "name": "stdout",
     "output_type": "stream",
     "text": [
      "Selected item S2A_13SDV_20221020_0_L2A for lat: 35.726448330169404, lon: -105.80188195175676\n",
      "Working on <Item id=S2A_13SDV_20221020_0_L2A>\n"
     ]
    },
    {
     "name": "stderr",
     "output_type": "stream",
     "text": [
      " 85%|████████▍ | 284/336 [32:40<06:44,  7.78s/it]"
     ]
    },
    {
     "name": "stdout",
     "output_type": "stream",
     "text": [
      "Selected item S2A_13SDV_20221020_0_L2A for lat: 35.72663362508599, lon: -105.773577870586\n",
      "Working on <Item id=S2A_13SDV_20221020_0_L2A>\n"
     ]
    },
    {
     "name": "stderr",
     "output_type": "stream",
     "text": [
      " 85%|████████▍ | 285/336 [32:48<06:38,  7.82s/it]"
     ]
    },
    {
     "name": "stdout",
     "output_type": "stream",
     "text": [
      "Selected item S2A_13SDV_20221020_0_L2A for lat: 35.72681226328098, lon: -105.7452735356977\n",
      "Working on <Item id=S2A_13SDV_20221020_0_L2A>\n"
     ]
    },
    {
     "name": "stderr",
     "output_type": "stream",
     "text": [
      " 85%|████████▌ | 286/336 [32:55<06:21,  7.64s/it]"
     ]
    },
    {
     "name": "stdout",
     "output_type": "stream",
     "text": [
      "Selected item S2A_13SDV_20221020_0_L2A for lat: 35.72698424456661, lon: -105.71696895637133\n",
      "Working on <Item id=S2A_13SDV_20221020_0_L2A>\n"
     ]
    },
    {
     "name": "stderr",
     "output_type": "stream",
     "text": [
      " 85%|████████▌ | 287/336 [33:02<06:13,  7.63s/it]"
     ]
    },
    {
     "name": "stdout",
     "output_type": "stream",
     "text": [
      "Selected item S2A_13SDV_20221020_0_L2A for lat: 35.727149568762094, lon: -105.68866414188687\n",
      "Working on <Item id=S2A_13SDV_20221020_0_L2A>\n"
     ]
    },
    {
     "name": "stderr",
     "output_type": "stream",
     "text": [
      " 86%|████████▌ | 288/336 [33:10<06:09,  7.70s/it]"
     ]
    },
    {
     "name": "stdout",
     "output_type": "stream",
     "text": [
      "Selected item S2A_13SDV_20221020_0_L2A for lat: 35.72730823569364, lon: -105.66035910152476\n",
      "Working on <Item id=S2A_13SDV_20221020_0_L2A>\n"
     ]
    },
    {
     "name": "stderr",
     "output_type": "stream",
     "text": [
      " 86%|████████▌ | 289/336 [33:16<05:41,  7.26s/it]"
     ]
    },
    {
     "name": "stdout",
     "output_type": "stream",
     "text": [
      "Selected item S2A_13SDV_20221020_0_L2A for lat: 35.72746024519445, lon: -105.63205384456596\n",
      "Working on <Item id=S2A_13SDV_20221020_0_L2A>\n"
     ]
    },
    {
     "name": "stderr",
     "output_type": "stream",
     "text": [
      " 86%|████████▋ | 290/336 [33:23<05:28,  7.15s/it]"
     ]
    },
    {
     "name": "stdout",
     "output_type": "stream",
     "text": [
      "Selected item S2A_13SDV_20221020_0_L2A for lat: 35.72760559710475, lon: -105.60374838029179\n",
      "Working on <Item id=S2A_13SDV_20221020_0_L2A>\n"
     ]
    },
    {
     "name": "stderr",
     "output_type": "stream",
     "text": [
      " 87%|████████▋ | 291/336 [33:30<05:10,  6.89s/it]"
     ]
    },
    {
     "name": "stdout",
     "output_type": "stream",
     "text": [
      "Selected item S2A_13SDV_20221020_0_L2A for lat: 35.72774429127174, lon: -105.57544271798407\n",
      "Working on <Item id=S2A_13SDV_20221020_0_L2A>\n"
     ]
    },
    {
     "name": "stderr",
     "output_type": "stream",
     "text": [
      " 87%|████████▋ | 292/336 [33:36<04:55,  6.72s/it]"
     ]
    },
    {
     "name": "stdout",
     "output_type": "stream",
     "text": [
      "Selected item S2A_13SDV_20221020_0_L2A for lat: 35.727876327549595, lon: -105.54713686692502\n",
      "Working on <Item id=S2A_13SDV_20221020_0_L2A>\n"
     ]
    },
    {
     "name": "stderr",
     "output_type": "stream",
     "text": [
      " 87%|████████▋ | 293/336 [33:42<04:36,  6.42s/it]"
     ]
    },
    {
     "name": "stdout",
     "output_type": "stream",
     "text": [
      "Selected item S2A_13SDV_20221020_0_L2A for lat: 35.72800170579954, lon: -105.51883083639714\n",
      "Working on <Item id=S2A_13SDV_20221020_0_L2A>\n"
     ]
    },
    {
     "name": "stderr",
     "output_type": "stream",
     "text": [
      " 88%|████████▊ | 294/336 [33:47<04:21,  6.22s/it]"
     ]
    },
    {
     "name": "stdout",
     "output_type": "stream",
     "text": [
      "Selected item S2A_13SDV_20221020_0_L2A for lat: 35.74730699108895, lon: -106.08521987696854\n",
      "Working on <Item id=S2A_13SDV_20221020_0_L2A>\n"
     ]
    },
    {
     "name": "stderr",
     "output_type": "stream",
     "text": [
      " 88%|████████▊ | 295/336 [33:55<04:35,  6.72s/it]"
     ]
    },
    {
     "name": "stdout",
     "output_type": "stream",
     "text": [
      "Selected item S2A_13SDV_20221020_0_L2A for lat: 35.7475590541276, lon: -106.05691067916824\n",
      "Working on <Item id=S2A_13SDV_20221020_0_L2A>\n"
     ]
    },
    {
     "name": "stderr",
     "output_type": "stream",
     "text": [
      " 88%|████████▊ | 296/336 [34:03<04:40,  7.02s/it]"
     ]
    },
    {
     "name": "stdout",
     "output_type": "stream",
     "text": [
      "Selected item S2A_13SDV_20221020_0_L2A for lat: 35.747804457086325, lon: -106.02860113448962\n",
      "Working on <Item id=S2A_13SDV_20221020_0_L2A>\n"
     ]
    },
    {
     "name": "stderr",
     "output_type": "stream",
     "text": [
      " 88%|████████▊ | 297/336 [34:10<04:36,  7.10s/it]"
     ]
    },
    {
     "name": "stdout",
     "output_type": "stream",
     "text": [
      "Selected item S2A_13SDV_20221020_0_L2A for lat: 35.74804319970711, lon: -106.00029125221674\n",
      "Working on <Item id=S2A_13SDV_20221020_0_L2A>\n"
     ]
    },
    {
     "name": "stderr",
     "output_type": "stream",
     "text": [
      " 89%|████████▊ | 298/336 [34:17<04:24,  6.96s/it]"
     ]
    },
    {
     "name": "stdout",
     "output_type": "stream",
     "text": [
      "Selected item S2A_13SDV_20221020_0_L2A for lat: 35.74827528173896, lon: -105.97198104163436\n",
      "Working on <Item id=S2A_13SDV_20221020_0_L2A>\n"
     ]
    },
    {
     "name": "stderr",
     "output_type": "stream",
     "text": [
      " 89%|████████▉ | 299/336 [34:24<04:14,  6.87s/it]"
     ]
    },
    {
     "name": "stdout",
     "output_type": "stream",
     "text": [
      "Selected item S2A_13SDV_20221020_0_L2A for lat: 35.748500702937854, lon: -105.94367051202791\n",
      "Working on <Item id=S2A_13SDV_20221020_0_L2A>\n"
     ]
    },
    {
     "name": "stderr",
     "output_type": "stream",
     "text": [
      " 89%|████████▉ | 300/336 [34:30<04:03,  6.75s/it]"
     ]
    },
    {
     "name": "stdout",
     "output_type": "stream",
     "text": [
      "Selected item S2A_13SDV_20221020_0_L2A for lat: 35.74871946306676, lon: -105.91535967268346\n",
      "Working on <Item id=S2A_13SDV_20221020_0_L2A>\n"
     ]
    },
    {
     "name": "stderr",
     "output_type": "stream",
     "text": [
      " 90%|████████▉ | 301/336 [34:36<03:50,  6.58s/it]"
     ]
    },
    {
     "name": "stdout",
     "output_type": "stream",
     "text": [
      "Selected item S2A_13SDV_20221020_0_L2A for lat: 35.748931561895716, lon: -105.88704853288776\n",
      "Working on <Item id=S2A_13SDV_20221020_0_L2A>\n"
     ]
    },
    {
     "name": "stderr",
     "output_type": "stream",
     "text": [
      " 90%|████████▉ | 302/336 [34:43<03:41,  6.53s/it]"
     ]
    },
    {
     "name": "stdout",
     "output_type": "stream",
     "text": [
      "Selected item S2A_13SDV_20221020_0_L2A for lat: 35.74913699920165, lon: -105.85873710192814\n",
      "Working on <Item id=S2A_13SDV_20221020_0_L2A>\n"
     ]
    },
    {
     "name": "stderr",
     "output_type": "stream",
     "text": [
      " 90%|█████████ | 303/336 [34:49<03:33,  6.46s/it]"
     ]
    },
    {
     "name": "stdout",
     "output_type": "stream",
     "text": [
      "Selected item S2A_13SDV_20221020_0_L2A for lat: 35.749335774768575, lon: -105.8304253890925\n",
      "Working on <Item id=S2A_13SDV_20221020_0_L2A>\n"
     ]
    },
    {
     "name": "stderr",
     "output_type": "stream",
     "text": [
      " 90%|█████████ | 304/336 [34:55<03:24,  6.39s/it]"
     ]
    },
    {
     "name": "stdout",
     "output_type": "stream",
     "text": [
      "Selected item S2A_13SDV_20221020_0_L2A for lat: 35.749527888387476, lon: -105.8021134036694\n",
      "Working on <Item id=S2A_13SDV_20221020_0_L2A>\n"
     ]
    },
    {
     "name": "stderr",
     "output_type": "stream",
     "text": [
      " 91%|█████████ | 305/336 [35:01<03:15,  6.29s/it]"
     ]
    },
    {
     "name": "stdout",
     "output_type": "stream",
     "text": [
      "Selected item S2A_13SDV_20221020_0_L2A for lat: 35.749713339856335, lon: -105.77380115494785\n",
      "Working on <Item id=S2A_13SDV_20221020_0_L2A>\n"
     ]
    },
    {
     "name": "stderr",
     "output_type": "stream",
     "text": [
      " 91%|█████████ | 306/336 [35:08<03:11,  6.39s/it]"
     ]
    },
    {
     "name": "stdout",
     "output_type": "stream",
     "text": [
      "Selected item S2A_13SDV_20221020_0_L2A for lat: 35.74989212898013, lon: -105.74548865221747\n",
      "Working on <Item id=S2A_13SDV_20221020_0_L2A>\n"
     ]
    },
    {
     "name": "stderr",
     "output_type": "stream",
     "text": [
      " 91%|█████████▏| 307/336 [35:14<03:02,  6.31s/it]"
     ]
    },
    {
     "name": "stdout",
     "output_type": "stream",
     "text": [
      "Selected item S2A_13SDV_20221020_0_L2A for lat: 35.750064255570855, lon: -105.71717590476844\n",
      "Working on <Item id=S2A_13SDV_20221020_0_L2A>\n"
     ]
    },
    {
     "name": "stderr",
     "output_type": "stream",
     "text": [
      " 92%|█████████▏| 308/336 [35:21<02:58,  6.37s/it]"
     ]
    },
    {
     "name": "stdout",
     "output_type": "stream",
     "text": [
      "Selected item S2A_13SDV_20221020_0_L2A for lat: 35.75022971944753, lon: -105.68886292189133\n",
      "Working on <Item id=S2A_13SDV_20221020_0_L2A>\n"
     ]
    },
    {
     "name": "stderr",
     "output_type": "stream",
     "text": [
      " 92%|█████████▏| 309/336 [35:27<02:49,  6.27s/it]"
     ]
    },
    {
     "name": "stdout",
     "output_type": "stream",
     "text": [
      "Selected item S2A_13SDV_20221020_0_L2A for lat: 35.75038852043614, lon: -105.66054971287726\n",
      "Working on <Item id=S2A_13SDV_20221020_0_L2A>\n"
     ]
    },
    {
     "name": "stderr",
     "output_type": "stream",
     "text": [
      " 92%|█████████▏| 310/336 [35:33<02:42,  6.25s/it]"
     ]
    },
    {
     "name": "stdout",
     "output_type": "stream",
     "text": [
      "Selected item S2A_13SDV_20221020_0_L2A for lat: 35.75054065836966, lon: -105.63223628701783\n",
      "Working on <Item id=S2A_13SDV_20221020_0_L2A>\n"
     ]
    },
    {
     "name": "stderr",
     "output_type": "stream",
     "text": [
      " 93%|█████████▎| 311/336 [35:38<02:28,  5.94s/it]"
     ]
    },
    {
     "name": "stdout",
     "output_type": "stream",
     "text": [
      "Selected item S2A_13SDV_20221020_0_L2A for lat: 35.75068613308813, lon: -105.60392265360503\n",
      "Working on <Item id=S2A_13SDV_20221020_0_L2A>\n"
     ]
    },
    {
     "name": "stderr",
     "output_type": "stream",
     "text": [
      " 93%|█████████▎| 312/336 [35:43<02:14,  5.62s/it]"
     ]
    },
    {
     "name": "stdout",
     "output_type": "stream",
     "text": [
      "Selected item S2A_13SDV_20221020_0_L2A for lat: 35.75082494443856, lon: -105.57560882193131\n",
      "Working on <Item id=S2A_13SDV_20221020_0_L2A>\n"
     ]
    },
    {
     "name": "stderr",
     "output_type": "stream",
     "text": [
      " 93%|█████████▎| 313/336 [35:47<02:01,  5.30s/it]"
     ]
    },
    {
     "name": "stdout",
     "output_type": "stream",
     "text": [
      "Selected item S2A_13SDV_20221020_0_L2A for lat: 35.750957092274945, lon: -105.54729480128952\n",
      "Working on <Item id=S2A_13SDV_20221020_0_L2A>\n"
     ]
    },
    {
     "name": "stderr",
     "output_type": "stream",
     "text": [
      " 93%|█████████▎| 314/336 [35:54<02:02,  5.55s/it]"
     ]
    },
    {
     "name": "stdout",
     "output_type": "stream",
     "text": [
      "Selected item S2A_13SDV_20221020_0_L2A for lat: 35.751082576458344, lon: -105.51898060097294\n",
      "Working on <Item id=S2A_13SDV_20221020_0_L2A>\n"
     ]
    },
    {
     "name": "stderr",
     "output_type": "stream",
     "text": [
      " 94%|█████████▍| 315/336 [35:59<01:54,  5.47s/it]"
     ]
    },
    {
     "name": "stdout",
     "output_type": "stream",
     "text": [
      "Selected item S2A_13SDV_20221020_0_L2A for lat: 35.77038458345305, lon: -106.08553334218945\n",
      "Working on <Item id=S2A_13SDV_20221020_0_L2A>\n"
     ]
    },
    {
     "name": "stderr",
     "output_type": "stream",
     "text": [
      " 94%|█████████▍| 316/336 [36:05<01:52,  5.62s/it]"
     ]
    },
    {
     "name": "stdout",
     "output_type": "stream",
     "text": [
      "Selected item S2A_13SDV_20221020_0_L2A for lat: 35.77063685938462, lon: -106.05721597105307\n",
      "Working on <Item id=S2A_13SDV_20221020_0_L2A>\n"
     ]
    },
    {
     "name": "stderr",
     "output_type": "stream",
     "text": [
      " 94%|█████████▍| 317/336 [36:12<01:53,  5.95s/it]"
     ]
    },
    {
     "name": "stdout",
     "output_type": "stream",
     "text": [
      "Selected item S2A_13SDV_20221020_0_L2A for lat: 35.770882469612424, lon: -106.02889825263998\n",
      "Working on <Item id=S2A_13SDV_20221020_0_L2A>\n"
     ]
    },
    {
     "name": "stderr",
     "output_type": "stream",
     "text": [
      " 95%|█████████▍| 318/336 [36:18<01:49,  6.08s/it]"
     ]
    },
    {
     "name": "stdout",
     "output_type": "stream",
     "text": [
      "Selected item S2A_13SDV_20221020_0_L2A for lat: 35.77112141387814, lon: -106.00058019624487\n",
      "Working on <Item id=S2A_13SDV_20221020_0_L2A>\n"
     ]
    },
    {
     "name": "stderr",
     "output_type": "stream",
     "text": [
      " 95%|█████████▍| 319/336 [36:25<01:46,  6.27s/it]"
     ]
    },
    {
     "name": "stdout",
     "output_type": "stream",
     "text": [
      "Selected item S2A_13SDV_20221020_0_L2A for lat: 35.771353691930436, lon: -105.97226181116318\n",
      "Working on <Item id=S2A_13SDV_20221020_0_L2A>\n"
     ]
    },
    {
     "name": "stderr",
     "output_type": "stream",
     "text": [
      " 95%|█████████▌| 320/336 [36:31<01:42,  6.38s/it]"
     ]
    },
    {
     "name": "stdout",
     "output_type": "stream",
     "text": [
      "Selected item S2A_13SDV_20221020_0_L2A for lat: 35.77157930352501, lon: -105.943943106691\n",
      "Working on <Item id=S2A_13SDV_20221020_0_L2A>\n"
     ]
    },
    {
     "name": "stderr",
     "output_type": "stream",
     "text": [
      " 96%|█████████▌| 321/336 [36:37<01:34,  6.32s/it]"
     ]
    },
    {
     "name": "stdout",
     "output_type": "stream",
     "text": [
      "Selected item S2A_13SDV_20221020_0_L2A for lat: 35.77179824842454, lon: -105.91562409212506\n",
      "Working on <Item id=S2A_13SDV_20221020_0_L2A>\n"
     ]
    },
    {
     "name": "stderr",
     "output_type": "stream",
     "text": [
      " 96%|█████████▌| 322/336 [36:44<01:30,  6.43s/it]"
     ]
    },
    {
     "name": "stdout",
     "output_type": "stream",
     "text": [
      "Selected item S2A_13SDV_20221020_0_L2A for lat: 35.772010526398745, lon: -105.88730477676275\n",
      "Working on <Item id=S2A_13SDV_20221020_0_L2A>\n"
     ]
    },
    {
     "name": "stderr",
     "output_type": "stream",
     "text": [
      " 96%|█████████▌| 323/336 [36:51<01:25,  6.57s/it]"
     ]
    },
    {
     "name": "stdout",
     "output_type": "stream",
     "text": [
      "Selected item S2A_13SDV_20221020_0_L2A for lat: 35.772216137224305, lon: -105.85898516990207\n",
      "Working on <Item id=S2A_13SDV_20221020_0_L2A>\n"
     ]
    },
    {
     "name": "stderr",
     "output_type": "stream",
     "text": [
      " 96%|█████████▋| 324/336 [36:57<01:17,  6.47s/it]"
     ]
    },
    {
     "name": "stdout",
     "output_type": "stream",
     "text": [
      "Selected item S2A_13SDV_20221020_0_L2A for lat: 35.77241508068495, lon: -105.83066528084161\n",
      "Working on <Item id=S2A_13SDV_20221020_0_L2A>\n"
     ]
    },
    {
     "name": "stderr",
     "output_type": "stream",
     "text": [
      " 97%|█████████▋| 325/336 [37:04<01:10,  6.45s/it]"
     ]
    },
    {
     "name": "stdout",
     "output_type": "stream",
     "text": [
      "Selected item S2A_13SDV_20221020_0_L2A for lat: 35.77260735657142, lon: -105.80234511888052\n",
      "Working on <Item id=S2A_13SDV_20221020_0_L2A>\n"
     ]
    },
    {
     "name": "stderr",
     "output_type": "stream",
     "text": [
      " 97%|█████████▋| 326/336 [37:09<01:01,  6.15s/it]"
     ]
    },
    {
     "name": "stdout",
     "output_type": "stream",
     "text": [
      "Selected item S2A_13SDV_20221020_0_L2A for lat: 35.77279296468142, lon: -105.7740246933186\n",
      "Working on <Item id=S2A_13SDV_20221020_0_L2A>\n"
     ]
    },
    {
     "name": "stderr",
     "output_type": "stream",
     "text": [
      " 97%|█████████▋| 327/336 [37:15<00:55,  6.15s/it]"
     ]
    },
    {
     "name": "stdout",
     "output_type": "stream",
     "text": [
      "Selected item S2A_13SDV_20221020_0_L2A for lat: 35.77297190481973, lon: -105.74570401345603\n",
      "Working on <Item id=S2A_13SDV_20221020_0_L2A>\n"
     ]
    },
    {
     "name": "stderr",
     "output_type": "stream",
     "text": [
      " 98%|█████████▊| 328/336 [37:21<00:48,  6.08s/it]"
     ]
    },
    {
     "name": "stdout",
     "output_type": "stream",
     "text": [
      "Selected item S2A_13SDV_20221020_0_L2A for lat: 35.77314417679809, lon: -105.71738308859368\n",
      "Working on <Item id=S2A_13SDV_20221020_0_L2A>\n"
     ]
    },
    {
     "name": "stderr",
     "output_type": "stream",
     "text": [
      " 98%|█████████▊| 329/336 [37:28<00:44,  6.32s/it]"
     ]
    },
    {
     "name": "stdout",
     "output_type": "stream",
     "text": [
      "Selected item S2A_13SDV_20221020_0_L2A for lat: 35.77330978043526, lon: -105.68906192803281\n",
      "Working on <Item id=S2A_13SDV_20221020_0_L2A>\n"
     ]
    },
    {
     "name": "stderr",
     "output_type": "stream",
     "text": [
      " 98%|█████████▊| 330/336 [37:34<00:37,  6.29s/it]"
     ]
    },
    {
     "name": "stdout",
     "output_type": "stream",
     "text": [
      "Selected item S2A_13SDV_20221020_0_L2A for lat: 35.77346871555705, lon: -105.6607405410752\n",
      "Working on <Item id=S2A_13SDV_20221020_0_L2A>\n"
     ]
    },
    {
     "name": "stderr",
     "output_type": "stream",
     "text": [
      " 99%|█████████▊| 331/336 [37:40<00:30,  6.19s/it]"
     ]
    },
    {
     "name": "stdout",
     "output_type": "stream",
     "text": [
      "Selected item S2A_13SDV_20221020_0_L2A for lat: 35.773620981996224, lon: -105.63241893702313\n",
      "Working on <Item id=S2A_13SDV_20221020_0_L2A>\n"
     ]
    },
    {
     "name": "stderr",
     "output_type": "stream",
     "text": [
      " 99%|█████████▉| 332/336 [37:45<00:23,  5.81s/it]"
     ]
    },
    {
     "name": "stdout",
     "output_type": "stream",
     "text": [
      "Selected item S2A_13SDV_20221020_0_L2A for lat: 35.77376657959261, lon: -105.60409712517924\n",
      "Working on <Item id=S2A_13SDV_20221020_0_L2A>\n"
     ]
    },
    {
     "name": "stderr",
     "output_type": "stream",
     "text": [
      " 99%|█████████▉| 333/336 [37:50<00:16,  5.64s/it]"
     ]
    },
    {
     "name": "stdout",
     "output_type": "stream",
     "text": [
      "Selected item S2A_13SDV_20221020_0_L2A for lat: 35.77390550819302, lon: -105.57577511484666\n",
      "Working on <Item id=S2A_13SDV_20221020_0_L2A>\n"
     ]
    },
    {
     "name": "stderr",
     "output_type": "stream",
     "text": [
      " 99%|█████████▉| 334/336 [37:55<00:10,  5.33s/it]"
     ]
    },
    {
     "name": "stdout",
     "output_type": "stream",
     "text": [
      "Selected item S2A_13SDV_20221020_0_L2A for lat: 35.7740377676513, lon: -105.54745291532896\n",
      "Working on <Item id=S2A_13SDV_20221020_0_L2A>\n"
     ]
    },
    {
     "name": "stderr",
     "output_type": "stream",
     "text": [
      "100%|█████████▉| 335/336 [38:00<00:05,  5.13s/it]"
     ]
    },
    {
     "name": "stdout",
     "output_type": "stream",
     "text": [
      "Selected item S2A_13SDV_20221020_0_L2A for lat: 35.77416335782829, lon: -105.51913053592999\n",
      "Working on <Item id=S2A_13SDV_20221020_0_L2A>\n"
     ]
    },
    {
     "name": "stderr",
     "output_type": "stream",
     "text": [
      "100%|██████████| 336/336 [38:04<00:00,  6.80s/it]"
     ]
    },
    {
     "name": "stdout",
     "output_type": "stream",
     "text": [
      "torch.Size([336, 768])\n"
     ]
    },
    {
     "name": "stderr",
     "output_type": "stream",
     "text": [
      "\n"
     ]
    },
    {
     "data": {
      "text/html": [
       "<div>\n",
       "<style scoped>\n",
       "    .dataframe tbody tr th:only-of-type {\n",
       "        vertical-align: middle;\n",
       "    }\n",
       "\n",
       "    .dataframe tbody tr th {\n",
       "        vertical-align: top;\n",
       "    }\n",
       "\n",
       "    .dataframe thead th {\n",
       "        text-align: right;\n",
       "    }\n",
       "</style>\n",
       "<table border=\"1\" class=\"dataframe\">\n",
       "  <thead>\n",
       "    <tr style=\"text-align: right;\">\n",
       "      <th></th>\n",
       "      <th>geometry</th>\n",
       "      <th>embeddings</th>\n",
       "      <th>most_common_lulc</th>\n",
       "    </tr>\n",
       "  </thead>\n",
       "  <tbody>\n",
       "    <tr>\n",
       "      <th>0</th>\n",
       "      <td>POINT (-106.08087 35.42421)</td>\n",
       "      <td>[-0.02422812022268772, -0.08208765089511871, 0...</td>\n",
       "      <td>11</td>\n",
       "    </tr>\n",
       "    <tr>\n",
       "      <th>1</th>\n",
       "      <td>POINT (-106.05267 35.42446)</td>\n",
       "      <td>[-0.024211246520280838, -0.08211115002632141, ...</td>\n",
       "      <td>11</td>\n",
       "    </tr>\n",
       "    <tr>\n",
       "      <th>2</th>\n",
       "      <td>POINT (-106.02448 35.42470)</td>\n",
       "      <td>[-0.02419484592974186, -0.08213458210229874, 0...</td>\n",
       "      <td>11</td>\n",
       "    </tr>\n",
       "    <tr>\n",
       "      <th>3</th>\n",
       "      <td>POINT (-105.99628 35.42494)</td>\n",
       "      <td>[-0.02417799085378647, -0.08215818554162979, 0...</td>\n",
       "      <td>11</td>\n",
       "    </tr>\n",
       "    <tr>\n",
       "      <th>4</th>\n",
       "      <td>POINT (-105.96808 35.42517)</td>\n",
       "      <td>[-0.024161258712410927, -0.08218131959438324, ...</td>\n",
       "      <td>11</td>\n",
       "    </tr>\n",
       "  </tbody>\n",
       "</table>\n",
       "</div>"
      ],
      "text/plain": [
       "                      geometry  \\\n",
       "0  POINT (-106.08087 35.42421)   \n",
       "1  POINT (-106.05267 35.42446)   \n",
       "2  POINT (-106.02448 35.42470)   \n",
       "3  POINT (-105.99628 35.42494)   \n",
       "4  POINT (-105.96808 35.42517)   \n",
       "\n",
       "                                          embeddings  most_common_lulc  \n",
       "0  [-0.02422812022268772, -0.08208765089511871, 0...                11  \n",
       "1  [-0.024211246520280838, -0.08211115002632141, ...                11  \n",
       "2  [-0.02419484592974186, -0.08213458210229874, 0...                11  \n",
       "3  [-0.02417799085378647, -0.08215818554162979, 0...                11  \n",
       "4  [-0.024161258712410927, -0.08218131959438324, ...                11  "
      ]
     },
     "execution_count": 10,
     "metadata": {},
     "output_type": "execute_result"
    }
   ],
   "source": [
    "import os\n",
    "import pystac_client\n",
    "import numpy as np\n",
    "import requests\n",
    "import yaml\n",
    "import math\n",
    "import torch\n",
    "import torchvision.transforms as v2\n",
    "import geopandas as gpd\n",
    "from shapely.geometry import Point\n",
    "from box import Box\n",
    "from stacchip.indexer import Sentinel2Indexer\n",
    "from stacchip.chipper import Chipper\n",
    "from tqdm import tqdm\n",
    "\n",
    "# Optimize GDAL settings for cloud optimized reading\n",
    "os.environ[\"GDAL_DISABLE_READDIR_ON_OPEN\"] = \"EMPTY_DIR\"\n",
    "os.environ[\"AWS_REQUEST_PAYER\"] = \"requester\"\n",
    "\n",
    "STAC_API = \"https://earth-search.aws.element84.com/v1\"\n",
    "COLLECTION = \"sentinel-2-l2a\"\n",
    "\n",
    "# Initialize lists to store results\n",
    "all_cls_embeddings = []\n",
    "geometries = []\n",
    "# Points of Interest as a list of tuples (longitude, latitude)\n",
    "points = grid.to_crs(\"EPSG:4326\").geometry.apply(lambda x: (x.x, x.y)).tolist()\n",
    "\n",
    "torch.cuda.empty_cache()\n",
    "\n",
    "clay_encoder = torch.export.load(\"clay-v1-encoder.pt\").module()\n",
    "\n",
    "for lon, lat in tqdm(points):\n",
    "    # Search the catalogue\n",
    "    catalog = pystac_client.Client.open(STAC_API)\n",
    "    search = catalog.search(\n",
    "        collections=[COLLECTION],\n",
    "        datetime=f\"{year}-01-01/{year}-12-31\",\n",
    "        bbox=(lon - 1e-5, lat - 1e-5, lon + 1e-5, lat + 1e-5),\n",
    "        max_items=100,\n",
    "        query={\"eo:cloud_cover\": {\"lt\": 80}},\n",
    "    )\n",
    "\n",
    "    all_items = search.get_all_items()\n",
    "\n",
    "    # Sort items by cloud cover and select the one with the lowest cloud cover\n",
    "    if all_items:\n",
    "        sorted_items = sorted(all_items, key=lambda x: x.properties.get('eo:cloud_cover', float('inf')))\n",
    "        lowest_cloud_item = sorted_items[0]\n",
    "    else:\n",
    "        print(f\"No items found for lat: {lat}, lon: {lon}\")\n",
    "        continue\n",
    "\n",
    "    print(f\"Selected item {lowest_cloud_item.id} for lat: {lat}, lon: {lon}\")\n",
    "\n",
    "    chips = []\n",
    "    datetimes = []\n",
    "    bboxs = []\n",
    "    chip_ids = []\n",
    "    item_ids = []\n",
    "\n",
    "    print(f\"Working on {lowest_cloud_item}\")\n",
    "\n",
    "    # Index the chips in the item\n",
    "    indexer = Sentinel2Indexer(lowest_cloud_item)\n",
    "\n",
    "    # Instantiate the chipper\n",
    "    chipper = Chipper(indexer, assets=[\"red\", \"green\", \"blue\", \"nir\", \"scl\"])\n",
    "\n",
    "    # Get chips for the \"image\" asset key\n",
    "    for idx, (x, y, chip) in enumerate(chipper):\n",
    "        if idx > 2:\n",
    "            break\n",
    "        del chip[\"scl\"]\n",
    "        chips.append(chip)\n",
    "        datetimes.append(lowest_cloud_item.datetime)\n",
    "        bboxs.append(indexer.get_chip_bbox(x, y))\n",
    "        chip_ids.append((x, y))\n",
    "        item_ids.append(lowest_cloud_item.id)\n",
    "\n",
    "    pixels = np.array([np.array(list(chip.values())).squeeze() for chip in chips])\n",
    "\n",
    "    # Extract mean, std, and wavelengths from metadata\n",
    "    platform = \"sentinel-2-l2a\"\n",
    "    # Retrieve the file content from the URL\n",
    "\n",
    "    url = (\n",
    "        \"https://raw.githubusercontent.com/Clay-foundation/model/main/configs/metadata.yaml\"\n",
    "    )\n",
    "    response = requests.get(url, allow_redirects=True)\n",
    "\n",
    "    # Convert bytes to string\n",
    "    content = response.content.decode(\"utf-8\")\n",
    "\n",
    "    # Load the yaml\n",
    "    content = yaml.safe_load(content)\n",
    "\n",
    "    metadata = Box(content)\n",
    "    mean = []\n",
    "    std = []\n",
    "    waves = []\n",
    "    # Use the band names to get the correct values in the correct order.\n",
    "    for band in chips[0].keys():\n",
    "        mean.append(metadata[platform].bands.mean[band])\n",
    "        std.append(metadata[platform].bands.std[band])\n",
    "        waves.append(metadata[platform].bands.wavelength[band])\n",
    "\n",
    "    # Prepare the normalization transform function using the mean and std values.\n",
    "    transform = v2.Compose(\n",
    "        [\n",
    "            v2.Normalize(mean=mean, std=std),\n",
    "        ]\n",
    "    )\n",
    "\n",
    "    def normalize_timestamp(date):\n",
    "        week = date.isocalendar().week * 2 * np.pi / 52\n",
    "        hour = date.hour * 2 * np.pi / 24\n",
    "\n",
    "        return (math.sin(week), math.cos(week)), (math.sin(hour), math.cos(hour))\n",
    "\n",
    "    times = [normalize_timestamp(dat) for dat in datetimes]\n",
    "    week_norm = [dat[0] for dat in times]\n",
    "    hour_norm = [dat[1] for dat in times]\n",
    "\n",
    "    # Prep lat/lon embedding using the\n",
    "    def normalize_latlon(lat, lon):\n",
    "        lat = lat * np.pi / 180\n",
    "        lon = lon * np.pi / 180\n",
    "\n",
    "        return (math.sin(lat), math.cos(lat)), (math.sin(lon), math.cos(lon))\n",
    "\n",
    "    latlons = [normalize_latlon(lat, lon)] * len(times)\n",
    "    lat_norm = [dat[0] for dat in latlons]\n",
    "    lon_norm = [dat[1] for dat in latlons]\n",
    "\n",
    "    # Prep gsd\n",
    "    gsd = torch.tensor([10.0], dtype=torch.float32)  # GSD should be a scalar\n",
    "\n",
    "    # Normalize pixels\n",
    "    pixels = pixels.astype(np.float32)\n",
    "    pixels = torch.tensor(pixels, dtype=torch.float32)\n",
    "    pixels = transform(pixels)\n",
    "\n",
    "    # Ensure all tensors are float32 and on the same device\n",
    "    device = torch.device(\"cuda\" if torch.cuda.is_available() else \"cpu\")\n",
    "    # device = torch.device(\"cpu\")\n",
    "    pixels = pixels.to(device=device, dtype=torch.float32)\n",
    "    week_norm = torch.tensor(np.hstack((week_norm, hour_norm)), dtype=torch.float32, device=device)\n",
    "    lat_norm = torch.tensor(np.hstack((lat_norm, lon_norm)), dtype=torch.float32, device=device)\n",
    "    waves = torch.tensor(waves, dtype=torch.float32, device=device)\n",
    "    gsd = gsd.to(device=device)\n",
    "\n",
    "    # Process data with batch size of 1, repeating to meet minimum batch size\n",
    "    batch_pixels = pixels.repeat(32, 1, 1, 1)  # Repeat to batch size 32\n",
    "    batch_week_norm = week_norm.repeat(32, 1)\n",
    "    batch_lat_norm = lat_norm.repeat(32, 1)\n",
    "\n",
    "    datacube = (\n",
    "        batch_pixels,\n",
    "        batch_week_norm,\n",
    "        batch_lat_norm,\n",
    "        waves,  # Keep waves as is, no repeat\n",
    "        gsd,    # GSD remains a scalar\n",
    "    )\n",
    "\n",
    "    # Ensure the model is on the same device\n",
    "    clay_encoder = clay_encoder.to(device)\n",
    "\n",
    "    # Run the clay encoder\n",
    "    with torch.no_grad():\n",
    "        unmsk_patch, unmsk_idx, msk_idx, msk_matrix = clay_encoder(*datacube)\n",
    "\n",
    "    # Get class embeddings\n",
    "    cls_embedding = unmsk_patch[:, 0, :]\n",
    "\n",
    "    # Store the first embedding (batch_size 32) as the representative embedding\n",
    "    all_cls_embeddings.append(cls_embedding[0].cpu())\n",
    "    geometries.append(Point(lon, lat))\n",
    "\n",
    "# Concatenate all embeddings\n",
    "all_cls_embeddings_tensor = torch.stack(all_cls_embeddings, dim=0)\n",
    "print(all_cls_embeddings_tensor.shape)\n",
    "\n",
    "# Create GeoDataFrame\n",
    "test_gdf = gpd.GeoDataFrame({\n",
    "    'geometry': geometries,\n",
    "    'embeddings': [embedding.numpy().tolist() for embedding in all_cls_embeddings_tensor]\n",
    "}, crs=\"EPSG:4326\")\n",
    "\n",
    "test_gdf['most_common_lulc'] = grid['most_common_lulc']\n",
    "\n",
    "# Print or save the GeoDataFrame\n",
    "test_gdf.head()\n"
   ]
  },
  {
   "cell_type": "code",
   "execution_count": 11,
   "metadata": {},
   "outputs": [
    {
     "name": "stderr",
     "output_type": "stream",
     "text": [
      "WARNING: All log messages before absl::InitializeLog() is called are written to STDERR\n",
      "I0000 00:00:1722125074.019869   72071 cuda_executor.cc:1015] successful NUMA node read from SysFS had negative value (-1), but there must be at least one NUMA node, so returning NUMA node zero. See more at https://github.com/torvalds/linux/blob/v6.0/Documentation/ABI/testing/sysfs-bus-pci#L344-L355\n",
      "I0000 00:00:1722125074.022631   72071 cuda_executor.cc:1015] successful NUMA node read from SysFS had negative value (-1), but there must be at least one NUMA node, so returning NUMA node zero. See more at https://github.com/torvalds/linux/blob/v6.0/Documentation/ABI/testing/sysfs-bus-pci#L344-L355\n",
      "I0000 00:00:1722125074.024198   72071 cuda_executor.cc:1015] successful NUMA node read from SysFS had negative value (-1), but there must be at least one NUMA node, so returning NUMA node zero. See more at https://github.com/torvalds/linux/blob/v6.0/Documentation/ABI/testing/sysfs-bus-pci#L344-L355\n",
      "I0000 00:00:1722125074.038732   72071 cuda_executor.cc:1015] successful NUMA node read from SysFS had negative value (-1), but there must be at least one NUMA node, so returning NUMA node zero. See more at https://github.com/torvalds/linux/blob/v6.0/Documentation/ABI/testing/sysfs-bus-pci#L344-L355\n",
      "I0000 00:00:1722125074.040431   72071 cuda_executor.cc:1015] successful NUMA node read from SysFS had negative value (-1), but there must be at least one NUMA node, so returning NUMA node zero. See more at https://github.com/torvalds/linux/blob/v6.0/Documentation/ABI/testing/sysfs-bus-pci#L344-L355\n",
      "I0000 00:00:1722125074.041931   72071 cuda_executor.cc:1015] successful NUMA node read from SysFS had negative value (-1), but there must be at least one NUMA node, so returning NUMA node zero. See more at https://github.com/torvalds/linux/blob/v6.0/Documentation/ABI/testing/sysfs-bus-pci#L344-L355\n",
      "I0000 00:00:1722125074.043483   72071 cuda_executor.cc:1015] successful NUMA node read from SysFS had negative value (-1), but there must be at least one NUMA node, so returning NUMA node zero. See more at https://github.com/torvalds/linux/blob/v6.0/Documentation/ABI/testing/sysfs-bus-pci#L344-L355\n",
      "I0000 00:00:1722125074.044960   72071 cuda_executor.cc:1015] successful NUMA node read from SysFS had negative value (-1), but there must be at least one NUMA node, so returning NUMA node zero. See more at https://github.com/torvalds/linux/blob/v6.0/Documentation/ABI/testing/sysfs-bus-pci#L344-L355\n",
      "I0000 00:00:1722125074.046469   72071 cuda_executor.cc:1015] successful NUMA node read from SysFS had negative value (-1), but there must be at least one NUMA node, so returning NUMA node zero. See more at https://github.com/torvalds/linux/blob/v6.0/Documentation/ABI/testing/sysfs-bus-pci#L344-L355\n",
      "2024-07-28 00:04:34.047923: I tensorflow/core/common_runtime/gpu/gpu_device.cc:2021] Created device /job:localhost/replica:0/task:0/device:GPU:0 with 3697 MB memory:  -> device: 0, name: NVIDIA A10G, pci bus id: 0000:00:1e.0, compute capability: 8.6\n",
      "WARNING:absl:Compiled the loaded model, but the compiled metrics have yet to be built. `model.compile_metrics` will be empty until you train or evaluate the model.\n",
      "WARNING: All log messages before absl::InitializeLog() is called are written to STDERR\n",
      "I0000 00:00:1722125074.296285   72451 service.cc:146] XLA service 0x7f1c400040a0 initialized for platform CUDA (this does not guarantee that XLA will be used). Devices:\n",
      "I0000 00:00:1722125074.296327   72451 service.cc:154]   StreamExecutor device (0): NVIDIA A10G, Compute Capability 8.6\n",
      "2024-07-28 00:04:34.300985: I tensorflow/compiler/mlir/tensorflow/utils/dump_mlir_util.cc:268] disabling MLIR crash reproducer, set env var `MLIR_CRASH_REPRODUCER_DIRECTORY` to enable.\n",
      "2024-07-28 00:04:34.317231: I external/local_xla/xla/stream_executor/cuda/cuda_dnn.cc:531] Loaded cuDNN version 8905\n"
     ]
    },
    {
     "name": "stdout",
     "output_type": "stream",
     "text": [
      "\u001b[1m 1/11\u001b[0m \u001b[32m━\u001b[0m\u001b[37m━━━━━━━━━━━━━━━━━━━\u001b[0m \u001b[1m21s\u001b[0m 2s/step"
     ]
    },
    {
     "name": "stderr",
     "output_type": "stream",
     "text": [
      "I0000 00:00:1722125076.402397   72451 device_compiler.h:188] Compiled cluster using XLA!  This line is logged at most once for the lifetime of the process.\n"
     ]
    },
    {
     "name": "stdout",
     "output_type": "stream",
     "text": [
      "\u001b[1m11/11\u001b[0m \u001b[32m━━━━━━━━━━━━━━━━━━━━\u001b[0m\u001b[37m\u001b[0m \u001b[1m4s\u001b[0m 152ms/step\n"
     ]
    }
   ],
   "source": [
    "# Detect if GPU is available\n",
    "device = '/GPU:0' if tf.config.list_physical_devices('GPU') else '/CPU:0'\n",
    "\n",
    "# Load the model\n",
    "loaded_nn = NeuralNetwork.load_model('models/land_cover_model.h5', input_shape=768, num_classes=11, device=device)\n",
    "\n",
    "# Prepare your new data (assuming it's in the same format as your training data)\n",
    "new_data = test_gdf['embeddings'].tolist()\n",
    "new_data = pd.DataFrame(new_data)  # Ensure the new data is in DataFrame format\n",
    "\n",
    "# Standardize the new data using the saved scaler\n",
    "scaler = joblib.load('models/scaler.joblib')\n",
    "new_data_scaled = scaler.transform(new_data)\n",
    "\n",
    "# Make predictions\n",
    "new_predictions = loaded_nn.predict(new_data_scaled)\n",
    "\n",
    "# Load the label encoder\n",
    "label_encoder = joblib.load('models/label_encoder.joblib')\n",
    "\n",
    "# If you want to convert the predictions back to the original class labels\n",
    "test_gdf['pred_lulc'] = label_encoder.inverse_transform(new_predictions)"
   ]
  },
  {
   "cell_type": "code",
   "execution_count": 14,
   "metadata": {},
   "outputs": [
    {
     "data": {
      "text/plain": [
       "0      [-0.02422812022268772, -0.08208765089511871, 0...\n",
       "1      [-0.024211246520280838, -0.08211115002632141, ...\n",
       "2      [-0.02419484592974186, -0.08213458210229874, 0...\n",
       "3      [-0.02417799085378647, -0.08215818554162979, 0...\n",
       "4      [-0.024161258712410927, -0.08218131959438324, ...\n",
       "                             ...                        \n",
       "331    [-0.024046512320637703, -0.08254100382328033, ...\n",
       "332    [-0.024029461666941643, -0.08256262540817261, ...\n",
       "333    [-0.02401147224009037, -0.08258378505706787, 0...\n",
       "334    [-0.023994266986846924, -0.08260524272918701, ...\n",
       "335    [-0.023976752534508705, -0.08262651413679123, ...\n",
       "Name: embeddings, Length: 336, dtype: object"
      ]
     },
     "execution_count": 14,
     "metadata": {},
     "output_type": "execute_result"
    }
   ],
   "source": [
    "test_gdf['embeddings']"
   ]
  },
  {
   "cell_type": "code",
   "execution_count": 12,
   "metadata": {},
   "outputs": [
    {
     "name": "stdout",
     "output_type": "stream",
     "text": [
      "Test set accuracy: 0.0\n"
     ]
    }
   ],
   "source": [
    "print(\"Test set accuracy:\", np.mean(test_gdf['pred_lulc']==test_gdf['most_common_lulc']))"
   ]
  },
  {
   "cell_type": "code",
   "execution_count": 13,
   "metadata": {},
   "outputs": [
    {
     "data": {
      "text/plain": [
       "0      1.0\n",
       "1      1.0\n",
       "2      1.0\n",
       "3      1.0\n",
       "4      1.0\n",
       "      ... \n",
       "331    1.0\n",
       "332    1.0\n",
       "333    1.0\n",
       "334    1.0\n",
       "335    1.0\n",
       "Name: pred_lulc, Length: 336, dtype: float64"
      ]
     },
     "execution_count": 13,
     "metadata": {},
     "output_type": "execute_result"
    }
   ],
   "source": [
    "test_gdf['pred_lulc']"
   ]
  },
  {
   "cell_type": "code",
   "execution_count": 15,
   "metadata": {},
   "outputs": [],
   "source": [
    "# Ignore everything after here"
   ]
  },
  {
   "cell_type": "code",
   "execution_count": null,
   "metadata": {},
   "outputs": [],
   "source": []
  },
  {
   "cell_type": "markdown",
   "metadata": {},
   "source": [
    "#### Make predictions for the given grid"
   ]
  },
  {
   "cell_type": "code",
   "execution_count": null,
   "metadata": {},
   "outputs": [
    {
     "name": "stderr",
     "output_type": "stream",
     "text": [
      "100%|██████████| 1/1 [00:01<00:00,  1.08s/it]\n"
     ]
    },
    {
     "data": {
      "text/html": [
       "<div>\n",
       "<style scoped>\n",
       "    .dataframe tbody tr th:only-of-type {\n",
       "        vertical-align: middle;\n",
       "    }\n",
       "\n",
       "    .dataframe tbody tr th {\n",
       "        vertical-align: top;\n",
       "    }\n",
       "\n",
       "    .dataframe thead th {\n",
       "        text-align: right;\n",
       "    }\n",
       "</style>\n",
       "<table border=\"1\" class=\"dataframe\">\n",
       "  <thead>\n",
       "    <tr style=\"text-align: right;\">\n",
       "      <th></th>\n",
       "      <th>embeddings</th>\n",
       "      <th>geometry</th>\n",
       "    </tr>\n",
       "  </thead>\n",
       "  <tbody>\n",
       "    <tr>\n",
       "      <th>0</th>\n",
       "      <td>[-0.10595816, 0.049139716, -0.013616198, 0.103...</td>\n",
       "      <td>POLYGON ((-106.06225 35.59601, -106.06225 35.6...</td>\n",
       "    </tr>\n",
       "    <tr>\n",
       "      <th>1</th>\n",
       "      <td>[-0.11944625, 0.04765699, 0.0012937918, 0.0989...</td>\n",
       "      <td>POLYGON ((-106.04359 35.59601, -106.04359 35.6...</td>\n",
       "    </tr>\n",
       "    <tr>\n",
       "      <th>2</th>\n",
       "      <td>[-0.1352622, 0.03729467, 0.025111463, 0.089445...</td>\n",
       "      <td>POLYGON ((-106.06225 35.61468, -106.06225 35.6...</td>\n",
       "    </tr>\n",
       "    <tr>\n",
       "      <th>3</th>\n",
       "      <td>[-0.11955425, 0.047935113, 0.012492391, 0.0986...</td>\n",
       "      <td>POLYGON ((-106.04359 35.63335, -106.04359 35.6...</td>\n",
       "    </tr>\n",
       "    <tr>\n",
       "      <th>4</th>\n",
       "      <td>[-0.110916734, 0.043892846, 0.00046651432, 0.1...</td>\n",
       "      <td>POLYGON ((-106.04359 35.61468, -106.04359 35.6...</td>\n",
       "    </tr>\n",
       "    <tr>\n",
       "      <th>...</th>\n",
       "      <td>...</td>\n",
       "      <td>...</td>\n",
       "    </tr>\n",
       "    <tr>\n",
       "      <th>635</th>\n",
       "      <td>[-0.10154818, 0.04700841, -0.058602504, 0.1337...</td>\n",
       "      <td>POLYGON ((-105.48359 35.76401, -105.48359 35.7...</td>\n",
       "    </tr>\n",
       "    <tr>\n",
       "      <th>636</th>\n",
       "      <td>[-0.10063921, 0.0487299, -0.056069173, 0.12934...</td>\n",
       "      <td>POLYGON ((-105.48359 35.46535, -105.48359 35.4...</td>\n",
       "    </tr>\n",
       "    <tr>\n",
       "      <th>637</th>\n",
       "      <td>[-0.119740516, 0.050605718, -0.021452673, 0.12...</td>\n",
       "      <td>POLYGON ((-105.48359 35.78268, -105.48359 35.8...</td>\n",
       "    </tr>\n",
       "    <tr>\n",
       "      <th>638</th>\n",
       "      <td>[-0.10471448, 0.04887444, -0.05049323, 0.11969...</td>\n",
       "      <td>POLYGON ((-105.48359 35.44668, -105.48359 35.4...</td>\n",
       "    </tr>\n",
       "    <tr>\n",
       "      <th>639</th>\n",
       "      <td>[-0.09382948, 0.051646754, -0.042943284, 0.118...</td>\n",
       "      <td>POLYGON ((-105.48359 35.42801, -105.48359 35.4...</td>\n",
       "    </tr>\n",
       "  </tbody>\n",
       "</table>\n",
       "<p>640 rows × 2 columns</p>\n",
       "</div>"
      ],
      "text/plain": [
       "                                            embeddings  \\\n",
       "0    [-0.10595816, 0.049139716, -0.013616198, 0.103...   \n",
       "1    [-0.11944625, 0.04765699, 0.0012937918, 0.0989...   \n",
       "2    [-0.1352622, 0.03729467, 0.025111463, 0.089445...   \n",
       "3    [-0.11955425, 0.047935113, 0.012492391, 0.0986...   \n",
       "4    [-0.110916734, 0.043892846, 0.00046651432, 0.1...   \n",
       "..                                                 ...   \n",
       "635  [-0.10154818, 0.04700841, -0.058602504, 0.1337...   \n",
       "636  [-0.10063921, 0.0487299, -0.056069173, 0.12934...   \n",
       "637  [-0.119740516, 0.050605718, -0.021452673, 0.12...   \n",
       "638  [-0.10471448, 0.04887444, -0.05049323, 0.11969...   \n",
       "639  [-0.09382948, 0.051646754, -0.042943284, 0.118...   \n",
       "\n",
       "                                              geometry  \n",
       "0    POLYGON ((-106.06225 35.59601, -106.06225 35.6...  \n",
       "1    POLYGON ((-106.04359 35.59601, -106.04359 35.6...  \n",
       "2    POLYGON ((-106.06225 35.61468, -106.06225 35.6...  \n",
       "3    POLYGON ((-106.04359 35.63335, -106.04359 35.6...  \n",
       "4    POLYGON ((-106.04359 35.61468, -106.04359 35.6...  \n",
       "..                                                 ...  \n",
       "635  POLYGON ((-105.48359 35.76401, -105.48359 35.7...  \n",
       "636  POLYGON ((-105.48359 35.46535, -105.48359 35.4...  \n",
       "637  POLYGON ((-105.48359 35.78268, -105.48359 35.8...  \n",
       "638  POLYGON ((-105.48359 35.44668, -105.48359 35.4...  \n",
       "639  POLYGON ((-105.48359 35.42801, -105.48359 35.4...  \n",
       "\n",
       "[640 rows x 2 columns]"
      ]
     },
     "execution_count": 25,
     "metadata": {},
     "output_type": "execute_result"
    }
   ],
   "source": [
    "import geopandas as gpd\n",
    "import s3fs\n",
    "import pandas as pd\n",
    "import os\n",
    "\n",
    "from tqdm import tqdm\n",
    "\n",
    "\n",
    "\n",
    "# S3 bucket and prefix\n",
    "s3_bucket = 'clay-worker-bucket-dev-small-tasks'\n",
    "s3_prefix = '_data/gpq/86/' #2022 S2 embeddings over test set\n",
    "\n",
    "# Initialize s3fs filesystem\n",
    "fs = s3fs.S3FileSystem()\n",
    "\n",
    "# List all the GeoParquet files in the specified S3 directory\n",
    "geo_parquet_files = fs.glob(f's3://{s3_bucket}/{s3_prefix}*.gpq')\n",
    "\n",
    "# List to store GeoDataFrames\n",
    "gdfs = []\n",
    "\n",
    "# Load each GeoParquet file into a GeoDataFrame and append to the list\n",
    "for file in tqdm(geo_parquet_files):\n",
    "    gdf = gpd.read_parquet(\"s3://\"+file, storage_options={\"anon\": False, \"client_kwargs\": {\"region_name\": \"us-west-2\"}})\n",
    "    gdfs.append(gdf)\n",
    "\n",
    "# Concatenate all GeoDataFrames into a single GeoDataFrame\n",
    "gdf_test_embed = gpd.GeoDataFrame(pd.concat(gdfs, ignore_index=True))\n",
    "\n",
    "# Display the concatenated GeoDataFrame\n",
    "gdf_test_embed\n"
   ]
  },
  {
   "cell_type": "code",
   "execution_count": null,
   "metadata": {},
   "outputs": [
    {
     "name": "stderr",
     "output_type": "stream",
     "text": [
      "Processing bounding boxes: 100%|██████████| 640/640 [00:16<00:00, 38.75it/s]\n"
     ]
    }
   ],
   "source": [
    "# Initialize Earth Engine\n",
    "ee.Initialize()\n",
    "\n",
    "# Load the ESRI Global LULC dataset\n",
    "lulc = ee.ImageCollection(\"projects/sat-io/open-datasets/landcover/ESRI_Global-LULC_10m_TS\").mosaic()\n",
    "\n",
    "def get_most_common_lulc(geometry):\n",
    "    # Convert the GeoPandas geometry to an Earth Engine geometry\n",
    "    ee_geometry = ee.Geometry.Rectangle(geometry.bounds)\n",
    "    \n",
    "    # Get the LULC values within the bounding box\n",
    "    lulc_values = lulc.reduceRegion(\n",
    "        reducer=ee.Reducer.frequencyHistogram(),\n",
    "        geometry=ee_geometry,\n",
    "        scale=10,\n",
    "        maxPixels=1e9\n",
    "    ).get('b1')\n",
    "    \n",
    "    # Find the most common LULC value\n",
    "    lulc_dict = ee.Dictionary(lulc_values)\n",
    "    most_common = lulc_dict.keys().sort(lulc_dict.values()).get(-1)\n",
    "    \n",
    "    # Return the result\n",
    "    return int(most_common.getInfo())\n",
    "\n",
    "def process_geometries(combined_gdf):\n",
    "    # Get the total number of rows in the GeoDataFrame\n",
    "    total_rows = len(combined_gdf)\n",
    "\n",
    "    # Determine the number of threads to use\n",
    "    max_threads = 10  # Adjust this based on your system and Earth Engine quota\n",
    "    num_threads = min(total_rows, max_threads)\n",
    "\n",
    "    results = []\n",
    "\n",
    "    with ThreadPoolExecutor(max_workers=num_threads) as executor:\n",
    "        # Submit all tasks\n",
    "        future_to_index = {executor.submit(get_most_common_lulc, row.geometry): index \n",
    "                        for index, row in combined_gdf.iterrows()}\n",
    "        \n",
    "        # Process as they complete with a progress bar\n",
    "        with tqdm(total=total_rows, desc=\"Processing bounding boxes\") as pbar:\n",
    "            for future in as_completed(future_to_index):\n",
    "                index = future_to_index[future]\n",
    "                try:\n",
    "                    result = future.result()\n",
    "                except Exception as exc:\n",
    "                    print(f'Generated an exception: {exc}')\n",
    "                    result = None\n",
    "                results.append((index, result))\n",
    "                pbar.update(1)\n",
    "\n",
    "    # Sort results by index and extract only the values\n",
    "    sorted_results = [r[1] for r in sorted(results, key=lambda x: x[0])]\n",
    "    \n",
    "    return sorted_results\n",
    "\n",
    "if __name__ == '__main__':\n",
    "    # Process the geometries\n",
    "    results = process_geometries(gdf_test_embed.to_crs(\"EPSG:4326\"))\n",
    "\n",
    "    # Add the results as a new column to the GeoDataFrame\n",
    "    gdf_test_embed['most_common_lulc'] = results\n",
    "\n",
    "    # Save as GeoJSON\n",
    "    gdf_test_embed[['geometry', 'most_common_lulc']].to_file(\"test_lulc_v2.geojson\", driver=\"GeoJSON\")"
   ]
  },
  {
   "cell_type": "code",
   "execution_count": null,
   "metadata": {},
   "outputs": [
    {
     "name": "stderr",
     "output_type": "stream",
     "text": [
      "WARNING:absl:Compiled the loaded model, but the compiled metrics have yet to be built. `model.compile_metrics` will be empty until you train or evaluate the model.\n"
     ]
    },
    {
     "name": "stdout",
     "output_type": "stream",
     "text": [
      "\u001b[1m20/20\u001b[0m \u001b[32m━━━━━━━━━━━━━━━━━━━━\u001b[0m\u001b[37m\u001b[0m \u001b[1m0s\u001b[0m 758us/step\n"
     ]
    }
   ],
   "source": [
    "# Detect if GPU is available\n",
    "device = '/GPU:0' if tf.config.list_physical_devices('GPU') else '/CPU:0'\n",
    "\n",
    "# Load the model\n",
    "loaded_nn = NeuralNetwork.load_model('models/land_cover_model.h5', input_shape=768, num_classes=11, device=device)\n",
    "\n",
    "# Prepare your new data (assuming it's in the same format as your training data)\n",
    "new_data = gdf_test_embed['embeddings'].tolist()\n",
    "new_data = pd.DataFrame(new_data)  # Ensure the new data is in DataFrame format\n",
    "\n",
    "# Standardize the new data using the saved scaler\n",
    "scaler = joblib.load('models/scaler.joblib')\n",
    "new_data_scaled = scaler.transform(new_data)\n",
    "\n",
    "# Make predictions\n",
    "new_predictions = loaded_nn.predict(new_data_scaled)\n",
    "\n",
    "# Load the label encoder\n",
    "label_encoder = joblib.load('models/label_encoder.joblib')\n",
    "\n",
    "# If you want to convert the predictions back to the original class labels\n",
    "gdf_test_embed['pred_lulc'] = label_encoder.inverse_transform(new_predictions)"
   ]
  },
  {
   "cell_type": "code",
   "execution_count": null,
   "metadata": {},
   "outputs": [
    {
     "name": "stdout",
     "output_type": "stream",
     "text": [
      "Test set accuracy: 0.6546875\n"
     ]
    }
   ],
   "source": [
    "print(\"Test set accuracy:\", np.mean(gdf_test_embed['pred_lulc']==gdf_test_embed['most_common_lulc']))"
   ]
  },
  {
   "cell_type": "markdown",
   "metadata": {},
   "source": [
    "## Task 3: Above ground stock regression"
   ]
  },
  {
   "cell_type": "markdown",
   "metadata": {},
   "source": [
    "### Retrieve S2 embeddings from an S3 bucket over California"
   ]
  },
  {
   "cell_type": "code",
   "execution_count": 3,
   "metadata": {},
   "outputs": [
    {
     "name": "stdout",
     "output_type": "stream",
     "text": [
      "Model already exists\n"
     ]
    }
   ],
   "source": [
    "import geopandas as gpd\n",
    "import s3fs\n",
    "import pandas as pd\n",
    "import os\n",
    "\n",
    "from tqdm import tqdm\n",
    "\n",
    "\n",
    "file_path = 'models/agb_regression_model.h5'\n",
    "\n",
    "if os.path.exists(file_path):\n",
    "    print(\"Model already exists\")\n",
    "else:\n",
    "    # S3 bucket and prefix\n",
    "    s3_bucket = 'clay-worker-bucket-dev-small-tasks'\n",
    "    s3_prefix = '_data/gpq/51/' #2022 S2 Cali embeddings\n",
    "\n",
    "    # Initialize s3fs filesystem\n",
    "    fs = s3fs.S3FileSystem()\n",
    "\n",
    "    # List all the GeoParquet files in the specified S3 directory\n",
    "    geo_parquet_files = fs.glob(f's3://{s3_bucket}/{s3_prefix}*.gpq')\n",
    "\n",
    "    # List to store GeoDataFrames\n",
    "    gdfs = []\n",
    "\n",
    "    # Load each GeoParquet file into a GeoDataFrame and append to the list\n",
    "    for file in tqdm(geo_parquet_files):\n",
    "        gdf = gpd.read_parquet(\"s3://\"+file, storage_options={\"anon\": False, \"client_kwargs\": {\"region_name\": \"us-west-2\"}})\n",
    "        gdfs.append(gdf)\n",
    "\n",
    "    # Concatenate all GeoDataFrames into a single GeoDataFrame\n",
    "    combined_gdf = gpd.GeoDataFrame(pd.concat(gdfs, ignore_index=True))\n",
    "\n",
    "    # Display the concatenated GeoDataFrame\n",
    "    combined_gdf\n"
   ]
  },
  {
   "cell_type": "markdown",
   "metadata": {},
   "source": [
    "### Join above ground biomass for each chip"
   ]
  },
  {
   "cell_type": "code",
   "execution_count": 4,
   "metadata": {},
   "outputs": [
    {
     "name": "stdout",
     "output_type": "stream",
     "text": [
      "Model already exists\n"
     ]
    }
   ],
   "source": [
    "import ee\n",
    "import geopandas as gpd\n",
    "from tqdm import tqdm\n",
    "from concurrent.futures import ThreadPoolExecutor, as_completed\n",
    "import os\n",
    "\n",
    "if os.path.exists(file_path):\n",
    "    print(\"Model already exists\")\n",
    "    combined_gdf = gpd.read_file(\"agb.geojson\")\n",
    "else:\n",
    "    # Initialize Earth Engine\n",
    "    ee.Initialize()\n",
    "\n",
    "    # Load the NASA/ORNL biomass carbon density dataset\n",
    "    biomass = ee.ImageCollection(\"NASA/ORNL/biomass_carbon_density/v1\").mosaic()\n",
    "\n",
    "    def get_agb(geometry):\n",
    "        # Convert the GeoPandas geometry to an Earth Engine geometry\n",
    "        ee_geometry = ee.Geometry.Polygon(list(geometry.exterior.coords))\n",
    "\n",
    "        # Get the mean AGB value within the geometry\n",
    "        agb_value = biomass.reduceRegion(\n",
    "            reducer=ee.Reducer.mean(),\n",
    "            geometry=ee_geometry,\n",
    "            scale=300,\n",
    "            maxPixels=1e9\n",
    "        ).get('agb')\n",
    "        \n",
    "        # Return the result\n",
    "        return agb_value.getInfo() if agb_value is not None else None\n",
    "\n",
    "    def process_geometries(combined_gdf):\n",
    "        # Get the total number of rows in the GeoDataFrame\n",
    "        total_rows = len(combined_gdf)\n",
    "\n",
    "        # Determine the number of threads to use\n",
    "        max_threads = 10  # Adjust this based on your system and Earth Engine quota\n",
    "        num_threads = min(total_rows, max_threads)\n",
    "\n",
    "        results = []\n",
    "\n",
    "        with ThreadPoolExecutor(max_workers=num_threads) as executor:\n",
    "            # Submit all tasks\n",
    "            future_to_index = {executor.submit(get_agb, row.geometry): index \n",
    "                            for index, row in combined_gdf.iterrows()}\n",
    "            \n",
    "            # Process as they complete with a progress bar\n",
    "            with tqdm(total=total_rows, desc=\"Processing geometries\") as pbar:\n",
    "                for future in as_completed(future_to_index):\n",
    "                    index = future_to_index[future]\n",
    "                    try:\n",
    "                        result = future.result()\n",
    "                    except Exception as exc:\n",
    "                        print(f'Generated an exception: {exc}')\n",
    "                        result = None\n",
    "                    results.append((index, result))\n",
    "                    pbar.update(1)\n",
    "\n",
    "        # Sort results by index and extract only the values\n",
    "        sorted_results = [r[1] for r in sorted(results, key=lambda x: x[0])]\n",
    "        \n",
    "        return sorted_results\n",
    "\n",
    "    if __name__ == '__main__':\n",
    "        # Process the geometries\n",
    "        results = process_geometries(combined_gdf)\n",
    "\n",
    "        # Add the results as a new column to the GeoDataFrame\n",
    "        combined_gdf['mean_agb'] = results\n",
    "\n",
    "        # Save as GeoJSON\n",
    "        combined_gdf[['geometry', 'mean_agb']].to_file(\"agb.geojson\", driver=\"GeoJSON\")\n"
   ]
  },
  {
   "cell_type": "markdown",
   "metadata": {},
   "source": [
    "### Tune hyperparameters for above ground biomass regressor using Optuna"
   ]
  },
  {
   "cell_type": "code",
   "execution_count": 5,
   "metadata": {},
   "outputs": [
    {
     "name": "stderr",
     "output_type": "stream",
     "text": [
      "/opt/conda/envs/claymodel-latest-v2/lib/python3.11/site-packages/tqdm/auto.py:21: TqdmWarning: IProgress not found. Please update jupyter and ipywidgets. See https://ipywidgets.readthedocs.io/en/stable/user_install.html\n",
      "  from .autonotebook import tqdm as notebook_tqdm\n",
      "2024-07-26 15:29:41.264463: E external/local_xla/xla/stream_executor/cuda/cuda_fft.cc:485] Unable to register cuFFT factory: Attempting to register factory for plugin cuFFT when one has already been registered\n",
      "2024-07-26 15:29:41.530251: E external/local_xla/xla/stream_executor/cuda/cuda_dnn.cc:8454] Unable to register cuDNN factory: Attempting to register factory for plugin cuDNN when one has already been registered\n",
      "2024-07-26 15:29:41.603764: E external/local_xla/xla/stream_executor/cuda/cuda_blas.cc:1452] Unable to register cuBLAS factory: Attempting to register factory for plugin cuBLAS when one has already been registered\n",
      "2024-07-26 15:29:42.194784: I tensorflow/core/platform/cpu_feature_guard.cc:210] This TensorFlow binary is optimized to use available CPU instructions in performance-critical operations.\n",
      "To enable the following instructions: AVX2 FMA, in other operations, rebuild TensorFlow with the appropriate compiler flags.\n",
      "2024-07-26 15:29:44.148003: W tensorflow/compiler/tf2tensorrt/utils/py_utils.cc:38] TF-TRT Warning: Could not find TensorRT\n"
     ]
    },
    {
     "name": "stdout",
     "output_type": "stream",
     "text": [
      "Model already exists\n"
     ]
    }
   ],
   "source": [
    "import pandas as pd\n",
    "import numpy as np\n",
    "import optuna\n",
    "import tensorflow as tf\n",
    "import joblib\n",
    "import os\n",
    "\n",
    "from sklearn.model_selection import train_test_split\n",
    "from sklearn.preprocessing import StandardScaler\n",
    "from sklearn.metrics import mean_squared_error\n",
    "from keras.models import Sequential\n",
    "from keras.layers import Dense, Dropout, Input\n",
    "from keras.optimizers import Adam\n",
    "\n",
    "class NeuralNetwork:\n",
    "    def __init__(self, input_shape, layers, dropout_rate, learning_rate, device):\n",
    "        self.input_shape = input_shape\n",
    "        self.layers = layers\n",
    "        self.dropout_rate = dropout_rate\n",
    "        self.learning_rate = learning_rate\n",
    "        self.device = device\n",
    "        self.model = self.build_model()\n",
    "\n",
    "    def build_model(self):\n",
    "        model = Sequential()\n",
    "        model.add(Input(shape=(self.input_shape,)))\n",
    "        for layer_size in self.layers:\n",
    "            model.add(Dense(layer_size, activation='relu'))\n",
    "            model.add(Dropout(self.dropout_rate))\n",
    "        model.add(Dense(1, activation='linear'))  # Output layer for regression\n",
    "        return model\n",
    "\n",
    "    def compile_model(self):\n",
    "        optimizer = Adam(learning_rate=self.learning_rate)\n",
    "        self.model.compile(optimizer=optimizer, loss='mean_squared_error', metrics=['mae'])  # Use MSE for regression\n",
    "\n",
    "    def train_model(self, X_train, y_train, epochs=20, batch_size=32, validation_split=0.2):\n",
    "        with tf.device(self.device):\n",
    "            history = self.model.fit(X_train, y_train, epochs=epochs, batch_size=batch_size, validation_split=validation_split)\n",
    "        return history\n",
    "\n",
    "    def evaluate_model(self, X_test, y_test):\n",
    "        with tf.device(self.device):\n",
    "            loss, mae = self.model.evaluate(X_test, y_test)\n",
    "        return loss, mae\n",
    "\n",
    "    def predict(self, X_test):\n",
    "        with tf.device(self.device):\n",
    "            predictions = self.model.predict(X_test)\n",
    "        return predictions.flatten()\n",
    "\n",
    "    def calculate_rmse(self, y_test, predictions):\n",
    "        return np.sqrt(mean_squared_error(y_test, predictions))\n",
    "    \n",
    "    def save_model(self, filename):\n",
    "        self.model.save(filename)\n",
    "\n",
    "    @classmethod\n",
    "    def load_model(cls, filename, input_shape, device):\n",
    "        loaded_model = tf.keras.models.load_model(filename)\n",
    "        nn = cls(input_shape, [], 0, 0, device)  # Dummy values for layers, dropout_rate, and learning_rate\n",
    "        nn.model = loaded_model\n",
    "        return nn\n",
    "\n",
    "def objective(trial):\n",
    "    layers = []\n",
    "    for i in range(trial.suggest_int('n_layers', 1, 3)):\n",
    "        layers.append(trial.suggest_int(f'n_units_l{i}', 64, 512))\n",
    "    \n",
    "    dropout_rate = trial.suggest_float('dropout_rate', 0.2, 0.5)\n",
    "    learning_rate = trial.suggest_float('learning_rate', 1e-5, 1e-2)\n",
    "    \n",
    "    nn = NeuralNetwork(input_shape=X_train.shape[1], device=device, layers=layers, dropout_rate=dropout_rate, learning_rate=learning_rate)\n",
    "    nn.compile_model()\n",
    "    \n",
    "    nn.train_model(X_train, y_train, epochs=20, batch_size=32, validation_split=0.2)\n",
    "    \n",
    "    predictions = nn.predict(X_test)\n",
    "    predictions_exp = np.exp(predictions)  # Inverse log transform predictions\n",
    "    rmse = nn.calculate_rmse(y_test_exp, predictions_exp)\n",
    "    \n",
    "    return rmse\n",
    "\n",
    "if os.path.exists('models/agb_regression_model.h5'):\n",
    "    print(\"Model already exists\")\n",
    "else:\n",
    "    # Assuming combined_gdf is already loaded\n",
    "    combined_gdf_filtered = combined_gdf.dropna()\n",
    "    X = combined_gdf_filtered['embeddings'].tolist()\n",
    "    X = pd.DataFrame(X)\n",
    "    y = combined_gdf_filtered['mean_agb']\n",
    "\n",
    "    # Log transform the target variable\n",
    "    y_log = np.log(y + 1)  # Adding 1 to avoid log(0)\n",
    "\n",
    "    # Split data into training and testing sets\n",
    "    X_train, X_test, y_train, y_test = train_test_split(X, y_log, test_size=0.2, random_state=42)\n",
    "\n",
    "    # Scale the features\n",
    "    scaler = StandardScaler()\n",
    "    X_train = scaler.fit_transform(X_train)\n",
    "    X_test = scaler.transform(X_test)\n",
    "\n",
    "    # Inverse transform for evaluation\n",
    "    y_test_exp = np.exp(y_test) - 1  # Subtract 1 to get the original scale\n",
    "\n",
    "    device = '/GPU:0' if tf.config.list_physical_devices('GPU') else '/CPU:0'\n",
    "\n",
    "    # Optimize the hyperparameters\n",
    "    study = optuna.create_study(direction='minimize')\n",
    "    study.optimize(objective, n_trials=5)\n",
    "\n",
    "    # Print the best hyperparameters\n",
    "    print(study.best_params)\n",
    "\n",
    "    # Example usage with the best hyperparameters\n",
    "    best_params = study.best_params\n",
    "    layers = [best_params[f'n_units_l{i}'] for i in range(best_params['n_layers'])]\n",
    "    dropout_rate = best_params['dropout_rate']\n",
    "    learning_rate = best_params['learning_rate']\n",
    "\n",
    "    nn = NeuralNetwork(input_shape=X_train.shape[1], device=device, layers=layers, dropout_rate=dropout_rate, learning_rate=learning_rate)\n",
    "    nn.compile_model()\n",
    "    history = nn.train_model(X_train, y_train, epochs=20, batch_size=32, validation_split=0.2)\n",
    "    loss, mae = nn.evaluate_model(X_test, y_test)\n",
    "    print(f'Test MAE: {mae:.4f}')\n",
    "    predictions = nn.predict(X_test)\n",
    "    predictions_exp = np.exp(predictions) - 1  # Inverse log transform\n",
    "    rmse = nn.calculate_rmse(y_test_exp, predictions_exp)\n",
    "    print(f'Test RMSE: {rmse:.4f}')\n",
    "\n",
    "    # Save the model\n",
    "    nn.save_model('models/agb_regression_model.h5')\n",
    "\n",
    "    # Save scaler\n",
    "    joblib.dump(scaler, 'models/3_scaler.joblib')\n"
   ]
  },
  {
   "cell_type": "code",
   "execution_count": 18,
   "metadata": {},
   "outputs": [
    {
     "data": {
      "text/html": [
       "<div>\n",
       "<style scoped>\n",
       "    .dataframe tbody tr th:only-of-type {\n",
       "        vertical-align: middle;\n",
       "    }\n",
       "\n",
       "    .dataframe tbody tr th {\n",
       "        vertical-align: top;\n",
       "    }\n",
       "\n",
       "    .dataframe thead th {\n",
       "        text-align: right;\n",
       "    }\n",
       "</style>\n",
       "<table border=\"1\" class=\"dataframe\">\n",
       "  <thead>\n",
       "    <tr style=\"text-align: right;\">\n",
       "      <th></th>\n",
       "      <th>embeddings</th>\n",
       "      <th>geometry</th>\n",
       "      <th>mean_agb</th>\n",
       "    </tr>\n",
       "  </thead>\n",
       "  <tbody>\n",
       "    <tr>\n",
       "      <th>0</th>\n",
       "      <td>[-0.1340062, 0.077923074, -0.0016371261, 0.083...</td>\n",
       "      <td>POLYGON ((-116.13800 34.50819, -116.13800 34.5...</td>\n",
       "      <td>0.336093</td>\n",
       "    </tr>\n",
       "    <tr>\n",
       "      <th>1</th>\n",
       "      <td>[-0.12408799, 0.06986915, -0.0014471954, 0.080...</td>\n",
       "      <td>POLYGON ((-116.15667 34.50819, -116.15667 34.5...</td>\n",
       "      <td>0.315462</td>\n",
       "    </tr>\n",
       "    <tr>\n",
       "      <th>2</th>\n",
       "      <td>[-0.13270076, 0.067874126, -0.0058731856, 0.08...</td>\n",
       "      <td>POLYGON ((-116.13800 34.48952, -116.13800 34.5...</td>\n",
       "      <td>0.308832</td>\n",
       "    </tr>\n",
       "    <tr>\n",
       "      <th>3</th>\n",
       "      <td>[-0.11633471, 0.07077362, -0.009755048, 0.0875...</td>\n",
       "      <td>POLYGON ((-116.13800 34.47086, -116.13800 34.4...</td>\n",
       "      <td>0.263030</td>\n",
       "    </tr>\n",
       "    <tr>\n",
       "      <th>4</th>\n",
       "      <td>[-0.1335075, 0.0719392, -0.0011160049, 0.08034...</td>\n",
       "      <td>POLYGON ((-116.11934 34.48952, -116.11934 34.5...</td>\n",
       "      <td>0.281872</td>\n",
       "    </tr>\n",
       "    <tr>\n",
       "      <th>...</th>\n",
       "      <td>...</td>\n",
       "      <td>...</td>\n",
       "      <td>...</td>\n",
       "    </tr>\n",
       "    <tr>\n",
       "      <th>125141</th>\n",
       "      <td>[-0.09712396, 0.06625347, -0.056792237, 0.1275...</td>\n",
       "      <td>POLYGON ((-123.32467 40.51886, -123.32467 40.5...</td>\n",
       "      <td>95.744820</td>\n",
       "    </tr>\n",
       "    <tr>\n",
       "      <th>125142</th>\n",
       "      <td>[-0.09359632, 0.06506389, -0.053921893, 0.1259...</td>\n",
       "      <td>POLYGON ((-123.34334 40.53752, -123.34334 40.5...</td>\n",
       "      <td>90.395423</td>\n",
       "    </tr>\n",
       "    <tr>\n",
       "      <th>125143</th>\n",
       "      <td>[-0.093709834, 0.06074024, -0.07075437, 0.1278...</td>\n",
       "      <td>POLYGON ((-123.23134 39.32419, -123.23134 39.3...</td>\n",
       "      <td>95.926339</td>\n",
       "    </tr>\n",
       "    <tr>\n",
       "      <th>125144</th>\n",
       "      <td>[-0.09378435, 0.059857186, -0.055076838, 0.128...</td>\n",
       "      <td>POLYGON ((-123.45534 39.10019, -123.45534 39.1...</td>\n",
       "      <td>77.902087</td>\n",
       "    </tr>\n",
       "    <tr>\n",
       "      <th>125145</th>\n",
       "      <td>[-0.11787722, 0.04442746, -0.058926195, 0.1103...</td>\n",
       "      <td>POLYGON ((-123.23134 40.40686, -123.23134 40.4...</td>\n",
       "      <td>83.995837</td>\n",
       "    </tr>\n",
       "  </tbody>\n",
       "</table>\n",
       "<p>120508 rows × 3 columns</p>\n",
       "</div>"
      ],
      "text/plain": [
       "                                               embeddings  \\\n",
       "0       [-0.1340062, 0.077923074, -0.0016371261, 0.083...   \n",
       "1       [-0.12408799, 0.06986915, -0.0014471954, 0.080...   \n",
       "2       [-0.13270076, 0.067874126, -0.0058731856, 0.08...   \n",
       "3       [-0.11633471, 0.07077362, -0.009755048, 0.0875...   \n",
       "4       [-0.1335075, 0.0719392, -0.0011160049, 0.08034...   \n",
       "...                                                   ...   \n",
       "125141  [-0.09712396, 0.06625347, -0.056792237, 0.1275...   \n",
       "125142  [-0.09359632, 0.06506389, -0.053921893, 0.1259...   \n",
       "125143  [-0.093709834, 0.06074024, -0.07075437, 0.1278...   \n",
       "125144  [-0.09378435, 0.059857186, -0.055076838, 0.128...   \n",
       "125145  [-0.11787722, 0.04442746, -0.058926195, 0.1103...   \n",
       "\n",
       "                                                 geometry   mean_agb  \n",
       "0       POLYGON ((-116.13800 34.50819, -116.13800 34.5...   0.336093  \n",
       "1       POLYGON ((-116.15667 34.50819, -116.15667 34.5...   0.315462  \n",
       "2       POLYGON ((-116.13800 34.48952, -116.13800 34.5...   0.308832  \n",
       "3       POLYGON ((-116.13800 34.47086, -116.13800 34.4...   0.263030  \n",
       "4       POLYGON ((-116.11934 34.48952, -116.11934 34.5...   0.281872  \n",
       "...                                                   ...        ...  \n",
       "125141  POLYGON ((-123.32467 40.51886, -123.32467 40.5...  95.744820  \n",
       "125142  POLYGON ((-123.34334 40.53752, -123.34334 40.5...  90.395423  \n",
       "125143  POLYGON ((-123.23134 39.32419, -123.23134 39.3...  95.926339  \n",
       "125144  POLYGON ((-123.45534 39.10019, -123.45534 39.1...  77.902087  \n",
       "125145  POLYGON ((-123.23134 40.40686, -123.23134 40.4...  83.995837  \n",
       "\n",
       "[120508 rows x 3 columns]"
      ]
     },
     "execution_count": 18,
     "metadata": {},
     "output_type": "execute_result"
    }
   ],
   "source": [
    "combined_gdf_filtered"
   ]
  },
  {
   "cell_type": "code",
   "execution_count": null,
   "metadata": {},
   "outputs": [],
   "source": []
  },
  {
   "cell_type": "code",
   "execution_count": 1,
   "metadata": {},
   "outputs": [
    {
     "name": "stderr",
     "output_type": "stream",
     "text": [
      "/opt/conda/envs/claymodel-latest-v2/lib/python3.11/site-packages/tqdm/auto.py:21: TqdmWarning: IProgress not found. Please update jupyter and ipywidgets. See https://ipywidgets.readthedocs.io/en/stable/user_install.html\n",
      "  from .autonotebook import tqdm as notebook_tqdm\n",
      "/opt/conda/envs/claymodel-latest-v2/lib/python3.11/site-packages/transformers/utils/generic.py:441: UserWarning: torch.utils._pytree._register_pytree_node is deprecated. Please use torch.utils._pytree.register_pytree_node instead.\n",
      "  _torch_pytree._register_pytree_node(\n"
     ]
    }
   ],
   "source": [
    "import datetime\n",
    "import glob\n",
    "import math\n",
    "import os\n",
    "import random\n",
    "import requests\n",
    "\n",
    "import geopandas as gpd\n",
    "import lancedb\n",
    "import matplotlib.pyplot as plt\n",
    "import numpy as np\n",
    "import pandas as pd\n",
    "import pystac_client\n",
    "import shapely\n",
    "from shapely.geometry import box, Polygon\n",
    "import torch\n",
    "import yaml\n",
    "from box import Box\n",
    "from pyproj import Transformer\n",
    "from rasterio.io import MemoryFile\n",
    "from stacchip.chipper import Chipper\n",
    "from stacchip.indexer import Sentinel2Indexer\n",
    "from stacchip.processors.prechip import normalize_timestamp\n",
    "from torchvision.transforms import v2\n",
    "\n",
    "from src.model import ClayMAEModule"
   ]
  },
  {
   "cell_type": "code",
   "execution_count": 2,
   "metadata": {},
   "outputs": [
    {
     "name": "stderr",
     "output_type": "stream",
     "text": [
      "/opt/conda/envs/claymodel-latest-v2/lib/python3.11/site-packages/pystac_client/item_search.py:851: FutureWarning: get_all_items() is deprecated, use item_collection() instead.\n",
      "  warnings.warn(\n"
     ]
    },
    {
     "name": "stdout",
     "output_type": "stream",
     "text": [
      "Found 23 items\n"
     ]
    }
   ],
   "source": [
    "\n",
    "# Optimize GDAL settings for cloud optimized reading\n",
    "os.environ[\"GDAL_DISABLE_READDIR_ON_OPEN\"] = \"EMPTY_DIR\"\n",
    "os.environ[\"AWS_REQUEST_PAYER\"] = \"requester\"\n",
    "\n",
    "STAC_API = \"https://earth-search.aws.element84.com/v1\"\n",
    "COLLECTION = \"sentinel-2-l2a\"\n",
    "YEAR = 2022\n",
    "\n",
    "# Search the catalogue\n",
    "catalog = pystac_client.Client.open(STAC_API)\n",
    "search = catalog.search(\n",
    "    collections=[COLLECTION],\n",
    "    datetime=f\"{YEAR}-01-01T00:00:00Z/{YEAR+1}-01-01T00:00:00Z\",\n",
    "    bbox=[-123.30442043188332, 46.875515943543945, -121.65107564263492, 48.012480708758716],\n",
    "    max_items=100,\n",
    "    query={\"eo:cloud_cover\": {\"lt\": 80}},\n",
    ")\n",
    "\n",
    "all_items = search.get_all_items()\n",
    "\n",
    "# Reduce to one per date (there might be some duplicates\n",
    "# based on the location)\n",
    "items = []\n",
    "dates = []\n",
    "for item in all_items:\n",
    "    if item.datetime.date() not in dates:\n",
    "        items.append(item)\n",
    "        dates.append(item.datetime.date())\n",
    "\n",
    "print(f\"Found {len(items)} items\")"
   ]
  },
  {
   "cell_type": "code",
   "execution_count": 3,
   "metadata": {},
   "outputs": [
    {
     "name": "stdout",
     "output_type": "stream",
     "text": [
      "Working on <Item id=S2B_10TDS_20221231_0_L2A>\n",
      "Working on <Item id=S2B_10TDT_20221228_0_L2A>\n",
      "Working on <Item id=S2A_10TFS_20221226_0_L2A>\n",
      "Working on <Item id=S2B_10TDS_20221221_0_L2A>\n",
      "Working on <Item id=S2B_10TFS_20221218_0_L2A>\n",
      "Working on <Item id=S2A_10TDS_20221216_0_L2A>\n",
      "Working on <Item id=S2A_10TES_20221213_0_L2A>\n",
      "Working on <Item id=S2B_10TDT_20221211_0_L2A>\n",
      "Working on <Item id=S2A_10TFS_20221206_0_L2A>\n",
      "Working on <Item id=S2A_10TES_20221203_0_L2A>\n",
      "Working on <Item id=S2B_10TDT_20221201_0_L2A>\n",
      "Working on <Item id=S2B_10TDS_20221128_0_L2A>\n",
      "Working on <Item id=S2A_10TDS_20221126_0_L2A>\n",
      "Working on <Item id=S2A_10TDS_20221123_0_L2A>\n",
      "Working on <Item id=S2B_10TDS_20221121_0_L2A>\n",
      "Working on <Item id=S2B_10TDS_20221118_0_L2A>\n",
      "Working on <Item id=S2A_10TDS_20221116_0_L2A>\n",
      "Working on <Item id=S2A_10TFS_20221113_0_L2A>\n",
      "Working on <Item id=S2B_10TFS_20221111_0_L2A>\n",
      "Working on <Item id=S2B_10TDS_20221108_0_L2A>\n",
      "Working on <Item id=S2A_10TDT_20221106_0_L2A>\n",
      "Working on <Item id=S2B_10TFS_20221101_0_L2A>\n",
      "Working on <Item id=S2B_10TDS_20221029_0_L2A>\n"
     ]
    }
   ],
   "source": [
    "chips = []\n",
    "datetimes = []\n",
    "bboxs = []\n",
    "chip_ids = []\n",
    "item_ids = []\n",
    "\n",
    "for item in items:\n",
    "    print(f\"Working on {item}\")\n",
    "\n",
    "    # Index the chips in the item\n",
    "    indexer = Sentinel2Indexer(item)\n",
    "\n",
    "    # Instanciate the chipper\n",
    "    chipper = Chipper(indexer, assets=[\"red\", \"green\", \"blue\", \"nir\", \"scl\"])\n",
    "\n",
    "    # Get first chip for the \"image\" asset key\n",
    "    for idx, (x, y, chip) in enumerate(chipper):\n",
    "        if idx > 2:\n",
    "            break\n",
    "        del chip[\"scl\"]\n",
    "        chips.append(chip)\n",
    "        datetimes.append(item.datetime)\n",
    "        bboxs.append(indexer.get_chip_bbox(x, y))\n",
    "        chip_ids.append((x, y))\n",
    "        item_ids.append(item.id)"
   ]
  },
  {
   "cell_type": "code",
   "execution_count": 4,
   "metadata": {},
   "outputs": [
    {
     "data": {
      "text/plain": [
       "(69, 4, 224, 224)"
      ]
     },
     "execution_count": 4,
     "metadata": {},
     "output_type": "execute_result"
    }
   ],
   "source": [
    "pixels = np.array([np.array(list(chip.values())).squeeze() for chip in chips])\n",
    "pixels.shape"
   ]
  },
  {
   "cell_type": "code",
   "execution_count": null,
   "metadata": {},
   "outputs": [],
   "source": [
    "# Extract mean, std, and wavelengths from metadata\n",
    "platform = \"sentinel-2-l2a\"\n",
    "# Retrieve the file content from the URL\n",
    "\n",
    "url = (\n",
    "    \"https://raw.githubusercontent.com/Clay-foundation/model/main/configs/metadata.yaml\"\n",
    ")\n",
    "response = requests.get(url, allow_redirects=True)\n",
    "\n",
    "# Convert bytes to string\n",
    "content = response.content.decode(\"utf-8\")\n",
    "\n",
    "# Load the yaml\n",
    "content = yaml.safe_load(content)\n",
    "\n",
    "metadata = Box(content)\n",
    "mean = []\n",
    "std = []\n",
    "waves = []\n",
    "# Use the band names to get the correct values in the correct order.\n",
    "for band in chips[0].keys():\n",
    "    mean.append(metadata[platform].bands.mean[band])\n",
    "    std.append(metadata[platform].bands.std[band])\n",
    "    waves.append(metadata[platform].bands.wavelength[band])\n",
    "\n",
    "# Prepare the normalization transform function using the mean and std values.\n",
    "transform = v2.Compose(\n",
    "    [\n",
    "        v2.Normalize(mean=mean, std=std),\n",
    "    ]\n",
    ")"
   ]
  }
 ],
 "metadata": {
  "kernelspec": {
   "display_name": "claymodel",
   "language": "python",
   "name": "python3"
  },
  "language_info": {
   "codemirror_mode": {
    "name": "ipython",
    "version": 3
   },
   "file_extension": ".py",
   "mimetype": "text/x-python",
   "name": "python",
   "nbconvert_exporter": "python",
   "pygments_lexer": "ipython3",
   "version": "3.11.9"
  }
 },
 "nbformat": 4,
 "nbformat_minor": 2
}
